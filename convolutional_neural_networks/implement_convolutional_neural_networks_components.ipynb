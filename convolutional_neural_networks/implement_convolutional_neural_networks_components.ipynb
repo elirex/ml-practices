{
 "cells": [
  {
   "cell_type": "markdown",
   "metadata": {},
   "source": [
    "# Implement Convolutional Neural Networks components"
   ]
  },
  {
   "cell_type": "code",
   "execution_count": 1,
   "metadata": {},
   "outputs": [],
   "source": [
    "import numpy as np\n",
    "import matplotlib.pyplot as plt\n",
    "\n",
    "%matplotlib inline\n",
    "%load_ext autoreload\n",
    "%autoreload 2"
   ]
  },
  {
   "cell_type": "markdown",
   "metadata": {},
   "source": [
    "## Zero padding"
   ]
  },
  {
   "cell_type": "code",
   "execution_count": 2,
   "metadata": {},
   "outputs": [],
   "source": [
    "def zero_pad(X, pad):\n",
    "    \"\"\"\n",
    "    Arguments:\n",
    "    X - data type is numpy array, shape (m, H, W, C)\n",
    "    pad - data type is integer, amount of padding around each image on vertical and horizontal\n",
    "    \"\"\"\n",
    "    padded_X = np.pad(X, ((0, 0), (pad, pad), (pad, pad), (0, 0)), \"constant\", constant_values=0)\n",
    "    return padded_X"
   ]
  },
  {
   "cell_type": "code",
   "execution_count": 3,
   "metadata": {},
   "outputs": [
    {
     "data": {
      "text/plain": [
       "<matplotlib.image.AxesImage at 0x117059898>"
      ]
     },
     "execution_count": 3,
     "metadata": {},
     "output_type": "execute_result"
    },
    {
     "data": {
      "image/png": "[encoded data removed]",
      "text/plain": [
       "<Figure size 432x288 with 2 Axes>"
      ]
     },
     "metadata": {
      "needs_background": "light"
     },
     "output_type": "display_data"
    }
   ],
   "source": [
    "np.random.seed(1)\n",
    "m = 4 # Number of sample\n",
    "H = 3 # Height\n",
    "W = 3 # Width\n",
    "C = 2 # Channel\n",
    "\n",
    "X = np.random.randn(m, H, W, C)\n",
    "padded_X = zero_pad(X, 2)\n",
    "\n",
    "fig, axes = plt.subplots(1, 2)\n",
    "axes[0].set_title(\"X\")\n",
    "axes[0].imshow(X[0, :, :, 0])\n",
    "axes[1].set_title(\"Padded X\")\n",
    "axes[1].imshow(padded_X[0, :, :, 0])"
   ]
  },
  {
   "cell_type": "markdown",
   "metadata": {},
   "source": [
    "## Forward propagation\n",
    "\n",
    "\n",
    "### Convolutional layer forward\n",
    "\n",
    "$ n_H = \\lfloor \\frac{n_{H_{prev}} - f + 2 \\times pad}{stride} \\rfloor + 1 $\n",
    "\n",
    "$ n_W = \\lfloor \\frac{n_{W_{prev}} - f + 2 \\times pad}{stride} \\rfloor + 1 $\n",
    "\n",
    "$ n_C = \\text{Number of filters used in the convolution} $"
   ]
  },
  {
   "cell_type": "code",
   "execution_count": 4,
   "metadata": {},
   "outputs": [],
   "source": [
    "def single_step_conv(a_slice_prev, W, b):\n",
    "    \"\"\"\n",
    "    Arguments:\n",
    "    a_slice_prev - data type is numpy array, shape is (f, f, C_prev)\n",
    "    W - data type is numpy array, Weights matrix, shape is (f, f, C_prev)\n",
    "    b - data type is numpy array, bias matrix, shape is (1, 1, 1)\n",
    "    \n",
    "    Returns:\n",
    "    Z - a scalar value, result of convolving the sliding window (W, b) on a slice x of he input data\n",
    "    \"\"\"\n",
    "    \n",
    "    single = np.multiply(a_slice_prev, W)\n",
    "    Z = np.sum(single)\n",
    "    Z = Z + float(b)\n",
    "    return Z"
   ]
  },
  {
   "cell_type": "code",
   "execution_count": 5,
   "metadata": {},
   "outputs": [
    {
     "name": "stdout",
     "output_type": "stream",
     "text": [
      "Z = -6.999089450680221\n"
     ]
    }
   ],
   "source": [
    "np.random.seed(1)\n",
    "a_slice_prev = np.random.randn(4, 4 ,3)\n",
    "W = np.random.randn(4, 4, 3)\n",
    "b = np.random.randn(1, 1, 1)\n",
    "Z = single_step_conv(a_slice_prev, W, b)\n",
    "print(\"Z = {}\".format(Z))"
   ]
  },
  {
   "cell_type": "code",
   "execution_count": 6,
   "metadata": {},
   "outputs": [],
   "source": [
    "def conv_forward(A_prev, W, b, hyper_params):\n",
    "    \n",
    "    (m, n_H_prev, n_W_prev, n_C_prev) = A_prev.shape\n",
    "    \n",
    "    (f, f, n_C_prev, n_C) = W.shape\n",
    "    \n",
    "    stride = hyper_params[\"stride\"]\n",
    "    pad = hyper_params[\"pad\"]\n",
    "    \n",
    "    \n",
    "    n_H = int((n_H_prev - f + 2 * pad) / stride) + 1\n",
    "    n_W = int((n_W_prev - f + 2 * pad) / stride) + 1\n",
    "    \n",
    "    Z = np.zeros((m, n_H, n_W, n_C))\n",
    "    \n",
    "    padded_A_prev = zero_pad(A_prev, pad)\n",
    "    \n",
    "    for i in range(m):\n",
    "        a_padded_prev = padded_A_prev[i]\n",
    "        for h in range(n_H):\n",
    "            for w in range(n_W):\n",
    "                for c in range(n_C):\n",
    "                    vert_start = h * stride\n",
    "                    vert_end = h * stride + f\n",
    "                    horiz_start = w * stride\n",
    "                    horiz_end = w * stride + f\n",
    "                    \n",
    "                    a_slice_prev = a_padded_prev[vert_start:vert_end, horiz_start:horiz_end, :]\n",
    "                    Z[i, h, w, c] = single_step_conv(a_slice_prev, W[:, :, :, c], b[:, :, :, c])\n",
    "    \n",
    "    cache = (A_prev, W, h, hyper_params)\n",
    "    return Z, cache"
   ]
  },
  {
   "cell_type": "code",
   "execution_count": 7,
   "metadata": {},
   "outputs": [
    {
     "name": "stdout",
     "output_type": "stream",
     "text": [
      "Z.shape = (10, 4, 4, 8)\n",
      "Z[4, 2, 1, :] = [-0.20555171  6.23776201  2.00711797  0.76155097 -6.17175943  0.2447692\n",
      "  5.37072111  3.46037289]\n"
     ]
    }
   ],
   "source": [
    "np.random.randn(1)\n",
    "A_prev = np.random.randn(10, 4, 4, 3)\n",
    "W = np.random.randn(2, 2, 3, 8)\n",
    "b = np.random.randn(1, 1, 1, 8)\n",
    "hyper_params = {\"pad\": 2, \"stride\": 2}\n",
    "\n",
    "\n",
    "Z, conv_cache = conv_forward(A_prev, W, b, hyper_params)\n",
    "print(\"Z.shape = {}\".format(Z.shape))\n",
    "print(\"Z[4, 2, 1, :] = {}\".format(Z[4, 2, 1, :]))"
   ]
  },
  {
   "cell_type": "markdown",
   "metadata": {},
   "source": [
    "### Pooling layer forward\n",
    "\n",
    "The pooling layer reduces the dimations of the intpu.\n",
    "\n",
    "$ n_H = \\lfloor \\frac{n_{H_{prev}} - f}{stride} \\rfloor + 1 $\n",
    "\n",
    "$ n_W = \\lfloor \\frac{n_{W_{prev}} - f}{stride} \\rfloor + 1 $\n",
    "\n",
    "$ n_C = n_{C_{prev}} $"
   ]
  },
  {
   "cell_type": "code",
   "execution_count": 8,
   "metadata": {},
   "outputs": [],
   "source": [
    "def pool_forward(A_prev, hyper_params, mode=\"max\"):\n",
    "    (m, n_H_prev, n_W_prev, n_C_prev) = A_prev.shape\n",
    "    \n",
    "    f = hyper_params[\"f\"]\n",
    "    stride = hyper_params[\"stride\"]\n",
    "    \n",
    "    n_H = int((n_H_prev - f) / stride + 1)\n",
    "    n_W = int((n_W_prev - f) / stride + 1)\n",
    "    n_C = n_C_prev\n",
    "    \n",
    "    A = np.zeros((m, n_H, n_W, n_C))\n",
    "    \n",
    "    for i in range(m):\n",
    "        for h in range(n_H):\n",
    "            for w in range(n_W):\n",
    "                for c in range(n_C):\n",
    "                    vert_start = h * stride\n",
    "                    vert_end = h * stride + f\n",
    "                    horiz_start = w * stride\n",
    "                    horiz_end = w * stride + f\n",
    "                    \n",
    "                    a_prev_slice = A_prev[i, vert_start:vert_end, horiz_start:horiz_end, c]\n",
    "                    if mode == \"max\":\n",
    "                        A[i, h, w, c] = np.max(a_prev_slice)\n",
    "                    elif mode == \"average\":\n",
    "                        A[i, h, w, c] = np.mean(a_prev_slice)\n",
    "    \n",
    "    cache = (A_prev, hyper_params)\n",
    "    return A, cache"
   ]
  },
  {
   "cell_type": "code",
   "execution_count": 9,
   "metadata": {},
   "outputs": [
    {
     "name": "stdout",
     "output_type": "stream",
     "text": [
      "A_prev = [[[[ 2.50598029e+00  1.91979229e+00 -1.39169388e+00]\n",
      "   [ 4.50217742e-01  6.27437083e-01  7.51337235e-01]\n",
      "   [ 1.40395436e-01 -9.26871939e-01 -1.82420406e-01]\n",
      "   [-4.91125138e-01  1.34373116e-01 -2.68371304e-01]]\n",
      "\n",
      "  [[-1.31675626e-01  1.01855247e+00  1.23055820e+00]\n",
      "   [-1.18110317e+00 -4.59930104e-01 -7.90799954e-01]\n",
      "   [ 1.22372221e+00 -5.93679025e-02  1.44898940e+00]\n",
      "   [-4.77580855e-01  2.59999942e-02 -1.34869645e+00]]\n",
      "\n",
      "  [[ 1.30253554e+00 -3.62612088e-01 -1.48515645e+00]\n",
      "   [-5.92461285e-01 -2.30490794e+00 -3.18171727e-02]\n",
      "   [ 1.12487742e-01  2.88078167e-01  1.49810818e+00]\n",
      "   [-3.00976154e-01  8.07455917e-01  3.12238689e-01]]\n",
      "\n",
      "  [[-1.93321640e-01 -2.07680202e+00  9.47501167e-01]\n",
      "   [-5.03973949e-01  1.79558917e-02 -1.27046078e+00]\n",
      "   [ 2.82995534e-01  1.08030817e-01  2.94176190e-02]\n",
      "   [-1.34793129e-01  1.04921829e+00  9.66220863e-01]]]\n",
      "\n",
      "\n",
      " [[[ 7.25916853e-01  3.32107876e+00 -6.00225330e-01]\n",
      "   [-3.79517516e-01 -1.01480369e+00  4.35986196e-01]\n",
      "   [-6.87487393e-01 -2.69836174e+00 -1.21333813e+00]\n",
      "   [ 7.22518992e-02  1.00978733e+00 -1.55694156e+00]]\n",
      "\n",
      "  [[-6.12442128e-01 -1.39351805e-01 -7.28537489e-01]\n",
      "   [ 5.31163793e-01  4.00084198e-03  3.21265914e-01]\n",
      "   [-7.25214926e-01  1.53653633e+00 -3.75008758e-04]\n",
      "   [ 1.29354962e+00 -4.38997664e-01  5.90039464e-01]]\n",
      "\n",
      "  [[-6.79383783e-01 -9.50909251e-01 -7.04350332e-01]\n",
      "   [-4.58666861e-02 -2.18733459e-01  1.53920701e+00]\n",
      "   [-1.14870423e+00 -1.09033833e+00  1.70018815e+00]\n",
      "   [ 6.08783659e-01 -1.88141087e+00  4.97269099e-01]]\n",
      "\n",
      "  [[ 2.37332699e-01 -2.14444405e+00 -3.69562425e-01]\n",
      "   [-1.74549518e-02  7.31402517e-01  9.54495667e-01]\n",
      "   [ 9.57467711e-02  1.03345080e+00 -1.46273275e-01]\n",
      "   [-8.57496825e-01 -9.34181843e-01  5.42645295e-01]]]]\n",
      "A = [[[[2.50598029 1.91979229 1.2305582 ]\n",
      "   [1.22372221 0.13437312 1.4489894 ]]\n",
      "\n",
      "  [[1.30253554 0.01795589 0.94750117]\n",
      "   [0.28299553 1.04921829 1.49810818]]]\n",
      "\n",
      "\n",
      " [[[0.72591685 3.32107876 0.4359862 ]\n",
      "   [1.29354962 1.53653633 0.59003946]]\n",
      "\n",
      "  [[0.2373327  0.73140252 1.53920701]\n",
      "   [0.60878366 1.0334508  1.70018815]]]]\n"
     ]
    }
   ],
   "source": [
    "np.random.randn(1)\n",
    "A_prev = np.random.randn(2, 4, 4, 3)\n",
    "hyper_params = {\"stride\": 2, \"f\": 2}\n",
    "\n",
    "A, cache = pool_forward(A_prev, hyper_params)\n",
    "\n",
    "print(\"A_prev = {}\".format(A_prev))\n",
    "print(\"A = {}\".format(A))"
   ]
  },
  {
   "cell_type": "markdown",
   "metadata": {},
   "source": [
    "## Backward propagation\n",
    "\n",
    "### Convolutional layer backward\n",
    "\n",
    "$ dA = \\sum_{n_H}^{h = 0} \\sum_{n_w}^{w = 0} W_c \\times dZ_{hw} $\n",
    "\n",
    "$ dW_c  += \\sum_{n_H}^{h = 0} \\sum_{n_W}^{w = 0} a_{slice} \\times dZ_{hw} $\n",
    "\n",
    "$ db = \\sum_{h} \\sum_{w} dZ_{hw} $"
   ]
  },
  {
   "cell_type": "code",
   "execution_count": 10,
   "metadata": {},
   "outputs": [],
   "source": [
    "def conv_backward(dZ, cache):\n",
    "    (A_prev, W, b, hyper_params) = cache\n",
    "    \n",
    "    (m, n_H_prev, n_W_prev, n_C_prev) = A_prev.shape\n",
    "    (f, f, n_C_prev, n_C) = W.shape\n",
    "    \n",
    "    stride = hyper_params[\"stride\"]\n",
    "    pad = hyper_params[\"pad\"]\n",
    "    \n",
    "    (m, n_H, n_W, n_C) = dZ.shape\n",
    "    \n",
    "    dA_prev = np.zeros((m, n_H_prev, n_W_prev, n_C_prev))\n",
    "    dW = np.zeros((f, f, n_C_prev, n_C))\n",
    "    db = np.zeros((1, 1, 1, n_C))\n",
    "    \n",
    "    padded_A_prev = zero_pad(A_prev, pad)\n",
    "    padded_dA_prev = zero_pad(dA_prev, pad)\n",
    "    \n",
    "    for i in range(m):\n",
    "        padded_a_prev = padded_A_prev[i]\n",
    "        padded_da_prev = padded_dA_prev[i]\n",
    "        for h in range(n_H):\n",
    "            for w in range(n_W):\n",
    "                for c in range(n_C):\n",
    "                    vert_start = h * stride\n",
    "                    vert_end = h * stride + f\n",
    "                    horiz_start = w * stride\n",
    "                    horiz_end = w * stride + f\n",
    "                    \n",
    "                    a_slice = padded_a_prev[vert_start:vert_end, horiz_start:horiz_end, :]\n",
    "                    padded_da_prev[vert_start:vert_end, horiz_start:horiz_end, :] += W[:, :, :, C] * dZ[i , h, w, c]\n",
    "                    dW[:, :, :, c] += a_slice * dZ[i, h, w, c]\n",
    "                    db[:, :, :, c] += dZ[i, h, w, c]\n",
    "        dA_prev[i, :, :, :] = padded_da_prev[pad:-pad, pad:-pad, :]\n",
    "    return dA_prev, dW, db\n",
    "    "
   ]
  },
  {
   "cell_type": "code",
   "execution_count": 11,
   "metadata": {},
   "outputs": [
    {
     "name": "stdout",
     "output_type": "stream",
     "text": [
      "dA.shape = (10, 4, 4, 3)\n",
      "dW.shape = (2, 2, 3, 8)\n",
      "db.shape = (1, 1, 1, 8)\n"
     ]
    }
   ],
   "source": [
    "np.random.seed(1)\n",
    "dA, dW, db = conv_backward(Z, conv_cache)\n",
    "print(\"dA.shape = {}\".format(dA.shape))\n",
    "print(\"dW.shape = {}\".format(dW.shape))\n",
    "print(\"db.shape = {}\".format(db.shape))"
   ]
  },
  {
   "cell_type": "markdown",
   "metadata": {},
   "source": [
    "### Pooling layer backward\n",
    "\n",
    "* Max pooling\n",
    "\n",
    "$ X = \\begin{bmatrix} 1 \\quad 3 \\\\ 4 \\quad 2 \\end{bmatrix} \\quad M = \\begin{bmatrix} 0 \\quad 0 \\\\ 1 \\quad 0 \\end{bmatrix} $\n",
    "\n",
    "* Average pooling\n",
    "\n",
    "$ dZ = 1 \\rightarrow dZ = \\begin{bmatrix} 1/4 \\quad 1/4 \\\\ 1/4 \\quad 1/4 \\end{bmatrix} $"
   ]
  },
  {
   "cell_type": "code",
   "execution_count": 12,
   "metadata": {},
   "outputs": [],
   "source": [
    "def create_maxk_from_window(x):\n",
    "    mask = (x == np.max(x))\n",
    "    return mask"
   ]
  },
  {
   "cell_type": "code",
   "execution_count": 13,
   "metadata": {},
   "outputs": [
    {
     "name": "stdout",
     "output_type": "stream",
     "text": [
      "x = [[ 1.62434536 -0.61175641]\n",
      " [-0.52817175 -1.07296862]]\n",
      "mask = [[ True False]\n",
      " [False False]]\n"
     ]
    }
   ],
   "source": [
    "np.random.seed(1)\n",
    "x = np.random.randn(2, 2)\n",
    "mask = create_maxk_from_window(x)\n",
    "print(\"x = {}\".format(x))\n",
    "print(\"mask = {}\".format(mask))"
   ]
  },
  {
   "cell_type": "code",
   "execution_count": 14,
   "metadata": {},
   "outputs": [],
   "source": [
    "def distribute_value(dz, shape):\n",
    "    (n_H, n_W) = shape\n",
    "    average = dz / (n_H * n_W)\n",
    "    a = np.ones(shape) * average\n",
    "    return a"
   ]
  },
  {
   "cell_type": "code",
   "execution_count": 15,
   "metadata": {},
   "outputs": [
    {
     "name": "stdout",
     "output_type": "stream",
     "text": [
      "Distribute value = [[0.5 0.5]\n",
      " [0.5 0.5]]\n"
     ]
    }
   ],
   "source": [
    "a = distribute_value(2, (2, 2))\n",
    "print(\"Distribute value = {}\".format(a))"
   ]
  },
  {
   "cell_type": "code",
   "execution_count": 16,
   "metadata": {},
   "outputs": [],
   "source": [
    "def pool_backward(dA, cache, mode=\"max\"):\n",
    "    (A_prev, hyper_params) = cache\n",
    "    f = hyper_params[\"f\"]\n",
    "    stride = hyper_params[\"stride\"]\n",
    "    \n",
    "    (m, n_H_prev, n_W_prev, n_C_prev) = A_prev.shape\n",
    "    (m, n_H, n_W, n_C) = dA.shape\n",
    "    \n",
    "    dA_prev = np.zeros(A_prev.shape)\n",
    "    \n",
    "    for i in range(m):\n",
    "        a_prev = A_prev[i]\n",
    "        for h in range(n_H):\n",
    "            for w in range(n_W):\n",
    "                for c in range(n_C):\n",
    "                    vert_start = h * stride\n",
    "                    vert_end = h * stride + f\n",
    "                    horiz_start = w * stride\n",
    "                    horiz_end = w * stride + f\n",
    "                    \n",
    "                    if mode == \"max\":\n",
    "                        a_prev_slice = a_prev[vert_start:vert_end, horiz_start:horiz_end, c]\n",
    "                        mask = create_maxk_from_window(a_prev_slice)\n",
    "                        dA_prev[i, vert_start:vert_end, horiz_start:horiz_end, c] += np.multiply(mask, dA[i, h, w, c])\n",
    "                    elif mode == \"average\":\n",
    "                        da = dA[i, h, w, c]\n",
    "                        shape = (f, f)\n",
    "                        dA_prev[i, vert_start:vert_end, horiz_start:horiz_end, c] += distribute_value(da, shape)\n",
    "                        \n",
    "    return dA_prev"
   ]
  },
  {
   "cell_type": "code",
   "execution_count": 17,
   "metadata": {},
   "outputs": [
    {
     "name": "stdout",
     "output_type": "stream",
     "text": [
      "A = [[[[ 1.74481176 -0.24937038]\n",
      "   [ 1.46210794 -0.24937038]]\n",
      "\n",
      "  [[ 1.74481176 -0.24937038]\n",
      "   [ 1.46210794 -0.24937038]]\n",
      "\n",
      "  [[ 1.13376944  1.14472371]\n",
      "   [ 1.13376944  1.14472371]]\n",
      "\n",
      "  [[ 0.90085595  1.14472371]\n",
      "   [ 0.90159072  1.14472371]]]\n",
      "\n",
      "\n",
      " [[[ 1.65980218  0.74204416]\n",
      "   [ 1.65980218  0.74204416]]\n",
      "\n",
      "  [[ 1.65980218  1.6924546 ]\n",
      "   [ 1.65980218  2.10025514]]\n",
      "\n",
      "  [[ 0.30017032  1.6924546 ]\n",
      "   [ 0.30017032  2.10025514]]\n",
      "\n",
      "  [[ 0.83898341  0.93110208]\n",
      "   [ 0.83898341  0.93110208]]]\n",
      "\n",
      "\n",
      " [[[ 2.18557541  1.51981682]\n",
      "   [ 2.18557541 -0.07557171]]\n",
      "\n",
      "  [[ 2.18557541  1.51981682]\n",
      "   [ 2.18557541  0.82797464]]\n",
      "\n",
      "  [[ 0.31563495  0.87616892]\n",
      "   [ 0.31563495  0.82797464]]\n",
      "\n",
      "  [[ 0.23009474  0.76201118]\n",
      "   [ 0.18656139  1.12948391]]]\n",
      "\n",
      "\n",
      " [[[ 1.19891788  0.69803203]\n",
      "   [ 0.42349435  1.2245077 ]]\n",
      "\n",
      "  [[ 0.40349164  0.69803203]\n",
      "   [ 0.74055645  1.2245077 ]]\n",
      "\n",
      "  [[ 0.40349164  0.59357852]\n",
      "   [ 0.84616065  0.31515939]]\n",
      "\n",
      "  [[ 0.35054598  0.31515939]\n",
      "   [ 1.12141771  0.40890054]]]\n",
      "\n",
      "\n",
      " [[[ 1.62765075  1.96710175]\n",
      "   [ 1.27375593  1.96710175]]\n",
      "\n",
      "  [[ 1.62765075  0.86334532]\n",
      "   [ 0.79280687  0.86334532]]\n",
      "\n",
      "  [[ 0.80186103  0.5505375 ]\n",
      "   [ 0.86888616  0.75041164]]\n",
      "\n",
      "  [[ 0.80186103  0.61838026]\n",
      "   [ 0.86888616  0.75041164]]]]\n",
      "dA = [[[[ 0.          0.        ]\n",
      "   [ 0.          0.        ]\n",
      "   [ 0.          0.        ]]\n",
      "\n",
      "  [[ 0.13124767  0.        ]\n",
      "   [ 0.         -0.46706754]\n",
      "   [ 0.90237986  0.        ]]\n",
      "\n",
      "  [[ 0.          0.        ]\n",
      "   [-0.49968505  0.        ]\n",
      "   [ 0.          0.        ]]\n",
      "\n",
      "  [[ 0.          0.        ]\n",
      "   [ 0.         -2.59038987]\n",
      "   [ 0.49521132  0.        ]]\n",
      "\n",
      "  [[ 0.24879916  0.        ]\n",
      "   [ 0.          0.        ]\n",
      "   [ 0.          0.        ]]]\n",
      "\n",
      "\n",
      " [[[ 0.          0.        ]\n",
      "   [ 0.          0.        ]\n",
      "   [ 0.          0.        ]]\n",
      "\n",
      "  [[ 0.          0.        ]\n",
      "   [ 5.05844394 -1.68282702]\n",
      "   [ 0.          0.        ]]\n",
      "\n",
      "  [[ 0.          0.67517265]\n",
      "   [ 0.          0.        ]\n",
      "   [ 0.         -0.53594264]]\n",
      "\n",
      "  [[ 0.          0.        ]\n",
      "   [ 1.37512611  0.        ]\n",
      "   [ 0.          0.        ]]\n",
      "\n",
      "  [[ 0.          0.        ]\n",
      "   [-0.59248892 -0.00625388]\n",
      "   [ 0.          0.        ]]]\n",
      "\n",
      "\n",
      " [[[ 0.          0.        ]\n",
      "   [ 0.          0.        ]\n",
      "   [ 0.         -0.61736206]]\n",
      "\n",
      "  [[ 0.          1.53396297]\n",
      "   [ 1.23616396  0.        ]\n",
      "   [ 0.          0.        ]]\n",
      "\n",
      "  [[ 0.          0.36949272]\n",
      "   [ 3.06499728  0.        ]\n",
      "   [ 0.          1.03794399]]\n",
      "\n",
      "  [[ 0.6590498  -1.62743834]\n",
      "   [ 0.          0.        ]\n",
      "   [ 0.60231928  0.        ]]\n",
      "\n",
      "  [[ 0.          0.        ]\n",
      "   [ 0.          0.        ]\n",
      "   [ 0.          0.4202822 ]]]\n",
      "\n",
      "\n",
      " [[[ 0.81095167  0.        ]\n",
      "   [ 0.          0.        ]\n",
      "   [-0.40087819  0.        ]]\n",
      "\n",
      "  [[ 0.          0.        ]\n",
      "   [ 0.          2.99932017]\n",
      "   [ 0.         -0.93668294]]\n",
      "\n",
      "  [[-2.2130267  -0.89055558]\n",
      "   [ 0.          0.        ]\n",
      "   [-1.33195167  0.        ]]\n",
      "\n",
      "  [[ 0.          0.        ]\n",
      "   [ 0.          0.61340311]\n",
      "   [-1.1191154   0.        ]]\n",
      "\n",
      "  [[-0.3264995   0.        ]\n",
      "   [ 0.          0.        ]\n",
      "   [ 1.11438298 -0.58652394]]]\n",
      "\n",
      "\n",
      " [[[ 0.          0.        ]\n",
      "   [ 0.62336218  0.44088224]\n",
      "   [ 0.          0.        ]]\n",
      "\n",
      "  [[ 0.17068662  0.        ]\n",
      "   [ 0.          0.63184246]\n",
      "   [ 0.          0.        ]]\n",
      "\n",
      "  [[ 0.          0.1094027 ]\n",
      "   [ 1.6169496   0.        ]\n",
      "   [ 0.          0.        ]]\n",
      "\n",
      "  [[ 1.01303137  0.        ]\n",
      "   [ 0.          0.        ]\n",
      "   [-1.9201429   2.2459742 ]]\n",
      "\n",
      "  [[ 0.          0.        ]\n",
      "   [ 0.         -0.19883786]\n",
      "   [ 0.          0.        ]]]]\n"
     ]
    }
   ],
   "source": [
    "np.random.seed(1)\n",
    "A_prev = np.random.randn(5, 5, 3, 2)\n",
    "hyper_params = {\"f\": 2, \"stride\": 1}\n",
    "A, cache = pool_forward(A_prev, hyper_params)\n",
    "dA = np.random.randn(5, 4, 2 ,2)\n",
    "\n",
    "dA_prev = pool_backward(dA, cache)\n",
    "print(\"A = {}\".format(A))\n",
    "print(\"dA = {}\".format(dA_prev))\n"
   ]
  },
  {
   "cell_type": "code",
   "execution_count": null,
   "metadata": {},
   "outputs": [],
   "source": []
  }
 ],
 "metadata": {
  "kernelspec": {
   "display_name": "Python 3",
   "language": "python",
   "name": "python3"
  },
  "language_info": {
   "codemirror_mode": {
    "name": "ipython",
    "version": 3
   },
   "file_extension": ".py",
   "mimetype": "text/x-python",
   "name": "python",
   "nbconvert_exporter": "python",
   "pygments_lexer": "ipython3",
   "version": "3.6.5"
  }
 },
 "nbformat": 4,
 "nbformat_minor": 2
}

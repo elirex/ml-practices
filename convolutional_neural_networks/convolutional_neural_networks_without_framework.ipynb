{
 "cells": [
  {
   "cell_type": "markdown",
   "metadata": {},
   "source": [
    "# Convolutional Neural Networks without framework"
   ]
  },
  {
   "cell_type": "code",
   "execution_count": 12,
   "metadata": {},
   "outputs": [
    {
     "name": "stdout",
     "output_type": "stream",
     "text": [
      "The autoreload extension is already loaded. To reload it, use:\n",
      "  %reload_ext autoreload\n"
     ]
    }
   ],
   "source": [
    "import numpy as np\n",
    "import matplotlib.pyplot as plt\n",
    "\n",
    "%matplotlib inline\n",
    "%load_ext autoreload\n",
    "%autoreload 2"
   ]
  },
  {
   "cell_type": "markdown",
   "metadata": {},
   "source": [
    "## Zero padding"
   ]
  },
  {
   "cell_type": "code",
   "execution_count": 18,
   "metadata": {},
   "outputs": [],
   "source": [
    "def zero_pad(X, pad):\n",
    "    \"\"\"\n",
    "    Arguments:\n",
    "    X - data type is numpy array, shape (m, H, W, C)\n",
    "    pad - data type is integer, amount of padding around each image on vertical and horizontal\n",
    "    \"\"\"\n",
    "    padded_X = np.pad(X, ((0, 0), (pad, pad), (pad, pad), (0, 0)), \"constant\", constant_values=0)\n",
    "    return padded_X"
   ]
  },
  {
   "cell_type": "code",
   "execution_count": 19,
   "metadata": {},
   "outputs": [
    {
     "data": {
      "text/plain": [
       "<matplotlib.image.AxesImage at 0x114298cf8>"
      ]
     },
     "execution_count": 19,
     "metadata": {},
     "output_type": "execute_result"
    },
    {
     "data": {
      "image/png": "[encoded data removed]",
      "text/plain": [
       "<Figure size 432x288 with 2 Axes>"
      ]
     },
     "metadata": {
      "needs_background": "light"
     },
     "output_type": "display_data"
    }
   ],
   "source": [
    "np.random.seed(1)\n",
    "m = 4 # Number of sample\n",
    "H = 3 # Height\n",
    "W = 3 # Width\n",
    "C = 2 # Channel\n",
    "\n",
    "X = np.random.randn(m, H, W, C)\n",
    "padded_X = zero_pad(X, 2)\n",
    "\n",
    "fig, axes = plt.subplots(1, 2)\n",
    "axes[0].set_title(\"X\")\n",
    "axes[0].imshow(X[0, :, :, 0])\n",
    "axes[1].set_title(\"Padded X\")\n",
    "axes[1].imshow(padded_X[0, :, :, 0])"
   ]
  },
  {
   "cell_type": "markdown",
   "metadata": {},
   "source": [
    "## Single step of convolution"
   ]
  },
  {
   "cell_type": "code",
   "execution_count": 15,
   "metadata": {},
   "outputs": [],
   "source": [
    "def single_step_conv(a_slice_prev, W, b):\n",
    "    \"\"\"\n",
    "    Arguments:\n",
    "    a_slice_prev - data type is numpy array, shape is (f, f, C_prev)\n",
    "    W - data type is numpy array, Weights matrix, shape is (f, f, C_prev)\n",
    "    b - data type is numpy array, bias matrix, shape is (1, 1, 1)\n",
    "    \n",
    "    Returns:\n",
    "    Z - a scalar value, result of convolving the sliding window (W, b) on a slice x of he input data\n",
    "    \"\"\"\n",
    "    \n",
    "    single = np.multiply(a_slice_prev, W)\n",
    "    Z = np.sum(single)\n",
    "    Z = Z + float(b)\n",
    "    return Z"
   ]
  },
  {
   "cell_type": "code",
   "execution_count": 20,
   "metadata": {},
   "outputs": [
    {
     "name": "stdout",
     "output_type": "stream",
     "text": [
      "Z = -6.999089450680221\n"
     ]
    }
   ],
   "source": [
    "np.random.seed(1)\n",
    "a_slice_prev = np.random.randn(4, 4 ,3)\n",
    "W = np.random.randn(4, 4, 3)\n",
    "b = np.random.randn(1, 1, 1)\n",
    "Z = single_step_conv(a_slice_prev, W, b)\n",
    "print(\"Z = {}\".format(Z))"
   ]
  },
  {
   "cell_type": "markdown",
   "metadata": {},
   "source": [
    "## Convolutional Neural Networks forward propagation\n",
    "\n",
    "$ n_H = \\lfloor \\frac{n_{H_{prev}} - f + 2 \\times pad}{stride} \\rfloor + 1 $\n",
    "\n",
    "$ n_W = \\lfloor \\frac{n_{W_{prev}} - f + 2 \\times pad}{stride} \\rfloor + 1 $\n",
    "\n",
    "$ n_C = \\text{Number of filters used in the convolution} $"
   ]
  },
  {
   "cell_type": "code",
   "execution_count": 22,
   "metadata": {},
   "outputs": [],
   "source": [
    "def conv_forward(A_prev, W, b, hyper_params):\n",
    "    \n",
    "    (m, n_H_prev, n_W_prev, n_C_prev) = A_prev.shape\n",
    "    \n",
    "    (f, f, n_C_prev, n_C) = W.shape\n",
    "    \n",
    "    stride = hyper_params[\"stride\"]\n",
    "    pad = hyper_params[\"pad\"]\n",
    "    \n",
    "    \n",
    "    n_H = int((n_H_prev - f + 2 * pad) / stride) + 1\n",
    "    n_W = int((n_W_prev - f + 2 * pad) / stride) + 1\n",
    "    \n",
    "    Z = np.zeros((m, n_H, n_W, n_C))\n",
    "    \n",
    "    padded_A_prev = zero_pad(A_prev, pad)\n",
    "    \n",
    "    for i in range(m):\n",
    "        a_padded_prev = padded_A_prev[i]\n",
    "        for h in range(n_H):\n",
    "            for w in range(n_W):\n",
    "                for c in range(n_C):\n",
    "                    vert_start = h * stride\n",
    "                    vert_end = h * stride + f\n",
    "                    horiz_start = w * stride\n",
    "                    horiz_end = w * stride + f\n",
    "                    \n",
    "                    a_slice_prev = a_padded_prev[vert_start:vert_end, horiz_start:horiz_end, :]\n",
    "                    Z[i, h, w, c] = single_step_conv(a_slice_prev, W[:, :, :, c], b[:, :, :, c])\n",
    "    \n",
    "    cache = (A_prev, W, h, hyper_params)\n",
    "    return Z, cache"
   ]
  },
  {
   "cell_type": "code",
   "execution_count": 28,
   "metadata": {},
   "outputs": [
    {
     "name": "stdout",
     "output_type": "stream",
     "text": [
      "Z.shape = (10, 4, 4, 8)\n",
      "Z[4, 2, 1, :] = [ 6.20396203  1.40739964 -0.2540086   5.07457347  4.20509532  3.2021913\n",
      " -4.21663378  6.5173316 ]\n"
     ]
    }
   ],
   "source": [
    "np.random.randn(1)\n",
    "A_prev = np.random.randn(10, 4, 4, 3)\n",
    "W = np.random.randn(2, 2, 3, 8)\n",
    "b = np.random.randn(1, 1, 1, 8)\n",
    "hyper_params = {\"pad\": 2, \"stride\": 2}\n",
    "\n",
    "\n",
    "Z, conv_cache = conv_forward(A_prev, W, b, hyper_params)\n",
    "print(\"Z.shape = {}\".format(Z.shape))\n",
    "print(\"Z[4, 2, 1, :] = {}\".format(Z[4, 2, 1, :]))"
   ]
  },
  {
   "cell_type": "code",
   "execution_count": null,
   "metadata": {},
   "outputs": [],
   "source": []
  }
 ],
 "metadata": {
  "kernelspec": {
   "display_name": "Python 3",
   "language": "python",
   "name": "python3"
  },
  "language_info": {
   "codemirror_mode": {
    "name": "ipython",
    "version": 3
   },
   "file_extension": ".py",
   "mimetype": "text/x-python",
   "name": "python",
   "nbconvert_exporter": "python",
   "pygments_lexer": "ipython3",
   "version": "3.6.5"
  }
 },
 "nbformat": 4,
 "nbformat_minor": 2
}

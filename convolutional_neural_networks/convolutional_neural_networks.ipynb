{
 "cells": [
  {
   "cell_type": "markdown",
   "metadata": {},
   "source": [
    "# Convolutional Neural Netowrks "
   ]
  },
  {
   "cell_type": "code",
   "execution_count": 1,
   "metadata": {},
   "outputs": [],
   "source": [
    "import math\n",
    "import numpy as np\n",
    "import tensorflow as tf"
   ]
  },
  {
   "cell_type": "code",
   "execution_count": 10,
   "metadata": {},
   "outputs": [],
   "source": [
    "from tensorflow.examples.tutorials.mnist import input_data"
   ]
  },
  {
   "cell_type": "code",
   "execution_count": 11,
   "metadata": {},
   "outputs": [
    {
     "name": "stdout",
     "output_type": "stream",
     "text": [
      "Extracting ../data/mnist/train-images-idx3-ubyte.gz\n",
      "Extracting ../data/mnist/train-labels-idx1-ubyte.gz\n",
      "Extracting ../data/mnist/t10k-images-idx3-ubyte.gz\n",
      "Extracting ../data/mnist/t10k-labels-idx1-ubyte.gz\n"
     ]
    }
   ],
   "source": [
    "mnist_dataset = input_data.read_data_sets(\"../data/mnist/\", one_hot=True)"
   ]
  },
  {
   "cell_type": "code",
   "execution_count": 15,
   "metadata": {},
   "outputs": [],
   "source": [
    "NUM_CLASSES = mnist_dataset.train.labels.shape # Number of category\n",
    "\n",
    "IMAGE_H = 28 # hight (pixel) of image\n",
    "IMAGE_W = 28 # width (pixel) of image\n",
    "IMAGE_C = 1  # channel of iamge\n",
    "\n",
    "CONV1_C = 32 # First convolutional layer's channel size\n",
    "CONV1_F = 5  # First convolutional layer's kernel szie\n",
    "\n",
    "CONV2_C = 64 # Second convolutional layer's channel size\n",
    "CONV2_F = 5  # Second convolutional layer's kernel size\n",
    "\n",
    "FC_SIZE = 512 # Fully connected layer's number of node"
   ]
  },
  {
   "cell_type": "markdown",
   "metadata": {},
   "source": [
    "## Define model structure"
   ]
  },
  {
   "cell_type": "code",
   "execution_count": 16,
   "metadata": {},
   "outputs": [],
   "source": [
    "def inference(images, regularizer, is_train=False):\n",
    "    \n",
    "    with tf.variable_scope(\"layer1-conv1\"):\n",
    "        # Define convolution weights and biases\n",
    "        conv1_weights = tf.get_variable(\n",
    "            name=\"weight\", \n",
    "            shape=[CONV1_F, CONV1_F, IMAGE_C, CONV1_C], \n",
    "            initializer=tf.truncated_normal_initializer(stddev=0.1)\n",
    "        )\n",
    "        conv1_biases = tf.get_variable(\n",
    "            name=\"bias\", \n",
    "            shape=[CONV1_C],\n",
    "            initializer=tf.constant_initializer(0.0)\n",
    "        )\n",
    "        \n",
    "        # input is a tensor that shape is [batch, in_height, in_width, in_channels]\n",
    "        # filter is a tensor that shape is [filter_height, filter_width, in_channels, out_channels]\n",
    "        # strides is a 1-D tensor of length 4. The stride of the sliding window for each dimension of input\n",
    "        # padding is a string from: \"SAME\", \"VALID\". The type of padding algorithm to use.\n",
    "        conv1 = tf.nn.conv2d(\n",
    "            input=images,\n",
    "            filter=conv1_weights,\n",
    "            strides=[1, 1, 1, 1],\n",
    "            padding=\"SAME\"\n",
    "        )\n",
    "        relu1 = tf.nn.relu(tf.nn.bias_add(conv1, conv1_biases))\n",
    "    \n",
    "    with tf.name_scope(\"layer2-pool1\"):\n",
    "        # value is a 4-D Tensor with shape [batch, height, width, channels] and type tf.float32.\n",
    "        # ksize is a list of ints that has length >= 4. The size of the window for each dimension of the input tensor.\n",
    "        # strides is a list of ints that has length >= 4. The stride of the sliding window for each dimension of the input tensor.\n",
    "        # padding is a string from: \"SAME\", \"VALID\". The type of padding algorithm to use.\n",
    "        pool1 = tf.nn.max_pool(\n",
    "            value=relu1, \n",
    "            ksize=[1, 2, 2, 1], \n",
    "            strides=[1, 2, 2, 1], \n",
    "            padding=\"SAME\"\n",
    "        )\n",
    "        \n",
    "    with tf.variable_scope(\"layer3-conv2\"):\n",
    "        conv2_weights = tf.get_variable(\n",
    "            name=\"weight\",\n",
    "            shape=[CONV2_F, CONV_F, CONV1_C, CONV2_C],\n",
    "            initializer=tf.truncated_normal_initializer(stddev=0.1)\n",
    "        )\n",
    "        conv2_biases = tf.get_variable(\n",
    "            name=\"bias\",\n",
    "            shape=[CONV2_C],\n",
    "            initializer=tf.constant_initializer(0.0)\n",
    "        )\n",
    "        conv2 = tf.nn.conv2d(pool1, conv2_weights, strides=[1, 1, 1, 1], padding=\"SAME\")\n",
    "        relu2 = tf.nn.relu(tf.nn.bias_add(conv2, conv2_biases))\n",
    "    \n",
    "    with tf.name_scope(\"layer4-pool2\"):\n",
    "        pool2 = tf.nn.max_pool(\n",
    "            value=relu2,\n",
    "            ksize=[1, 2, 2, 1],\n",
    "            strides=[1, 2, 2, 1],\n",
    "            padding=\"SAME\"\n",
    "        )\n",
    "        \n",
    "    # Resahpe layer4-pool2 output size to fit layer5-fc1 input size\n",
    "    pool_shape = pool2.get_shape().as_list()\n",
    "    nodes = pool_shape[1] * pool_shape[2] * pool_shape[3]\n",
    "    reshaped = tf.reshape(pool2, [pool_shape[0], nodes])\n",
    "    \n",
    "    with tf.variable_scope(\"layer5-fc1\"):\n",
    "        fc1_weights = tf.get_variable(\n",
    "            name=\"weights\",\n",
    "            shape=[nodes, FC_SIZE],\n",
    "            initializer=tf.truncated_normal_initializer(stddev=0.1)\n",
    "        )\n",
    "        if regularizer is not None:\n",
    "            tf.add_to_collection(\"losses\", regularizer(fc1_weights))\n",
    "        fc1_biases = tf.get_variable(\n",
    "            name=\"bias\",\n",
    "            shape=[FC_SIZE],\n",
    "            initializer=tf.constant_initializer(0.1)\n",
    "        )\n",
    "        fc1 = tf.nn.relu(tf.matmul(reshaped, fc1_weights) + fc1_biases)\n",
    "        if is_train:\n",
    "            fc1 = tf.nn.dropout(fc1, keep_prob=0.5)\n",
    "            \n",
    "    with tf.variable_scope(\"layer6-fc2\"):\n",
    "        fc2_weights = tf.get_variable(\n",
    "            name=\"weights\",\n",
    "            shape=[FC_SIZE, NUM_CLASSES],\n",
    "            initializer=tf.truncated_normal_initializer(stddev=0.1)\n",
    "        )\n",
    "        if regularizer is not None:\n",
    "            tf.add_to_collection(\"losses\", regularizer(fc2_weights))\n",
    "        fc2_biases = tf.get_variable(\n",
    "            name=\"bias\",\n",
    "            shape=[NUM_CLASSES],\n",
    "            initializer=tf.constant_initializer(0.1)\n",
    "        )\n",
    "        logit = tf.matmul(fc1, fc2_weights) + fc2_biases\n",
    "    \n",
    "    return logit"
   ]
  },
  {
   "cell_type": "code",
   "execution_count": null,
   "metadata": {},
   "outputs": [],
   "source": []
  }
 ],
 "metadata": {
  "kernelspec": {
   "display_name": "Python 3",
   "language": "python",
   "name": "python3"
  },
  "language_info": {
   "codemirror_mode": {
    "name": "ipython",
    "version": 3
   },
   "file_extension": ".py",
   "mimetype": "text/x-python",
   "name": "python",
   "nbconvert_exporter": "python",
   "pygments_lexer": "ipython3",
   "version": "3.6.5"
  }
 },
 "nbformat": 4,
 "nbformat_minor": 2
}

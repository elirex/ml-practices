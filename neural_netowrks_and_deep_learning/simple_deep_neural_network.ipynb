{
 "cells": [
  {
   "cell_type": "markdown",
   "metadata": {},
   "source": [
    "# Simple Deep Neural Network"
   ]
  },
  {
   "cell_type": "markdown",
   "metadata": {},
   "source": [
    "## Import libraries"
   ]
  },
  {
   "cell_type": "code",
   "execution_count": 1,
   "metadata": {},
   "outputs": [],
   "source": [
    "import numpy as np\n",
    "import h5py\n",
    "import matplotlib.pyplot as plt\n",
    "\n",
    "from dnn_utils import *\n",
    "from utils import load_catvnoncat_dataset\n",
    "from test_cases import *\n",
    "\n",
    "%load_ext autoreload\n",
    "%autoreload 2 \n",
    "\n",
    "SEED = 1\n",
    "np.random.seed(SEED)"
   ]
  },
  {
   "cell_type": "markdown",
   "metadata": {},
   "source": [
    "## Data processing"
   ]
  },
  {
   "cell_type": "code",
   "execution_count": 2,
   "metadata": {},
   "outputs": [],
   "source": [
    "train_set_x, train_Y, test_set_x, test_Y, classes = load_catvnoncat_dataset()"
   ]
  },
  {
   "cell_type": "code",
   "execution_count": 3,
   "metadata": {},
   "outputs": [
    {
     "name": "stdout",
     "output_type": "stream",
     "text": [
      "y = non-cat, It is a non-cat\n"
     ]
    },
    {
     "data": {
      "image/png": "[encoded data removed]",
      "text/plain": [
       "<Figure size 432x288 with 1 Axes>"
      ]
     },
     "metadata": {
      "needs_background": "light"
     },
     "output_type": "display_data"
    }
   ],
   "source": [
    "index = 8\n",
    "plt.imshow(train_set_x[index])\n",
    "print(\"y = {}, It is a non-cat\".format(classes[train_Y[0, index]].decode(\"utf-8\")))"
   ]
  },
  {
   "cell_type": "code",
   "execution_count": 4,
   "metadata": {},
   "outputs": [
    {
     "name": "stdout",
     "output_type": "stream",
     "text": [
      "Number of training samples: 209\n",
      "Number of testing samples: 50\n",
      "Each image size: (64, 64) \n",
      "train_set_x_set.shape = (209, 64, 64, 3)\n",
      "train_Y.shape = (1, 50)\n",
      "test_set_x.shape = (50, 64, 64, 3)\n",
      "test_Y.shape = (1, 50)\n"
     ]
    }
   ],
   "source": [
    "m_train = train_set_x.shape[0]\n",
    "num_px = train_set_x.shape[1]\n",
    "m_test = test_set_x.shape[0]\n",
    "\n",
    "print(\"Number of training samples: {}\".format(m_train))\n",
    "print(\"Number of testing samples: {}\".format(m_test))\n",
    "print(\"Each image size: ({}, {}) \".format(num_px, num_px))\n",
    "print(\"train_set_x_set.shape = {}\".format(train_set_x.shape))\n",
    "print(\"train_Y.shape = {}\".format(test_Y.shape))\n",
    "print(\"test_set_x.shape = {}\".format(test_set_x.shape))\n",
    "print(\"test_Y.shape = {}\".format(test_Y.shape))"
   ]
  },
  {
   "cell_type": "markdown",
   "metadata": {},
   "source": [
    "### Flate and normalization"
   ]
  },
  {
   "cell_type": "code",
   "execution_count": 5,
   "metadata": {},
   "outputs": [
    {
     "name": "stdout",
     "output_type": "stream",
     "text": [
      "train_X.shape = (12288, 209)\n",
      "test_X.shape = (12288, 50)\n"
     ]
    }
   ],
   "source": [
    "train_x_flatten = train_set_x.reshape(train_set_x.shape[0], -1).T\n",
    "test_x_flatten = test_set_x.reshape(test_set_x.shape[0], -1).T\n",
    "\n",
    "train_X = train_x_flatten / 255.\n",
    "test_X = test_x_flatten / 255.\n",
    "print(\"train_X.shape = {}\".format(train_X.shape))\n",
    "print(\"test_X.shape = {}\".format(test_X.shape))"
   ]
  },
  {
   "cell_type": "markdown",
   "metadata": {},
   "source": [
    "## Build a deep neural network"
   ]
  },
  {
   "cell_type": "markdown",
   "metadata": {},
   "source": [
    "### Initialize parameters"
   ]
  },
  {
   "cell_type": "code",
   "execution_count": 6,
   "metadata": {},
   "outputs": [],
   "source": [
    "def initialize_parameters_deep(layer_dims):\n",
    "    \"\"\"\n",
    "    Arguments:\n",
    "    layer_dims - data type is python list that containing the dimensions of each layer.\n",
    "    \n",
    "    Returns:\n",
    "    params - data type is python dictionary that containing \"W1\", \"b1\", \"W2\", \"b2\", ..., and W[len(layer_dims)-1], b[len(layer_dims)-1]:\n",
    "        W1 is matrix, size is (layer_dims[n], layer_dims[n-1])\n",
    "        b1 is vector, size is (layer_dims[n], 1)\n",
    "    \"\"\"\n",
    "    params = {}\n",
    "    L = len(layer_dims)\n",
    "    \n",
    "    for l in range(1, L):\n",
    "        params[\"W\" + str(l)] = np.random.randn(layer_dims[l], layer_dims[l - 1]) / np.sqrt(layer_dims[l - 1])\n",
    "        params[\"b\" + str(l)] = np.zeros((layer_dims[l], 1))\n",
    "    \n",
    "    return params"
   ]
  },
  {
   "cell_type": "code",
   "execution_count": 7,
   "metadata": {},
   "outputs": [
    {
     "name": "stdout",
     "output_type": "stream",
     "text": [
      "W1 = [[ 0.72642933 -0.27358579 -0.23620559 -0.47984616  0.38702206]\n",
      " [-1.0292794   0.78030354 -0.34042208  0.14267862 -0.11152182]\n",
      " [ 0.65387455 -0.92132293 -0.14418936 -0.17175433  0.50703711]\n",
      " [-0.49188633 -0.07711224 -0.39259022  0.01887856  0.26064289]]\n",
      "b1 = [[0.]\n",
      " [0.]\n",
      " [0.]\n",
      " [0.]]\n",
      "W2 = [[-0.55030959  0.57236185  0.45079536  0.25124717]\n",
      " [ 0.45042797 -0.34186393 -0.06144511 -0.46788472]]\n",
      "b2 = [[0.]\n",
      " [0.]]\n"
     ]
    }
   ],
   "source": [
    "params = initialize_parameters_deep([5, 4, 2])\n",
    "print(\"W1 = {}\".format(params[\"W1\"]))\n",
    "print(\"b1 = {}\".format(params[\"b1\"]))\n",
    "print(\"W2 = {}\".format(params[\"W2\"]))\n",
    "print(\"b2 = {}\".format(params[\"b2\"]))"
   ]
  },
  {
   "cell_type": "markdown",
   "metadata": {},
   "source": [
    "### Forward propagation"
   ]
  },
  {
   "cell_type": "code",
   "execution_count": 8,
   "metadata": {},
   "outputs": [],
   "source": [
    "def linear_forward(A_prev, W, b):\n",
    "    \"\"\"\n",
    "    Arguments:\n",
    "    A_prev - data type is numpy array, activations from previous layer, shape is (size of previous layer, number of samples)\n",
    "    W - data type is numpy array, weight matrix, shape is (size of current layer, size of previous layer)\n",
    "    b - data type is numpy array, bias vector, shape is (size of current layer, 1)\n",
    "    \n",
    "    Returns:\n",
    "    Z - the input of the activation function\n",
    "    cache - data type tuple, containing \"A_prev\", \"W\" and \"b\"\n",
    "    \"\"\"\n",
    "    Z = W.dot(A_prev) + b\n",
    "    cache = (A_prev, W, b)\n",
    "    return Z, cache"
   ]
  },
  {
   "cell_type": "code",
   "execution_count": 9,
   "metadata": {},
   "outputs": [
    {
     "name": "stdout",
     "output_type": "stream",
     "text": [
      "Z = [[ 3.26295337 -1.23429987]]\n"
     ]
    }
   ],
   "source": [
    "A, W, b = linear_forward_test_case()\n",
    "Z, linear_cache = linear_forward(A, W, b)\n",
    "print(\"Z = {}\".format(Z))"
   ]
  },
  {
   "cell_type": "code",
   "execution_count": 10,
   "metadata": {},
   "outputs": [],
   "source": [
    "def linear_activation_forward(A_prev, W, b, activation):\n",
    "    \"\"\"\n",
    "    Arguments:\n",
    "    A_prev - data type is numpy array, activations from previous layer, shape is (size of previous layer, number of samples)\n",
    "    W - data type is numpy array, weight matrix, shape is (size of current layer, size of previous layer)\n",
    "    b - data type is numpy array, bias vector, shape is (size of current layer, 1)\n",
    "    activation - the activation to be used in this layer (sidmoid or relu)\n",
    "    \n",
    "    Returns:\n",
    "    A - data type is numpy array, the output of the activation function, shape same as A_prev\n",
    "    cache - data is python dictionary that containing \"linear cache\" and \"activation_cache\".\n",
    "    \"\"\"\n",
    "    Z, linear_cache = linear_forward(A_prev, W, b)\n",
    "    if activation == \"sigmoid\":\n",
    "        A, activation_cache = sigmoid(Z)\n",
    "    else:\n",
    "        A, activation_cache = relu(Z)\n",
    "        \n",
    "    cache = (linear_cache, activation_cache)\n",
    "    return A, cache"
   ]
  },
  {
   "cell_type": "code",
   "execution_count": 11,
   "metadata": {},
   "outputs": [
    {
     "name": "stdout",
     "output_type": "stream",
     "text": [
      "With sigmoid: A = [[0.96890023 0.11013289]]\n",
      "With ReLU: A = [[3.43896131 0.        ]]\n"
     ]
    }
   ],
   "source": [
    "A_prev, W, b = linear_activation_forward_test_case()\n",
    "\n",
    "A, linear_activation_cache = linear_activation_forward(A_prev, W, b, activation = \"sigmoid\")\n",
    "print(\"With sigmoid: A = {}\".format(A))\n",
    "\n",
    "A, linear_activation_cache = linear_activation_forward(A_prev, W, b, activation = \"relu\")\n",
    "print(\"With ReLU: A = {}\".format(A))"
   ]
  },
  {
   "cell_type": "code",
   "execution_count": 12,
   "metadata": {},
   "outputs": [],
   "source": [
    "def deep_model_forward(X, params):\n",
    "    \"\"\"\n",
    "    Arguments:\n",
    "    X - data type is numpy array, input data, shape is (input size, number of samples)\n",
    "    params - output of initialize_parameters_deep function\n",
    "    \n",
    "    Returns:\n",
    "    A_last - data type is numpy array, last layer activation\n",
    "    caches - data type is python list that containing:\n",
    "        every cache of linear_activation_forward\n",
    "    \"\"\"\n",
    "    caches = []\n",
    "    A = X\n",
    "    L = len(params) // 2 # number of layers in the model\n",
    "    \n",
    "    for l in range(1, L):\n",
    "        A_prev = A\n",
    "        A, cache = linear_activation_forward(A_prev, params[\"W\" + str(l)], params[\"b\" + str(l)], activation=\"relu\")\n",
    "        caches.append(cache)\n",
    "    \n",
    "    A_last, cache = linear_activation_forward(A, params[\"W\" + str(L)], params[\"b\" + str(L)], activation=\"sigmoid\")\n",
    "    caches.append(cache)\n",
    "    return A_last, caches"
   ]
  },
  {
   "cell_type": "code",
   "execution_count": 13,
   "metadata": {},
   "outputs": [
    {
     "name": "stdout",
     "output_type": "stream",
     "text": [
      "A_last = [[0.03921668 0.70498921 0.19734387 0.04728177]]\n",
      "Length of caches list = 3\n"
     ]
    }
   ],
   "source": [
    "X, params = deep_model_forward_test_case_2hidden()\n",
    "A_last, caches = deep_model_forward(X, params)\n",
    "print(\"A_last = {}\".format(A_last))\n",
    "print(\"Length of caches list = {}\".format(len(caches)))"
   ]
  },
  {
   "cell_type": "markdown",
   "metadata": {},
   "source": [
    "### Compute cost"
   ]
  },
  {
   "cell_type": "code",
   "execution_count": 14,
   "metadata": {},
   "outputs": [],
   "source": [
    "def compute_cost(A_last, Y):\n",
    "    \"\"\"\n",
    "    Arguments:\n",
    "    A_last - data type is numpy array, probability vecotr corresponds to label, shape is (1, number of samples)\n",
    "    Y - data type is numpy array, true \"label\" vector, shape is (1, number of samples)\n",
    "    \n",
    "    Returns:\n",
    "    cost - cross-entropy cost\n",
    "    \"\"\"\n",
    "    m = Y.shape[1]\n",
    "    \n",
    "    cost = (1./m) * (-np.dot(Y, np.log(A_last).T) - np.dot(1-Y, np.log(1 - A_last).T))\n",
    "    cost = np.squeeze(cost)\n",
    "    return cost"
   ]
  },
  {
   "cell_type": "code",
   "execution_count": 15,
   "metadata": {},
   "outputs": [
    {
     "name": "stdout",
     "output_type": "stream",
     "text": [
      "Cost = 0.41493159961539694\n"
     ]
    }
   ],
   "source": [
    "Y, AL = compute_cost_test_case()\n",
    "cost = compute_cost(AL, Y)\n",
    "print(\"Cost = {}\".format(cost))"
   ]
  },
  {
   "cell_type": "markdown",
   "metadata": {},
   "source": [
    "### Backward propagation"
   ]
  },
  {
   "cell_type": "code",
   "execution_count": 16,
   "metadata": {},
   "outputs": [],
   "source": [
    "def linear_backward(dZ, cache):\n",
    "    \"\"\"\n",
    "    Arguments:\n",
    "    dZ - data type is numpy array, gradient of the cost with respect to the linear output\n",
    "    cache -- data type is python tuple, containing A_prev, W and b, coming from the forward progagation in the current layer,\n",
    "    \n",
    "    Returns:\n",
    "    dA_prev - data type is numpy array, gradient of the cost with respect to the activation, same shape as A_prev\n",
    "    dW - data type is numpy array, gradient of the cost with respect to current layer's weight matrix, shape same as W\n",
    "    db - data type is numpy array, gradient of the cost with respect to current layer's bias vector, shape same as b\n",
    "    \"\"\"\n",
    "    A_prev, W, b = cache\n",
    "    m = A_prev.shape[1]\n",
    "    \n",
    "    dW = (1. / m) * np.dot(dZ, A_prev.T)\n",
    "    db = (1. / m) * np.sum(dZ, axis=1, keepdims=True)\n",
    "    dA_prev = np.dot(W.T, dZ)\n",
    "    \n",
    "    return dA_prev, dW, db"
   ]
  },
  {
   "cell_type": "code",
   "execution_count": 17,
   "metadata": {},
   "outputs": [
    {
     "name": "stdout",
     "output_type": "stream",
     "text": [
      "dA_prev = [[ 0.51822968 -0.19517421]\n",
      " [-0.40506361  0.15255393]\n",
      " [ 2.37496825 -0.89445391]]\n",
      "dW = [[-0.10076895  1.40685096  1.64992505]]\n",
      "db = [[0.50629448]]\n"
     ]
    }
   ],
   "source": [
    "dZ, linear_cache = linear_backward_test_case()\n",
    "\n",
    "dA_prev, dW, db = linear_backward(dZ, linear_cache)\n",
    "print (\"dA_prev = {}\".format(dA_prev))\n",
    "print (\"dW = {}\".format(dW))\n",
    "print (\"db = {}\".format(db))"
   ]
  },
  {
   "cell_type": "code",
   "execution_count": 18,
   "metadata": {},
   "outputs": [],
   "source": [
    "def linear_activation_backward(dA, caches, activation):\n",
    "    \"\"\"\n",
    "    Arguments:\n",
    "    dA - data type is numpy array, activation gradient for current layer\n",
    "    caches - data type is pyton tuple, store linear_cache and activation_cache\n",
    "    activation - data type is string, the activation to be used in this layer (sigmoid or relu)\n",
    "    \n",
    "    Returns:\n",
    "    dA_prev - data type is numpy array, gradient of the cost with respect to the activation of the previous layer, shape same as A_prev\n",
    "    dW - data type is numpy array, gradient of the cost with respect to current layer's weights, shape same as W\n",
    "    db - data type is numpy array, gradient of the cost with respect to current layer's bias, shape same as b\n",
    "    \"\"\"\n",
    "    linear_cache, activation_cache = caches\n",
    "    \n",
    "    if activation == \"sigmoid\":\n",
    "        dZ = sigmoid_derivative(dA, activation_cache)\n",
    "    elif activation == \"relu\":\n",
    "        dZ = relu_derivative(dA, activation_cache)  \n",
    "    \n",
    "    dA_prev, dW, db = linear_backward(dZ, linear_cache)\n",
    "       \n",
    "    return dA_prev, dW, db"
   ]
  },
  {
   "cell_type": "code",
   "execution_count": 19,
   "metadata": {},
   "outputs": [
    {
     "name": "stdout",
     "output_type": "stream",
     "text": [
      "sigmoid:\n",
      "dA_prev = [[ 0.11017994  0.01105339]\n",
      " [ 0.09466817  0.00949723]\n",
      " [-0.05743092 -0.00576154]]\n",
      "dW = [[ 0.10266786  0.09778551 -0.01968084]]\n",
      "db = [[-0.05729622]]\n",
      "\n",
      "relu:\n",
      "dA_prev = [[ 0.44090989  0.        ]\n",
      " [ 0.37883606  0.        ]\n",
      " [-0.2298228   0.        ]]\n",
      "dW = [[ 0.44513824  0.37371418 -0.10478989]]\n",
      "db = [[-0.20837892]]\n"
     ]
    }
   ],
   "source": [
    "A_last, linear_activation_cache = linear_activation_backward_test_case()\n",
    "\n",
    "dA_prev, dW, db = linear_activation_backward(A_last, linear_activation_cache, activation = \"sigmoid\")\n",
    "print (\"sigmoid:\")\n",
    "print (\"dA_prev = {}\".format(dA_prev))\n",
    "print (\"dW = {}\".format(dW))\n",
    "print (\"db = {}\\n\".format(db))\n",
    "\n",
    "dA_prev, dW, db = linear_activation_backward(A_last, linear_activation_cache, activation = \"relu\")\n",
    "print (\"relu:\")\n",
    "print (\"dA_prev = {}\".format(dA_prev))\n",
    "print (\"dW = {}\".format(dW))\n",
    "print (\"db = {}\".format(db))"
   ]
  },
  {
   "cell_type": "code",
   "execution_count": 20,
   "metadata": {},
   "outputs": [],
   "source": [
    "def deep_model_backward(A_last, Y, caches):\n",
    "    \"\"\"\n",
    "    Arguments:\n",
    "    A_last - data type is numpy array, probability vector, output of the forward propagation \n",
    "    Y - data type is numpy array, true \"label\" vector\n",
    "    caches - data type is python list, containting:\n",
    "        every cache of linear_activation_forward() with \"relu\" (layer index from 0 - L - 2)\n",
    "        the cache of linear_activation_forward() with \"sigmoid\" (layer index is L - 1)\n",
    "        \n",
    "    Returns:\n",
    "    grads - data type is ptyon  dictionary, containing:\n",
    "        every layer's dA, dW, db\n",
    "    \"\"\"\n",
    "    grads = {}\n",
    "    L = len(caches)\n",
    "    m = A_last.shape[1]\n",
    "    Y = Y.reshape(A_last.shape)\n",
    "    \n",
    "    dA_last = -(np.divide(Y, A_last) - np.divide(1 - Y, 1 - A_last))\n",
    "    current_cache = caches[L - 1]\n",
    "    grads[\"dA\" + str(L)], grads[\"dW\" + str(L)], grads[\"db\" + str(L)] = linear_activation_backward(dA_last, current_cache, activation=\"sigmoid\")\n",
    "    \n",
    "    for l in reversed(range(L - 1)):\n",
    "        current_cache = caches[l]\n",
    "        dA_prev_temp, dW_temp, db_temp = linear_activation_backward(grads[\"dA\" + str(l + 2)], current_cache, activation=\"relu\")\n",
    "        grads[\"dA\" + str(l + 1)] = dA_prev_temp\n",
    "        grads[\"dW\" + str(l + 1)] = dW_temp\n",
    "        grads[\"db\" + str(l + 1)] = db_temp\n",
    "        \n",
    "    return grads"
   ]
  },
  {
   "cell_type": "code",
   "execution_count": 21,
   "metadata": {},
   "outputs": [
    {
     "name": "stdout",
     "output_type": "stream",
     "text": [
      "dW1 = [[0.41010002 0.07807203 0.13798444 0.10502167]\n",
      " [0.         0.         0.         0.        ]\n",
      " [0.05283652 0.01005865 0.01777766 0.0135308 ]]\n",
      "db1 = [[-0.22007063]\n",
      " [ 0.        ]\n",
      " [-0.02835349]]\n",
      "dA1 = [[ 0.12913162 -0.44014127]\n",
      " [-0.14175655  0.48317296]\n",
      " [ 0.01663708 -0.05670698]]\n"
     ]
    }
   ],
   "source": [
    "A_last, Y_assess, caches = deep_model_backward_test_case()\n",
    "grads = deep_model_backward(A_last, Y_assess, caches)\n",
    "print(\"dW1 = {}\".format(grads[\"dW1\"]))\n",
    "print(\"db1 = {}\".format(grads[\"db1\"]))\n",
    "print(\"dA1 = {}\".format(grads[\"dA2\"]))"
   ]
  },
  {
   "cell_type": "markdown",
   "metadata": {},
   "source": [
    "### Update parameters"
   ]
  },
  {
   "cell_type": "code",
   "execution_count": 22,
   "metadata": {},
   "outputs": [],
   "source": [
    "def update_parameters(params, grads, learning_rate):\n",
    "    \"\"\"\n",
    "    Arguments:\n",
    "    params - data type is pyton dictionary, containing all parameters\n",
    "    grads - data type is python dictionary, containing all gradients\n",
    "    \n",
    "    Returns:\n",
    "    params - data type is python dictionary, containing:\n",
    "        every layer's \"W\" and \"b\"\n",
    "    \"\"\"\n",
    "\n",
    "    L = len(params) // 2\n",
    "\n",
    "    # Update rule for each parameter. Use a for loop.\n",
    "    for l in range(L):\n",
    "        params[\"W\" + str(l + 1)] = params[\"W\" + str(l + 1)] - learning_rate * grads[\"dW\" + str(l + 1)]\n",
    "        params[\"b\" + str(l + 1)] = params[\"b\" + str(l + 1)] - learning_rate * grads[\"db\" + str(l + 1)]\n",
    "        \n",
    "    return params"
   ]
  },
  {
   "cell_type": "code",
   "execution_count": 23,
   "metadata": {},
   "outputs": [
    {
     "name": "stdout",
     "output_type": "stream",
     "text": [
      "W1 = [[-0.59562069 -0.09991781 -2.14584584  1.82662008]\n",
      " [-1.76569676 -0.80627147  0.51115557 -1.18258802]\n",
      " [-1.0535704  -0.86128581  0.68284052  2.20374577]]\n",
      "b1 = [[-0.04659241]\n",
      " [-1.28888275]\n",
      " [ 0.53405496]]\n",
      "W2 = [[-0.55569196  0.0354055   1.32964895]]\n",
      "b2 = [[-0.84610769]]\n"
     ]
    }
   ],
   "source": [
    "params, grads = update_parameters_test_case()\n",
    "params = update_parameters(params, grads, 0.1)\n",
    "\n",
    "print (\"W1 = {}\".format(params[\"W1\"]))\n",
    "print (\"b1 = {}\".format(params[\"b1\"]))\n",
    "print (\"W2 = {}\".format(params[\"W2\"]))\n",
    "print (\"b2 = {}\".format(params[\"b2\"]))"
   ]
  },
  {
   "cell_type": "markdown",
   "metadata": {},
   "source": [
    "### Prediction"
   ]
  },
  {
   "cell_type": "code",
   "execution_count": 24,
   "metadata": {},
   "outputs": [],
   "source": [
    "def predict(X, y, params):\n",
    "    \"\"\"\n",
    "    Arguments:\n",
    "    X - dataset of samples\n",
    "    params - parameters of the trained model\n",
    "    \n",
    "    Returns:\n",
    "    P - predictions for the given dataset X\n",
    "    \"\"\"\n",
    "    m = X.shape[1]\n",
    "    n = len(params) // 2\n",
    "    P = np.zeros((1, m))\n",
    "        \n",
    "    probas, caches = deep_model_forward(X, params)\n",
    "    \n",
    "    for i in range(0, probas.shape[1]):\n",
    "        if (probas[0, i] > 0.5):\n",
    "            P[0, i] = 1\n",
    "        else:\n",
    "            P[0, i] = 0\n",
    "            \n",
    "    return P"
   ]
  },
  {
   "cell_type": "markdown",
   "metadata": {},
   "source": [
    "### L - layer Neural Network"
   ]
  },
  {
   "cell_type": "code",
   "execution_count": 25,
   "metadata": {},
   "outputs": [],
   "source": [
    "layers_dims = [12288, 20, 10, 5, 1]"
   ]
  },
  {
   "cell_type": "code",
   "execution_count": 26,
   "metadata": {},
   "outputs": [],
   "source": [
    "def deep_model(X, Y, layers_dims, learning_rate=0.009, num_iterations=3000, verbose=False):\n",
    "    costs = []\n",
    "    params = initialize_parameters_deep(layers_dims)\n",
    "    \n",
    "    # for i in range(1, len(params) // 2):\n",
    "    #    index = str(i)\n",
    "    #    print(\"W{}.shape = {}\".format(i, params[\"W\" + index].shape))\n",
    "    #    print(\"b{}.shape = {}\".format(i, params[\"b\" + index].shape))\n",
    "    \n",
    "    for i in range(0, num_iterations):\n",
    "        A_last, caches = deep_model_forward(X, params)\n",
    "        \n",
    "        cost = compute_cost(A_last, Y)\n",
    "        \n",
    "        grads = deep_model_backward(A_last, Y, caches)\n",
    "        \n",
    "        params = update_parameters(params, grads, learning_rate)\n",
    "                    \n",
    "        if i % 100 == 0:\n",
    "            costs.append(cost)\n",
    "            if verbose:\n",
    "                print(\"{} iteration cost: {}\".format(i, cost))\n",
    "\n",
    "    plt.plot(np.squeeze(costs))\n",
    "    plt.xlabel(\"Iterations\")\n",
    "    plt.ylabel(\"Cost\")\n",
    "    plt.title(\"Learning rate = \" + str(learning_rate))\n",
    "    plt.show()\n",
    "    return params "
   ]
  },
  {
   "cell_type": "code",
   "execution_count": 27,
   "metadata": {},
   "outputs": [
    {
     "name": "stdout",
     "output_type": "stream",
     "text": [
      "0 iteration cost: 0.695514776145948\n",
      "100 iteration cost: 0.6162625436022393\n",
      "200 iteration cost: 0.5578253882241752\n",
      "300 iteration cost: 0.45573012103576443\n",
      "400 iteration cost: 0.4075314385054009\n",
      "500 iteration cost: 0.34753563648299995\n",
      "600 iteration cost: 0.286314580344321\n",
      "700 iteration cost: 0.19173655196658834\n",
      "800 iteration cost: 0.09616852617758465\n",
      "900 iteration cost: 0.10351671380760358\n",
      "1000 iteration cost: 0.03937971561617511\n",
      "1100 iteration cost: 0.024364264407043243\n",
      "1200 iteration cost: 0.017245088933752598\n",
      "1300 iteration cost: 0.012911076767801793\n",
      "1400 iteration cost: 0.01006726945911016\n",
      "1500 iteration cost: 0.008134688597055276\n",
      "1600 iteration cost: 0.006730980700455002\n",
      "1700 iteration cost: 0.005677865337497351\n",
      "1800 iteration cost: 0.0048788295773509035\n",
      "1900 iteration cost: 0.004254505316484462\n",
      "2000 iteration cost: 0.003747357061113971\n",
      "2100 iteration cost: 0.003334900707207223\n",
      "2200 iteration cost: 0.0029948225510339236\n",
      "2300 iteration cost: 0.0027117443708507593\n",
      "2400 iteration cost: 0.002468078257665704\n",
      "2500 iteration cost: 0.002262013336286825\n",
      "2600 iteration cost: 0.0020820576973097954\n",
      "2700 iteration cost: 0.0019259676631884996\n",
      "2800 iteration cost: 0.0017900863780745794\n",
      "2900 iteration cost: 0.0016691104847714696\n"
     ]
    },
    {
     "data": {
      "image/png": "[encoded data removed]",
      "text/plain": [
       "<Figure size 432x288 with 1 Axes>"
      ]
     },
     "metadata": {
      "needs_background": "light"
     },
     "output_type": "display_data"
    }
   ],
   "source": [
    "deep_model_params = deep_model(train_X, train_Y, layers_dims, verbose=True)"
   ]
  },
  {
   "cell_type": "code",
   "execution_count": 28,
   "metadata": {},
   "outputs": [],
   "source": [
    "def print_accuracy(data_type, Y, Y_hat):\n",
    "    print(\"{} dataset accuracy: {}\".format(data_type, np.sum(np.mean((Y_hat == Y)))))"
   ]
  },
  {
   "cell_type": "code",
   "execution_count": 29,
   "metadata": {},
   "outputs": [
    {
     "name": "stdout",
     "output_type": "stream",
     "text": [
      "Train dataset accuracy: 1.0\n",
      "Test dataset accuracy: 0.78\n"
     ]
    }
   ],
   "source": [
    "predictions_train = predict(train_X, train_Y, deep_model_params)\n",
    "print_accuracy(\"Train\", predictions_train, train_Y)\n",
    "\n",
    "predictions_test = predict(test_X, test_Y, deep_model_params)\n",
    "print_accuracy(\"Test\", predictions_test, test_Y)"
   ]
  }
 ],
 "metadata": {
  "kernelspec": {
   "display_name": "Python 3",
   "language": "python",
   "name": "python3"
  },
  "language_info": {
   "codemirror_mode": {
    "name": "ipython",
    "version": 3
   },
   "file_extension": ".py",
   "mimetype": "text/x-python",
   "name": "python",
   "nbconvert_exporter": "python",
   "pygments_lexer": "ipython3",
   "version": "3.6.5"
  }
 },
 "nbformat": 4,
 "nbformat_minor": 2
}

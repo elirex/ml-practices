{
 "cells": [
  {
   "cell_type": "markdown",
   "metadata": {},
   "source": [
    "# Simple Deep Neural Network"
   ]
  },
  {
   "cell_type": "code",
   "execution_count": 2,
   "metadata": {},
   "outputs": [],
   "source": [
    "import numpy as np\n",
    "import h5py\n",
    "import matplotlib.pyplot as plt\n",
    "\n",
    "from dnn_utils import *\n",
    "from utils import load_catvnoncat_dataset\n",
    "\n",
    "%load_ext autoreload\n",
    "%autoreload 2 \n",
    "\n",
    "SEED = 1\n",
    "np.random.seed(SEED)"
   ]
  },
  {
   "cell_type": "markdown",
   "metadata": {},
   "source": [
    "### Initialize parameters"
   ]
  },
  {
   "cell_type": "code",
   "execution_count": 4,
   "metadata": {},
   "outputs": [],
   "source": [
    "def initialize_parameters_deep(layer_dims):\n",
    "    \"\"\"\n",
    "    Arguments:\n",
    "    layer_dims - data type is python list that containing the dimensions of each layer.\n",
    "    \n",
    "    Returns:\n",
    "    params - data type is python dictionary that containing \"W1\", \"b1\", \"W2\", \"b2\", ..., and W[len(layer_dims)-1], b[len(layer_dims)-1]:\n",
    "        W1 is matrix, size is (layer_dims[n], layer_dims[n-1])\n",
    "        b1 is vector, size is (layer_dims[n], 1)\n",
    "    \"\"\"\n",
    "    params = {}\n",
    "    L = len(layer_dims)\n",
    "    \n",
    "    for l in range(1, L):\n",
    "        params[\"W\" + str(l)] = np.random.randn(layer_dims[l], layer_dims[l - 1]) * 0.01\n",
    "        params[\"b\" + str(l)] = np.zeros((layer_dims[l], 1))\n",
    "    \n",
    "    return params"
   ]
  },
  {
   "cell_type": "markdown",
   "metadata": {},
   "source": [
    "### Forward propagation"
   ]
  },
  {
   "cell_type": "code",
   "execution_count": 5,
   "metadata": {},
   "outputs": [],
   "source": [
    "def linear_forward(A_prev, W, b):\n",
    "    \"\"\"\n",
    "    Arguments:\n",
    "    A_prev - data type is numpy array, activations from previous layer, shape is (size of previous layer, number of samples)\n",
    "    W - data type is numpy array, weight matrix, shape is (size of current layer, size of previous layer)\n",
    "    b - data type is numpy array, bias vector, shape is (size of current layer, 1)\n",
    "    \"\"\"\n",
    "    Z = np.dot(W, A_prev) + b\n",
    "    cache = (A_prev, W, b)\n",
    "    return Z, cache"
   ]
  },
  {
   "cell_type": "code",
   "execution_count": 7,
   "metadata": {},
   "outputs": [],
   "source": [
    "def linear_activation_forward(A_prev, W, b, activation):\n",
    "    \"\"\"\n",
    "    Arguments:\n",
    "    A_prev - data type is numpy array, activations from previous layer, shape is (size of previous layer, number of samples)\n",
    "    W - data type is numpy array, weight matrix, shape is (size of current layer, size of previous layer)\n",
    "    b - data type is numpy array, bias vector, shape is (size of current layer, 1)\n",
    "    activation - the activation to be used in this layer (sidmoid or relu)\n",
    "    \n",
    "    Returns:\n",
    "    A - data type is numpy array, the output of the activation function, shape same as A_prev\n",
    "    cache - data is python dictionary that containing \"linear cache\" and \"activation_cache\".\n",
    "    \"\"\"\n",
    "    Z, linear_cache = linear_forward(A_prev)\n",
    "    if activation == \"sigmoid\":\n",
    "        A, activation_cache = sigmoid(Z)\n",
    "    else:\n",
    "        A, activation_cache = relu(Z)\n",
    "        \n",
    "    cache = (linear_cache, activation_cache)\n",
    "    return A, cache"
   ]
  },
  {
   "cell_type": "code",
   "execution_count": null,
   "metadata": {},
   "outputs": [],
   "source": [
    "def deep_model_forward(X, params):\n",
    "    \"\"\"\n",
    "    Arguments:\n",
    "    X - data type is numpy array, input data, shape is (input size, number of samples)\n",
    "    params - output of initialize_parameters_deep function\n",
    "    \n",
    "    Returns:\n",
    "    A - data type is numpy array, last layer activation\n",
    "    caches - data type is python list that containing:\n",
    "        every cache of linear_activation_forward\n",
    "    \"\"\"\n",
    "    caches = []\n",
    "    A = X\n",
    "    L = len(params) // 2 # number of layers in the model\n",
    "    \n",
    "    for l in range(1, L):\n",
    "        A_prev = A\n",
    "        A, cache = linear_activation_forward(A_prev, params[\"W\" + str(l)], params[\"b\" + str(l)], \"relu\")\n",
    "        caches.append(cache)\n",
    "    \n",
    "    A, cache = linear_activation_forward(A, params[\"W\" + str(L)], params[\"b\" + str(L)], \"sigmoid\")\n",
    "    caches.append(cache)\n",
    "    return A, caches"
   ]
  },
  {
   "cell_type": "markdown",
   "metadata": {},
   "source": [
    "### Compute cost"
   ]
  },
  {
   "cell_type": "code",
   "execution_count": 8,
   "metadata": {},
   "outputs": [],
   "source": [
    "def compute_cost(A, Y):\n",
    "    \"\"\"\n",
    "    Arguments:\n",
    "    A - data type is numpy array, probability vecotr corresponds to label, shape is (1, number of samples)\n",
    "    Y - data type is numpy array, true \"label\" vector, shape is (1, number of samples)\n",
    "    \n",
    "    Returns:\n",
    "    cost - cross-entropy cost\n",
    "    \"\"\"\n",
    "    m = Y.shape[1]\n",
    "    \n",
    "    cost = (1. / m) * (-np.dot(Y, np.log(A).T) - np.dot(1 - Y, np.log(1 - A).T))\n",
    "    cost = np.squeeze(cost)\n",
    "    return cost"
   ]
  },
  {
   "cell_type": "code",
   "execution_count": null,
   "metadata": {},
   "outputs": [],
   "source": []
  }
 ],
 "metadata": {
  "kernelspec": {
   "display_name": "Python 3",
   "language": "python",
   "name": "python3"
  },
  "language_info": {
   "codemirror_mode": {
    "name": "ipython",
    "version": 3
   },
   "file_extension": ".py",
   "mimetype": "text/x-python",
   "name": "python",
   "nbconvert_exporter": "python",
   "pygments_lexer": "ipython3",
   "version": "3.6.5"
  }
 },
 "nbformat": 4,
 "nbformat_minor": 2
}

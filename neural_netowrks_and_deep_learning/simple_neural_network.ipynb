{
 "cells": [
  {
   "cell_type": "markdown",
   "metadata": {},
   "source": [
    "# Simple Neural Network"
   ]
  },
  {
   "cell_type": "code",
   "execution_count": 1,
   "metadata": {},
   "outputs": [],
   "source": [
    "import numpy as np\n",
    "from utils import *\n",
    "import matplotlib.pyplot as plt\n",
    "%matplotlib inline\n",
    "\n",
    "SEED = 1\n",
    "np.random.seed(SEED)\n",
    "\n",
    "%load_ext autoreload\n",
    "%autoreload 2"
   ]
  },
  {
   "cell_type": "markdown",
   "metadata": {},
   "source": [
    "## Problem description\n",
    "\n",
    "Given a dataset that contains cat and non-cat images, you need to build a simple image recognition algorithm that can classify pictures as a cat or non-cat."
   ]
  },
  {
   "cell_type": "markdown",
   "metadata": {},
   "source": [
    "## Data preprocessing"
   ]
  },
  {
   "cell_type": "code",
   "execution_count": 2,
   "metadata": {},
   "outputs": [],
   "source": [
    "# Loading dataset\n",
    "train_set_x, train_set_y, test_set_x, test_set_y, classes = load_catvnoncat_dataset()"
   ]
  },
  {
   "cell_type": "code",
   "execution_count": 3,
   "metadata": {},
   "outputs": [
    {
     "name": "stdout",
     "output_type": "stream",
     "text": [
      "Info y = [1], it is a cat.\n"
     ]
    },
    {
     "data": {
      "image/png": "[encoded data removed]",
      "text/plain": [
       "<Figure size 432x288 with 1 Axes>"
      ]
     },
     "metadata": {
      "needs_background": "light"
     },
     "output_type": "display_data"
    }
   ],
   "source": [
    "# Show a sample image\n",
    "index = 7\n",
    "plt.imshow(train_set_x[index])\n",
    "print(\"Info y = {}, it is a {}.\"\\\n",
    "      .format(train_set_y[:, index], classes[np.squeeze(train_set_y[:, index])].decode(\"utf-8\")))"
   ]
  },
  {
   "cell_type": "code",
   "execution_count": 4,
   "metadata": {},
   "outputs": [
    {
     "name": "stdout",
     "output_type": "stream",
     "text": [
      "Number of training samples: 209\n",
      "Number of test sample: 50\n",
      "Number of pixel (Height/Width): 64\n",
      "train_set_x.shape: (209, 64, 64, 3)\n",
      "train_set_y.shape: (1, 209)\n",
      "test_set_x.shape: (50, 64, 64, 3)\n",
      "test_set_y.shape: (1, 50)\n"
     ]
    }
   ],
   "source": [
    "num_train = train_set_x.shape[0]\n",
    "num_test = test_set_x.shape[0]\n",
    "num_px = train_set_x.shape[1]\n",
    "\n",
    "print(\"Number of training samples: {}\".format(num_train))\n",
    "print(\"Number of test sample: {}\".format(num_test))\n",
    "print(\"Number of pixel (Height/Width): {}\".format(num_px))\n",
    "print(\"train_set_x.shape: {}\".format(train_set_x.shape))\n",
    "print(\"train_set_y.shape: {}\".format(train_set_y.shape))\n",
    "print(\"test_set_x.shape: {}\".format(test_set_x.shape))\n",
    "print(\"test_set_y.shape: {}\".format(test_set_y.shape))"
   ]
  },
  {
   "cell_type": "markdown",
   "metadata": {},
   "source": [
    "For convernience machine leanring:\n",
    "* Flatting the training and test dataset shape form (m, height, width, channel) to (height * width * channel, m).\n",
    "* Center and standardize dataset, substract the mean of the whole numpy array form each sample."
   ]
  },
  {
   "cell_type": "code",
   "execution_count": 5,
   "metadata": {},
   "outputs": [
    {
     "name": "stdout",
     "output_type": "stream",
     "text": [
      "train_set_x_flatten.shape: (12288, 209)\n",
      "train_set_y.shape: (1, 209)\n",
      "test_set_x_flatten.shape: (12288, 50)\n",
      "test_set_y.shape: (1, 50)\n"
     ]
    }
   ],
   "source": [
    "# Falt\n",
    "train_set_x_flatten = train_set_x.reshape(train_set_x.shape[0], -1).T\n",
    "test_set_x_flatten = test_set_x.reshape(test_set_x.shape[0], -1).T\n",
    "\n",
    "print(\"train_set_x_flatten.shape: {}\".format(train_set_x_flatten.shape))\n",
    "print(\"train_set_y.shape: {}\".format(train_set_y.shape))\n",
    "print(\"test_set_x_flatten.shape: {}\".format(test_set_x_flatten.shape))\n",
    "print(\"test_set_y.shape: {}\".format(test_set_y.shape))\n",
    "\n",
    "# Standardize\n",
    "train_set_x = train_set_x_flatten / 255\n",
    "test_set_x = test_set_x_flatten / 255"
   ]
  },
  {
   "cell_type": "markdown",
   "metadata": {},
   "source": [
    "## Build Logistic Regression model"
   ]
  },
  {
   "cell_type": "markdown",
   "metadata": {},
   "source": [
    "Logistic regression is a simple Neural Network, for one sample $ x^{(i)} $ :\n",
    "\n",
    "$ z^{(i)} = w^T x^{(i)} + b $\n",
    "\n",
    "$ \\hat{y}^{(i)} = a^{(i)} = sigmoid(z^{(i)}) $\n",
    "\n",
    "$ \\mathcal{L}(a^{(i)}, y^{(i)}) =  - y^{(i)}  \\log(a^{(i)}) - (1-y^{(i)} )  \\log(1-a^{(i)}) $\n",
    "\n",
    "The cost function is:\n",
    "\n",
    "$  J = \\frac{1}{m} \\sum_{i=1}^m \\mathcal{L}(a^{(i)}, y^{(i)}) $\n",
    "\n",
    "<b>Main steps:</b>\n",
    "\n",
    "1. Initialize the parameters of the model.\n",
    "2. Learn the parameters for minimizing the cost.\n",
    "    * Forward propagation (calculate loss)\n",
    "    * Backward propagation (calculate gradient)\n",
    "    * Gradient descent (update paramenters)\n",
    "3. User the learned parametner to predict on the test dataset.\n",
    "4. Analyse the result."
   ]
  },
  {
   "cell_type": "markdown",
   "metadata": {},
   "source": [
    "### Initialize the parameters\n",
    "\n",
    "Initialize the weight vector size and as a vector of zeros."
   ]
  },
  {
   "cell_type": "code",
   "execution_count": 6,
   "metadata": {},
   "outputs": [],
   "source": [
    "def initialize_paramenter(dim):\n",
    "    \"\"\"\n",
    "    Arguments:\n",
    "    dim - size of the weights\n",
    "    \n",
    "    Returns:\n",
    "    W - initialized weight vecotr that shape is (dim, 1)\n",
    "    b - initialized bias\n",
    "    \"\"\"\n",
    "    W = np.zeros((dim, 1))\n",
    "    b = 0\n",
    "    return W, b"
   ]
  },
  {
   "cell_type": "markdown",
   "metadata": {},
   "source": [
    "### Forward and Backward propagation\n",
    "\n",
    "Forward propagation\n",
    "\n",
    "* Input train data: $ X $\n",
    "* Compute the preidction: $ \\hat{Y} = sigmoid(W^T X + b) = (a^{(0)}, a^{(1)}, a^{(2)}, ..., a^{(m)}) $\n",
    "* Compute the cost: $ J = -\\frac{1}{m}\\sum_{i=1}^{m}y^{(i)}\\log(a^{(i)})+(1-y^{(i)})\\log(1-a^{(i)}) $\n",
    "\n",
    "Backward propagation\n",
    "\n",
    "* Comput gradient of loss weights (dW): $ \\frac{\\partial{J}}{\\partial{w}} = \\frac{1}{m}X (\\hat{Y}-Y)^T $\n",
    "* Comput gradient of loss bias (db): $ \\frac{\\partial{J}}{\\partial{b}} = \\frac{1}{m}\\sum_{i=1}^m (a^{(i)}-y^{(i)}) $ "
   ]
  },
  {
   "cell_type": "code",
   "execution_count": 7,
   "metadata": {},
   "outputs": [],
   "source": [
    "def propagate(W, b, X, Y):\n",
    "    \"\"\"\n",
    "    Argumanets:\n",
    "    W - weights, shape (D, 1)\n",
    "    b - bias\n",
    "    X - training data samples, shape (D ,M)\n",
    "    Y - training data labels, shape (1, M)\n",
    "    \n",
    "    Returns:\n",
    "    cost - negative cost for logistic regression\n",
    "    grads - dictionary containing the gradient of loss weights and bias\n",
    "    \"\"\"\n",
    "    m = X.shape[1]\n",
    "    \n",
    "    # Forward\n",
    "    Y_hat = sigmoid(np.dot(W.T, X) + b) # shape (1, M)\n",
    "    cost = -np.sum((Y * np.log(Y_hat) + (1 - Y) * np.log(1 - Y_hat))) / m\n",
    "    \n",
    "    # Backward\n",
    "    dW = np.dot(X, (Y_hat - Y).T) / m # shape (D, 1)\n",
    "    db = np.sum(Y_hat - Y) / m\n",
    "    cost = np.squeeze(cost)\n",
    "    \n",
    "    grads = {\"dW\": dW, \"db\": db}\n",
    "    return grads, cost"
   ]
  },
  {
   "cell_type": "markdown",
   "metadata": {},
   "source": [
    "### Optimization\n",
    "\n",
    "Using gradient desent to update paramenters.\n",
    "\n",
    "$ \\theta = \\theta - \\alpha \\text{ } d\\theta $, where $ \\theta $ is parameters (weights and bias), $ \\alpha $ is learning rate."
   ]
  },
  {
   "cell_type": "code",
   "execution_count": 8,
   "metadata": {},
   "outputs": [],
   "source": [
    "def optimize(W, b, X, Y, num_iterations, learning_rate, verbose=False):\n",
    "    \"\"\"\n",
    "    Arguments:\n",
    "    W - weights, shape (D, 1)\n",
    "    b - biase\n",
    "    X - training data samples, shape (D ,M)\n",
    "    Y - training data labels, shape (1, M)    \n",
    "    num_iterations - number of the optimization loop\n",
    "    learning_rate - gradient desent updates step\n",
    "    verbose - print the loss log\n",
    "    \n",
    "    Returns:\n",
    "    params - dictionary containing the wieghts and bias\n",
    "    grads - dictionary containing the gradient of loss weights and bias\n",
    "    costs - list of all the costs\n",
    "    \"\"\"\n",
    "    \n",
    "    costs = []\n",
    "    \n",
    "    for i in range(num_iterations):\n",
    "        grads, cost = propagate(W, b, X, Y)\n",
    "        \n",
    "        dW = grads[\"dW\"]\n",
    "        db = grads[\"db\"]\n",
    "        \n",
    "        # update weights and bias\n",
    "        W = W - learning_rate * dW\n",
    "        b = b - learning_rate * db\n",
    "        \n",
    "        if i % 100 == 0:\n",
    "            costs.append(cost)\n",
    "        \n",
    "        if verbose and i % 100 == 0:\n",
    "            print(\"Iteration[{}] - cost: {}\".format(i, cost))\n",
    "        \n",
    "    params = {\"W\": W, \"b\": b}\n",
    "    grads = {\"dW\": dW, \"db\": db}\n",
    "    return params, grads, costs"
   ]
  },
  {
   "cell_type": "markdown",
   "metadata": {},
   "source": [
    "### Prediction\n",
    "\n",
    "Calculate $ \\hat{Y} = sigmoid(W^T X + b) $"
   ]
  },
  {
   "cell_type": "code",
   "execution_count": 9,
   "metadata": {},
   "outputs": [],
   "source": [
    "def predict(W, b, X):\n",
    "    \"\"\"\n",
    "    Arguments:\n",
    "    W - weights, shape (D, 1)\n",
    "    b - biase\n",
    "    X - test data samples, shape (D ,M)\n",
    "    \n",
    "    Returns:\n",
    "    predicted_Y - all predictions for the test samples in X\n",
    "    \"\"\"\n",
    "    \n",
    "    m = X.shape[1]\n",
    "    predicted_Y = np.zeros((1, m))\n",
    "        \n",
    "    Y_hat = sigmoid(np.dot(W.T, X) + b)\n",
    "    \n",
    "    for i in range(Y_hat.shape[1]):\n",
    "        if Y_hat[0, i] <= 0.5:\n",
    "            predicted_Y[0, i] = 0\n",
    "        else:\n",
    "            predicted_Y[0, i] = 1\n",
    "    \n",
    "    return predicted_Y"
   ]
  },
  {
   "cell_type": "markdown",
   "metadata": {},
   "source": [
    "### Combin all functions into a model"
   ]
  },
  {
   "cell_type": "code",
   "execution_count": 10,
   "metadata": {},
   "outputs": [],
   "source": [
    "def print_accuracy(set_type, Y, predicted_Y):\n",
    "        print(\"{} accuracy: {}\".format(set_type, 100 - np.mean(np.abs(predicted_Y -Y)) * 100))      "
   ]
  },
  {
   "cell_type": "code",
   "execution_count": 11,
   "metadata": {},
   "outputs": [],
   "source": [
    "def run_model(train_X, train_Y, test_X, test_Y, num_iterations=1000, learning_rate=0.3, verbose=False):\n",
    "    W, b = initialize_paramenter(train_X.shape[0])\n",
    "    \n",
    "    params, grads, costs = optimize(W, b, train_X, train_Y, num_iterations, learning_rate, verbose)\n",
    "    \n",
    "    W = params[\"W\"]\n",
    "    b = params[\"b\"]\n",
    "\n",
    "    predicted_train_Y = predict(W, b, train_X)\n",
    "    predicted_test_Y = predict(W, b, test_X)\n",
    "    \n",
    "    print_accuracy(\"Train\", train_Y, predicted_train_Y)\n",
    "    print_accuracy(\"Test\", test_Y, predicted_test_Y)\n",
    "    \n",
    "    model = {\n",
    "        \"costs\": costs,\n",
    "        \"predicted_train_Y\": predicted_train_Y,\n",
    "        \"predicted_test_Y\": predicted_test_Y,\n",
    "        \"W\": W,\n",
    "        \"b\": b,\n",
    "        \"learning_rate\": learning_rate,\n",
    "        \"num_iterations\": num_iterations\n",
    "    }\n",
    "    return model"
   ]
  },
  {
   "cell_type": "code",
   "execution_count": 12,
   "metadata": {},
   "outputs": [
    {
     "name": "stdout",
     "output_type": "stream",
     "text": [
      "Train accuracy: 99.04306220095694\n",
      "Test accuracy: 70.0\n"
     ]
    }
   ],
   "source": [
    "LR_model = run_model(train_set_x, train_set_y, test_set_x, test_set_y, num_iterations=2000, learning_rate=0.005)"
   ]
  },
  {
   "cell_type": "code",
   "execution_count": 14,
   "metadata": {},
   "outputs": [
    {
     "name": "stdout",
     "output_type": "stream",
     "text": [
      "Y = 1, Predicted Y = cat\n"
     ]
    },
    {
     "data": {
      "image/png": "[encoded data removed]",
      "text/plain": [
       "<Figure size 432x288 with 1 Axes>"
      ]
     },
     "metadata": {
      "needs_background": "light"
     },
     "output_type": "display_data"
    }
   ],
   "source": [
    "index = 3\n",
    "plt.imshow(test_set_x[:, index].reshape((num_px, num_px, 3)))\n",
    "print(\"Y = {}, Predicted Y = {}\".format(test_set_y[0, index], classes[int(LR_model[\"predicted_test_Y\"][0, index])].decode(\"utf-8\")))"
   ]
  },
  {
   "cell_type": "code",
   "execution_count": 15,
   "metadata": {},
   "outputs": [
    {
     "data": {
      "image/png": "[encoded data removed]",
      "text/plain": [
       "<Figure size 432x288 with 1 Axes>"
      ]
     },
     "metadata": {
      "needs_background": "light"
     },
     "output_type": "display_data"
    }
   ],
   "source": [
    "costs = np.squeeze(LR_model[\"costs\"])\n",
    "plt.title(\"Learning rate = {}\".format(LR_model[\"learning_rate\"]))\n",
    "plt.ylabel(\"Cost\")\n",
    "plt.xlabel(\"Per iteration\")\n",
    "plt.plot(costs)\n",
    "plt.show()"
   ]
  },
  {
   "cell_type": "code",
   "execution_count": 16,
   "metadata": {},
   "outputs": [
    {
     "name": "stdout",
     "output_type": "stream",
     "text": [
      "Learning rate = 0.3\n"
     ]
    },
    {
     "name": "stderr",
     "output_type": "stream",
     "text": [
      "/usr/local/lib/python3.6/site-packages/ipykernel_launcher.py:17: RuntimeWarning: divide by zero encountered in log\n",
      "/usr/local/lib/python3.6/site-packages/ipykernel_launcher.py:17: RuntimeWarning: invalid value encountered in multiply\n"
     ]
    },
    {
     "name": "stdout",
     "output_type": "stream",
     "text": [
      "Train accuracy: 100.0\n",
      "Test accuracy: 74.0\n",
      "---------------------------------------------\n",
      "Learning rate = 0.03\n",
      "Train accuracy: 100.0\n",
      "Test accuracy: 68.0\n",
      "---------------------------------------------\n",
      "Learning rate = 0.003\n",
      "Train accuracy: 97.12918660287082\n",
      "Test accuracy: 70.0\n",
      "---------------------------------------------\n",
      "Learning rate = 0.1\n",
      "Train accuracy: 100.0\n",
      "Test accuracy: 66.0\n",
      "---------------------------------------------\n",
      "Learning rate = 0.010000000000000002\n",
      "Train accuracy: 99.52153110047847\n",
      "Test accuracy: 70.0\n",
      "---------------------------------------------\n",
      "Learning rate = 0.001\n",
      "Train accuracy: 91.38755980861244\n",
      "Test accuracy: 68.0\n",
      "---------------------------------------------\n"
     ]
    }
   ],
   "source": [
    "base_learning_rates = [0.3, 0.1]\n",
    "decay_rates = [1., 0.1, 0.01]\n",
    "\n",
    "models = {}\n",
    "for blr in base_learning_rates:\n",
    "    for decay in decay_rates:\n",
    "        lr = blr * decay\n",
    "        print(\"Learning rate = {}\".format(lr))\n",
    "        models[str(lr)] = run_model(train_set_x, train_set_y, test_set_x, test_set_y, num_iterations=2000, learning_rate=lr)\n",
    "        print(\"---------------------------------------------\")"
   ]
  },
  {
   "cell_type": "code",
   "execution_count": 17,
   "metadata": {},
   "outputs": [
    {
     "data": {
      "image/png": "[encoded data removed]",
      "text/plain": [
       "<Figure size 432x288 with 1 Axes>"
      ]
     },
     "metadata": {
      "needs_background": "light"
     },
     "output_type": "display_data"
    }
   ],
   "source": [
    "for blr in base_learning_rates:\n",
    "    for decay in decay_rates:\n",
    "        lr = blr * decay\n",
    "        plt.plot(np.squeeze(models[str(lr)][\"costs\"]), label=str(models[str(lr)][\"learning_rate\"]))\n",
    "        \n",
    "plt.ylabel(\"Cost\")\n",
    "plt.xlabel(\"Per iteration\")\n",
    "legend = plt.legend(loc='upper center', shadow=True)\n",
    "frame = legend.get_frame()\n",
    "frame.set_facecolor('0.90')\n",
    "plt.show()"
   ]
  },
  {
   "cell_type": "markdown",
   "metadata": {},
   "source": [
    "## Build one hidden layer neural network\n",
    "\n",
    "$ z^{[1][i]} = W^{[1]} x^{(i)} + b^{[1](i)} $\n",
    "\n",
    "$ a^{[1](i)} = tanh(z^{[1](i)}) $\n",
    "\n",
    "$ z^{[2][i]} = W^{[2} a^{[1](i)} + b^{[2](i)} $\n",
    "\n",
    "$ \\hat{y}^{(i)} = a^{[2](i)} = \\sigma(z^{[2](i)})$\n",
    "\n",
    "$ y^{(i)}_{prediction} = \\begin{cases} 1 & \\mbox{if } a^{[2](i)} > 0.5 \\\\ 0 & \\mbox{otherwise } \\end{cases} $\n",
    "\n",
    "### Define the neural network structure and Initialize the parameters"
   ]
  },
  {
   "cell_type": "code",
   "execution_count": 21,
   "metadata": {},
   "outputs": [],
   "source": [
    "def layer_sizes(X, Y, h=4):\n",
    "    \"\"\"\n",
    "    Arguments:\n",
    "    X - Input that shape is (input size, number of samples)\n",
    "    Y - Output that shape is (output size, number of samples)\n",
    "    \n",
    "    Returns:\n",
    "    n_x - the size of the input layer\n",
    "    n_h - the size of the hidden layer\n",
    "    n_y - the size of the output layer\n",
    "    \"\"\"\n",
    "    n_x = X.shape[0] # Size of input layer\n",
    "    n_h = h # Size of hidden layer\n",
    "    n_y = Y.shape[0] # Size of output layer\n",
    "    return (n_x, n_h, n_y)"
   ]
  },
  {
   "cell_type": "code",
   "execution_count": 20,
   "metadata": {},
   "outputs": [],
   "source": [
    "def initialize_parameters(n_x, n_h, n_y):\n",
    "    \"\"\"\n",
    "    Arguments:\n",
    "    n_x - Input size\n",
    "    n_h - Hidden size\n",
    "    n_y - Output size\n",
    "    \n",
    "    Returns:\n",
    "    params - containing:\n",
    "            W1 - first layer weights that shape is (n_h, n_x)\n",
    "            b1 - first layer bias that shape is (n_h, 1)\n",
    "            W2 - second layer weights that shape is (n_y, n_h)\n",
    "            b2 - second layer bias that shape is (n_y, 1)\n",
    "    \"\"\"\n",
    "    \n",
    "    W1 = np.random.randn(n_h, n_x) * 0.01\n",
    "    b1 = np.zeros((n_h, 1))\n",
    "    W2 = np.random.randn(n_y, n_h) * 0.01\n",
    "    b2 = np.zeros((n_y, 1))\n",
    "    \n",
    "    params = {\n",
    "        \"W1\": W1,\n",
    "        \"b1\": b1,\n",
    "        \"W2\": W2,\n",
    "        \"b2\": b2\n",
    "    }\n",
    "    return params"
   ]
  },
  {
   "cell_type": "markdown",
   "metadata": {},
   "source": [
    "### Forward propagation\n",
    "\n",
    "$ z^{[1]} = W^{[1]} X + b^{[1]} $\n",
    "\n",
    "$ a^{[1]} = tanh(z^{[1]}) $\n",
    "\n",
    "$ z^{[2]} = W^{[2} a^{[1]} + b^{[2]} $\n",
    "\n",
    "$ a^{[2]} = \\sigma(z^{[2]})$"
   ]
  },
  {
   "cell_type": "code",
   "execution_count": 113,
   "metadata": {},
   "outputs": [],
   "source": [
    "def forward_propagation(X, params):\n",
    "    \"\"\"\n",
    "    Arguments\n",
    "    X - input data that shape is (n_x, m)\n",
    "    params - parameters containing output of initialize_parameters function\n",
    "    \n",
    "    Returns\n",
    "    cache - a dictionary containing \"Z1\", \"A1\", \"Z2\", and \"A2\"\n",
    "    \"\"\"\n",
    "    W1 = params[\"W1\"]\n",
    "    b1 = params[\"b1\"]\n",
    "    W2 = params[\"W2\"]\n",
    "    b2 = params[\"b2\"]\n",
    "    \n",
    "    Z1 = np.dot(W1, X) + b1\n",
    "    A1 = np.tanh(Z1)\n",
    "    Z2 = np.dot(W2, A1) + b2\n",
    "    A2 = sigmoid(Z2)\n",
    "    \n",
    "    cache = {\n",
    "        \"Z1\": Z1,\n",
    "        \"A1\": A1,\n",
    "        \"Z2\": Z2,\n",
    "        \"A2\": A2\n",
    "    }\n",
    "    return cache"
   ]
  },
  {
   "cell_type": "markdown",
   "metadata": {},
   "source": [
    "### Cost function\n",
    "\n",
    "$ J = - \\frac{1}{m} \\sum\\limits_{i = 0}^{m} \\large{(} \\small y^{(i)}\\log\\left(a^{[2] (i)}\\right) + (1-y^{(i)})\\log\\left(1- a^{[2] (i)}\\right) \\large{)} $"
   ]
  },
  {
   "cell_type": "code",
   "execution_count": 114,
   "metadata": {},
   "outputs": [],
   "source": [
    "def compute_cost(A2, Y, params):\n",
    "    \"\"\"\n",
    "    Arguments\n",
    "    A2 - The sigmoid output of the second layer's activation that shape is (1, number of samples)\n",
    "    Y - The ground truth that shape is (1, number of samples)\n",
    "    params - The parameters containing W1, b1, W2, b2\n",
    "    \n",
    "    Returns\n",
    "    cost - Cross-entropy\n",
    "    \"\"\"\n",
    "    m = Y.shape[1]\n",
    "    log_probs = (np.log(A2) * Y) + ((1 - Y) * (1 - A2))\n",
    "    cost = -np.sum(log_probs) / float(m)\n",
    "    cost = np.squeeze(cost)\n",
    "    return cost"
   ]
  },
  {
   "cell_type": "markdown",
   "metadata": {},
   "source": [
    "### Backward progagation\n",
    "\n",
    "$ dz^{[2]} = a^{[2]} - y $\n",
    "\n",
    "$ dW^{[2]} = \\frac {1}{m} dz^{[2]} a^{[2]^{T}} $\n",
    "\n",
    "$ db^{[2]} = \\frac {1}{m} \\sum dz^{[2]} $\n",
    "\n",
    "$ dz^{[1]} = W^{[2]^{T}} dz^{[2]} *  {g^{[1]}}'(z^{[1]}) $\n",
    "\n",
    "$ dW^{[1]} = \\frac {1}{m} dz^{[1]} x^{T} $\n",
    "\n",
    "$ db^{[1]} = \\frac {1}{m} \\sum dz^{[1]} $\n",
    "\n",
    "\n",
    "<b>Note:</b> $ {g^{[1]}}'$ is `tanh` activation function's derivative."
   ]
  },
  {
   "cell_type": "code",
   "execution_count": 115,
   "metadata": {},
   "outputs": [],
   "source": [
    "def backward_progagation(params, cache, X, Y):\n",
    "    \n",
    "    m = X.shape[1]\n",
    "    \n",
    "    W1 = params[\"W1\"]\n",
    "    W2 = params[\"W2\"]\n",
    "    \n",
    "    A1 = cache[\"A1\"]\n",
    "    A2 = cache[\"A2\"]\n",
    "    \n",
    "    dZ2 = A2 - Y\n",
    "    dW2 = (1. / m) * np.dot(dZ2, A1.T)\n",
    "    db2 = (1. / m) * np.sum(dZ2, axis=1, keepdims=True)\n",
    "    dZ1 = np.dot(W2.T, dZ2) * (1 - np.power(A1, 2))\n",
    "    dW1 = (1. / m) * np.dot(dZ1, X.T)\n",
    "    db1 = (1.0 / m) * np.sum(dZ1, axis=1, keepdims=True)\n",
    "    \n",
    "    grads = {\"dW1\": dW1,\n",
    "            \"db1\": db1,\n",
    "            \"dW2\": dW2,\n",
    "            \"db2\": db2}\n",
    "    return grads"
   ]
  },
  {
   "cell_type": "markdown",
   "metadata": {},
   "source": [
    "### Update parameters"
   ]
  },
  {
   "cell_type": "code",
   "execution_count": 116,
   "metadata": {},
   "outputs": [],
   "source": [
    "def update_parameters(params, grads, learning_rate):\n",
    "    W1 = params[\"W1\"]\n",
    "    b1 = params[\"b1\"]\n",
    "    W2 = params[\"W2\"]\n",
    "    b2 = params[\"b2\"]\n",
    "    \n",
    "    dW1 = grads[\"dW1\"]\n",
    "    db1 = grads[\"db1\"]\n",
    "    dW2 = grads[\"dW2\"]\n",
    "    db2 = grads[\"db2\"]\n",
    "    \n",
    "    W1 = W1 - learning_rate * dW1\n",
    "    b1 = b1 - learning_rate * db1\n",
    "    W2 = W2 - learning_rate * dW2\n",
    "    b2 = b2 - learning_rate * db2\n",
    "    \n",
    "    params = {\n",
    "        \"W1\": W1,\n",
    "        \"b1\": b1,\n",
    "        \"W2\": W2,\n",
    "        \"b2\": b2\n",
    "    }\n",
    "    return params"
   ]
  },
  {
   "cell_type": "markdown",
   "metadata": {},
   "source": [
    "### Predection"
   ]
  },
  {
   "cell_type": "code",
   "execution_count": 117,
   "metadata": {},
   "outputs": [],
   "source": [
    "def predict(params, X):\n",
    "    cache = forward_propagation(X, params)\n",
    "    predicted_Y = np.where(cache[\"A2\"] >= 0.5, 1, 0)\n",
    "    return predicted_Y"
   ]
  },
  {
   "cell_type": "markdown",
   "metadata": {},
   "source": [
    "### Combin sub-functions into a neural network model"
   ]
  },
  {
   "cell_type": "code",
   "execution_count": 121,
   "metadata": {},
   "outputs": [],
   "source": [
    "def nn_model(train_X, train_Y, n_h, test_X, test_Y, num_iterations=200, learning_rate=0.005, verbose=False):\n",
    "    \n",
    "    n_x, _, n_y = layer_sizes(train_X, train_Y, n_h)\n",
    "        \n",
    "    params = initialize_parameters(n_x, n_h, n_y)\n",
    "    # W1 = params[\"W1\"]\n",
    "    # b1 = params[\"b1\"]\n",
    "    # W2 = params[\"W2\"]\n",
    "    # b2 = params[\"b2\"]\n",
    "    costs = []\n",
    "    for i in range(num_iterations):\n",
    "        cache = forward_propagation(train_X, params)\n",
    "        cost = compute_cost(cache[\"A2\"], train_Y, params)\n",
    "        grads = backward_progagation(params, cache, train_X, train_Y)\n",
    "        \n",
    "        params = update_parameters(params, grads, learning_rate)\n",
    "        \n",
    "        if i % 100 == 0:\n",
    "            costs.append(cost)\n",
    "        \n",
    "        if verbose and i % 1000 == 0:\n",
    "            print(\"Cost after iteration {}: {}\".format(i, cost))\n",
    "            \n",
    "    predicted_train_Y = predict(params, train_X)\n",
    "    print_accuracy(\"Train\", train_Y, predicted_train_Y)\n",
    "    predicted_test_Y = predict(params, test_X)\n",
    "    print_accuracy(\"Test\", test_Y, predicted_test_Y)\n",
    "    \n",
    "    model = {\n",
    "        \"params\": params,\n",
    "        \"costs\": costs,\n",
    "        \"grads\": grads,\n",
    "        \"learning_rate\": learning_rate,\n",
    "        \"predicted_train_Y\": predicted_train_Y,\n",
    "        \"predicted_test_Y\": predicted_test_Y,\n",
    "        \"num_iterations\": num_iterations\n",
    "    }\n",
    "    return model"
   ]
  },
  {
   "cell_type": "code",
   "execution_count": 124,
   "metadata": {},
   "outputs": [
    {
     "name": "stdout",
     "output_type": "stream",
     "text": [
      "Train accuracy: 98.56459330143541\n",
      "Test accuracy: 72.0\n"
     ]
    }
   ],
   "source": [
    "NN_model = nn_model(train_set_x, train_set_y, 40, test_set_x, test_set_y, num_iterations=2000, learning_rate=0.005)"
   ]
  },
  {
   "cell_type": "code",
   "execution_count": 123,
   "metadata": {},
   "outputs": [
    {
     "data": {
      "image/png": "[encoded data removed]",
      "text/plain": [
       "<Figure size 432x288 with 1 Axes>"
      ]
     },
     "metadata": {
      "needs_background": "light"
     },
     "output_type": "display_data"
    }
   ],
   "source": [
    "costs = np.squeeze(NN_model[\"costs\"])\n",
    "plt.title(\"Learning rate = {}\".format(NN_model[\"learning_rate\"]))\n",
    "plt.ylabel(\"Cost\")\n",
    "plt.xlabel(\"Per iteration\")\n",
    "plt.plot(costs)\n",
    "plt.show()"
   ]
  },
  {
   "cell_type": "code",
   "execution_count": null,
   "metadata": {},
   "outputs": [],
   "source": []
  }
 ],
 "metadata": {
  "kernelspec": {
   "display_name": "Python 3",
   "language": "python",
   "name": "python3"
  },
  "language_info": {
   "codemirror_mode": {
    "name": "ipython",
    "version": 3
   },
   "file_extension": ".py",
   "mimetype": "text/x-python",
   "name": "python",
   "nbconvert_exporter": "python",
   "pygments_lexer": "ipython3",
   "version": "3.6.5"
  }
 },
 "nbformat": 4,
 "nbformat_minor": 2
}

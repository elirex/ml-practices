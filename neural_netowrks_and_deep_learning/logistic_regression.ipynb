{
 "cells": [
  {
   "cell_type": "markdown",
   "metadata": {},
   "source": [
    "# Logistic Regression"
   ]
  },
  {
   "cell_type": "markdown",
   "metadata": {},
   "source": [
    "## Import packages"
   ]
  },
  {
   "cell_type": "code",
   "execution_count": 1,
   "metadata": {},
   "outputs": [],
   "source": [
    "import numpy as np\n",
    "import utils\n",
    "import matplotlib.pyplot as plt\n",
    "%matplotlib inline"
   ]
  },
  {
   "cell_type": "markdown",
   "metadata": {},
   "source": [
    "## Problem description"
   ]
  },
  {
   "cell_type": "markdown",
   "metadata": {},
   "source": [
    "Given a dataset that contains cat and non-cat images, you need to build a simple image recognition algorithm that can classify pictures as a cat or non-cat."
   ]
  },
  {
   "cell_type": "markdown",
   "metadata": {},
   "source": [
    "## Data preprocessing"
   ]
  },
  {
   "cell_type": "markdown",
   "metadata": {},
   "source": [
    "* Image labeled as cat (y = 1) or non-cat (y = 0)\n",
    "* Training set and test set are of shape of (m, height, width, channel), where m is number of images, channel is 3 (RGB), height/width are number of pixel.\n"
   ]
  },
  {
   "cell_type": "code",
   "execution_count": 2,
   "metadata": {},
   "outputs": [],
   "source": [
    "# Loading dataset\n",
    "train_set_x, train_set_y, test_set_x, test_set_y, classes = utils.load_catvnoncat_dataset()"
   ]
  },
  {
   "cell_type": "code",
   "execution_count": 3,
   "metadata": {},
   "outputs": [
    {
     "name": "stdout",
     "output_type": "stream",
     "text": [
      "Info y = [1], it is a cat.\n"
     ]
    },
    {
     "data": {
      "image/png": "[encoded data removed]",
      "text/plain": [
       "<matplotlib.figure.Figure at 0x109660be0>"
      ]
     },
     "metadata": {
      "needs_background": "light"
     },
     "output_type": "display_data"
    }
   ],
   "source": [
    "# Show a sample image\n",
    "index = 7\n",
    "plt.imshow(train_set_x[index])\n",
    "print(\"Info y = {}, it is a {}.\"\\\n",
    "      .format(train_set_y[:, index], classes[np.squeeze(train_set_y[:, index])].decode(\"utf-8\")))"
   ]
  },
  {
   "cell_type": "code",
   "execution_count": 4,
   "metadata": {},
   "outputs": [
    {
     "name": "stdout",
     "output_type": "stream",
     "text": [
      "Number of training samples: 209\n",
      "Number of test sample: 50\n",
      "Number of pixel (Height/Width): 64\n",
      "train_set_x.shape: (209, 64, 64, 3)\n",
      "train_set_y.shape: (1, 209)\n",
      "test_set_x.shape: (50, 64, 64, 3)\n",
      "test_set_y.shape: (1, 50)\n"
     ]
    }
   ],
   "source": [
    "num_train = train_set_x.shape[0]\n",
    "num_test = test_set_x.shape[0]\n",
    "num_px = train_set_x.shape[1]\n",
    "\n",
    "print(\"Number of training samples: {}\".format(num_train))\n",
    "print(\"Number of test sample: {}\".format(num_test))\n",
    "print(\"Number of pixel (Height/Width): {}\".format(num_px))\n",
    "print(\"train_set_x.shape: {}\".format(train_set_x.shape))\n",
    "print(\"train_set_y.shape: {}\".format(train_set_y.shape))\n",
    "print(\"test_set_x.shape: {}\".format(test_set_x.shape))\n",
    "print(\"test_set_y.shape: {}\".format(test_set_y.shape))"
   ]
  },
  {
   "cell_type": "markdown",
   "metadata": {},
   "source": [
    "For convernience machine leanring:\n",
    "* Flatting the training and test dataset shape form (m, height, width, channel) to (height * width * channel, m).\n",
    "* Center and standardize dataset, substract the mean of the whole numpy array form each sample."
   ]
  },
  {
   "cell_type": "code",
   "execution_count": 11,
   "metadata": {},
   "outputs": [
    {
     "name": "stdout",
     "output_type": "stream",
     "text": [
      "train_set_x_flatten.shape: (12288, 209)\n",
      "train_set_y.shape: (1, 209)\n",
      "test_set_x_flatten.shape: (12288, 50)\n",
      "test_set_y.shape: (50, 12288)\n"
     ]
    }
   ],
   "source": [
    "# Falt\n",
    "train_set_x_flatten = train_set_x.reshape(train_set_x.shape[0], -1).T\n",
    "test_set_x_flatten = test_set_x.reshape(test_set_x.shape[0], -1).T\n",
    "\n",
    "print(\"train_set_x_flatten.shape: {}\".format(train_set_x_flatten.shape))\n",
    "print(\"train_set_y.shape: {}\".format(train_set_y.shape))\n",
    "print(\"test_set_x_flatten.shape: {}\".format(test_set_x_flatten.shape))\n",
    "print(\"test_set_y.shape: {}\".format(test_set_y.shape))\n",
    "\n",
    "# Standardize\n",
    "train_set_x = train_set_x_flatten / 255\n",
    "test_set_y = test_set_x_flatten / 255"
   ]
  },
  {
   "cell_type": "markdown",
   "metadata": {},
   "source": [
    "## Build Logistic Regression model"
   ]
  },
  {
   "cell_type": "markdown",
   "metadata": {},
   "source": [
    "Logistic regression is a simple Neural Network, for one sample $ x^{(i)} $ :\n",
    "\n",
    "$ z^{(i)} = w^T x^{(i)} + b $\n",
    "\n",
    "$ \\hat{y}^{(i)} = a^{(i)} = sigmoid(z^{(i)}) $\n",
    "\n",
    "$ \\mathcal{L}(a^{(i)}, y^{(i)}) =  - y^{(i)}  \\log(a^{(i)}) - (1-y^{(i)} )  \\log(1-a^{(i)}) $\n",
    "\n",
    "The cost function is:\n",
    "\n",
    "$  J = \\frac{1}{m} \\sum_{i=1}^m \\mathcal{L}(a^{(i)}, y^{(i)}) $\n",
    "\n",
    "<b>Main steps:</b>\n",
    "\n",
    "1. Initialize the parameters of the model.\n",
    "2. Learn the parameters for minimizing the cost.\n",
    "    * Forward propagation (calculate loss)\n",
    "    * Backward propagation (calculate gradient)\n",
    "    * Gradient descent (update paramenters)\n",
    "3. User the learned parametner to predict on the test dataset.\n",
    "4. Analyse the result."
   ]
  },
  {
   "cell_type": "markdown",
   "metadata": {},
   "source": [
    "### Activate function Sigmoid"
   ]
  },
  {
   "cell_type": "markdown",
   "metadata": {},
   "source": [
    "$ sigmoid(z) = \\frac{1}{1+e^{-(z)}} $"
   ]
  },
  {
   "cell_type": "code",
   "execution_count": 6,
   "metadata": {},
   "outputs": [
    {
     "name": "stdout",
     "output_type": "stream",
     "text": [
      "Sigmoid([1, 2]) = [0.73105858 0.88079708]\n"
     ]
    }
   ],
   "source": [
    "# Activate function\n",
    "def sigmoid(z):\n",
    "    \"\"\"\n",
    "    Arguments:\n",
    "    z - A numpy array of any size.\n",
    "    Returns:\n",
    "    s - sigmoid(z)\n",
    "    \"\"\"\n",
    "    s = 1.0 / (1 + np.exp(-z))\n",
    "    return s\n",
    "\n",
    "print(\"Sigmoid([1, 2]) = {}\".format(sigmoid(np.array([1, 2]))))"
   ]
  },
  {
   "cell_type": "markdown",
   "metadata": {},
   "source": [
    "### Initialize the parameters"
   ]
  },
  {
   "cell_type": "markdown",
   "metadata": {},
   "source": [
    "Initialize the weight vector size and as a vector of zeros."
   ]
  },
  {
   "cell_type": "code",
   "execution_count": 42,
   "metadata": {},
   "outputs": [
    {
     "name": "stdout",
     "output_type": "stream",
     "text": [
      "W = [[0.]\n",
      " [0.]],\n",
      "W.shape = (2, 1)\n",
      "b = 0\n"
     ]
    }
   ],
   "source": [
    "def initialize_paramenter(dim):\n",
    "    \"\"\"\n",
    "    Arguments:\n",
    "    dim - size of the weights\n",
    "    \n",
    "    Returns:\n",
    "    W - initialized weight vecotr that shape is (dim, 1)\n",
    "    b - initialized bias\n",
    "    \"\"\"\n",
    "    W = np.zeros((dim, 1))\n",
    "    b = 0\n",
    "    return W, b\n",
    "\n",
    "dim = 2\n",
    "W, b = initialize_paramenter(dim)\n",
    "print(\"W = {},\\nW.shape = {}\".format(W, W.shape))\n",
    "print(\"b = {}\".format(b))"
   ]
  },
  {
   "cell_type": "markdown",
   "metadata": {},
   "source": [
    "### Forward and Backward propagation"
   ]
  },
  {
   "cell_type": "markdown",
   "metadata": {},
   "source": [
    "Forward propagation\n",
    "\n",
    "* Input train data: $ X $\n",
    "* Compute the preidction: $ \\hat{Y} = sigmoid(W^T X + b) = (a^{(0)}, a^{(1)}, a^{(2)}, ..., a^{(m)}) $\n",
    "* Compute the cost: $ J = -\\frac{1}{m}\\sum_{i=1}^{m}y^{(i)}\\log(a^{(i)})+(1-y^{(i)})\\log(1-a^{(i)}) $\n",
    "\n",
    "Backward propagation\n",
    "\n",
    "* Comput gradient of loss weights (dW): $ \\frac{\\partial{J}}{\\partial{w}} = \\frac{1}{m}X (\\hat{Y}-Y)^T $\n",
    "* Comput gradient of loss bias (db): $ \\frac{\\partial{J}}{\\partial{b}} = \\frac{1}{m}\\sum_{i=1}^m (a^{(i)}-y^{(i)}) $\n",
    " "
   ]
  },
  {
   "cell_type": "code",
   "execution_count": 43,
   "metadata": {},
   "outputs": [
    {
     "name": "stdout",
     "output_type": "stream",
     "text": [
      "dW = [[1.99971208]\n",
      " [2.66666666]]\n",
      "db = 0.33329220154266875\n",
      "cost = 8.0000410270108\n"
     ]
    }
   ],
   "source": [
    "def propagate(W, b, X, Y):\n",
    "    \"\"\"\n",
    "    Argumanets:\n",
    "    W - weights, shape (D, 1)\n",
    "    b - bias\n",
    "    X - training data samples, shape (D ,M)\n",
    "    Y - training data labels, shape (1, M)\n",
    "    \n",
    "    Returns:\n",
    "    cost - negative cost for logistic regression\n",
    "    grads - dictionary containing the gradient of loss weights and bias\n",
    "    \"\"\"\n",
    "    m = X.shape[1]\n",
    "    \n",
    "    # Forward\n",
    "    Y_hat = sigmoid(np.dot(W.T, X) + b) # shape (1, M)\n",
    "    cost = -np.sum((Y * np.log(Y_hat) + (1 - Y) * np.log(1 - Y_hat))) / m\n",
    "    \n",
    "    # Backward\n",
    "    dW = np.dot(X, (Y_hat - Y).T) / m # shape (D, 1)\n",
    "    db = np.sum(Y_hat - Y) / m\n",
    "    cost = np.squeeze(cost)\n",
    "    \n",
    "    grads = {\"dW\": dW, \"db\": db}\n",
    "    return grads, cost\n",
    "\n",
    "\n",
    "\n",
    "W = np.array([[1], [2]]) # shape (2, 1)\n",
    "b = 2\n",
    "X = np.array([[5, 6, 7], [7, 8, 0]]) # shape (3, 2)\n",
    "Y = np.array([[1, 0, 1]]) # shape (1, 2)\n",
    "\n",
    "grads, cost = propagate(W, b, X, Y)\n",
    "print(\"dW = {}\".format(grads[\"dW\"]))\n",
    "print(\"db = {}\".format(grads[\"db\"]))\n",
    "print(\"cost = {}\".format(cost))"
   ]
  },
  {
   "cell_type": "markdown",
   "metadata": {},
   "source": [
    "### Optimization\n",
    "\n",
    "Using gradient desent to update paramenters.\n",
    "\n",
    "$ \\theta = \\theta - \\alpha \\text{ } d\\theta $, where $ \\theta $ is parameters (weights and bias), $ \\alpha $ is learning rate."
   ]
  },
  {
   "cell_type": "code",
   "execution_count": 45,
   "metadata": {},
   "outputs": [
    {
     "name": "stdout",
     "output_type": "stream",
     "text": [
      "W = [[0.40141627]\n",
      " [1.20000042]]\n",
      "b = 1.9002023391981857\n",
      "dW = [[1.98003059]\n",
      " [2.6666548 ]]\n",
      "db = 0.33048012603319304\n"
     ]
    }
   ],
   "source": [
    "def optimize(W, b, X, Y, num_iterations, learning_rate, verbose=False):\n",
    "    \"\"\"\n",
    "    Arguments:\n",
    "    W - weights, shape (D, 1)\n",
    "    b - biase\n",
    "    X - training data samples, shape (D ,M)\n",
    "    Y - training data labels, shape (1, M)    \n",
    "    num_iterations - number of the optimization loop\n",
    "    learning_rate - gradient desent updates step\n",
    "    verbose - print the loss log\n",
    "    \n",
    "    Returns:\n",
    "    params - dictionary containing the wieghts and bias\n",
    "    grads - dictionary containing the gradient of loss weights and bias\n",
    "    costs - list of all the costs\n",
    "    \"\"\"\n",
    "    \n",
    "    costs = []\n",
    "    \n",
    "    for i in range(num_iterations):\n",
    "        grads, cost = propagate(W, b, X, Y)\n",
    "        \n",
    "        dW = grads[\"dW\"]\n",
    "        db = grads[\"db\"]\n",
    "        \n",
    "        # update weights and bias\n",
    "        W = W - learning_rate * dW\n",
    "        b = b - learning_rate * db\n",
    "        \n",
    "        costs.append(cost)\n",
    "        \n",
    "        if verbose and i % 100 == 0:\n",
    "            print(\"Iteration[{}] - cost: {}\".format(i, cost))\n",
    "        \n",
    "    params = {\"W\": W, \"b\": b}\n",
    "    grads = {\"dW\": dW, \"db\": db}\n",
    "    return params, grads, costs\n",
    "\n",
    "\n",
    "params, grads, costs = optimize(W, b, X, Y, 100, 0.003)\n",
    "print(\"W = {}\".format(params[\"W\"]))\n",
    "print(\"b = {}\".format(params[\"b\"]))\n",
    "print(\"dW = {}\".format(grads[\"dW\"]))\n",
    "print(\"db = {}\".format(grads[\"db\"]))"
   ]
  },
  {
   "cell_type": "markdown",
   "metadata": {},
   "source": [
    "### Prediction\n",
    "\n",
    "Calculate $ \\hat{Y} = sigmoid(W^T X + b) $"
   ]
  },
  {
   "cell_type": "code",
   "execution_count": 47,
   "metadata": {},
   "outputs": [
    {
     "name": "stdout",
     "output_type": "stream",
     "text": [
      "Predections = [[1. 1. 1.]]\n"
     ]
    }
   ],
   "source": [
    "def predict(W, b, X):\n",
    "    \"\"\"\n",
    "    Arguments:\n",
    "    W - weights, shape (D, 1)\n",
    "    b - biase\n",
    "    X - test data samples, shape (D ,M)\n",
    "    \n",
    "    Returns:\n",
    "    predicted_Y - all predictions for the test samples in X\n",
    "    \"\"\"\n",
    "    \n",
    "    m = X.shape[1]\n",
    "    predicted_Y = np.zeros((1, m))\n",
    "        \n",
    "    Y_hat = sigmoid(np.dot(W.T, X) + b)\n",
    "    \n",
    "    for i in range(Y_hat.shape[1]):\n",
    "        if Y_hat[0, i] <= 0.5:\n",
    "            predicted_Y[0, i] = 0\n",
    "        else:\n",
    "            predicted_Y[0, i] = 1\n",
    "    \n",
    "    return predicted_Y\n",
    "\n",
    "\n",
    "print(\"Predections = {}\".format(predict(W, b, X)))"
   ]
  },
  {
   "cell_type": "markdown",
   "metadata": {},
   "source": [
    "### Combin all functions into a model"
   ]
  },
  {
   "cell_type": "code",
   "execution_count": null,
   "metadata": {},
   "outputs": [],
   "source": [
    "def model(train_X, train_Y, test_X, test_Y, num_iterations=1000, learning_rate=0.3, verbose=False):\n",
    "    "
   ]
  }
 ],
 "metadata": {
  "kernelspec": {
   "display_name": "Python 3",
   "language": "python",
   "name": "python3"
  },
  "language_info": {
   "codemirror_mode": {
    "name": "ipython",
    "version": 3
   },
   "file_extension": ".py",
   "mimetype": "text/x-python",
   "name": "python",
   "nbconvert_exporter": "python",
   "pygments_lexer": "ipython3",
   "version": "3.6.5"
  }
 },
 "nbformat": 4,
 "nbformat_minor": 2
}

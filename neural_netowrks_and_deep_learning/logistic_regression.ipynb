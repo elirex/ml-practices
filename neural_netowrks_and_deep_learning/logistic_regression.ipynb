{
 "cells": [
  {
   "cell_type": "markdown",
   "metadata": {},
   "source": [
    "# Logistic Regression"
   ]
  },
  {
   "cell_type": "markdown",
   "metadata": {},
   "source": [
    "## Import packages"
   ]
  },
  {
   "cell_type": "code",
   "execution_count": 1,
   "metadata": {},
   "outputs": [],
   "source": [
    "import numpy as np\n",
    "import utils\n",
    "import matplotlib.pyplot as plt\n",
    "%matplotlib inline"
   ]
  },
  {
   "cell_type": "markdown",
   "metadata": {},
   "source": [
    "## Problem description"
   ]
  },
  {
   "cell_type": "markdown",
   "metadata": {},
   "source": [
    "Given a dataset that contains cat and non-cat images, you need to build a simple image recognition algorithm that can classify pictures as a cat or non-cat."
   ]
  },
  {
   "cell_type": "markdown",
   "metadata": {},
   "source": [
    "## Data preprocessing"
   ]
  },
  {
   "cell_type": "markdown",
   "metadata": {},
   "source": [
    "* Image labeled as cat (y = 1) or non-cat (y = 0)\n",
    "* Training set and test set are of shape of (m, height, width, channel), where m is number of images, channel is 3 (RGB), height/width are number of pixel.\n"
   ]
  },
  {
   "cell_type": "code",
   "execution_count": 2,
   "metadata": {},
   "outputs": [],
   "source": [
    "# Loading dataset\n",
    "train_set_x, train_set_y, test_set_x, test_set_y, classes = utils.load_catvnoncat_dataset()"
   ]
  },
  {
   "cell_type": "code",
   "execution_count": 3,
   "metadata": {},
   "outputs": [
    {
     "name": "stdout",
     "output_type": "stream",
     "text": [
      "Info y = [1], it is a cat.\n"
     ]
    },
    {
     "data": {
      "image/png": "[encoded data removed]",
      "text/plain": [
       "<Figure size 432x288 with 1 Axes>"
      ]
     },
     "metadata": {
      "needs_background": "light"
     },
     "output_type": "display_data"
    }
   ],
   "source": [
    "# Show a sample image\n",
    "index = 7\n",
    "plt.imshow(train_set_x[index])\n",
    "print(\"Info y = {}, it is a {}.\"\\\n",
    "      .format(train_set_y[:, index], classes[np.squeeze(train_set_y[:, index])].decode(\"utf-8\")))"
   ]
  },
  {
   "cell_type": "code",
   "execution_count": 4,
   "metadata": {},
   "outputs": [
    {
     "name": "stdout",
     "output_type": "stream",
     "text": [
      "Number of training samples: 209\n",
      "Number of test sample: 50\n",
      "Number of pixel (Height/Width): 64\n",
      "train_set_x.shape: (209, 64, 64, 3)\n",
      "train_set_y.shape: (1, 209)\n",
      "test_set_x.shape: (50, 64, 64, 3)\n",
      "test_set_y.shape: (1, 50)\n"
     ]
    }
   ],
   "source": [
    "num_train = train_set_x.shape[0]\n",
    "num_test = test_set_x.shape[0]\n",
    "num_px = train_set_x.shape[1]\n",
    "\n",
    "print(\"Number of training samples: {}\".format(num_train))\n",
    "print(\"Number of test sample: {}\".format(num_test))\n",
    "print(\"Number of pixel (Height/Width): {}\".format(num_px))\n",
    "print(\"train_set_x.shape: {}\".format(train_set_x.shape))\n",
    "print(\"train_set_y.shape: {}\".format(train_set_y.shape))\n",
    "print(\"test_set_x.shape: {}\".format(test_set_x.shape))\n",
    "print(\"test_set_y.shape: {}\".format(test_set_y.shape))"
   ]
  },
  {
   "cell_type": "markdown",
   "metadata": {},
   "source": [
    "For convernience machine leanring:\n",
    "* Flatting the training and test dataset shape form (m, height, width, channel) to (height * width * channel, m).\n",
    "* Center and standardize dataset, substract the mean of the whole numpy array form each sample."
   ]
  },
  {
   "cell_type": "code",
   "execution_count": 5,
   "metadata": {},
   "outputs": [
    {
     "name": "stdout",
     "output_type": "stream",
     "text": [
      "train_set_x_flatten.shape: (12288, 209)\n",
      "train_set_y.shape: (1, 209)\n",
      "test_set_x_flatten.shape: (12288, 50)\n",
      "test_set_y.shape: (1, 50)\n"
     ]
    }
   ],
   "source": [
    "# Falt\n",
    "train_set_x_flatten = train_set_x.reshape(train_set_x.shape[0], -1).T\n",
    "test_set_x_flatten = test_set_x.reshape(test_set_x.shape[0], -1).T\n",
    "\n",
    "print(\"train_set_x_flatten.shape: {}\".format(train_set_x_flatten.shape))\n",
    "print(\"train_set_y.shape: {}\".format(train_set_y.shape))\n",
    "print(\"test_set_x_flatten.shape: {}\".format(test_set_x_flatten.shape))\n",
    "print(\"test_set_y.shape: {}\".format(test_set_y.shape))\n",
    "\n",
    "# Standardize\n",
    "train_set_x = train_set_x_flatten / 255\n",
    "test_set_x = test_set_x_flatten / 255"
   ]
  },
  {
   "cell_type": "markdown",
   "metadata": {},
   "source": [
    "## Build Logistic Regression model"
   ]
  },
  {
   "cell_type": "markdown",
   "metadata": {},
   "source": [
    "Logistic regression is a simple Neural Network, for one sample $ x^{(i)} $ :\n",
    "\n",
    "$ z^{(i)} = w^T x^{(i)} + b $\n",
    "\n",
    "$ \\hat{y}^{(i)} = a^{(i)} = sigmoid(z^{(i)}) $\n",
    "\n",
    "$ \\mathcal{L}(a^{(i)}, y^{(i)}) =  - y^{(i)}  \\log(a^{(i)}) - (1-y^{(i)} )  \\log(1-a^{(i)}) $\n",
    "\n",
    "The cost function is:\n",
    "\n",
    "$  J = \\frac{1}{m} \\sum_{i=1}^m \\mathcal{L}(a^{(i)}, y^{(i)}) $\n",
    "\n",
    "<b>Main steps:</b>\n",
    "\n",
    "1. Initialize the parameters of the model.\n",
    "2. Learn the parameters for minimizing the cost.\n",
    "    * Forward propagation (calculate loss)\n",
    "    * Backward propagation (calculate gradient)\n",
    "    * Gradient descent (update paramenters)\n",
    "3. User the learned parametner to predict on the test dataset.\n",
    "4. Analyse the result."
   ]
  },
  {
   "cell_type": "markdown",
   "metadata": {},
   "source": [
    "### Activate function Sigmoid"
   ]
  },
  {
   "cell_type": "markdown",
   "metadata": {},
   "source": [
    "$ sigmoid(z) = \\frac{1}{1+e^{-(z)}} $"
   ]
  },
  {
   "cell_type": "code",
   "execution_count": 6,
   "metadata": {},
   "outputs": [
    {
     "name": "stdout",
     "output_type": "stream",
     "text": [
      "Sigmoid([0, 2]) = [0.5        0.88079708]\n"
     ]
    }
   ],
   "source": [
    "# Activate function\n",
    "def sigmoid(z):\n",
    "    \"\"\"\n",
    "    Arguments:\n",
    "    z - A numpy array of any size.\n",
    "    Returns:\n",
    "    s - sigmoid(z)\n",
    "    \"\"\"\n",
    "    s = 1.0 / (1 + np.exp(-z))\n",
    "    return s\n",
    "\n",
    "print(\"Sigmoid([0, 2]) = {}\".format(sigmoid(np.array([0, 2]))))"
   ]
  },
  {
   "cell_type": "markdown",
   "metadata": {},
   "source": [
    "### Initialize the parameters"
   ]
  },
  {
   "cell_type": "markdown",
   "metadata": {},
   "source": [
    "Initialize the weight vector size and as a vector of zeros."
   ]
  },
  {
   "cell_type": "code",
   "execution_count": 7,
   "metadata": {},
   "outputs": [
    {
     "name": "stdout",
     "output_type": "stream",
     "text": [
      "W = [[0.]\n",
      " [0.]],\n",
      "W.shape = (2, 1)\n",
      "b = 0\n"
     ]
    }
   ],
   "source": [
    "def initialize_paramenter(dim):\n",
    "    \"\"\"\n",
    "    Arguments:\n",
    "    dim - size of the weights\n",
    "    \n",
    "    Returns:\n",
    "    W - initialized weight vecotr that shape is (dim, 1)\n",
    "    b - initialized bias\n",
    "    \"\"\"\n",
    "    W = np.zeros((dim, 1))\n",
    "    b = 0\n",
    "    return W, b\n",
    "\n",
    "dim = 2\n",
    "W, b = initialize_paramenter(dim)\n",
    "print(\"W = {},\\nW.shape = {}\".format(W, W.shape))\n",
    "print(\"b = {}\".format(b))"
   ]
  },
  {
   "cell_type": "markdown",
   "metadata": {},
   "source": [
    "### Forward and Backward propagation"
   ]
  },
  {
   "cell_type": "markdown",
   "metadata": {},
   "source": [
    "Forward propagation\n",
    "\n",
    "* Input train data: $ X $\n",
    "* Compute the preidction: $ \\hat{Y} = sigmoid(W^T X + b) = (a^{(0)}, a^{(1)}, a^{(2)}, ..., a^{(m)}) $\n",
    "* Compute the cost: $ J = -\\frac{1}{m}\\sum_{i=1}^{m}y^{(i)}\\log(a^{(i)})+(1-y^{(i)})\\log(1-a^{(i)}) $\n",
    "\n",
    "Backward propagation\n",
    "\n",
    "* Comput gradient of loss weights (dW): $ \\frac{\\partial{J}}{\\partial{w}} = \\frac{1}{m}X (\\hat{Y}-Y)^T $\n",
    "* Comput gradient of loss bias (db): $ \\frac{\\partial{J}}{\\partial{b}} = \\frac{1}{m}\\sum_{i=1}^m (a^{(i)}-y^{(i)}) $\n",
    " "
   ]
  },
  {
   "cell_type": "code",
   "execution_count": 8,
   "metadata": {},
   "outputs": [
    {
     "name": "stdout",
     "output_type": "stream",
     "text": [
      "dW = [[0.99845601]\n",
      " [2.39507239]]\n",
      "db = 0.001455578136784208\n",
      "cost = 5.801545319394553\n"
     ]
    }
   ],
   "source": [
    "def propagate(W, b, X, Y):\n",
    "    \"\"\"\n",
    "    Argumanets:\n",
    "    W - weights, shape (D, 1)\n",
    "    b - bias\n",
    "    X - training data samples, shape (D ,M)\n",
    "    Y - training data labels, shape (1, M)\n",
    "    \n",
    "    Returns:\n",
    "    cost - negative cost for logistic regression\n",
    "    grads - dictionary containing the gradient of loss weights and bias\n",
    "    \"\"\"\n",
    "    m = X.shape[1]\n",
    "    \n",
    "    # Forward\n",
    "    Y_hat = sigmoid(np.dot(W.T, X) + b) # shape (1, M)\n",
    "    cost = -np.sum((Y * np.log(Y_hat) + (1 - Y) * np.log(1 - Y_hat))) / m\n",
    "    \n",
    "    # Backward\n",
    "    dW = np.dot(X, (Y_hat - Y).T) / m # shape (D, 1)\n",
    "    db = np.sum(Y_hat - Y) / m\n",
    "    cost = np.squeeze(cost)\n",
    "    \n",
    "    grads = {\"dW\": dW, \"db\": db}\n",
    "    return grads, cost\n",
    "\n",
    "\n",
    "\n",
    "W = np.array([[1.], [2.]]) # shape (2, 1)\n",
    "b = 2\n",
    "X = np.array([[1., 2., -1.], [3., 4., -3.2]]) # shape (3, 2)\n",
    "Y = np.array([[1, 0, 1]]) # shape (1, 2)\n",
    "\n",
    "grads, cost = propagate(W, b, X, Y)\n",
    "print(\"dW = {}\".format(grads[\"dW\"]))\n",
    "print(\"db = {}\".format(grads[\"db\"]))\n",
    "print(\"cost = {}\".format(cost))"
   ]
  },
  {
   "cell_type": "markdown",
   "metadata": {},
   "source": [
    "### Optimization\n",
    "\n",
    "Using gradient desent to update paramenters.\n",
    "\n",
    "$ \\theta = \\theta - \\alpha \\text{ } d\\theta $, where $ \\theta $ is parameters (weights and bias), $ \\alpha $ is learning rate."
   ]
  },
  {
   "cell_type": "code",
   "execution_count": 9,
   "metadata": {},
   "outputs": [
    {
     "name": "stdout",
     "output_type": "stream",
     "text": [
      "W = [[0.19033591]\n",
      " [0.12259159]]\n",
      "b = 1.9253598300845747\n",
      "dW = [[0.67752042]\n",
      " [1.41625495]]\n",
      "db = 0.21919450454067657\n"
     ]
    }
   ],
   "source": [
    "def optimize(W, b, X, Y, num_iterations, learning_rate, verbose=False):\n",
    "    \"\"\"\n",
    "    Arguments:\n",
    "    W - weights, shape (D, 1)\n",
    "    b - biase\n",
    "    X - training data samples, shape (D ,M)\n",
    "    Y - training data labels, shape (1, M)    \n",
    "    num_iterations - number of the optimization loop\n",
    "    learning_rate - gradient desent updates step\n",
    "    verbose - print the loss log\n",
    "    \n",
    "    Returns:\n",
    "    params - dictionary containing the wieghts and bias\n",
    "    grads - dictionary containing the gradient of loss weights and bias\n",
    "    costs - list of all the costs\n",
    "    \"\"\"\n",
    "    \n",
    "    costs = []\n",
    "    \n",
    "    for i in range(num_iterations):\n",
    "        grads, cost = propagate(W, b, X, Y)\n",
    "        \n",
    "        dW = grads[\"dW\"]\n",
    "        db = grads[\"db\"]\n",
    "        \n",
    "        # update weights and bias\n",
    "        W = W - learning_rate * dW\n",
    "        b = b - learning_rate * db\n",
    "        \n",
    "        if i % 100 == 0:\n",
    "            costs.append(cost)\n",
    "        \n",
    "        if verbose and i % 100 == 0:\n",
    "            print(\"Iteration[{}] - cost: {}\".format(i, cost))\n",
    "        \n",
    "    params = {\"W\": W, \"b\": b}\n",
    "    grads = {\"dW\": dW, \"db\": db}\n",
    "    return params, grads, costs\n",
    "\n",
    "\n",
    "params, grads, costs = optimize(W, b, X, Y, 100, 0.009)\n",
    "print(\"W = {}\".format(params[\"W\"]))\n",
    "print(\"b = {}\".format(params[\"b\"]))\n",
    "print(\"dW = {}\".format(grads[\"dW\"]))\n",
    "print(\"db = {}\".format(grads[\"db\"]))"
   ]
  },
  {
   "cell_type": "markdown",
   "metadata": {},
   "source": [
    "### Prediction\n",
    "\n",
    "Calculate $ \\hat{Y} = sigmoid(W^T X + b) $"
   ]
  },
  {
   "cell_type": "code",
   "execution_count": 10,
   "metadata": {},
   "outputs": [
    {
     "name": "stdout",
     "output_type": "stream",
     "text": [
      "Predections = [[1. 1. 0.]]\n"
     ]
    }
   ],
   "source": [
    "def predict(W, b, X):\n",
    "    \"\"\"\n",
    "    Arguments:\n",
    "    W - weights, shape (D, 1)\n",
    "    b - biase\n",
    "    X - test data samples, shape (D ,M)\n",
    "    \n",
    "    Returns:\n",
    "    predicted_Y - all predictions for the test samples in X\n",
    "    \"\"\"\n",
    "    \n",
    "    m = X.shape[1]\n",
    "    predicted_Y = np.zeros((1, m))\n",
    "        \n",
    "    Y_hat = sigmoid(np.dot(W.T, X) + b)\n",
    "    \n",
    "    for i in range(Y_hat.shape[1]):\n",
    "        if Y_hat[0, i] <= 0.5:\n",
    "            predicted_Y[0, i] = 0\n",
    "        else:\n",
    "            predicted_Y[0, i] = 1\n",
    "    \n",
    "    return predicted_Y\n",
    "\n",
    "\n",
    "print(\"Predections = {}\".format(predict(W, b, X)))"
   ]
  },
  {
   "cell_type": "markdown",
   "metadata": {},
   "source": [
    "### Combin all functions into a model"
   ]
  },
  {
   "cell_type": "code",
   "execution_count": 11,
   "metadata": {},
   "outputs": [],
   "source": [
    "def print_accuracy(set_type, Y, predicted_Y):\n",
    "        print(\"{} accuracy: {}\".format(set_type, 100 - np.mean(np.abs(predicted_Y -Y)) * 100))      "
   ]
  },
  {
   "cell_type": "code",
   "execution_count": 12,
   "metadata": {},
   "outputs": [],
   "source": [
    "def run_model(train_X, train_Y, test_X, test_Y, num_iterations=1000, learning_rate=0.3, verbose=False):\n",
    "    W, b = initialize_paramenter(train_X.shape[0])\n",
    "    \n",
    "    params, grads, costs = optimize(W, b, train_X, train_Y, num_iterations, learning_rate, verbose)\n",
    "    \n",
    "    W = params[\"W\"]\n",
    "    b = params[\"b\"]\n",
    "\n",
    "    predicted_train_Y = predict(W, b, train_X)\n",
    "    predicted_test_Y = predict(W, b, test_X)\n",
    "    \n",
    "    print_accuracy(\"Train\", train_Y, predicted_train_Y)\n",
    "    print_accuracy(\"Test\", test_Y, predicted_test_Y)\n",
    "    \n",
    "    model = {\n",
    "        \"costs\": costs,\n",
    "        \"predicted_train_Y\": predicted_train_Y,\n",
    "        \"predicted_test_Y\": predicted_test_Y,\n",
    "        \"W\": W,\n",
    "        \"b\": b,\n",
    "        \"learning_rate\": learning_rate,\n",
    "        \"num_iterations\": num_iterations\n",
    "    }\n",
    "    return model"
   ]
  },
  {
   "cell_type": "code",
   "execution_count": 13,
   "metadata": {},
   "outputs": [
    {
     "name": "stdout",
     "output_type": "stream",
     "text": [
      "Train accuracy: 99.04306220095694\n",
      "Test accuracy: 70.0\n"
     ]
    }
   ],
   "source": [
    "model = run_model(train_set_x, train_set_y, test_set_x, test_set_y, num_iterations=2000, learning_rate=0.005)"
   ]
  },
  {
   "cell_type": "code",
   "execution_count": 14,
   "metadata": {},
   "outputs": [
    {
     "name": "stdout",
     "output_type": "stream",
     "text": [
      "Y = 1, Predicted Y = cat\n"
     ]
    },
    {
     "data": {
      "image/png": "[encoded data removed]",
      "text/plain": [
       "<Figure size 432x288 with 1 Axes>"
      ]
     },
     "metadata": {
      "needs_background": "light"
     },
     "output_type": "display_data"
    }
   ],
   "source": [
    "index = 3\n",
    "plt.imshow(test_set_x[:, index].reshape((num_px, num_px, 3)))\n",
    "print(\"Y = {}, Predicted Y = {}\".format(test_set_y[0, index], classes[int(model[\"predicted_test_Y\"][0, index])].decode(\"utf-8\")))"
   ]
  },
  {
   "cell_type": "code",
   "execution_count": 15,
   "metadata": {},
   "outputs": [
    {
     "data": {
      "image/png": "[encoded data removed]",
      "text/plain": [
       "<Figure size 432x288 with 1 Axes>"
      ]
     },
     "metadata": {
      "needs_background": "light"
     },
     "output_type": "display_data"
    }
   ],
   "source": [
    "costs = np.squeeze(model[\"costs\"])\n",
    "plt.title(\"Learning rate = {}\".format(model[\"learning_rate\"]))\n",
    "plt.ylabel(\"Cost\")\n",
    "plt.xlabel(\"Per iteration\")\n",
    "plt.plot(costs)\n",
    "plt.show()"
   ]
  },
  {
   "cell_type": "markdown",
   "metadata": {},
   "source": [
    "## Analysis"
   ]
  },
  {
   "cell_type": "code",
   "execution_count": 19,
   "metadata": {
    "scrolled": true
   },
   "outputs": [
    {
     "name": "stdout",
     "output_type": "stream",
     "text": [
      "Learning rate = 0.3\n"
     ]
    },
    {
     "name": "stderr",
     "output_type": "stream",
     "text": [
      "/usr/local/lib/python3.6/site-packages/ipykernel_launcher.py:17: RuntimeWarning: divide by zero encountered in log\n",
      "/usr/local/lib/python3.6/site-packages/ipykernel_launcher.py:17: RuntimeWarning: invalid value encountered in multiply\n"
     ]
    },
    {
     "name": "stdout",
     "output_type": "stream",
     "text": [
      "Train accuracy: 100.0\n",
      "Test accuracy: 74.0\n",
      "---------------------------------------------\n",
      "Learning rate = 0.03\n",
      "Train accuracy: 100.0\n",
      "Test accuracy: 68.0\n",
      "---------------------------------------------\n",
      "Learning rate = 0.003\n",
      "Train accuracy: 97.12918660287082\n",
      "Test accuracy: 70.0\n",
      "---------------------------------------------\n",
      "Learning rate = 0.1\n",
      "Train accuracy: 100.0\n",
      "Test accuracy: 68.0\n",
      "---------------------------------------------\n",
      "Learning rate = 0.010000000000000002\n",
      "Train accuracy: 99.52153110047847\n",
      "Test accuracy: 70.0\n",
      "---------------------------------------------\n",
      "Learning rate = 0.001\n",
      "Train accuracy: 91.38755980861244\n",
      "Test accuracy: 68.0\n",
      "---------------------------------------------\n"
     ]
    }
   ],
   "source": [
    "base_learning_rates = [0.3, 0.1]\n",
    "decay_rates = [1., 0.1, 0.01]\n",
    "\n",
    "models = {}\n",
    "for blr in base_learning_rates:\n",
    "    for decay in decay_rates:\n",
    "        lr = blr * decay\n",
    "        print(\"Learning rate = {}\".format(lr))\n",
    "        models[str(lr)] = run_model(train_set_x, train_set_y, test_set_x, test_set_y, num_iterations=2000, learning_rate=lr)\n",
    "        print(\"---------------------------------------------\")"
   ]
  },
  {
   "cell_type": "code",
   "execution_count": 21,
   "metadata": {},
   "outputs": [
    {
     "data": {
      "image/png": "[encoded data removed]",
      "text/plain": [
       "<Figure size 432x288 with 1 Axes>"
      ]
     },
     "metadata": {
      "needs_background": "light"
     },
     "output_type": "display_data"
    }
   ],
   "source": [
    "for blr in base_learning_rates:\n",
    "    for decay in decay_rates:\n",
    "        lr = blr * decay\n",
    "        plt.plot(np.squeeze(models[str(lr)][\"costs\"]), label=str(models[str(lr)][\"learning_rate\"]))\n",
    "        \n",
    "plt.ylabel(\"Cost\")\n",
    "plt.xlabel(\"Per iteration\")\n",
    "legend = plt.legend(loc='upper center', shadow=True)\n",
    "frame = legend.get_frame()\n",
    "frame.set_facecolor('0.90')\n",
    "plt.show()"
   ]
  },
  {
   "cell_type": "code",
   "execution_count": null,
   "metadata": {},
   "outputs": [],
   "source": []
  }
 ],
 "metadata": {
  "kernelspec": {
   "display_name": "Python 3",
   "language": "python",
   "name": "python3"
  },
  "language_info": {
   "codemirror_mode": {
    "name": "ipython",
    "version": 3
   },
   "file_extension": ".py",
   "mimetype": "text/x-python",
   "name": "python",
   "nbconvert_exporter": "python",
   "pygments_lexer": "ipython3",
   "version": "3.6.5"
  }
 },
 "nbformat": 4,
 "nbformat_minor": 2
}

{
  "nbformat": 4,
  "nbformat_minor": 0,
  "metadata": {
    "colab": {
      "name": "lesson3-imdb.ipynb",
      "version": "0.3.2",
      "provenance": [],
      "collapsed_sections": []
    },
    "kernelspec": {
      "name": "python3",
      "display_name": "Python 3"
    },
    "accelerator": "GPU"
  },
  "cells": [
    {
      "metadata": {
        "id": "hiSz8X4Xjtl-",
        "colab_type": "code",
        "outputId": "2c538163-af44-4e64-e82e-354c0a5b9382",
        "colab": {
          "base_uri": "https://localhost:8080/",
          "height": 136
        }
      },
      "cell_type": "code",
      "source": [
        "!curl https://course.fast.ai/setup/colab | bash"
      ],
      "execution_count": 0,
      "outputs": [
        {
          "output_type": "stream",
          "text": [
            "  % Total    % Received % Xferd  Average Speed   Time    Time     Time  Current\n",
            "                                 Dload  Upload   Total   Spent    Left  Speed\n",
            "\r  0     0    0     0    0     0      0      0 --:--:-- --:--:-- --:--:--     0\r  0     0    0     0    0     0      0      0 --:--:-- --:--:-- --:--:--     0\r100   321  100   321    0     0    914      0 --:--:-- --:--:-- --:--:--   911\n",
            "Updating fastai...\n",
            "\u001b[31mfeaturetools 0.4.1 has requirement pandas>=0.23.0, but you'll have pandas 0.22.0 which is incompatible.\u001b[0m\n",
            "\u001b[31malbumentations 0.1.12 has requirement imgaug<0.2.7,>=0.2.5, but you'll have imgaug 0.2.8 which is incompatible.\u001b[0m\n",
            "Done.\n"
          ],
          "name": "stdout"
        }
      ]
    },
    {
      "metadata": {
        "id": "mXBDMFylGi-C",
        "colab_type": "text"
      },
      "cell_type": "markdown",
      "source": [
        "## Setup"
      ]
    },
    {
      "metadata": {
        "id": "Oc74kVZsj0i9",
        "colab_type": "code",
        "colab": {}
      },
      "cell_type": "code",
      "source": [
        "%reload_ext autoreload\n",
        "%autoreload 2\n",
        "%matplotlib inline"
      ],
      "execution_count": 0,
      "outputs": []
    },
    {
      "metadata": {
        "id": "NSenPLtrj7J0",
        "colab_type": "code",
        "colab": {}
      },
      "cell_type": "code",
      "source": [
        "from fastai.text import *"
      ],
      "execution_count": 0,
      "outputs": []
    },
    {
      "metadata": {
        "id": "F0anHUa7kBj9",
        "colab_type": "text"
      },
      "cell_type": "markdown",
      "source": [
        "# IMDB rating classification "
      ]
    },
    {
      "metadata": {
        "id": "xrAguO3bkHkv",
        "colab_type": "text"
      },
      "cell_type": "markdown",
      "source": [
        "## Dataset\n",
        "\n",
        "The [dataset](http://ai.stanford.edu/~amaas/data/sentiment/) has been curated by Andrew Maas et al. and contains a total of 100,000 reviews on IMDB. 25,000 of them are labelled as positive and negative for training, another 25,000 are labelled for testing (in both cases they are highly polarized). The remaning 50,000 is an additional unlabelled data (but we will find a use for it nonetheless).\n",
        "\n",
        "We'll begin with a sample we've prepared for you, so that things run quickly before going over the full dataset.\n"
      ]
    },
    {
      "metadata": {
        "id": "9eydiXzskAf_",
        "colab_type": "code",
        "outputId": "e1b5dfa4-37ec-449d-a6ae-4e65776f7117",
        "colab": {
          "base_uri": "https://localhost:8080/",
          "height": 34
        }
      },
      "cell_type": "code",
      "source": [
        "path = untar_data(URLs.IMDB_SAMPLE)\n",
        "path.ls()"
      ],
      "execution_count": 0,
      "outputs": [
        {
          "output_type": "execute_result",
          "data": {
            "text/plain": [
              "[PosixPath('/root/.fastai/data/imdb_sample/texts.csv')]"
            ]
          },
          "metadata": {
            "tags": []
          },
          "execution_count": 4
        }
      ]
    },
    {
      "metadata": {
        "id": "p390wc1VkX1d",
        "colab_type": "code",
        "outputId": "aeb3f897-0abf-4cc0-a1f3-21ed2686aefb",
        "colab": {
          "base_uri": "https://localhost:8080/",
          "height": 204
        }
      },
      "cell_type": "code",
      "source": [
        "df = pd.read_csv(path/\"texts.csv\")\n",
        "df.head()"
      ],
      "execution_count": 0,
      "outputs": [
        {
          "output_type": "execute_result",
          "data": {
            "text/html": [
              "<div>\n",
              "<style scoped>\n",
              "    .dataframe tbody tr th:only-of-type {\n",
              "        vertical-align: middle;\n",
              "    }\n",
              "\n",
              "    .dataframe tbody tr th {\n",
              "        vertical-align: top;\n",
              "    }\n",
              "\n",
              "    .dataframe thead th {\n",
              "        text-align: right;\n",
              "    }\n",
              "</style>\n",
              "<table border=\"1\" class=\"dataframe\">\n",
              "  <thead>\n",
              "    <tr style=\"text-align: right;\">\n",
              "      <th></th>\n",
              "      <th>label</th>\n",
              "      <th>text</th>\n",
              "      <th>is_valid</th>\n",
              "    </tr>\n",
              "  </thead>\n",
              "  <tbody>\n",
              "    <tr>\n",
              "      <th>0</th>\n",
              "      <td>negative</td>\n",
              "      <td>Un-bleeping-believable! Meg Ryan doesn't even ...</td>\n",
              "      <td>False</td>\n",
              "    </tr>\n",
              "    <tr>\n",
              "      <th>1</th>\n",
              "      <td>positive</td>\n",
              "      <td>This is a extremely well-made film. The acting...</td>\n",
              "      <td>False</td>\n",
              "    </tr>\n",
              "    <tr>\n",
              "      <th>2</th>\n",
              "      <td>negative</td>\n",
              "      <td>Every once in a long while a movie will come a...</td>\n",
              "      <td>False</td>\n",
              "    </tr>\n",
              "    <tr>\n",
              "      <th>3</th>\n",
              "      <td>positive</td>\n",
              "      <td>Name just says it all. I watched this movie wi...</td>\n",
              "      <td>False</td>\n",
              "    </tr>\n",
              "    <tr>\n",
              "      <th>4</th>\n",
              "      <td>negative</td>\n",
              "      <td>This movie succeeds at being one of the most u...</td>\n",
              "      <td>False</td>\n",
              "    </tr>\n",
              "  </tbody>\n",
              "</table>\n",
              "</div>"
            ],
            "text/plain": [
              "      label                                               text  is_valid\n",
              "0  negative  Un-bleeping-believable! Meg Ryan doesn't even ...     False\n",
              "1  positive  This is a extremely well-made film. The acting...     False\n",
              "2  negative  Every once in a long while a movie will come a...     False\n",
              "3  positive  Name just says it all. I watched this movie wi...     False\n",
              "4  negative  This movie succeeds at being one of the most u...     False"
            ]
          },
          "metadata": {
            "tags": []
          },
          "execution_count": 6
        }
      ]
    },
    {
      "metadata": {
        "id": "PUp9KZbckwG4",
        "colab_type": "code",
        "outputId": "ac522ade-be98-4dc5-8603-d11f9533d842",
        "colab": {
          "base_uri": "https://localhost:8080/",
          "height": 54
        }
      },
      "cell_type": "code",
      "source": [
        "df[\"text\"][0]"
      ],
      "execution_count": 0,
      "outputs": [
        {
          "output_type": "execute_result",
          "data": {
            "text/plain": [
              "\"Un-bleeping-believable! Meg Ryan doesn't even look her usual pert lovable self in this, which normally makes me forgive her shallow ticky acting schtick. Hard to believe she was the producer on this dog. Plus Kevin Kline: what kind of suicide trip has his career been on? Whoosh... Banzai!!! Finally this was directed by the guy who did Big Chill? Must be a replay of Jonestown - hollywood style. Wooofff!\""
            ]
          },
          "metadata": {
            "tags": []
          },
          "execution_count": 8
        }
      ]
    },
    {
      "metadata": {
        "id": "UKsPUghWlBGQ",
        "colab_type": "text"
      },
      "cell_type": "markdown",
      "source": [
        "It contains one line per review, with the label ('negative' or 'positive'), the text and a flag to determine if it should be part of the validation set or the training set. If we ignore this flag, we can create a DataBunch containing this data in one line of code:"
      ]
    },
    {
      "metadata": {
        "id": "GIDmI0W1k6Cf",
        "colab_type": "code",
        "colab": {}
      },
      "cell_type": "code",
      "source": [
        "data_lm = TextDataBunch.from_csv(path, 'texts.csv')"
      ],
      "execution_count": 0,
      "outputs": []
    },
    {
      "metadata": {
        "id": "fsyX2Amymh3X",
        "colab_type": "text"
      },
      "cell_type": "markdown",
      "source": [
        "By executing this line a process was launched that took a bit of time. Let's dig a bit into it. Images could be fed (almost) directly into a model because they're just a big array of pixel values that are floats between 0 and 1. A text is composed of words, and we can't apply mathematical functions to them directly. We first have to convert them to numbers. This is done in two differents steps: tokenization and numericalization. A `TextDataBunch` does all of that behind the scenes for you."
      ]
    },
    {
      "metadata": {
        "id": "fH4tNE_elYv-",
        "colab_type": "code",
        "colab": {}
      },
      "cell_type": "code",
      "source": [
        "data_lm.save()"
      ],
      "execution_count": 0,
      "outputs": []
    },
    {
      "metadata": {
        "id": "5ftwozf2mkcQ",
        "colab_type": "code",
        "outputId": "f81b0865-5468-499f-9752-5b58f5d58391",
        "colab": {
          "base_uri": "https://localhost:8080/",
          "height": 51
        }
      },
      "cell_type": "code",
      "source": [
        "path.ls()"
      ],
      "execution_count": 0,
      "outputs": [
        {
          "output_type": "execute_result",
          "data": {
            "text/plain": [
              "[PosixPath('/root/.fastai/data/imdb_sample/texts.csv'),\n",
              " PosixPath('/root/.fastai/data/imdb_sample/data_save.pkl')]"
            ]
          },
          "metadata": {
            "tags": []
          },
          "execution_count": 11
        }
      ]
    },
    {
      "metadata": {
        "id": "2s94UrtLmtlv",
        "colab_type": "code",
        "colab": {}
      },
      "cell_type": "code",
      "source": [
        "data = load_data(path)"
      ],
      "execution_count": 0,
      "outputs": []
    },
    {
      "metadata": {
        "id": "HhDVSmDCnJ0f",
        "colab_type": "text"
      },
      "cell_type": "markdown",
      "source": [
        "### Tokenization"
      ]
    },
    {
      "metadata": {
        "id": "LLh0XvJwnNn7",
        "colab_type": "text"
      },
      "cell_type": "markdown",
      "source": [
        "The first step of processing we make the texts go through is to split the raw sentences into words, or more exactly tokens. The easiest way to do this would be to split the string on spaces, but we can be smarter:\n",
        "\n",
        "- we need to take care of punctuation\n",
        "- some words are contractions of two different words, like isn't or don't\n",
        "- we may need to clean some parts of our texts, if there's HTML code for instance\n",
        "\n",
        "To see what the tokenizer had done behind the scenes, let's have a look at a few texts in a batch."
      ]
    },
    {
      "metadata": {
        "id": "49u2LocHnFG6",
        "colab_type": "code",
        "colab": {}
      },
      "cell_type": "code",
      "source": [
        "data = TextClasDataBunch.from_csv(path, \"texts.csv\")"
      ],
      "execution_count": 0,
      "outputs": []
    },
    {
      "metadata": {
        "id": "l8K3t5ZSoD3v",
        "colab_type": "code",
        "outputId": "3ec15db8-e06a-4808-fdc4-d45ca5f92057",
        "colab": {
          "base_uri": "https://localhost:8080/",
          "height": 289
        }
      },
      "cell_type": "code",
      "source": [
        "data.show_batch()"
      ],
      "execution_count": 0,
      "outputs": [
        {
          "output_type": "display_data",
          "data": {
            "text/html": [
              "<table border=\"1\" class=\"dataframe\">\n",
              "  <thead>\n",
              "    <tr style=\"text-align: right;\">\n",
              "      <th>text</th>\n",
              "      <th>target</th>\n",
              "    </tr>\n",
              "  </thead>\n",
              "  <tbody>\n",
              "    <tr>\n",
              "      <td>xxbos xxmaj raising xxmaj victor xxmaj vargas : a xxmaj review \\n \\n  xxmaj you know , xxmaj raising xxmaj victor xxmaj vargas is like sticking your hands into a big , steaming bowl of xxunk . xxmaj it 's warm and gooey , but you 're not sure if it feels right . xxmaj try as i might , no matter how warm and gooey xxmaj raising xxmaj</td>\n",
              "      <td>negative</td>\n",
              "    </tr>\n",
              "    <tr>\n",
              "      <td>xxbos xxup the xxup shop xxup around xxup the xxup corner is one of the sweetest and most feel - good romantic comedies ever made . xxmaj there 's just no getting around that , and it 's hard to actually put one 's feeling for this film into words . xxmaj it 's not one of those films that tries too hard , nor does it come up with</td>\n",
              "      <td>positive</td>\n",
              "    </tr>\n",
              "    <tr>\n",
              "      <td>xxbos xxmaj now that xxmaj che(2008 ) has finished its relatively short xxmaj australian cinema run ( extremely limited xxunk screen in xxmaj sydney , after xxunk ) , i can xxunk join both xxunk of \" xxmaj at xxmaj the xxmaj movies \" in taking xxmaj steven xxmaj soderbergh to task . \\n \\n  xxmaj it 's usually satisfying to watch a film director change his style /</td>\n",
              "      <td>negative</td>\n",
              "    </tr>\n",
              "    <tr>\n",
              "      <td>xxbos i really wanted to love this show . i truly , honestly did . \\n \\n  xxmaj for the first time , gay viewers get their own version of the \" xxmaj the xxmaj bachelor \" . xxmaj with the help of his obligatory \" hag \" xxmaj xxunk , xxmaj james , a good looking , well - to - do thirty - something has the chance</td>\n",
              "      <td>negative</td>\n",
              "    </tr>\n",
              "    <tr>\n",
              "      <td>xxbos xxmaj to review this movie , i without any doubt would have to quote that memorable scene in xxmaj tarantino 's \" xxmaj pulp xxmaj fiction \" ( xxunk ) when xxmaj jules and xxmaj vincent are talking about xxmaj mia xxmaj wallace and what she does for a living . xxmaj jules tells xxmaj vincent that the \" xxmaj only thing she did worthwhile was pilot \" .</td>\n",
              "      <td>negative</td>\n",
              "    </tr>\n",
              "  </tbody>\n",
              "</table>"
            ],
            "text/plain": [
              "<IPython.core.display.HTML object>"
            ]
          },
          "metadata": {
            "tags": []
          }
        }
      ]
    },
    {
      "metadata": {
        "id": "96ZJ7pBjpCaV",
        "colab_type": "text"
      },
      "cell_type": "markdown",
      "source": [
        "### Numericalization"
      ]
    },
    {
      "metadata": {
        "id": "Wj71DYPVpMQ2",
        "colab_type": "text"
      },
      "cell_type": "markdown",
      "source": [
        "Once we have extracted tokens from our texts, we convert to integers by creating a list of all the words used. We only keep the ones that appear at least twice with a maximum vocabulary size of 60,000 (by default) and replace the ones that don't make the cut by the unknown token `UNK`.\n",
        "\n",
        "The correspondance from ids to tokens is stored in the `vocab` attribute of our datasets, in a dictionary called `itos` (for int to string)."
      ]
    },
    {
      "metadata": {
        "id": "g7K9wyjaoHFQ",
        "colab_type": "code",
        "outputId": "27e58640-db9b-4fd8-cc36-496c5fdb42cb",
        "colab": {
          "base_uri": "https://localhost:8080/",
          "height": 187
        }
      },
      "cell_type": "code",
      "source": [
        "data.vocab.itos[:10]"
      ],
      "execution_count": 0,
      "outputs": [
        {
          "output_type": "execute_result",
          "data": {
            "text/plain": [
              "['xxunk',\n",
              " 'xxpad',\n",
              " 'xxbos',\n",
              " 'xxfld',\n",
              " 'xxmaj',\n",
              " 'xxup',\n",
              " 'xxrep',\n",
              " 'xxwrep',\n",
              " 'the',\n",
              " '.']"
            ]
          },
          "metadata": {
            "tags": []
          },
          "execution_count": 17
        }
      ]
    },
    {
      "metadata": {
        "id": "fL5OihKjpcTI",
        "colab_type": "code",
        "outputId": "4dd1b667-795c-483b-f005-d18c5c4c3f03",
        "colab": {
          "base_uri": "https://localhost:8080/",
          "height": 88
        }
      },
      "cell_type": "code",
      "source": [
        "data.train_ds[0][0]"
      ],
      "execution_count": 0,
      "outputs": [
        {
          "output_type": "execute_result",
          "data": {
            "text/plain": [
              "Text xxbos i have never posted a review before , but i had to do it for this film ! xxmaj this film is xxup so bad , i found myself trying to justify how bad it is by trying to think of it as xxunk or parody . xxmaj but it xxup xxunk xxmaj it is truly , un - self - xxunk xxup bad . xxmaj this is a serious attempt that xxunk gloriously . xxmaj other reviewers have pointed out the film 's many flaws , so i 'll try not to repeat these , but i do urge you to see this film . xxmaj throughout it i was either xxunk , literally xxunk with disbelief , or rolling on the floor in xxunk . i have n't had so much fun watching a film in years . xxmaj in fact , i 'm going to try to get all my friends to see it because it 's the kind of movie that needs to be shared . \n",
              " \n",
              "  xxmaj my favorite parts : -- xxmaj when xxmaj arthur xxunk to be a go - go boy ( his dancing is unbelievable ) -- xxmaj the gratuitous nudity ( the director / leading actor just had to get a nude shot in ) -- xxmaj the preacher 's office with its cardboard and xxunk rendition of xxmaj christ -- xxmaj of course , the famous wedding scene with the palm trees and the forgotten rings ( what narrative function does this play ? ! ? ) -- xxmaj the ex - wife 's xxunk match with xxmaj ben to get possession of her gun -- xxmaj the detailed sequence wherein xxmaj arthur kills the preacher ; he apparently burns him up with this incredibly xxunk match -- xxmaj yes , the gay religious - fanatic brother with his xxunk hair and xxunk xxunk -- xxmaj and , my favorite , the use of xxmaj xxunk 's \" xxmaj the xxmaj xxunk \" as the opening soundtrack and \" xxmaj xxunk 's xxmaj canon in d xxmaj major \" as the closing soundtrack ! -- the list goes on and on -- a xxup must xxup see ! ! !"
            ]
          },
          "metadata": {
            "tags": []
          },
          "execution_count": 21
        }
      ]
    },
    {
      "metadata": {
        "id": "yuoB3kuPp0lw",
        "colab_type": "code",
        "outputId": "01896170-015d-4c0e-a7f7-935d0278c5d2",
        "colab": {
          "base_uri": "https://localhost:8080/",
          "height": 34
        }
      },
      "cell_type": "code",
      "source": [
        "data.train_ds[0][0].data[:10]"
      ],
      "execution_count": 0,
      "outputs": [
        {
          "output_type": "execute_result",
          "data": {
            "text/plain": [
              "array([   2,   18,   41,  121, 6020,   12,  566,  166,   10,   30])"
            ]
          },
          "metadata": {
            "tags": []
          },
          "execution_count": 25
        }
      ]
    },
    {
      "metadata": {
        "id": "2bZ0JySLqB8G",
        "colab_type": "code",
        "colab": {}
      },
      "cell_type": "code",
      "source": [
        "data = (TextList.from_csv(path, 'texts.csv', cols='text')\n",
        "                .split_from_df(col=2)\n",
        "                .label_from_df(cols=0)\n",
        "                .databunch())"
      ],
      "execution_count": 0,
      "outputs": []
    },
    {
      "metadata": {
        "id": "4wj02zfhs0MB",
        "colab_type": "text"
      },
      "cell_type": "markdown",
      "source": [
        "## Build Language model"
      ]
    },
    {
      "metadata": {
        "id": "2O7Uv5pqsxam",
        "colab_type": "code",
        "colab": {}
      },
      "cell_type": "code",
      "source": [
        "# batch size\n",
        "bs = 24 "
      ],
      "execution_count": 0,
      "outputs": []
    },
    {
      "metadata": {
        "id": "uDS3BO9Nuce2",
        "colab_type": "code",
        "outputId": "5a2f0ff6-fade-4ad5-9a5b-12a153d5b456",
        "colab": {
          "base_uri": "https://localhost:8080/",
          "height": 136
        }
      },
      "cell_type": "code",
      "source": [
        "path = untar_data(URLs.IMDB)\n",
        "path.ls()"
      ],
      "execution_count": 0,
      "outputs": [
        {
          "output_type": "execute_result",
          "data": {
            "text/plain": [
              "[PosixPath('/root/.fastai/data/imdb/train'),\n",
              " PosixPath('/root/.fastai/data/imdb/tmp_clas'),\n",
              " PosixPath('/root/.fastai/data/imdb/README'),\n",
              " PosixPath('/root/.fastai/data/imdb/imdb.vocab'),\n",
              " PosixPath('/root/.fastai/data/imdb/test'),\n",
              " PosixPath('/root/.fastai/data/imdb/tmp_lm'),\n",
              " PosixPath('/root/.fastai/data/imdb/unsup')]"
            ]
          },
          "metadata": {
            "tags": []
          },
          "execution_count": 5
        }
      ]
    },
    {
      "metadata": {
        "id": "zPe6RXD3ueNr",
        "colab_type": "code",
        "outputId": "e1930399-35bc-4f3d-8347-cff06692a435",
        "colab": {
          "base_uri": "https://localhost:8080/",
          "height": 85
        }
      },
      "cell_type": "code",
      "source": [
        "(path/'train').ls()"
      ],
      "execution_count": 0,
      "outputs": [
        {
          "output_type": "execute_result",
          "data": {
            "text/plain": [
              "[PosixPath('/content/data/imdb/train/pos'),\n",
              " PosixPath('/content/data/imdb/train/unsupBow.feat'),\n",
              " PosixPath('/content/data/imdb/train/labeledBow.feat'),\n",
              " PosixPath('/content/data/imdb/train/neg')]"
            ]
          },
          "metadata": {
            "tags": []
          },
          "execution_count": 8
        }
      ]
    },
    {
      "metadata": {
        "id": "hapkXpj3utUe",
        "colab_type": "code",
        "colab": {}
      },
      "cell_type": "code",
      "source": [
        "data_lm = (TextList.from_folder(path)\n",
        "           #Inputs: all the text files in path\n",
        "            .filter_by_folder(include=['train', 'test', 'unsup']) \n",
        "           #We may have other temp folders that contain text files so we only keep what's in train and test\n",
        "            .split_by_rand_pct(0.1)\n",
        "           #We randomly split and keep 10% (10,000 reviews) for validation\n",
        "            .label_for_lm()           \n",
        "           #We want to do a language model so we label accordingly\n",
        "            .databunch(bs=bs))\n",
        "data_lm.save('data_lm.pkl')"
      ],
      "execution_count": 0,
      "outputs": []
    },
    {
      "metadata": {
        "id": "dVtONIB-uuOV",
        "colab_type": "code",
        "outputId": "68f00f36-6517-4c92-ede5-8cb9bbe2ffc9",
        "colab": {
          "base_uri": "https://localhost:8080/",
          "height": 374
        }
      },
      "cell_type": "code",
      "source": [
        "data_lm.show_batch()"
      ],
      "execution_count": 0,
      "outputs": [
        {
          "output_type": "display_data",
          "data": {
            "text/html": [
              "<table border=\"1\" class=\"dataframe\">\n",
              "  <thead>\n",
              "    <tr style=\"text-align: right;\">\n",
              "      <th>idx</th>\n",
              "      <th>text</th>\n",
              "    </tr>\n",
              "  </thead>\n",
              "  <tbody>\n",
              "    <tr>\n",
              "      <td>0</td>\n",
              "      <td>playing an actual role ... a task made easier because he 's playing himself in a fictional story that gives him a chance to croon a few numbers . \\n \\n  xxmaj sinatra 's entrance is quite funny . xxmaj michele xxmaj morgan hears a knock at the door , and asks who 's there . xxmaj from outside , a xxmaj hoboken - toned voice answers ' xxmaj</td>\n",
              "    </tr>\n",
              "    <tr>\n",
              "      <td>1</td>\n",
              "      <td>surface some odd recollections . xxmaj memory - narrative , xxmaj resnais creates . \\n \\n  --polarisdib xxbos xxmaj on this 4th of xxmaj july weekend it 's heartening to see the spirit of the xxmaj declaration of xxmaj independence alive and well in the film \" xxmaj war , xxmaj inc. \" xxmaj just as our founding fathers gave the back of their collective hand to xxmaj king</td>\n",
              "    </tr>\n",
              "    <tr>\n",
              "      <td>2</td>\n",
              "      <td>sweetheart of xxmaj jenny , xxmaj professor xxmaj bedlam ( xxmaj eddie xxmaj izzard ) , proposes xxmaj matt to lure xxmaj jenny to strip her superpowers . \\n \\n  \" xxmaj my xxmaj super xxmaj ex - xxmaj girlfriend \" is delightfully silly and funny . xxmaj this romantic comedy - adventure has many hilarious moments and is very entertaining . xxmaj luke xxmaj wilson is great in</td>\n",
              "    </tr>\n",
              "    <tr>\n",
              "      <td>3</td>\n",
              "      <td>father , about his two sons , and about their destinies . xxmaj with shocking twist after shocking twist , this film never allows for a lull in the plot . xxmaj bill xxmaj paxton plays the father , but the most notable performances are that of his older son , xxmaj fenton , played by xxmaj matthew o'leary and his younger son , xxmaj adam , played by xxmaj</td>\n",
              "    </tr>\n",
              "    <tr>\n",
              "      <td>4</td>\n",
              "      <td>facts and figures , and always wanted things to be seen as they were so i would like to believe he had something to do with that . \\n \\n  xxmaj he currently lives in xxmaj okinawa , xxmaj japan , married to my mother for over 40 years ( ironically , she 's xxmaj japanese ) , and a few years ago was awarded one of the highest</td>\n",
              "    </tr>\n",
              "  </tbody>\n",
              "</table>"
            ],
            "text/plain": [
              "<IPython.core.display.HTML object>"
            ]
          },
          "metadata": {
            "tags": []
          }
        }
      ]
    },
    {
      "metadata": {
        "id": "BUK_zSGoevTP",
        "colab_type": "code",
        "colab": {}
      },
      "cell_type": "code",
      "source": [
        "learn = language_model_learner(data_lm, AWD_LSTM, drop_mult=0.3)"
      ],
      "execution_count": 0,
      "outputs": []
    },
    {
      "metadata": {
        "id": "MycdG_m8fCJv",
        "colab_type": "code",
        "outputId": "aa907ee7-8b67-47fe-e0f1-0bf455ca9103",
        "colab": {
          "base_uri": "https://localhost:8080/",
          "height": 34
        }
      },
      "cell_type": "code",
      "source": [
        "learn.lr_find()"
      ],
      "execution_count": 0,
      "outputs": [
        {
          "output_type": "display_data",
          "data": {
            "text/html": [
              ""
            ],
            "text/plain": [
              "<IPython.core.display.HTML object>"
            ]
          },
          "metadata": {
            "tags": []
          }
        },
        {
          "output_type": "stream",
          "text": [
            "LR Finder is complete, type {learner_name}.recorder.plot() to see the graph.\n"
          ],
          "name": "stdout"
        }
      ]
    },
    {
      "metadata": {
        "id": "GYQj4mF8fBnB",
        "colab_type": "code",
        "outputId": "02406ada-d735-4a97-d66f-09eb95d3cd3d",
        "colab": {
          "base_uri": "https://localhost:8080/",
          "height": 279
        }
      },
      "cell_type": "code",
      "source": [
        "learn.recorder.plot(skip_end=15)"
      ],
      "execution_count": 0,
      "outputs": [
        {
          "output_type": "display_data",
          "data": {
            "image/png": "[encoded data removed]",
            "text/plain": [
              "<Figure size 432x288 with 1 Axes>"
            ]
          },
          "metadata": {
            "tags": []
          }
        }
      ]
    },
    {
      "metadata": {
        "id": "82t44qL7fhCR",
        "colab_type": "code",
        "outputId": "59f6d36e-7081-4722-a32e-26e69ea9f669",
        "colab": {
          "base_uri": "https://localhost:8080/",
          "height": 103
        }
      },
      "cell_type": "code",
      "source": [
        "learn.fit_one_cycle(1, 1e-2, moms=(0.8,0.7))"
      ],
      "execution_count": 0,
      "outputs": [
        {
          "output_type": "display_data",
          "data": {
            "text/html": [
              "Total time: 1:29:53 <p><table border=\"1\" class=\"dataframe\">\n",
              "  <thead>\n",
              "    <tr style=\"text-align: left;\">\n",
              "      <th>epoch</th>\n",
              "      <th>train_loss</th>\n",
              "      <th>valid_loss</th>\n",
              "      <th>accuracy</th>\n",
              "      <th>time</th>\n",
              "    </tr>\n",
              "  </thead>\n",
              "  <tbody>\n",
              "    <tr>\n",
              "      <td>0</td>\n",
              "      <td>4.231979</td>\n",
              "      <td>4.055971</td>\n",
              "      <td>0.293152</td>\n",
              "      <td>1:29:53</td>\n",
              "    </tr>\n",
              "  </tbody>\n",
              "</table>"
            ],
            "text/plain": [
              "<IPython.core.display.HTML object>"
            ]
          },
          "metadata": {
            "tags": []
          }
        }
      ]
    },
    {
      "metadata": {
        "id": "wesvFysTf1_K",
        "colab_type": "code",
        "colab": {}
      },
      "cell_type": "code",
      "source": [
        "learn.save(\"stage-1\")"
      ],
      "execution_count": 0,
      "outputs": []
    },
    {
      "metadata": {
        "id": "V8h0YmRwpIiL",
        "colab_type": "code",
        "outputId": "c9487c0e-e718-4a52-9780-2491612722fc",
        "colab": {
          "base_uri": "https://localhost:8080/",
          "height": 3437
        }
      },
      "cell_type": "code",
      "source": [
        "learn.load(\"stage-1\")"
      ],
      "execution_count": 0,
      "outputs": [
        {
          "output_type": "execute_result",
          "data": {
            "text/plain": [
              "LanguageLearner(data=TextLMDataBunch;\n",
              "\n",
              "Train: LabelList (90000 items)\n",
              "x: LMTextList\n",
              "xxbos xxmaj in xxmaj frank xxmaj sinatra 's first three films , he was purely a speciality act : ostensibly playing himself , he merely shows up to croon a song during a nightclub sequence in somebody else 's movie . xxmaj in his fourth film , the very enjoyable ' xxmaj higher and xxmaj higher ' , xxmaj young xxmaj blue xxmaj eyes transitions into an acting career by playing an actual role ... a task made easier because he 's playing himself in a fictional story that gives him a chance to croon a few numbers . \n",
              " \n",
              "  xxmaj sinatra 's entrance is quite funny . xxmaj michele xxmaj morgan hears a knock at the door , and asks who 's there . xxmaj from outside , a xxmaj hoboken - toned voice answers ' xxmaj frank xxmaj sinatra ' . xxmaj sure enough ... \n",
              " \n",
              "  xxmaj the opening credits of ' xxmaj higher and xxmaj higher ' may confuse some viewers , as the names of songwriters xxmaj rodgers and xxmaj hart are prominently displayed . xxmaj in fact , they only contributed one song to this musical : ' xxmaj disgustingly xxmaj rich ' , which this cast manage to toss off as a sort of intro to an entirely different song , ' i 'm a xxmaj debutante ' . xxmaj interestingly , that xxmaj rodgers & xxmaj hart song -- one of their weakest -- is perhaps the least enjoyable song in this movie 's score ; several others are lively up - tempo numbers , notably ' xxmaj it 's a xxmaj most xxmaj important xxmaj affair ' , ' xxmaj when xxmaj it xxmaj comes to xxmaj love , xxmaj you 're xxmaj on xxmaj your xxmaj own ' and ' i xxmaj saw xxmaj you xxmaj first ' . \n",
              " \n",
              "  xxmaj sinatra 's good in this movie , but he would do better work ( and sing better material ) elsewhere . xxmaj the real merits of ' xxmaj higher and xxmaj higher ' are the delightful turns by some performers who rarely made films . xxmaj paul and xxmaj grace xxmaj hartman were an extremely popular husband - wife dance team who starred in several xxmaj broadway revues : genuinely graceful ballroom dancers , they put plenty of physical comedy into their dance material . ( xxmaj here , xxmaj grace does a high kick that knocks a shoe out of xxmaj paul 's hands . ) xxmaj grace xxmaj hartman , who died of cancer at age 48 , did almost no film work , so it 's a real pleasure that this film gives us a rare chance to see her close - up , to hear her beautiful singing voice and to notice how sexy she looks in her maid 's uniform . xxmaj after xxmaj grace xxmaj hartman 's death , her husband had a long career as a character actor , just occasionally dancing solo . ( xxmaj or alongside xxmaj ken xxmaj berry in one memorable episode of ' xxmaj mayberry xxup rfd ' . ) \n",
              " \n",
              "  xxmaj also quite attractive in a maid 's uniform here in ' xxmaj higher and xxmaj higher ' is the vivacious teenage singer xxmaj marcy mcguire . xxmaj why did n't this talented girl make more movies ? xxmaj perhaps she was just a bit too similar in personality to xxmaj betty xxmaj hutton . i enjoy xxmaj hutton 's performances but i like xxmaj marcy mcguire even better . xxmaj near the end of ' xxmaj higher and xxmaj higher ' there 's an amusing bit of physical business featuring mcguire and xxmaj mary xxmaj wickes as waitresses , taking it in turns to move from table to table in a nightclub . xxmaj the alternating strides of short mcguire and tall gawky xxmaj wickes are hilarious ! xxmaj regrettably , although xxmaj leon xxmaj errol plays a large role in ' xxmaj higher and xxmaj higher ' , he is given almost no comedy business : not once does he do his famous rubber - legged dance . xxmaj jack xxmaj haley , despite his prominent billing , is also wasted . \n",
              " \n",
              "  xxmaj very well - represented here is xxmaj dooley xxmaj wilson , inevitably remembered as xxmaj sam from ' xxmaj casablanca ' . xxmaj in that film , xxmaj wilson did his own singing but faked his keyboard performance of ' xxmaj as xxmaj time xxmaj goes xxmaj by ' . ( xxmaj in real life , xxmaj wilson could n't play piano . ) xxmaj here in ' xxmaj higher and xxmaj higher ' , he sings pleasingly and gives some amusing reactions to the other players . xxmaj less enjoyable is xxmaj mel xxmaj odious , i mean xxmaj mel xxmaj torme . xxmaj victor xxmaj borge gives a rare film performance here , handling his dialogue deftly but never doing any of the keyboard comedy which he later did successfully in his stage shows . \n",
              " \n",
              "  xxmaj the plot ? xxmaj forget it . ' xxmaj higher and xxmaj higher ' is nobody 's idea of a ' great ' musical , but it 's an enjoyable delight , and i 'll rate it 8 out of 10 . xxmaj director xxmaj tim xxmaj whelan , who worked in xxmaj britain as well as in xxmaj hollywood , deserves to be much better known .,xxbos xxmaj as predictable as a xxmaj hallmark card , but not without merit , xxmaj the xxmaj rookie makes for a solid outing . xxmaj dennis xxmaj quaid , the most reasonable jock actor working today , is absolutely perfect as the science teacher turned baseball player xxmaj jimmy xxmaj morris . xxmaj the film is never dumbed down for the children , as would be expected from a g rated film . xxmaj as a sports film , xxmaj the xxmaj rookie is one of the best i have seen since xxmaj any xxmaj given xxmaj sunday .,xxbos xxmaj this cool xxmaj marvel superhero game pays proper tribute by staying true to the comics . xxmaj of all the xxmaj marvel superhero games that have been so lame with weak graphics and gameplay , xxmaj spiderman improves in both departments . xxmaj it also features the voice of xxmaj stan xxmaj lee , the creator of xxmaj spiderman comics . \n",
              " \n",
              "  xxmaj as you 'd expect xxmaj spiderman does whatever a spider can . xxmaj he does more than spin webs . xxmaj in fact , he uses them as weapons and shields . xxmaj when he 's not using web in combat , he punches and kicks as well . xxmaj spidey has his hands full as he battles xxmaj venom , xxmaj rhino , xxmaj mysterio , xxmaj scorpion , and xxmaj dr. xxmaj octopus to name a few . xxmaj look for xxmaj captain xxmaj america in a cameo . \n",
              " \n",
              "  xxmaj most of the levels are challenging , but some of them require patience to beat . xxmaj the only complaint about this game is that it 's so short and can be completed in less than three hours . xxmaj if you 're a real xxmaj marvel superhero fan , this game is for you but do n't expect long gameplay . xxmaj better luck in \" xxmaj spiderman 2 . \" xxmaj my evaluation : 9 out of 10 .,xxbos xxmaj many of the criticisms on this thread seem to pick a comparison of this film with \" xxmaj the xxmaj mortal xxmaj storm \" or \" xxmaj casablanca \" . xxmaj everyone is entitled to compare films they choose , but the similarities of \" xxmaj the xxmaj mortal xxmaj storm \" and \" xxmaj watch xxmaj on xxmaj the xxmaj rhine \" are clearly the problems of refugees threatened by the xxmaj nazi juggernaut , while the main comparative point brought out with \" xxmaj casablanca \" is the seeming unjust treatment of xxmaj humphrey xxmaj bogart in 1943 by the xxmaj academy of xxmaj motion xxmaj picture xxmaj arts and xxmaj science , because they chose xxmaj paul xxmaj lukas instead for the xxmaj best xxmaj actor xxmaj oscar . xxmaj it does not strike me as totally wrong . xxmaj lukas had a good career in film ( both here and in xxmaj england - he is the villain in \" xxmaj the xxmaj lady xxmaj vanishes \" ) , and this performance was his best one . xxmaj bogart had more great performances in him than xxmaj rick xxmaj blaine ( for instance , he was ignored for xxmaj sam xxmaj spade in \" xxmaj the xxmaj maltese xxmaj falcon \" and xxmaj roy xxmaj earle in \" xxmaj high xxmaj sierra \" two years earlier , both of which were first rate performances , and he would not get an xxmaj oscar for his greatest performances as xxmaj fred xxup c. xxmaj dobbs in \" xxmaj the xxmaj treasure xxmaj of xxmaj sierra xxmaj xxunk \" , the writer / murder suspect in \" xxmaj in a xxmaj lonely xxmaj place \" , and xxmaj captain xxmaj philip xxmaj francis xxmaj queeg in \" xxmaj the xxmaj caine xxmaj mutiny \" afterward - he got it for xxmaj charley in \" xxmaj the xxmaj african xxmaj queen \" ) . i think that xxmaj bogie should have got it for the role of xxmaj dobbs , but it did not happen . xxmaj but xxmaj lukas was lucky - he got it on the defining performance of his lesser career . xxmaj few can claim that . \n",
              " \n",
              "  xxmaj to me the film to look at with \" xxmaj watch xxmaj on xxmaj the xxmaj rhine \" is based on another play / script by xxmaj hellman , \" xxmaj the xxmaj searching xxmaj wind \" . xxmaj they both look at xxmaj america 's spirit of isolationism in the 1920s and 1930s . \" xxmaj the xxmaj searching xxmaj wind \" is really looking at the whole inter - war period , while \" xxmaj watch xxmaj on xxmaj the xxmaj rhine \" , set in the years just proceeding our entry into xxmaj world xxmaj war xxup ii , deals with a few weeks of time . xxmaj therefore it is better constructed as a play , and more meaningful for it 's impact . \n",
              " \n",
              "  xxmaj the film has many good performances , led by xxmaj lukas as the exhausted but determined anti - xxmaj nazi fighter / courier , xxmaj davis as his loyal wife ( wisely keeping her character as low keyed as possible due to xxmaj lukas being the center of the play 's activities ) , xxmaj coulouris as the selfish , conniving , but ultimately foolish and ineffective xxmaj teck , xxmaj lucille xxmaj watson as the mother of xxmaj davis and xxmaj geraldine xxmaj fitzgerald ( as xxmaj coulouris ' wiser and sadder and fed up wife ) , and xxmaj kurt xxmaj katch , who delivers a devastating critique ( as the local embassy 's xxmaj gestapo chief ) about xxmaj coulouris and others who would deal with the xxmaj nazis . xxmaj it has dialog with bite in it . xxmaj and what it says is quite true . xxmaj it also has moments of near poetry . xxmaj witness the scene , towards the end , when xxmaj coulouris is left alone with xxmaj lukas and xxmaj davis , and says , \" xxmaj the xxmaj new xxmaj world has left the scene to the xxmaj old xxmaj world \" . xxmaj hellman could write very well at times . \n",
              " \n",
              "  xxmaj given the strength of the film script and performances i would rate this film highly among xxmaj world xxmaj war xxup ii films .,xxbos xxmaj melvyn xxmaj douglas once more gives a polished performance in which , this time , he inhabits the role of a detective who ca n't place love before duty and adventure , and the warmly beautiful xxmaj joan xxmaj blondell ( who , far from being illiterate , as one reviewer suggested , wrote a novel about her early life ) is as enjoyable as ever as his ever - suffering sweetheart . xxmaj it 's almost a screwball comedy , almost a xxmaj thin xxmaj man - type movie , almost a series , i guess , that did n't quite make it to a sequel . xxmaj it does n't quite reach classic status , but it has all the ingredients for a fun 85 minutes with an episodic but pacey script , fine character actors , and direction that keeps it all moving fast enough so that you nearly do n't notice that xxmaj williams ( xxmaj douglas ) is n't exactly xxmaj columbo when it comes to detecting . i wish there were more films like this .\n",
              "y: LMLabelList\n",
              ",,,,\n",
              "Path: /root/.fastai/data/imdb;\n",
              "\n",
              "Valid: LabelList (10000 items)\n",
              "x: LMTextList\n",
              "xxbos i think that even if i was not a huge fan of both leading men in this film , i would have loved it . xxmaj it was entirely impossible to turn the movie off . xxmaj it started off as a great concept and just got better with the characters ' humor and realism . i am currently recommending it to all my friends and family ( already a favorite of my mom , brother , niece , and nephew ) xxmaj thoroughly enjoyable .,xxbos xxmaj this is a great movie that everyone should see . xxmaj it plays like a xxmaj dean xxmaj koontz book . \n",
              " \n",
              "  xxmaj bill xxmaj paxton 's performance was great in that it really seems like he believes in what he is saying and doing . \n",
              " \n",
              "  i do n't know why viewers have to read in some kind of advocacy for religious murder in to the film . xxmaj it is fiction . xxmaj the ending is surprising , but fictional . xxmaj so what ? i think that is what makes this movie so good . xxup spoiler xxup do xxup not xxup read xxup further xxup if xxup you xxup xxunk xxup seen xxup the xxup movie . xxmaj throughout the movie , the viewer is continually shocked at the sickness of xxmaj paxton 's character , the impact on the children , and the way the children handle this outrageous conduct . xxmaj and then at the end , it turns out to be true . xxmaj god has put him on a mission to rid the world of demons . xxmaj paxton is not clairvoyant as other viewers suggest . xxmaj sure , he is given info that he could n't have known otherwise , but the movie goes further to show how xxmaj god is \" protecting \" xxmaj adam through the convenient video quality problem and the complete lack of memory of the second xxup fbi agent . xxmaj the film is n't advocating xxmaj christian murder , it is merely taking the viewer on a very unexpected ride .,xxbos i do n't want to write too much about the film but basically it 's an action / comedy with a little bit of romance thrown in about two men who come together in unlikely circumstances and become highway men together . xxmaj fantastic performance by xxmaj robert xxmaj xxunk and everybody else involved . a brilliant ' baddy ' who really makes you hate him . xxmaj some great comical lines - actually laugh out loud , amazing action and a great plot . xxmaj choice of music and ambiance all fantastic , basically brilliantly directed and xxunk written . i recommend this film to anyone who likes a good xxmaj british movie or a good bit of action , i do n't know why the film never took off , i thought it got no where near as much recognition as it deserved . xxmaj if for nothing else , watch this film for one of the greatest finale 's of all time . xxmaj not to give anything away , but this one really get 's the heart beating !,xxbos xxmaj brian xxmaj dennehy , xxmaj bill xxmaj paxton , xxmaj joe xxmaj xxunk and , best of all , xxmaj jeff xxmaj fahey , all in one film . xxmaj wow is all i can think to say about that . xxmaj these are four of the most underrated actors in the biz and they work beautifully together . xxmaj it 's like poetry the way they play off each other and ooze the natural ability to seem as though they had been best buddies for eons for even shooting the film . \n",
              " \n",
              "  xxmaj the film itself is fine and one that can be quite intense to view the first time , and the four stars help the re - watch - ability to a great extent . i can not describe how good it was to see xxmaj bill xxmaj paxton and xxmaj jeff xxmaj fahey together on screen , the greatest moment being when they watch a couple from a distance and fill in the vocals themselves , it almost brought a tear to my eyes . \n",
              " \n",
              "  a good film , a great cast , go see . xxmaj why ? xxmaj four words , xxmaj fahey , xxmaj dennehy , xxmaj paxton , xxmaj xxunk .,xxbos xxmaj why do people make bad movies ? xxmaj did n't anyone working on the picture know that what they were making had no point ? xxmaj there is something about this picture that threw me off , besides the fact that i found this \" movie \" to be unrealistic , pathetic , and xxup poorly xxup acted . i admire them for the try , but the \" actors \" in the movie at times seem to be trying to hard and no single character has substance or says anything mildly intelligent . xxmaj this movie deserves zero stars . xxmaj but i did not have that option , so it gets a 1 .\n",
              "y: LMLabelList\n",
              ",,,,\n",
              "Path: /root/.fastai/data/imdb;\n",
              "\n",
              "Test: None, model=SequentialRNN(\n",
              "  (0): AWD_LSTM(\n",
              "    (encoder): Embedding(60003, 400, padding_idx=1)\n",
              "    (encoder_dp): EmbeddingDropout(\n",
              "      (emb): Embedding(60003, 400, padding_idx=1)\n",
              "    )\n",
              "    (rnns): ModuleList(\n",
              "      (0): WeightDropout(\n",
              "        (module): LSTM(400, 1150, batch_first=True)\n",
              "      )\n",
              "      (1): WeightDropout(\n",
              "        (module): LSTM(1150, 1150, batch_first=True)\n",
              "      )\n",
              "      (2): WeightDropout(\n",
              "        (module): LSTM(1150, 400, batch_first=True)\n",
              "      )\n",
              "    )\n",
              "    (input_dp): RNNDropout()\n",
              "    (hidden_dps): ModuleList(\n",
              "      (0): RNNDropout()\n",
              "      (1): RNNDropout()\n",
              "      (2): RNNDropout()\n",
              "    )\n",
              "  )\n",
              "  (1): LinearDecoder(\n",
              "    (decoder): Linear(in_features=400, out_features=60003, bias=True)\n",
              "    (output_dp): RNNDropout()\n",
              "  )\n",
              "), opt_func=functools.partial(<class 'torch.optim.adam.Adam'>, betas=(0.9, 0.99)), loss_func=FlattenedLoss of CrossEntropyLoss(), metrics=[<function accuracy at 0x7fe9733e4e18>], true_wd=True, bn_wd=True, wd=0.01, train_bn=True, path=PosixPath('/root/.fastai/data/imdb'), model_dir='models', callback_fns=[functools.partial(<class 'fastai.basic_train.Recorder'>, add_time=True)], callbacks=[RNNTrainer\n",
              "learn: LanguageLearner(data=TextLMDataBunch;\n",
              "\n",
              "Train: LabelList (90000 items)\n",
              "x: LMTextList\n",
              "xxbos xxmaj in xxmaj frank xxmaj sinatra 's first three films , he was purely a speciality act : ostensibly playing himself , he merely shows up to croon a song during a nightclub sequence in somebody else 's movie . xxmaj in his fourth film , the very enjoyable ' xxmaj higher and xxmaj higher ' , xxmaj young xxmaj blue xxmaj eyes transitions into an acting career by playing an actual role ... a task made easier because he 's playing himself in a fictional story that gives him a chance to croon a few numbers . \n",
              " \n",
              "  xxmaj sinatra 's entrance is quite funny . xxmaj michele xxmaj morgan hears a knock at the door , and asks who 's there . xxmaj from outside , a xxmaj hoboken - toned voice answers ' xxmaj frank xxmaj sinatra ' . xxmaj sure enough ... \n",
              " \n",
              "  xxmaj the opening credits of ' xxmaj higher and xxmaj higher ' may confuse some viewers , as the names of songwriters xxmaj rodgers and xxmaj hart are prominently displayed . xxmaj in fact , they only contributed one song to this musical : ' xxmaj disgustingly xxmaj rich ' , which this cast manage to toss off as a sort of intro to an entirely different song , ' i 'm a xxmaj debutante ' . xxmaj interestingly , that xxmaj rodgers & xxmaj hart song -- one of their weakest -- is perhaps the least enjoyable song in this movie 's score ; several others are lively up - tempo numbers , notably ' xxmaj it 's a xxmaj most xxmaj important xxmaj affair ' , ' xxmaj when xxmaj it xxmaj comes to xxmaj love , xxmaj you 're xxmaj on xxmaj your xxmaj own ' and ' i xxmaj saw xxmaj you xxmaj first ' . \n",
              " \n",
              "  xxmaj sinatra 's good in this movie , but he would do better work ( and sing better material ) elsewhere . xxmaj the real merits of ' xxmaj higher and xxmaj higher ' are the delightful turns by some performers who rarely made films . xxmaj paul and xxmaj grace xxmaj hartman were an extremely popular husband - wife dance team who starred in several xxmaj broadway revues : genuinely graceful ballroom dancers , they put plenty of physical comedy into their dance material . ( xxmaj here , xxmaj grace does a high kick that knocks a shoe out of xxmaj paul 's hands . ) xxmaj grace xxmaj hartman , who died of cancer at age 48 , did almost no film work , so it 's a real pleasure that this film gives us a rare chance to see her close - up , to hear her beautiful singing voice and to notice how sexy she looks in her maid 's uniform . xxmaj after xxmaj grace xxmaj hartman 's death , her husband had a long career as a character actor , just occasionally dancing solo . ( xxmaj or alongside xxmaj ken xxmaj berry in one memorable episode of ' xxmaj mayberry xxup rfd ' . ) \n",
              " \n",
              "  xxmaj also quite attractive in a maid 's uniform here in ' xxmaj higher and xxmaj higher ' is the vivacious teenage singer xxmaj marcy mcguire . xxmaj why did n't this talented girl make more movies ? xxmaj perhaps she was just a bit too similar in personality to xxmaj betty xxmaj hutton . i enjoy xxmaj hutton 's performances but i like xxmaj marcy mcguire even better . xxmaj near the end of ' xxmaj higher and xxmaj higher ' there 's an amusing bit of physical business featuring mcguire and xxmaj mary xxmaj wickes as waitresses , taking it in turns to move from table to table in a nightclub . xxmaj the alternating strides of short mcguire and tall gawky xxmaj wickes are hilarious ! xxmaj regrettably , although xxmaj leon xxmaj errol plays a large role in ' xxmaj higher and xxmaj higher ' , he is given almost no comedy business : not once does he do his famous rubber - legged dance . xxmaj jack xxmaj haley , despite his prominent billing , is also wasted . \n",
              " \n",
              "  xxmaj very well - represented here is xxmaj dooley xxmaj wilson , inevitably remembered as xxmaj sam from ' xxmaj casablanca ' . xxmaj in that film , xxmaj wilson did his own singing but faked his keyboard performance of ' xxmaj as xxmaj time xxmaj goes xxmaj by ' . ( xxmaj in real life , xxmaj wilson could n't play piano . ) xxmaj here in ' xxmaj higher and xxmaj higher ' , he sings pleasingly and gives some amusing reactions to the other players . xxmaj less enjoyable is xxmaj mel xxmaj odious , i mean xxmaj mel xxmaj torme . xxmaj victor xxmaj borge gives a rare film performance here , handling his dialogue deftly but never doing any of the keyboard comedy which he later did successfully in his stage shows . \n",
              " \n",
              "  xxmaj the plot ? xxmaj forget it . ' xxmaj higher and xxmaj higher ' is nobody 's idea of a ' great ' musical , but it 's an enjoyable delight , and i 'll rate it 8 out of 10 . xxmaj director xxmaj tim xxmaj whelan , who worked in xxmaj britain as well as in xxmaj hollywood , deserves to be much better known .,xxbos xxmaj as predictable as a xxmaj hallmark card , but not without merit , xxmaj the xxmaj rookie makes for a solid outing . xxmaj dennis xxmaj quaid , the most reasonable jock actor working today , is absolutely perfect as the science teacher turned baseball player xxmaj jimmy xxmaj morris . xxmaj the film is never dumbed down for the children , as would be expected from a g rated film . xxmaj as a sports film , xxmaj the xxmaj rookie is one of the best i have seen since xxmaj any xxmaj given xxmaj sunday .,xxbos xxmaj this cool xxmaj marvel superhero game pays proper tribute by staying true to the comics . xxmaj of all the xxmaj marvel superhero games that have been so lame with weak graphics and gameplay , xxmaj spiderman improves in both departments . xxmaj it also features the voice of xxmaj stan xxmaj lee , the creator of xxmaj spiderman comics . \n",
              " \n",
              "  xxmaj as you 'd expect xxmaj spiderman does whatever a spider can . xxmaj he does more than spin webs . xxmaj in fact , he uses them as weapons and shields . xxmaj when he 's not using web in combat , he punches and kicks as well . xxmaj spidey has his hands full as he battles xxmaj venom , xxmaj rhino , xxmaj mysterio , xxmaj scorpion , and xxmaj dr. xxmaj octopus to name a few . xxmaj look for xxmaj captain xxmaj america in a cameo . \n",
              " \n",
              "  xxmaj most of the levels are challenging , but some of them require patience to beat . xxmaj the only complaint about this game is that it 's so short and can be completed in less than three hours . xxmaj if you 're a real xxmaj marvel superhero fan , this game is for you but do n't expect long gameplay . xxmaj better luck in \" xxmaj spiderman 2 . \" xxmaj my evaluation : 9 out of 10 .,xxbos xxmaj many of the criticisms on this thread seem to pick a comparison of this film with \" xxmaj the xxmaj mortal xxmaj storm \" or \" xxmaj casablanca \" . xxmaj everyone is entitled to compare films they choose , but the similarities of \" xxmaj the xxmaj mortal xxmaj storm \" and \" xxmaj watch xxmaj on xxmaj the xxmaj rhine \" are clearly the problems of refugees threatened by the xxmaj nazi juggernaut , while the main comparative point brought out with \" xxmaj casablanca \" is the seeming unjust treatment of xxmaj humphrey xxmaj bogart in 1943 by the xxmaj academy of xxmaj motion xxmaj picture xxmaj arts and xxmaj science , because they chose xxmaj paul xxmaj lukas instead for the xxmaj best xxmaj actor xxmaj oscar . xxmaj it does not strike me as totally wrong . xxmaj lukas had a good career in film ( both here and in xxmaj england - he is the villain in \" xxmaj the xxmaj lady xxmaj vanishes \" ) , and this performance was his best one . xxmaj bogart had more great performances in him than xxmaj rick xxmaj blaine ( for instance , he was ignored for xxmaj sam xxmaj spade in \" xxmaj the xxmaj maltese xxmaj falcon \" and xxmaj roy xxmaj earle in \" xxmaj high xxmaj sierra \" two years earlier , both of which were first rate performances , and he would not get an xxmaj oscar for his greatest performances as xxmaj fred xxup c. xxmaj dobbs in \" xxmaj the xxmaj treasure xxmaj of xxmaj sierra xxmaj xxunk \" , the writer / murder suspect in \" xxmaj in a xxmaj lonely xxmaj place \" , and xxmaj captain xxmaj philip xxmaj francis xxmaj queeg in \" xxmaj the xxmaj caine xxmaj mutiny \" afterward - he got it for xxmaj charley in \" xxmaj the xxmaj african xxmaj queen \" ) . i think that xxmaj bogie should have got it for the role of xxmaj dobbs , but it did not happen . xxmaj but xxmaj lukas was lucky - he got it on the defining performance of his lesser career . xxmaj few can claim that . \n",
              " \n",
              "  xxmaj to me the film to look at with \" xxmaj watch xxmaj on xxmaj the xxmaj rhine \" is based on another play / script by xxmaj hellman , \" xxmaj the xxmaj searching xxmaj wind \" . xxmaj they both look at xxmaj america 's spirit of isolationism in the 1920s and 1930s . \" xxmaj the xxmaj searching xxmaj wind \" is really looking at the whole inter - war period , while \" xxmaj watch xxmaj on xxmaj the xxmaj rhine \" , set in the years just proceeding our entry into xxmaj world xxmaj war xxup ii , deals with a few weeks of time . xxmaj therefore it is better constructed as a play , and more meaningful for it 's impact . \n",
              " \n",
              "  xxmaj the film has many good performances , led by xxmaj lukas as the exhausted but determined anti - xxmaj nazi fighter / courier , xxmaj davis as his loyal wife ( wisely keeping her character as low keyed as possible due to xxmaj lukas being the center of the play 's activities ) , xxmaj coulouris as the selfish , conniving , but ultimately foolish and ineffective xxmaj teck , xxmaj lucille xxmaj watson as the mother of xxmaj davis and xxmaj geraldine xxmaj fitzgerald ( as xxmaj coulouris ' wiser and sadder and fed up wife ) , and xxmaj kurt xxmaj katch , who delivers a devastating critique ( as the local embassy 's xxmaj gestapo chief ) about xxmaj coulouris and others who would deal with the xxmaj nazis . xxmaj it has dialog with bite in it . xxmaj and what it says is quite true . xxmaj it also has moments of near poetry . xxmaj witness the scene , towards the end , when xxmaj coulouris is left alone with xxmaj lukas and xxmaj davis , and says , \" xxmaj the xxmaj new xxmaj world has left the scene to the xxmaj old xxmaj world \" . xxmaj hellman could write very well at times . \n",
              " \n",
              "  xxmaj given the strength of the film script and performances i would rate this film highly among xxmaj world xxmaj war xxup ii films .,xxbos xxmaj melvyn xxmaj douglas once more gives a polished performance in which , this time , he inhabits the role of a detective who ca n't place love before duty and adventure , and the warmly beautiful xxmaj joan xxmaj blondell ( who , far from being illiterate , as one reviewer suggested , wrote a novel about her early life ) is as enjoyable as ever as his ever - suffering sweetheart . xxmaj it 's almost a screwball comedy , almost a xxmaj thin xxmaj man - type movie , almost a series , i guess , that did n't quite make it to a sequel . xxmaj it does n't quite reach classic status , but it has all the ingredients for a fun 85 minutes with an episodic but pacey script , fine character actors , and direction that keeps it all moving fast enough so that you nearly do n't notice that xxmaj williams ( xxmaj douglas ) is n't exactly xxmaj columbo when it comes to detecting . i wish there were more films like this .\n",
              "y: LMLabelList\n",
              ",,,,\n",
              "Path: /root/.fastai/data/imdb;\n",
              "\n",
              "Valid: LabelList (10000 items)\n",
              "x: LMTextList\n",
              "xxbos i think that even if i was not a huge fan of both leading men in this film , i would have loved it . xxmaj it was entirely impossible to turn the movie off . xxmaj it started off as a great concept and just got better with the characters ' humor and realism . i am currently recommending it to all my friends and family ( already a favorite of my mom , brother , niece , and nephew ) xxmaj thoroughly enjoyable .,xxbos xxmaj this is a great movie that everyone should see . xxmaj it plays like a xxmaj dean xxmaj koontz book . \n",
              " \n",
              "  xxmaj bill xxmaj paxton 's performance was great in that it really seems like he believes in what he is saying and doing . \n",
              " \n",
              "  i do n't know why viewers have to read in some kind of advocacy for religious murder in to the film . xxmaj it is fiction . xxmaj the ending is surprising , but fictional . xxmaj so what ? i think that is what makes this movie so good . xxup spoiler xxup do xxup not xxup read xxup further xxup if xxup you xxup xxunk xxup seen xxup the xxup movie . xxmaj throughout the movie , the viewer is continually shocked at the sickness of xxmaj paxton 's character , the impact on the children , and the way the children handle this outrageous conduct . xxmaj and then at the end , it turns out to be true . xxmaj god has put him on a mission to rid the world of demons . xxmaj paxton is not clairvoyant as other viewers suggest . xxmaj sure , he is given info that he could n't have known otherwise , but the movie goes further to show how xxmaj god is \" protecting \" xxmaj adam through the convenient video quality problem and the complete lack of memory of the second xxup fbi agent . xxmaj the film is n't advocating xxmaj christian murder , it is merely taking the viewer on a very unexpected ride .,xxbos i do n't want to write too much about the film but basically it 's an action / comedy with a little bit of romance thrown in about two men who come together in unlikely circumstances and become highway men together . xxmaj fantastic performance by xxmaj robert xxmaj xxunk and everybody else involved . a brilliant ' baddy ' who really makes you hate him . xxmaj some great comical lines - actually laugh out loud , amazing action and a great plot . xxmaj choice of music and ambiance all fantastic , basically brilliantly directed and xxunk written . i recommend this film to anyone who likes a good xxmaj british movie or a good bit of action , i do n't know why the film never took off , i thought it got no where near as much recognition as it deserved . xxmaj if for nothing else , watch this film for one of the greatest finale 's of all time . xxmaj not to give anything away , but this one really get 's the heart beating !,xxbos xxmaj brian xxmaj dennehy , xxmaj bill xxmaj paxton , xxmaj joe xxmaj xxunk and , best of all , xxmaj jeff xxmaj fahey , all in one film . xxmaj wow is all i can think to say about that . xxmaj these are four of the most underrated actors in the biz and they work beautifully together . xxmaj it 's like poetry the way they play off each other and ooze the natural ability to seem as though they had been best buddies for eons for even shooting the film . \n",
              " \n",
              "  xxmaj the film itself is fine and one that can be quite intense to view the first time , and the four stars help the re - watch - ability to a great extent . i can not describe how good it was to see xxmaj bill xxmaj paxton and xxmaj jeff xxmaj fahey together on screen , the greatest moment being when they watch a couple from a distance and fill in the vocals themselves , it almost brought a tear to my eyes . \n",
              " \n",
              "  a good film , a great cast , go see . xxmaj why ? xxmaj four words , xxmaj fahey , xxmaj dennehy , xxmaj paxton , xxmaj xxunk .,xxbos xxmaj why do people make bad movies ? xxmaj did n't anyone working on the picture know that what they were making had no point ? xxmaj there is something about this picture that threw me off , besides the fact that i found this \" movie \" to be unrealistic , pathetic , and xxup poorly xxup acted . i admire them for the try , but the \" actors \" in the movie at times seem to be trying to hard and no single character has substance or says anything mildly intelligent . xxmaj this movie deserves zero stars . xxmaj but i did not have that option , so it gets a 1 .\n",
              "y: LMLabelList\n",
              ",,,,\n",
              "Path: /root/.fastai/data/imdb;\n",
              "\n",
              "Test: None, model=SequentialRNN(\n",
              "  (0): AWD_LSTM(\n",
              "    (encoder): Embedding(60003, 400, padding_idx=1)\n",
              "    (encoder_dp): EmbeddingDropout(\n",
              "      (emb): Embedding(60003, 400, padding_idx=1)\n",
              "    )\n",
              "    (rnns): ModuleList(\n",
              "      (0): WeightDropout(\n",
              "        (module): LSTM(400, 1150, batch_first=True)\n",
              "      )\n",
              "      (1): WeightDropout(\n",
              "        (module): LSTM(1150, 1150, batch_first=True)\n",
              "      )\n",
              "      (2): WeightDropout(\n",
              "        (module): LSTM(1150, 400, batch_first=True)\n",
              "      )\n",
              "    )\n",
              "    (input_dp): RNNDropout()\n",
              "    (hidden_dps): ModuleList(\n",
              "      (0): RNNDropout()\n",
              "      (1): RNNDropout()\n",
              "      (2): RNNDropout()\n",
              "    )\n",
              "  )\n",
              "  (1): LinearDecoder(\n",
              "    (decoder): Linear(in_features=400, out_features=60003, bias=True)\n",
              "    (output_dp): RNNDropout()\n",
              "  )\n",
              "), opt_func=functools.partial(<class 'torch.optim.adam.Adam'>, betas=(0.9, 0.99)), loss_func=FlattenedLoss of CrossEntropyLoss(), metrics=[<function accuracy at 0x7fe9733e4e18>], true_wd=True, bn_wd=True, wd=0.01, train_bn=True, path=PosixPath('/root/.fastai/data/imdb'), model_dir='models', callback_fns=[functools.partial(<class 'fastai.basic_train.Recorder'>, add_time=True)], callbacks=[...], layer_groups=[Sequential(\n",
              "  (0): WeightDropout(\n",
              "    (module): LSTM(400, 1150, batch_first=True)\n",
              "  )\n",
              "  (1): RNNDropout()\n",
              "), Sequential(\n",
              "  (0): WeightDropout(\n",
              "    (module): LSTM(1150, 1150, batch_first=True)\n",
              "  )\n",
              "  (1): RNNDropout()\n",
              "), Sequential(\n",
              "  (0): WeightDropout(\n",
              "    (module): LSTM(1150, 400, batch_first=True)\n",
              "  )\n",
              "  (1): RNNDropout()\n",
              "), Sequential(\n",
              "  (0): Embedding(60003, 400, padding_idx=1)\n",
              "  (1): EmbeddingDropout(\n",
              "    (emb): Embedding(60003, 400, padding_idx=1)\n",
              "  )\n",
              "  (2): LinearDecoder(\n",
              "    (decoder): Linear(in_features=400, out_features=60003, bias=True)\n",
              "    (output_dp): RNNDropout()\n",
              "  )\n",
              ")], add_time=True)\n",
              "alpha: 2.0\n",
              "beta: 1.0], layer_groups=[Sequential(\n",
              "  (0): WeightDropout(\n",
              "    (module): LSTM(400, 1150, batch_first=True)\n",
              "  )\n",
              "  (1): RNNDropout()\n",
              "), Sequential(\n",
              "  (0): WeightDropout(\n",
              "    (module): LSTM(1150, 1150, batch_first=True)\n",
              "  )\n",
              "  (1): RNNDropout()\n",
              "), Sequential(\n",
              "  (0): WeightDropout(\n",
              "    (module): LSTM(1150, 400, batch_first=True)\n",
              "  )\n",
              "  (1): RNNDropout()\n",
              "), Sequential(\n",
              "  (0): Embedding(60003, 400, padding_idx=1)\n",
              "  (1): EmbeddingDropout(\n",
              "    (emb): Embedding(60003, 400, padding_idx=1)\n",
              "  )\n",
              "  (2): LinearDecoder(\n",
              "    (decoder): Linear(in_features=400, out_features=60003, bias=True)\n",
              "    (output_dp): RNNDropout()\n",
              "  )\n",
              ")], add_time=True)"
            ]
          },
          "metadata": {
            "tags": []
          },
          "execution_count": 8
        }
      ]
    },
    {
      "metadata": {
        "id": "3UC_yEJM002I",
        "colab_type": "code",
        "outputId": "4020c470-8765-4463-83b0-1b52842a38df",
        "colab": {
          "base_uri": "https://localhost:8080/",
          "height": 34
        }
      },
      "cell_type": "code",
      "source": [
        "learn.lr_find()"
      ],
      "execution_count": 0,
      "outputs": [
        {
          "output_type": "display_data",
          "data": {
            "text/html": [
              ""
            ],
            "text/plain": [
              "<IPython.core.display.HTML object>"
            ]
          },
          "metadata": {
            "tags": []
          }
        },
        {
          "output_type": "stream",
          "text": [
            "LR Finder is complete, type {learner_name}.recorder.plot() to see the graph.\n"
          ],
          "name": "stdout"
        }
      ]
    },
    {
      "metadata": {
        "id": "LQDnHpfH1Exg",
        "colab_type": "code",
        "outputId": "335e6820-a013-4317-bb13-ba3c12a2d776",
        "colab": {
          "base_uri": "https://localhost:8080/",
          "height": 279
        }
      },
      "cell_type": "code",
      "source": [
        "learn.recorder.plot(skip_end=15)"
      ],
      "execution_count": 0,
      "outputs": [
        {
          "output_type": "display_data",
          "data": {
            "image/png": "[encoded data removed]",
            "text/plain": [
              "<Figure size 432x288 with 1 Axes>"
            ]
          },
          "metadata": {
            "tags": []
          }
        }
      ]
    },
    {
      "metadata": {
        "id": "jmwAaO2O1uok",
        "colab_type": "code",
        "colab": {}
      },
      "cell_type": "code",
      "source": [
        "learn.unfreeze()"
      ],
      "execution_count": 0,
      "outputs": []
    },
    {
      "metadata": {
        "id": "P-Uzzf5510rX",
        "colab_type": "code",
        "outputId": "541a783e-f50c-4eef-99da-969576d59bf6",
        "colab": {
          "base_uri": "https://localhost:8080/",
          "height": 174
        }
      },
      "cell_type": "code",
      "source": [
        "learn.fit_one_cycle(10, 1e-3, moms=(0.8,0.7))"
      ],
      "execution_count": 0,
      "outputs": [
        {
          "output_type": "display_data",
          "data": {
            "text/html": [
              "\n",
              "    <div>\n",
              "        <style>\n",
              "            /* Turns off some styling */\n",
              "            progress {\n",
              "                /* gets rid of default border in Firefox and Opera. */\n",
              "                border: none;\n",
              "                /* Needs to be in here for Safari polyfill so background images work as expected. */\n",
              "                background-size: auto;\n",
              "            }\n",
              "            .progress-bar-interrupted, .progress-bar-interrupted::-webkit-progress-bar {\n",
              "                background: #F44336;\n",
              "            }\n",
              "        </style>\n",
              "      <progress value='2' class='' max='10', style='width:300px; height:20px; vertical-align: middle;'></progress>\n",
              "      20.00% [2/10 3:20:37<13:22:31]\n",
              "    </div>\n",
              "    \n",
              "<table border=\"1\" class=\"dataframe\">\n",
              "  <thead>\n",
              "    <tr style=\"text-align: left;\">\n",
              "      <th>epoch</th>\n",
              "      <th>train_loss</th>\n",
              "      <th>valid_loss</th>\n",
              "      <th>accuracy</th>\n",
              "      <th>time</th>\n",
              "    </tr>\n",
              "  </thead>\n",
              "  <tbody>\n",
              "    <tr>\n",
              "      <td>0</td>\n",
              "      <td>3.965311</td>\n",
              "      <td>3.881896</td>\n",
              "      <td>0.310600</td>\n",
              "      <td>1:40:03</td>\n",
              "    </tr>\n",
              "    <tr>\n",
              "      <td>1</td>\n",
              "      <td>3.866650</td>\n",
              "      <td>3.813432</td>\n",
              "      <td>0.320197</td>\n",
              "      <td>1:40:34</td>\n",
              "    </tr>\n",
              "  </tbody>\n",
              "</table><p>\n",
              "\n",
              "    <div>\n",
              "        <style>\n",
              "            /* Turns off some styling */\n",
              "            progress {\n",
              "                /* gets rid of default border in Firefox and Opera. */\n",
              "                border: none;\n",
              "                /* Needs to be in here for Safari polyfill so background images work as expected. */\n",
              "                background-size: auto;\n",
              "            }\n",
              "            .progress-bar-interrupted, .progress-bar-interrupted::-webkit-progress-bar {\n",
              "                background: #F44336;\n",
              "            }\n",
              "        </style>\n",
              "      <progress value='2087' class='' max='8058', style='width:300px; height:20px; vertical-align: middle;'></progress>\n",
              "      25.90% [2087/8058 25:06<1:11:49 3.8103]\n",
              "    </div>\n",
              "    "
            ],
            "text/plain": [
              "<IPython.core.display.HTML object>"
            ]
          },
          "metadata": {
            "tags": []
          }
        },
        {
          "output_type": "stream",
          "text": [
            "Buffered data was truncated after reaching the output size limit."
          ],
          "name": "stdout"
        }
      ]
    },
    {
      "metadata": {
        "id": "5AFdDxa316bX",
        "colab_type": "code",
        "colab": {}
      },
      "cell_type": "code",
      "source": [
        "TEXT = \"I liked this movie because\"\n",
        "N_WORDS = 40\n",
        "N_SENTENCES = 2"
      ],
      "execution_count": 0,
      "outputs": []
    },
    {
      "metadata": {
        "id": "MsqvmS02pVlP",
        "colab_type": "code",
        "outputId": "cf524a8d-1262-4095-d629-3b27c8897bec",
        "colab": {
          "base_uri": "https://localhost:8080/",
          "height": 71
        }
      },
      "cell_type": "code",
      "source": [
        "print(\"\\n\".join(learn.predict(TEXT, N_WORDS, temperature=0.75) for _ in range(N_SENTENCES)))"
      ],
      "execution_count": 0,
      "outputs": [
        {
          "output_type": "stream",
          "text": [
            "I liked this movie because other people have so much time to watch this movie . It is the bank must , a movie that really is as much woman as it is . It 's really bad . Those are really\n",
            "I liked this movie because of the so - problem \" Hell of the Art \" film . The script is star and the throughout is the book ) . There are some people who up n't get the genre from\n"
          ],
          "name": "stdout"
        }
      ]
    },
    {
      "metadata": {
        "id": "69EQ7LanpaFJ",
        "colab_type": "code",
        "colab": {}
      },
      "cell_type": "code",
      "source": [
        "learn.save_encoder('fine_tuned_enc')"
      ],
      "execution_count": 0,
      "outputs": []
    },
    {
      "metadata": {
        "id": "DYlSvpK1pm6w",
        "colab_type": "text"
      },
      "cell_type": "markdown",
      "source": [
        "## Classifier"
      ]
    },
    {
      "metadata": {
        "id": "IC7e1pNZpdkA",
        "colab_type": "code",
        "colab": {}
      },
      "cell_type": "code",
      "source": [
        "path = untar_data(URLs.IMDB)"
      ],
      "execution_count": 0,
      "outputs": []
    },
    {
      "metadata": {
        "id": "yItJUT9xpqVR",
        "colab_type": "code",
        "colab": {}
      },
      "cell_type": "code",
      "source": [
        "data_clas = (TextList.from_folder(path, vocab=data_lm.vocab)\n",
        "             #grab all the text files in path\n",
        "             .split_by_folder(valid='test')\n",
        "             #split by train and valid folder (that only keeps 'train' and 'test' so no need to filter)\n",
        "             .label_from_folder(classes=['neg', 'pos'])\n",
        "             #label them all with their folders\n",
        "             .databunch(bs=bs))\n",
        "\n",
        "data_clas.save('data_clas.pkl')"
      ],
      "execution_count": 0,
      "outputs": []
    },
    {
      "metadata": {
        "id": "JvecBV87ps4c",
        "colab_type": "code",
        "colab": {}
      },
      "cell_type": "code",
      "source": [
        "data_clas = load_data(path, 'data_clas.pkl', bs=bs)"
      ],
      "execution_count": 0,
      "outputs": []
    },
    {
      "metadata": {
        "id": "hXqUoG8-pv3Y",
        "colab_type": "code",
        "colab": {}
      },
      "cell_type": "code",
      "source": [
        "learn = text_classifier_learner(data_clas, AWD_LSTM, drop_mult=0.5)\n",
        "learn.load_encoder('fine_tuned_enc')"
      ],
      "execution_count": 0,
      "outputs": []
    },
    {
      "metadata": {
        "id": "J7xWkbNXp7oJ",
        "colab_type": "code",
        "outputId": "2778be3a-f293-4d86-e19a-716b165bd73b",
        "colab": {
          "base_uri": "https://localhost:8080/",
          "height": 34
        }
      },
      "cell_type": "code",
      "source": [
        "learn.lr_find()"
      ],
      "execution_count": 0,
      "outputs": [
        {
          "output_type": "display_data",
          "data": {
            "text/html": [
              ""
            ],
            "text/plain": [
              "<IPython.core.display.HTML object>"
            ]
          },
          "metadata": {
            "tags": []
          }
        },
        {
          "output_type": "stream",
          "text": [
            "LR Finder is complete, type {learner_name}.recorder.plot() to see the graph.\n"
          ],
          "name": "stdout"
        }
      ]
    },
    {
      "metadata": {
        "id": "S27SKH4hp8qd",
        "colab_type": "code",
        "outputId": "05931f52-5c8a-4b45-85a4-6f600e51c24f",
        "colab": {
          "base_uri": "https://localhost:8080/",
          "height": 279
        }
      },
      "cell_type": "code",
      "source": [
        "learn.recorder.plot()"
      ],
      "execution_count": 0,
      "outputs": [
        {
          "output_type": "display_data",
          "data": {
            "image/png": "[encoded data removed]",
            "text/plain": [
              "<Figure size 432x288 with 1 Axes>"
            ]
          },
          "metadata": {
            "tags": []
          }
        }
      ]
    },
    {
      "metadata": {
        "id": "CjUpfNvYqAcX",
        "colab_type": "code",
        "outputId": "dc76d605-cab7-4842-bf75-ebb32e0a0561",
        "colab": {
          "base_uri": "https://localhost:8080/",
          "height": 103
        }
      },
      "cell_type": "code",
      "source": [
        "learn.fit_one_cycle(1, 2e-2, moms=(0.8,0.7))"
      ],
      "execution_count": 0,
      "outputs": [
        {
          "output_type": "display_data",
          "data": {
            "text/html": [
              "Total time: 19:33 <p><table border=\"1\" class=\"dataframe\">\n",
              "  <thead>\n",
              "    <tr style=\"text-align: left;\">\n",
              "      <th>epoch</th>\n",
              "      <th>train_loss</th>\n",
              "      <th>valid_loss</th>\n",
              "      <th>accuracy</th>\n",
              "      <th>time</th>\n",
              "    </tr>\n",
              "  </thead>\n",
              "  <tbody>\n",
              "    <tr>\n",
              "      <td>0</td>\n",
              "      <td>0.644196</td>\n",
              "      <td>0.580581</td>\n",
              "      <td>0.699680</td>\n",
              "      <td>19:33</td>\n",
              "    </tr>\n",
              "  </tbody>\n",
              "</table>"
            ],
            "text/plain": [
              "<IPython.core.display.HTML object>"
            ]
          },
          "metadata": {
            "tags": []
          }
        }
      ]
    },
    {
      "metadata": {
        "id": "M5vd810EqCyf",
        "colab_type": "code",
        "colab": {}
      },
      "cell_type": "code",
      "source": [
        "learn.save('first')"
      ],
      "execution_count": 0,
      "outputs": []
    },
    {
      "metadata": {
        "id": "BMmTstH4qGYG",
        "colab_type": "code",
        "colab": {}
      },
      "cell_type": "code",
      "source": [
        "learn.load('first');"
      ],
      "execution_count": 0,
      "outputs": []
    },
    {
      "metadata": {
        "id": "cjUKckAnqIxf",
        "colab_type": "code",
        "outputId": "4a141dce-e787-41c1-a961-b91bc849d1c1",
        "colab": {
          "base_uri": "https://localhost:8080/",
          "height": 103
        }
      },
      "cell_type": "code",
      "source": [
        "learn.freeze_to(-2)\n",
        "learn.fit_one_cycle(1, slice(1e-2/(2.6**4),1e-2), moms=(0.8,0.7))"
      ],
      "execution_count": 0,
      "outputs": [
        {
          "output_type": "display_data",
          "data": {
            "text/html": [
              "Total time: 23:08 <p><table border=\"1\" class=\"dataframe\">\n",
              "  <thead>\n",
              "    <tr style=\"text-align: left;\">\n",
              "      <th>epoch</th>\n",
              "      <th>train_loss</th>\n",
              "      <th>valid_loss</th>\n",
              "      <th>accuracy</th>\n",
              "      <th>time</th>\n",
              "    </tr>\n",
              "  </thead>\n",
              "  <tbody>\n",
              "    <tr>\n",
              "      <td>0</td>\n",
              "      <td>0.542609</td>\n",
              "      <td>0.462108</td>\n",
              "      <td>0.780960</td>\n",
              "      <td>23:08</td>\n",
              "    </tr>\n",
              "  </tbody>\n",
              "</table>"
            ],
            "text/plain": [
              "<IPython.core.display.HTML object>"
            ]
          },
          "metadata": {
            "tags": []
          }
        }
      ]
    },
    {
      "metadata": {
        "id": "iUv5uOf3qOH_",
        "colab_type": "code",
        "colab": {}
      },
      "cell_type": "code",
      "source": [
        "learn.save('second')"
      ],
      "execution_count": 0,
      "outputs": []
    },
    {
      "metadata": {
        "id": "7H8KHzksqO5b",
        "colab_type": "code",
        "colab": {}
      },
      "cell_type": "code",
      "source": [
        "learn.load(\"second\")"
      ],
      "execution_count": 0,
      "outputs": []
    },
    {
      "metadata": {
        "id": "OhPpOy8jqRJc",
        "colab_type": "code",
        "outputId": "36343561-252c-4556-bff4-f7b2915f18f6",
        "colab": {
          "base_uri": "https://localhost:8080/",
          "height": 103
        }
      },
      "cell_type": "code",
      "source": [
        "learn.freeze_to(-3)\n",
        "learn.fit_one_cycle(1, slice(5e-3/(2.6**4),5e-3), moms=(0.8,0.7))"
      ],
      "execution_count": 0,
      "outputs": [
        {
          "output_type": "display_data",
          "data": {
            "text/html": [
              "Total time: 28:59 <p><table border=\"1\" class=\"dataframe\">\n",
              "  <thead>\n",
              "    <tr style=\"text-align: left;\">\n",
              "      <th>epoch</th>\n",
              "      <th>train_loss</th>\n",
              "      <th>valid_loss</th>\n",
              "      <th>accuracy</th>\n",
              "      <th>time</th>\n",
              "    </tr>\n",
              "  </thead>\n",
              "  <tbody>\n",
              "    <tr>\n",
              "      <td>0</td>\n",
              "      <td>0.459503</td>\n",
              "      <td>0.394029</td>\n",
              "      <td>0.823600</td>\n",
              "      <td>28:59</td>\n",
              "    </tr>\n",
              "  </tbody>\n",
              "</table>"
            ],
            "text/plain": [
              "<IPython.core.display.HTML object>"
            ]
          },
          "metadata": {
            "tags": []
          }
        }
      ]
    },
    {
      "metadata": {
        "id": "1F5G7GsjqXwa",
        "colab_type": "code",
        "colab": {}
      },
      "cell_type": "code",
      "source": [
        "learn.save('third')"
      ],
      "execution_count": 0,
      "outputs": []
    },
    {
      "metadata": {
        "id": "64IcNQLqqZ9l",
        "colab_type": "code",
        "colab": {}
      },
      "cell_type": "code",
      "source": [
        "learn.load('third');"
      ],
      "execution_count": 0,
      "outputs": []
    },
    {
      "metadata": {
        "id": "ZDSPWfrkqco7",
        "colab_type": "code",
        "outputId": "755d9d50-acf5-4c99-e6ae-56282c1db847",
        "colab": {
          "base_uri": "https://localhost:8080/",
          "height": 134
        }
      },
      "cell_type": "code",
      "source": [
        "learn.unfreeze()\n",
        "learn.fit_one_cycle(2, slice(1e-3/(2.6**4),1e-3), moms=(0.8,0.7))"
      ],
      "execution_count": 0,
      "outputs": [
        {
          "output_type": "display_data",
          "data": {
            "text/html": [
              "Total time: 1:11:28 <p><table border=\"1\" class=\"dataframe\">\n",
              "  <thead>\n",
              "    <tr style=\"text-align: left;\">\n",
              "      <th>epoch</th>\n",
              "      <th>train_loss</th>\n",
              "      <th>valid_loss</th>\n",
              "      <th>accuracy</th>\n",
              "      <th>time</th>\n",
              "    </tr>\n",
              "  </thead>\n",
              "  <tbody>\n",
              "    <tr>\n",
              "      <td>0</td>\n",
              "      <td>0.412757</td>\n",
              "      <td>0.353450</td>\n",
              "      <td>0.845360</td>\n",
              "      <td>36:03</td>\n",
              "    </tr>\n",
              "    <tr>\n",
              "      <td>1</td>\n",
              "      <td>0.412689</td>\n",
              "      <td>0.357569</td>\n",
              "      <td>0.844800</td>\n",
              "      <td>35:24</td>\n",
              "    </tr>\n",
              "  </tbody>\n",
              "</table>"
            ],
            "text/plain": [
              "<IPython.core.display.HTML object>"
            ]
          },
          "metadata": {
            "tags": []
          }
        }
      ]
    },
    {
      "metadata": {
        "id": "yQBwvifFqfXA",
        "colab_type": "code",
        "outputId": "3358427f-ae48-4867-ea6c-0ece1bb681c6",
        "colab": {
          "base_uri": "https://localhost:8080/",
          "height": 34
        }
      },
      "cell_type": "code",
      "source": [
        "learn.predict(\"I really loved that movie, it was awesome!\")"
      ],
      "execution_count": 0,
      "outputs": [
        {
          "output_type": "execute_result",
          "data": {
            "text/plain": [
              "(Category pos, tensor(1), tensor([0.0018, 0.9982]))"
            ]
          },
          "metadata": {
            "tags": []
          },
          "execution_count": 26
        },
        {
          "output_type": "execute_result",
          "data": {
            "text/plain": [
              "(Category pos, tensor(1), tensor([0.0018, 0.9982]))"
            ]
          },
          "metadata": {
            "tags": []
          },
          "execution_count": 26
        }
      ]
    }
  ]
}
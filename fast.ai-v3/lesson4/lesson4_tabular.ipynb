{
  "nbformat": 4,
  "nbformat_minor": 0,
  "metadata": {
    "colab": {
      "name": "lesson4-tabular.ipynb",
      "version": "0.3.2",
      "provenance": [],
      "collapsed_sections": []
    },
    "kernelspec": {
      "name": "python3",
      "display_name": "Python 3"
    },
    "accelerator": "GPU"
  },
  "cells": [
    {
      "metadata": {
        "id": "EqgdW0NUY4rv",
        "colab_type": "code",
        "outputId": "bcaf1ddb-0091-4a28-f4db-e31c29ed8aa5",
        "colab": {
          "base_uri": "https://localhost:8080/",
          "height": 34
        }
      },
      "cell_type": "code",
      "source": [
        "# Check GPU enable on Colab\n",
        "import tensorflow as tf\n",
        "tf.test.gpu_device_name()"
      ],
      "execution_count": 0,
      "outputs": [
        {
          "output_type": "execute_result",
          "data": {
            "text/plain": [
              "'/device:GPU:0'"
            ]
          },
          "metadata": {
            "tags": []
          },
          "execution_count": 1
        }
      ]
    },
    {
      "metadata": {
        "id": "TRg4wfZ-ZCuj",
        "colab_type": "code",
        "outputId": "75cd7964-73f7-49c4-f91f-d05eba8dfa10",
        "colab": {
          "base_uri": "https://localhost:8080/",
          "height": 122
        }
      },
      "cell_type": "code",
      "source": [
        "!curl https://course.fast.ai/setup/colab | bash"
      ],
      "execution_count": 0,
      "outputs": [
        {
          "output_type": "stream",
          "text": [
            "  % Total    % Received % Xferd  Average Speed   Time    Time     Time  Current\n",
            "                                 Dload  Upload   Total   Spent    Left  Speed\n",
            "\r  0     0    0     0    0     0      0      0 --:--:-- --:--:-- --:--:--     0\r100   321  100   321    0     0   1823      0 --:--:-- --:--:-- --:--:--  1823\n",
            "Updating fastai...\n",
            "Done.\n"
          ],
          "name": "stdout"
        }
      ]
    },
    {
      "metadata": {
        "id": "QMOVpe3wjNEq",
        "colab_type": "text"
      },
      "cell_type": "markdown",
      "source": [
        "# Tabular models"
      ]
    },
    {
      "metadata": {
        "id": "06PzKrvUjOxR",
        "colab_type": "code",
        "colab": {}
      },
      "cell_type": "code",
      "source": [
        "# Import\n",
        "from fastai.tabular import *"
      ],
      "execution_count": 0,
      "outputs": []
    },
    {
      "metadata": {
        "id": "_bQqUxfxm7X_",
        "colab_type": "text"
      },
      "cell_type": "markdown",
      "source": [
        "## Processing tabular data"
      ]
    },
    {
      "metadata": {
        "id": "WRaeAeWLkLLZ",
        "colab_type": "code",
        "colab": {}
      },
      "cell_type": "code",
      "source": [
        "path = untar_data(URLs.ADULT_SAMPLE)"
      ],
      "execution_count": 0,
      "outputs": []
    },
    {
      "metadata": {
        "id": "9c_XJ0T_kPmP",
        "colab_type": "code",
        "outputId": "6c449a26-af8a-41ed-b183-649882d55e73",
        "colab": {
          "base_uri": "https://localhost:8080/",
          "height": 68
        }
      },
      "cell_type": "code",
      "source": [
        "path.ls()"
      ],
      "execution_count": 0,
      "outputs": [
        {
          "output_type": "execute_result",
          "data": {
            "text/plain": [
              "[PosixPath('/content/data/adult_sample/adult.csv'),\n",
              " PosixPath('/content/data/adult_sample/models'),\n",
              " PosixPath('/content/data/adult_sample/export.pkl')]"
            ]
          },
          "metadata": {
            "tags": []
          },
          "execution_count": 5
        }
      ]
    },
    {
      "metadata": {
        "id": "uh3DFfB0kREJ",
        "colab_type": "code",
        "colab": {}
      },
      "cell_type": "code",
      "source": [
        "df = pd.read_csv(path/\"adult.csv\")"
      ],
      "execution_count": 0,
      "outputs": []
    },
    {
      "metadata": {
        "id": "XOcon7d9lPpq",
        "colab_type": "code",
        "outputId": "83d5cc6f-0506-4154-9fac-5c225ff4a071",
        "colab": {
          "base_uri": "https://localhost:8080/",
          "height": 394
        }
      },
      "cell_type": "code",
      "source": [
        "df.head()"
      ],
      "execution_count": 0,
      "outputs": [
        {
          "output_type": "execute_result",
          "data": {
            "text/html": [
              "<div>\n",
              "<style scoped>\n",
              "    .dataframe tbody tr th:only-of-type {\n",
              "        vertical-align: middle;\n",
              "    }\n",
              "\n",
              "    .dataframe tbody tr th {\n",
              "        vertical-align: top;\n",
              "    }\n",
              "\n",
              "    .dataframe thead th {\n",
              "        text-align: right;\n",
              "    }\n",
              "</style>\n",
              "<table border=\"1\" class=\"dataframe\">\n",
              "  <thead>\n",
              "    <tr style=\"text-align: right;\">\n",
              "      <th></th>\n",
              "      <th>age</th>\n",
              "      <th>workclass</th>\n",
              "      <th>fnlwgt</th>\n",
              "      <th>education</th>\n",
              "      <th>education-num</th>\n",
              "      <th>marital-status</th>\n",
              "      <th>occupation</th>\n",
              "      <th>relationship</th>\n",
              "      <th>race</th>\n",
              "      <th>sex</th>\n",
              "      <th>capital-gain</th>\n",
              "      <th>capital-loss</th>\n",
              "      <th>hours-per-week</th>\n",
              "      <th>native-country</th>\n",
              "      <th>salary</th>\n",
              "    </tr>\n",
              "  </thead>\n",
              "  <tbody>\n",
              "    <tr>\n",
              "      <th>0</th>\n",
              "      <td>49</td>\n",
              "      <td>Private</td>\n",
              "      <td>101320</td>\n",
              "      <td>Assoc-acdm</td>\n",
              "      <td>12.0</td>\n",
              "      <td>Married-civ-spouse</td>\n",
              "      <td>NaN</td>\n",
              "      <td>Wife</td>\n",
              "      <td>White</td>\n",
              "      <td>Female</td>\n",
              "      <td>0</td>\n",
              "      <td>1902</td>\n",
              "      <td>40</td>\n",
              "      <td>United-States</td>\n",
              "      <td>&gt;=50k</td>\n",
              "    </tr>\n",
              "    <tr>\n",
              "      <th>1</th>\n",
              "      <td>44</td>\n",
              "      <td>Private</td>\n",
              "      <td>236746</td>\n",
              "      <td>Masters</td>\n",
              "      <td>14.0</td>\n",
              "      <td>Divorced</td>\n",
              "      <td>Exec-managerial</td>\n",
              "      <td>Not-in-family</td>\n",
              "      <td>White</td>\n",
              "      <td>Male</td>\n",
              "      <td>10520</td>\n",
              "      <td>0</td>\n",
              "      <td>45</td>\n",
              "      <td>United-States</td>\n",
              "      <td>&gt;=50k</td>\n",
              "    </tr>\n",
              "    <tr>\n",
              "      <th>2</th>\n",
              "      <td>38</td>\n",
              "      <td>Private</td>\n",
              "      <td>96185</td>\n",
              "      <td>HS-grad</td>\n",
              "      <td>NaN</td>\n",
              "      <td>Divorced</td>\n",
              "      <td>NaN</td>\n",
              "      <td>Unmarried</td>\n",
              "      <td>Black</td>\n",
              "      <td>Female</td>\n",
              "      <td>0</td>\n",
              "      <td>0</td>\n",
              "      <td>32</td>\n",
              "      <td>United-States</td>\n",
              "      <td>&lt;50k</td>\n",
              "    </tr>\n",
              "    <tr>\n",
              "      <th>3</th>\n",
              "      <td>38</td>\n",
              "      <td>Self-emp-inc</td>\n",
              "      <td>112847</td>\n",
              "      <td>Prof-school</td>\n",
              "      <td>15.0</td>\n",
              "      <td>Married-civ-spouse</td>\n",
              "      <td>Prof-specialty</td>\n",
              "      <td>Husband</td>\n",
              "      <td>Asian-Pac-Islander</td>\n",
              "      <td>Male</td>\n",
              "      <td>0</td>\n",
              "      <td>0</td>\n",
              "      <td>40</td>\n",
              "      <td>United-States</td>\n",
              "      <td>&gt;=50k</td>\n",
              "    </tr>\n",
              "    <tr>\n",
              "      <th>4</th>\n",
              "      <td>42</td>\n",
              "      <td>Self-emp-not-inc</td>\n",
              "      <td>82297</td>\n",
              "      <td>7th-8th</td>\n",
              "      <td>NaN</td>\n",
              "      <td>Married-civ-spouse</td>\n",
              "      <td>Other-service</td>\n",
              "      <td>Wife</td>\n",
              "      <td>Black</td>\n",
              "      <td>Female</td>\n",
              "      <td>0</td>\n",
              "      <td>0</td>\n",
              "      <td>50</td>\n",
              "      <td>United-States</td>\n",
              "      <td>&lt;50k</td>\n",
              "    </tr>\n",
              "  </tbody>\n",
              "</table>\n",
              "</div>"
            ],
            "text/plain": [
              "   age          workclass  fnlwgt     education  education-num  \\\n",
              "0   49            Private  101320    Assoc-acdm           12.0   \n",
              "1   44            Private  236746       Masters           14.0   \n",
              "2   38            Private   96185       HS-grad            NaN   \n",
              "3   38       Self-emp-inc  112847   Prof-school           15.0   \n",
              "4   42   Self-emp-not-inc   82297       7th-8th            NaN   \n",
              "\n",
              "        marital-status        occupation    relationship                 race  \\\n",
              "0   Married-civ-spouse               NaN            Wife                White   \n",
              "1             Divorced   Exec-managerial   Not-in-family                White   \n",
              "2             Divorced               NaN       Unmarried                Black   \n",
              "3   Married-civ-spouse    Prof-specialty         Husband   Asian-Pac-Islander   \n",
              "4   Married-civ-spouse     Other-service            Wife                Black   \n",
              "\n",
              "       sex  capital-gain  capital-loss  hours-per-week  native-country salary  \n",
              "0   Female             0          1902              40   United-States  >=50k  \n",
              "1     Male         10520             0              45   United-States  >=50k  \n",
              "2   Female             0             0              32   United-States   <50k  \n",
              "3     Male             0             0              40   United-States  >=50k  \n",
              "4   Female             0             0              50   United-States   <50k  "
            ]
          },
          "metadata": {
            "tags": []
          },
          "execution_count": 7
        }
      ]
    },
    {
      "metadata": {
        "id": "3oa__oC3m5az",
        "colab_type": "text"
      },
      "cell_type": "markdown",
      "source": [
        "### Define Categorical variables, Continuous variables, and Dependent variable\n",
        "\n",
        "* Categorical variables will be replaced by a category - a unique id that identifies them - before they are passed through an embedding layer.\n",
        "\n",
        "* Continuous variables will be normalized and then directly fed to the model.\n",
        "\n",
        "* Dependent variable: will be label."
      ]
    },
    {
      "metadata": {
        "id": "znpN5XeYlQoo",
        "colab_type": "code",
        "colab": {}
      },
      "cell_type": "code",
      "source": [
        "# Dependent variable\n",
        "dep_var = \"salary\""
      ],
      "execution_count": 0,
      "outputs": []
    },
    {
      "metadata": {
        "id": "SwRY_en8usyj",
        "colab_type": "code",
        "colab": {}
      },
      "cell_type": "code",
      "source": [
        "# Categorical variables\n",
        "cat_names = [\"workclass\", \"education\", \"marital-status\", \"occupation\", \"relationship\", \"race\"]"
      ],
      "execution_count": 0,
      "outputs": []
    },
    {
      "metadata": {
        "id": "-LGEoqLSu__M",
        "colab_type": "code",
        "colab": {}
      },
      "cell_type": "code",
      "source": [
        "# Continuous variables\n",
        "cont_names = [\"age\", \"fnlwgt\", \"education-num\"]"
      ],
      "execution_count": 0,
      "outputs": []
    },
    {
      "metadata": {
        "id": "uR4sZvfXvT2N",
        "colab_type": "text"
      },
      "cell_type": "markdown",
      "source": [
        "### Processing the missing values"
      ]
    },
    {
      "metadata": {
        "id": "o2qzIyANvTSd",
        "colab_type": "code",
        "colab": {}
      },
      "cell_type": "code",
      "source": [
        "procs_missing = [FillMissing, Categorify, Normalize]"
      ],
      "execution_count": 0,
      "outputs": []
    },
    {
      "metadata": {
        "id": "06HyW3RUvRE0",
        "colab_type": "code",
        "colab": {}
      },
      "cell_type": "code",
      "source": [
        "test = TabularList.from_df(df=df.iloc[800:1000].copy(), \n",
        "                           path=path, \n",
        "                           cat_names=cat_names, \n",
        "                           cont_names=cont_names)"
      ],
      "execution_count": 0,
      "outputs": []
    },
    {
      "metadata": {
        "id": "fQXq3NifwM7g",
        "colab_type": "code",
        "outputId": "c5af516c-d89f-4515-e866-f3b9f2aeca5d",
        "colab": {
          "base_uri": "https://localhost:8080/",
          "height": 578
        }
      },
      "cell_type": "code",
      "source": [
        "test[:2]"
      ],
      "execution_count": 0,
      "outputs": [
        {
          "output_type": "execute_result",
          "data": {
            "text/plain": [
              "TabularList (2 items)\n",
              "age                               45\n",
              "workclass                    Private\n",
              "fnlwgt                         96975\n",
              "education               Some-college\n",
              "education-num                    NaN\n",
              "marital-status              Divorced\n",
              "occupation         Handlers-cleaners\n",
              "relationship               Unmarried\n",
              "race                           White\n",
              "sex                           Female\n",
              "capital-gain                       0\n",
              "capital-loss                       0\n",
              "hours-per-week                    40\n",
              "native-country         United-States\n",
              "salary                          <50k\n",
              "Name: 800, dtype: object,age                                46\n",
              "workclass                Self-emp-inc\n",
              "fnlwgt                         192779\n",
              "education                 Prof-school\n",
              "education-num                     NaN\n",
              "marital-status     Married-civ-spouse\n",
              "occupation             Prof-specialty\n",
              "relationship                  Husband\n",
              "race                            White\n",
              "sex                              Male\n",
              "capital-gain                    15024\n",
              "capital-loss                        0\n",
              "hours-per-week                     60\n",
              "native-country          United-States\n",
              "salary                          >=50k\n",
              "Name: 801, dtype: object\n",
              "Path: /content/data/adult_sample"
            ]
          },
          "metadata": {
            "tags": []
          },
          "execution_count": 13
        }
      ]
    },
    {
      "metadata": {
        "id": "de1BMsH9wNyL",
        "colab_type": "code",
        "colab": {}
      },
      "cell_type": "code",
      "source": [
        "data = (TabularList.from_df(df=df, \n",
        "                            path=path, \n",
        "                            cat_names=cat_names, \n",
        "                            cont_names=cont_names, \n",
        "                            procs=procs_missing)\n",
        "        .split_by_idx(list(range(800,1000)))\n",
        "        .label_from_df(cols=dep_var)\n",
        "        .add_test(test)\n",
        "        .databunch())"
      ],
      "execution_count": 0,
      "outputs": []
    },
    {
      "metadata": {
        "id": "VkgBUaPjy3SP",
        "colab_type": "code",
        "outputId": "bc3a097d-db5b-4448-9178-512e9a3d04bb",
        "colab": {
          "base_uri": "https://localhost:8080/",
          "height": 51
        }
      },
      "cell_type": "code",
      "source": [
        "# Display categorcial and continuous variables\n",
        "print(\"Categorical variable: {}\".format(data.train_ds.cat_names))\n",
        "print(\"Continuous variables: {}\".format(data.train_ds.cont_names))"
      ],
      "execution_count": 0,
      "outputs": [
        {
          "output_type": "stream",
          "text": [
            "Categorical variable: ['workclass', 'education', 'marital-status', 'occupation', 'relationship', 'race', 'education-num_na']\n",
            "Continuous variables: ['age', 'fnlwgt', 'education-num']\n"
          ],
          "name": "stdout"
        }
      ]
    },
    {
      "metadata": {
        "id": "zkKsVGScw7h_",
        "colab_type": "code",
        "outputId": "6959724d-7421-4c6a-a51e-190d3de65a29",
        "colab": {
          "base_uri": "https://localhost:8080/",
          "height": 529
        }
      },
      "cell_type": "code",
      "source": [
        "data.show_batch(rows=10)"
      ],
      "execution_count": 0,
      "outputs": [
        {
          "output_type": "display_data",
          "data": {
            "text/html": [
              "<table border=\"1\" class=\"dataframe\">\n",
              "  <thead>\n",
              "    <tr style=\"text-align: right;\">\n",
              "      <th>workclass</th>\n",
              "      <th>education</th>\n",
              "      <th>marital-status</th>\n",
              "      <th>occupation</th>\n",
              "      <th>relationship</th>\n",
              "      <th>race</th>\n",
              "      <th>education-num_na</th>\n",
              "      <th>age</th>\n",
              "      <th>fnlwgt</th>\n",
              "      <th>education-num</th>\n",
              "      <th>target</th>\n",
              "    </tr>\n",
              "  </thead>\n",
              "  <tbody>\n",
              "    <tr>\n",
              "      <td>Self-emp-not-inc</td>\n",
              "      <td>5th-6th</td>\n",
              "      <td>Married-civ-spouse</td>\n",
              "      <td>Transport-moving</td>\n",
              "      <td>Husband</td>\n",
              "      <td>White</td>\n",
              "      <td>False</td>\n",
              "      <td>0.6166</td>\n",
              "      <td>-0.3505</td>\n",
              "      <td>-2.7692</td>\n",
              "      <td>&lt;50k</td>\n",
              "    </tr>\n",
              "    <tr>\n",
              "      <td>State-gov</td>\n",
              "      <td>Prof-school</td>\n",
              "      <td>Married-civ-spouse</td>\n",
              "      <td>Exec-managerial</td>\n",
              "      <td>Husband</td>\n",
              "      <td>White</td>\n",
              "      <td>False</td>\n",
              "      <td>0.5434</td>\n",
              "      <td>0.5793</td>\n",
              "      <td>1.9245</td>\n",
              "      <td>&gt;=50k</td>\n",
              "    </tr>\n",
              "    <tr>\n",
              "      <td>Private</td>\n",
              "      <td>HS-grad</td>\n",
              "      <td>Divorced</td>\n",
              "      <td>Machine-op-inspct</td>\n",
              "      <td>Not-in-family</td>\n",
              "      <td>White</td>\n",
              "      <td>False</td>\n",
              "      <td>0.3235</td>\n",
              "      <td>-1.0040</td>\n",
              "      <td>-0.4224</td>\n",
              "      <td>&lt;50k</td>\n",
              "    </tr>\n",
              "    <tr>\n",
              "      <td>Private</td>\n",
              "      <td>Some-college</td>\n",
              "      <td>Married-civ-spouse</td>\n",
              "      <td>Sales</td>\n",
              "      <td>Husband</td>\n",
              "      <td>White</td>\n",
              "      <td>False</td>\n",
              "      <td>0.2502</td>\n",
              "      <td>0.1029</td>\n",
              "      <td>-0.0312</td>\n",
              "      <td>&lt;50k</td>\n",
              "    </tr>\n",
              "    <tr>\n",
              "      <td>Private</td>\n",
              "      <td>Assoc-voc</td>\n",
              "      <td>Married-civ-spouse</td>\n",
              "      <td>Machine-op-inspct</td>\n",
              "      <td>Husband</td>\n",
              "      <td>White</td>\n",
              "      <td>False</td>\n",
              "      <td>-0.0430</td>\n",
              "      <td>-0.7520</td>\n",
              "      <td>0.3599</td>\n",
              "      <td>&lt;50k</td>\n",
              "    </tr>\n",
              "    <tr>\n",
              "      <td>Private</td>\n",
              "      <td>HS-grad</td>\n",
              "      <td>Married-spouse-absent</td>\n",
              "      <td>Adm-clerical</td>\n",
              "      <td>Not-in-family</td>\n",
              "      <td>White</td>\n",
              "      <td>False</td>\n",
              "      <td>3.0355</td>\n",
              "      <td>0.1210</td>\n",
              "      <td>-0.4224</td>\n",
              "      <td>&lt;50k</td>\n",
              "    </tr>\n",
              "    <tr>\n",
              "      <td>Private</td>\n",
              "      <td>Assoc-voc</td>\n",
              "      <td>Married-civ-spouse</td>\n",
              "      <td>Other-service</td>\n",
              "      <td>Husband</td>\n",
              "      <td>White</td>\n",
              "      <td>False</td>\n",
              "      <td>0.6166</td>\n",
              "      <td>0.8188</td>\n",
              "      <td>0.3599</td>\n",
              "      <td>&lt;50k</td>\n",
              "    </tr>\n",
              "    <tr>\n",
              "      <td>Private</td>\n",
              "      <td>7th-8th</td>\n",
              "      <td>Married-civ-spouse</td>\n",
              "      <td>Exec-managerial</td>\n",
              "      <td>Husband</td>\n",
              "      <td>White</td>\n",
              "      <td>False</td>\n",
              "      <td>0.1769</td>\n",
              "      <td>-1.5071</td>\n",
              "      <td>-2.3781</td>\n",
              "      <td>&lt;50k</td>\n",
              "    </tr>\n",
              "    <tr>\n",
              "      <td>Private</td>\n",
              "      <td>11th</td>\n",
              "      <td>Never-married</td>\n",
              "      <td>Other-service</td>\n",
              "      <td>Own-child</td>\n",
              "      <td>White</td>\n",
              "      <td>False</td>\n",
              "      <td>-1.5090</td>\n",
              "      <td>-1.3691</td>\n",
              "      <td>-1.2046</td>\n",
              "      <td>&lt;50k</td>\n",
              "    </tr>\n",
              "    <tr>\n",
              "      <td>State-gov</td>\n",
              "      <td>Masters</td>\n",
              "      <td>Married-civ-spouse</td>\n",
              "      <td>Prof-specialty</td>\n",
              "      <td>Husband</td>\n",
              "      <td>White</td>\n",
              "      <td>False</td>\n",
              "      <td>0.3968</td>\n",
              "      <td>-1.4796</td>\n",
              "      <td>1.5334</td>\n",
              "      <td>&gt;=50k</td>\n",
              "    </tr>\n",
              "  </tbody>\n",
              "</table>"
            ],
            "text/plain": [
              "<IPython.core.display.HTML object>"
            ]
          },
          "metadata": {
            "tags": []
          }
        }
      ]
    },
    {
      "metadata": {
        "id": "LJc5Icd8xVVD",
        "colab_type": "text"
      },
      "cell_type": "markdown",
      "source": [
        "## Build model"
      ]
    },
    {
      "metadata": {
        "id": "dRzB8GzhxJxr",
        "colab_type": "code",
        "colab": {}
      },
      "cell_type": "code",
      "source": [
        "learn = tabular_learner(data, \n",
        "                        layers=[200, 100],\n",
        "                        metrics=accuracy)"
      ],
      "execution_count": 0,
      "outputs": []
    },
    {
      "metadata": {
        "id": "G0fniwjAxkUK",
        "colab_type": "code",
        "outputId": "6ac9f98c-32b4-4555-cf6f-cdfe38c0dffe",
        "colab": {
          "base_uri": "https://localhost:8080/",
          "height": 391
        }
      },
      "cell_type": "code",
      "source": [
        "learn.model"
      ],
      "execution_count": 0,
      "outputs": [
        {
          "output_type": "execute_result",
          "data": {
            "text/plain": [
              "TabularModel(\n",
              "  (embeds): ModuleList(\n",
              "    (0): Embedding(10, 6)\n",
              "    (1): Embedding(17, 8)\n",
              "    (2): Embedding(8, 5)\n",
              "    (3): Embedding(16, 8)\n",
              "    (4): Embedding(7, 5)\n",
              "    (5): Embedding(6, 4)\n",
              "    (6): Embedding(3, 3)\n",
              "  )\n",
              "  (emb_drop): Dropout(p=0.0)\n",
              "  (bn_cont): BatchNorm1d(3, eps=1e-05, momentum=0.1, affine=True, track_running_stats=True)\n",
              "  (layers): Sequential(\n",
              "    (0): Linear(in_features=42, out_features=200, bias=True)\n",
              "    (1): ReLU(inplace)\n",
              "    (2): BatchNorm1d(200, eps=1e-05, momentum=0.1, affine=True, track_running_stats=True)\n",
              "    (3): Linear(in_features=200, out_features=100, bias=True)\n",
              "    (4): ReLU(inplace)\n",
              "    (5): BatchNorm1d(100, eps=1e-05, momentum=0.1, affine=True, track_running_stats=True)\n",
              "    (6): Linear(in_features=100, out_features=2, bias=True)\n",
              "  )\n",
              ")"
            ]
          },
          "metadata": {
            "tags": []
          },
          "execution_count": 18
        }
      ]
    },
    {
      "metadata": {
        "id": "nVnax86Pxng2",
        "colab_type": "code",
        "outputId": "b2dbebd3-b095-428e-c271-cf2c9bed22e6",
        "colab": {
          "base_uri": "https://localhost:8080/",
          "height": 103
        }
      },
      "cell_type": "code",
      "source": [
        "learn.fit(1, 1e-2)"
      ],
      "execution_count": 0,
      "outputs": [
        {
          "output_type": "display_data",
          "data": {
            "text/html": [
              "Total time: 00:07 <p><table border=\"1\" class=\"dataframe\">\n",
              "  <thead>\n",
              "    <tr style=\"text-align: left;\">\n",
              "      <th>epoch</th>\n",
              "      <th>train_loss</th>\n",
              "      <th>valid_loss</th>\n",
              "      <th>accuracy</th>\n",
              "      <th>time</th>\n",
              "    </tr>\n",
              "  </thead>\n",
              "  <tbody>\n",
              "    <tr>\n",
              "      <td>0</td>\n",
              "      <td>0.370017</td>\n",
              "      <td>0.404684</td>\n",
              "      <td>0.775000</td>\n",
              "      <td>00:07</td>\n",
              "    </tr>\n",
              "  </tbody>\n",
              "</table>"
            ],
            "text/plain": [
              "<IPython.core.display.HTML object>"
            ]
          },
          "metadata": {
            "tags": []
          }
        }
      ]
    },
    {
      "metadata": {
        "id": "lVwQv1S6lPBb",
        "colab_type": "code",
        "colab": {}
      },
      "cell_type": "code",
      "source": [
        "learn.save(\"stage-1\")"
      ],
      "execution_count": 0,
      "outputs": []
    },
    {
      "metadata": {
        "id": "zkE9t_doqjbR",
        "colab_type": "code",
        "outputId": "28984361-5e59-40f9-f2b5-4fc7777d7017",
        "colab": {
          "base_uri": "https://localhost:8080/",
          "height": 34
        }
      },
      "cell_type": "code",
      "source": [
        "learn.lr_find()"
      ],
      "execution_count": 0,
      "outputs": [
        {
          "output_type": "display_data",
          "data": {
            "text/html": [
              ""
            ],
            "text/plain": [
              "<IPython.core.display.HTML object>"
            ]
          },
          "metadata": {
            "tags": []
          }
        },
        {
          "output_type": "stream",
          "text": [
            "LR Finder is complete, type {learner_name}.recorder.plot() to see the graph.\n"
          ],
          "name": "stdout"
        }
      ]
    },
    {
      "metadata": {
        "id": "BNYlx6HzqmWL",
        "colab_type": "code",
        "outputId": "74f6356b-c759-4a28-cfee-2b3130c42a9f",
        "colab": {
          "base_uri": "https://localhost:8080/",
          "height": 362
        }
      },
      "cell_type": "code",
      "source": [
        "learn.recorder.plot(skip_end=15)"
      ],
      "execution_count": 0,
      "outputs": [
        {
          "output_type": "display_data",
          "data": {
            "image/png": "[encoded data removed]",
            "text/plain": [
              "<Figure size 576x396 with 1 Axes>"
            ]
          },
          "metadata": {
            "tags": []
          }
        }
      ]
    },
    {
      "metadata": {
        "id": "8que8W6OtHII",
        "colab_type": "code",
        "outputId": "215f8e98-916b-444c-f5df-498d255a551a",
        "colab": {
          "base_uri": "https://localhost:8080/",
          "height": 306
        }
      },
      "cell_type": "code",
      "source": [
        "learn.show_results()"
      ],
      "execution_count": 0,
      "outputs": [
        {
          "output_type": "display_data",
          "data": {
            "text/html": [
              "<table border=\"1\" class=\"dataframe\">\n",
              "  <thead>\n",
              "    <tr style=\"text-align: right;\">\n",
              "      <th>workclass</th>\n",
              "      <th>education</th>\n",
              "      <th>marital-status</th>\n",
              "      <th>occupation</th>\n",
              "      <th>relationship</th>\n",
              "      <th>race</th>\n",
              "      <th>education-num_na</th>\n",
              "      <th>age</th>\n",
              "      <th>fnlwgt</th>\n",
              "      <th>education-num</th>\n",
              "      <th>target</th>\n",
              "      <th>prediction</th>\n",
              "    </tr>\n",
              "  </thead>\n",
              "  <tbody>\n",
              "    <tr>\n",
              "      <td>Private</td>\n",
              "      <td>Some-college</td>\n",
              "      <td>Divorced</td>\n",
              "      <td>Handlers-cleaners</td>\n",
              "      <td>Unmarried</td>\n",
              "      <td>White</td>\n",
              "      <td>True</td>\n",
              "      <td>0.4701</td>\n",
              "      <td>-0.8793</td>\n",
              "      <td>-0.0312</td>\n",
              "      <td>&lt;50k</td>\n",
              "      <td>&lt;50k</td>\n",
              "    </tr>\n",
              "    <tr>\n",
              "      <td>Self-emp-inc</td>\n",
              "      <td>Prof-school</td>\n",
              "      <td>Married-civ-spouse</td>\n",
              "      <td>Prof-specialty</td>\n",
              "      <td>Husband</td>\n",
              "      <td>White</td>\n",
              "      <td>True</td>\n",
              "      <td>0.5434</td>\n",
              "      <td>0.0290</td>\n",
              "      <td>-0.0312</td>\n",
              "      <td>&gt;=50k</td>\n",
              "      <td>&gt;=50k</td>\n",
              "    </tr>\n",
              "    <tr>\n",
              "      <td>Private</td>\n",
              "      <td>Assoc-voc</td>\n",
              "      <td>Divorced</td>\n",
              "      <td>#na#</td>\n",
              "      <td>Not-in-family</td>\n",
              "      <td>White</td>\n",
              "      <td>True</td>\n",
              "      <td>-0.1896</td>\n",
              "      <td>1.7704</td>\n",
              "      <td>-0.0312</td>\n",
              "      <td>&lt;50k</td>\n",
              "      <td>&lt;50k</td>\n",
              "    </tr>\n",
              "    <tr>\n",
              "      <td>Federal-gov</td>\n",
              "      <td>Bachelors</td>\n",
              "      <td>Never-married</td>\n",
              "      <td>Tech-support</td>\n",
              "      <td>Not-in-family</td>\n",
              "      <td>White</td>\n",
              "      <td>True</td>\n",
              "      <td>-0.9959</td>\n",
              "      <td>-1.3242</td>\n",
              "      <td>-0.0312</td>\n",
              "      <td>&lt;50k</td>\n",
              "      <td>&lt;50k</td>\n",
              "    </tr>\n",
              "    <tr>\n",
              "      <td>Private</td>\n",
              "      <td>Bachelors</td>\n",
              "      <td>Married-civ-spouse</td>\n",
              "      <td>#na#</td>\n",
              "      <td>Husband</td>\n",
              "      <td>White</td>\n",
              "      <td>True</td>\n",
              "      <td>-0.1163</td>\n",
              "      <td>-0.2389</td>\n",
              "      <td>-0.0312</td>\n",
              "      <td>&lt;50k</td>\n",
              "      <td>&gt;=50k</td>\n",
              "    </tr>\n",
              "  </tbody>\n",
              "</table>"
            ],
            "text/plain": [
              "<IPython.core.display.HTML object>"
            ]
          },
          "metadata": {
            "tags": []
          }
        }
      ]
    },
    {
      "metadata": {
        "id": "q6p7OPYPrH9D",
        "colab_type": "code",
        "colab": {}
      },
      "cell_type": "code",
      "source": [
        "samples = TabularList.from_df(df=df.iloc[800:1000].copy(), \n",
        "                           path=path, \n",
        "                           cat_names=cat_names, \n",
        "                           cont_names=cont_names)"
      ],
      "execution_count": 0,
      "outputs": []
    },
    {
      "metadata": {
        "id": "563W3pigmI6A",
        "colab_type": "code",
        "outputId": "2f40a667-634c-47b3-be36-e568d029ed1f",
        "colab": {
          "base_uri": "https://localhost:8080/",
          "height": 7497
        }
      },
      "cell_type": "code",
      "source": [
        "for s in samples[:20]:\n",
        "    print(\"User attributes:\")\n",
        "    print(s)\n",
        "    print()\n",
        "    print(\"Preduct result:\")\n",
        "    print(learn.predict(s))\n",
        "    print(\"=========================================\\n\")"
      ],
      "execution_count": 0,
      "outputs": [
        {
          "output_type": "stream",
          "text": [
            "User attributes:\n",
            "age                               45\n",
            "workclass                    Private\n",
            "fnlwgt                         96975\n",
            "education               Some-college\n",
            "education-num                    NaN\n",
            "marital-status              Divorced\n",
            "occupation         Handlers-cleaners\n",
            "relationship               Unmarried\n",
            "race                           White\n",
            "sex                           Female\n",
            "capital-gain                       0\n",
            "capital-loss                       0\n",
            "hours-per-week                    40\n",
            "native-country         United-States\n",
            "salary                          <50k\n",
            "Name: 800, dtype: object\n",
            "\n",
            "Preduct result:\n",
            "(Category <50k, tensor(0), tensor([0.9291, 0.0709]))\n",
            "=========================================\n",
            "\n",
            "User attributes:\n",
            "age                                46\n",
            "workclass                Self-emp-inc\n",
            "fnlwgt                         192779\n",
            "education                 Prof-school\n",
            "education-num                     NaN\n",
            "marital-status     Married-civ-spouse\n",
            "occupation             Prof-specialty\n",
            "relationship                  Husband\n",
            "race                            White\n",
            "sex                              Male\n",
            "capital-gain                    15024\n",
            "capital-loss                        0\n",
            "hours-per-week                     60\n",
            "native-country          United-States\n",
            "salary                          >=50k\n",
            "Name: 801, dtype: object\n",
            "\n",
            "Preduct result:\n",
            "(Category >=50k, tensor(1), tensor([0.2883, 0.7117]))\n",
            "=========================================\n",
            "\n",
            "User attributes:\n",
            "age                           36\n",
            "workclass                Private\n",
            "fnlwgt                    376455\n",
            "education              Assoc-voc\n",
            "education-num                NaN\n",
            "marital-status          Divorced\n",
            "occupation                   NaN\n",
            "relationship       Not-in-family\n",
            "race                       White\n",
            "sex                         Male\n",
            "capital-gain                   0\n",
            "capital-loss                   0\n",
            "hours-per-week                38\n",
            "native-country     United-States\n",
            "salary                      <50k\n",
            "Name: 802, dtype: object\n",
            "\n",
            "Preduct result:\n",
            "(Category <50k, tensor(0), tensor([0.8901, 0.1099]))\n",
            "=========================================\n",
            "\n",
            "User attributes:\n",
            "age                           25\n",
            "workclass            Federal-gov\n",
            "fnlwgt                     50053\n",
            "education              Bachelors\n",
            "education-num                NaN\n",
            "marital-status     Never-married\n",
            "occupation          Tech-support\n",
            "relationship       Not-in-family\n",
            "race                       White\n",
            "sex                         Male\n",
            "capital-gain                   0\n",
            "capital-loss                   0\n",
            "hours-per-week                45\n",
            "native-country     United-States\n",
            "salary                      <50k\n",
            "Name: 803, dtype: object\n",
            "\n",
            "Preduct result:\n",
            "(Category <50k, tensor(0), tensor([0.9498, 0.0502]))\n",
            "=========================================\n",
            "\n",
            "User attributes:\n",
            "age                                37\n",
            "workclass                     Private\n",
            "fnlwgt                         164526\n",
            "education                   Bachelors\n",
            "education-num                     NaN\n",
            "marital-status     Married-civ-spouse\n",
            "occupation                        NaN\n",
            "relationship                  Husband\n",
            "race                            White\n",
            "sex                              Male\n",
            "capital-gain                        0\n",
            "capital-loss                        0\n",
            "hours-per-week                     40\n",
            "native-country          United-States\n",
            "salary                           <50k\n",
            "Name: 804, dtype: object\n",
            "\n",
            "Preduct result:\n",
            "(Category >=50k, tensor(1), tensor([0.3997, 0.6003]))\n",
            "=========================================\n",
            "\n",
            "User attributes:\n",
            "age                                47\n",
            "workclass                     Private\n",
            "fnlwgt                         148724\n",
            "education                     HS-grad\n",
            "education-num                       9\n",
            "marital-status     Married-civ-spouse\n",
            "occupation                      Sales\n",
            "relationship                  Husband\n",
            "race                            Black\n",
            "sex                              Male\n",
            "capital-gain                        0\n",
            "capital-loss                        0\n",
            "hours-per-week                     40\n",
            "native-country          United-States\n",
            "salary                           <50k\n",
            "Name: 805, dtype: object\n",
            "\n",
            "Preduct result:\n",
            "(Category >=50k, tensor(1), tensor([0.4487, 0.5513]))\n",
            "=========================================\n",
            "\n",
            "User attributes:\n",
            "age                                32\n",
            "workclass                     Private\n",
            "fnlwgt                          36302\n",
            "education                Some-college\n",
            "education-num                     NaN\n",
            "marital-status     Married-civ-spouse\n",
            "occupation               Adm-clerical\n",
            "relationship                  Husband\n",
            "race                            White\n",
            "sex                              Male\n",
            "capital-gain                        0\n",
            "capital-loss                        0\n",
            "hours-per-week                     50\n",
            "native-country          United-States\n",
            "salary                           <50k\n",
            "Name: 806, dtype: object\n",
            "\n",
            "Preduct result:\n",
            "(Category <50k, tensor(0), tensor([0.5895, 0.4105]))\n",
            "=========================================\n",
            "\n",
            "User attributes:\n",
            "age                           24\n",
            "workclass                Private\n",
            "fnlwgt                    223367\n",
            "education                   11th\n",
            "education-num                  7\n",
            "marital-status     Never-married\n",
            "occupation                   NaN\n",
            "relationship           Unmarried\n",
            "race                       White\n",
            "sex                         Male\n",
            "capital-gain                   0\n",
            "capital-loss                   0\n",
            "hours-per-week                40\n",
            "native-country     United-States\n",
            "salary                      <50k\n",
            "Name: 807, dtype: object\n",
            "\n",
            "Preduct result:\n",
            "(Category <50k, tensor(0), tensor([0.9893, 0.0107]))\n",
            "=========================================\n",
            "\n",
            "User attributes:\n",
            "age                                75\n",
            "workclass                           ?\n",
            "fnlwgt                         260543\n",
            "education                        10th\n",
            "education-num                     NaN\n",
            "marital-status                Widowed\n",
            "occupation                          ?\n",
            "relationship           Other-relative\n",
            "race               Asian-Pac-Islander\n",
            "sex                            Female\n",
            "capital-gain                        0\n",
            "capital-loss                        0\n",
            "hours-per-week                      1\n",
            "native-country                  China\n",
            "salary                           <50k\n",
            "Name: 808, dtype: object\n",
            "\n",
            "Preduct result:\n",
            "(Category <50k, tensor(0), tensor([0.9825, 0.0175]))\n",
            "=========================================\n",
            "\n",
            "User attributes:\n",
            "age                                60\n",
            "workclass                     Private\n",
            "fnlwgt                          85995\n",
            "education                     Masters\n",
            "education-num                     NaN\n",
            "marital-status     Married-civ-spouse\n",
            "occupation               Adm-clerical\n",
            "relationship                  Husband\n",
            "race               Asian-Pac-Islander\n",
            "sex                              Male\n",
            "capital-gain                        0\n",
            "capital-loss                        0\n",
            "hours-per-week                     50\n",
            "native-country                  South\n",
            "salary                          >=50k\n",
            "Name: 809, dtype: object\n",
            "\n",
            "Preduct result:\n",
            "(Category <50k, tensor(0), tensor([0.6659, 0.3341]))\n",
            "=========================================\n",
            "\n",
            "User attributes:\n",
            "age                                44\n",
            "workclass                Self-emp-inc\n",
            "fnlwgt                          33126\n",
            "education                Some-college\n",
            "education-num                     NaN\n",
            "marital-status     Married-civ-spouse\n",
            "occupation            Exec-managerial\n",
            "relationship                  Husband\n",
            "race                            White\n",
            "sex                              Male\n",
            "capital-gain                        0\n",
            "capital-loss                        0\n",
            "hours-per-week                     80\n",
            "native-country          United-States\n",
            "salary                           <50k\n",
            "Name: 810, dtype: object\n",
            "\n",
            "Preduct result:\n",
            "(Category >=50k, tensor(1), tensor([0.2611, 0.7389]))\n",
            "=========================================\n",
            "\n",
            "User attributes:\n",
            "age                                40\n",
            "workclass                     Private\n",
            "fnlwgt                         221172\n",
            "education                     Masters\n",
            "education-num                     NaN\n",
            "marital-status     Married-civ-spouse\n",
            "occupation            Exec-managerial\n",
            "relationship                  Husband\n",
            "race                            White\n",
            "sex                              Male\n",
            "capital-gain                        0\n",
            "capital-loss                        0\n",
            "hours-per-week                     65\n",
            "native-country          United-States\n",
            "salary                          >=50k\n",
            "Name: 811, dtype: object\n",
            "\n",
            "Preduct result:\n",
            "(Category >=50k, tensor(1), tensor([0.2387, 0.7613]))\n",
            "=========================================\n",
            "\n",
            "User attributes:\n",
            "age                                27\n",
            "workclass                     Private\n",
            "fnlwgt                         180758\n",
            "education                Some-college\n",
            "education-num                     NaN\n",
            "marital-status     Married-civ-spouse\n",
            "occupation                        NaN\n",
            "relationship                  Husband\n",
            "race                            White\n",
            "sex                              Male\n",
            "capital-gain                        0\n",
            "capital-loss                        0\n",
            "hours-per-week                     30\n",
            "native-country          United-States\n",
            "salary                           <50k\n",
            "Name: 812, dtype: object\n",
            "\n",
            "Preduct result:\n",
            "(Category <50k, tensor(0), tensor([0.6567, 0.3433]))\n",
            "=========================================\n",
            "\n",
            "User attributes:\n",
            "age                                29\n",
            "workclass                     Private\n",
            "fnlwgt                         253801\n",
            "education                     HS-grad\n",
            "education-num                     NaN\n",
            "marital-status     Married-civ-spouse\n",
            "occupation                        NaN\n",
            "relationship                  Husband\n",
            "race                            White\n",
            "sex                              Male\n",
            "capital-gain                        0\n",
            "capital-loss                        0\n",
            "hours-per-week                     40\n",
            "native-country                Ecuador\n",
            "salary                           <50k\n",
            "Name: 813, dtype: object\n",
            "\n",
            "Preduct result:\n",
            "(Category <50k, tensor(0), tensor([0.5202, 0.4798]))\n",
            "=========================================\n",
            "\n",
            "User attributes:\n",
            "age                          47\n",
            "workclass               Private\n",
            "fnlwgt                   146497\n",
            "education          Some-college\n",
            "education-num               NaN\n",
            "marital-status        Separated\n",
            "occupation         Adm-clerical\n",
            "relationship          Unmarried\n",
            "race                      White\n",
            "sex                      Female\n",
            "capital-gain                  0\n",
            "capital-loss                  0\n",
            "hours-per-week               16\n",
            "native-country          Germany\n",
            "salary                     <50k\n",
            "Name: 814, dtype: object\n",
            "\n",
            "Preduct result:\n",
            "(Category <50k, tensor(0), tensor([0.9054, 0.0946]))\n",
            "=========================================\n",
            "\n",
            "User attributes:\n",
            "age                                24\n",
            "workclass                     Private\n",
            "fnlwgt                          22966\n",
            "education                   Bachelors\n",
            "education-num                      13\n",
            "marital-status     Married-civ-spouse\n",
            "occupation                        NaN\n",
            "relationship                  Husband\n",
            "race                            White\n",
            "sex                              Male\n",
            "capital-gain                        0\n",
            "capital-loss                        0\n",
            "hours-per-week                     45\n",
            "native-country          United-States\n",
            "salary                           <50k\n",
            "Name: 815, dtype: object\n",
            "\n",
            "Preduct result:\n",
            "(Category >=50k, tensor(1), tensor([0.4778, 0.5222]))\n",
            "=========================================\n",
            "\n",
            "User attributes:\n",
            "age                            50\n",
            "workclass             Federal-gov\n",
            "fnlwgt                     307555\n",
            "education               Bachelors\n",
            "education-num                 NaN\n",
            "marital-status           Divorced\n",
            "occupation         Prof-specialty\n",
            "relationship        Not-in-family\n",
            "race                        White\n",
            "sex                          Male\n",
            "capital-gain                    0\n",
            "capital-loss                    0\n",
            "hours-per-week                 60\n",
            "native-country      United-States\n",
            "salary                      >=50k\n",
            "Name: 816, dtype: object\n",
            "\n",
            "Preduct result:\n",
            "(Category <50k, tensor(0), tensor([0.6718, 0.3282]))\n",
            "=========================================\n",
            "\n",
            "User attributes:\n",
            "age                                39\n",
            "workclass                     Private\n",
            "fnlwgt                         198841\n",
            "education                     Masters\n",
            "education-num                     NaN\n",
            "marital-status     Married-civ-spouse\n",
            "occupation             Prof-specialty\n",
            "relationship                  Husband\n",
            "race                            White\n",
            "sex                              Male\n",
            "capital-gain                     7688\n",
            "capital-loss                        0\n",
            "hours-per-week                     45\n",
            "native-country          United-States\n",
            "salary                          >=50k\n",
            "Name: 817, dtype: object\n",
            "\n",
            "Preduct result:\n",
            "(Category >=50k, tensor(1), tensor([0.2943, 0.7057]))\n",
            "=========================================\n",
            "\n",
            "User attributes:\n",
            "age                                36\n",
            "workclass                   Local-gov\n",
            "fnlwgt                         188236\n",
            "education                     HS-grad\n",
            "education-num                     NaN\n",
            "marital-status     Married-civ-spouse\n",
            "occupation                        NaN\n",
            "relationship                     Wife\n",
            "race                            White\n",
            "sex                            Female\n",
            "capital-gain                        0\n",
            "capital-loss                        0\n",
            "hours-per-week                     40\n",
            "native-country          United-States\n",
            "salary                          >=50k\n",
            "Name: 818, dtype: object\n",
            "\n",
            "Preduct result:\n",
            "(Category >=50k, tensor(1), tensor([0.4008, 0.5992]))\n",
            "=========================================\n",
            "\n",
            "User attributes:\n",
            "age                                56\n",
            "workclass            Self-emp-not-inc\n",
            "fnlwgt                          66356\n",
            "education                Some-college\n",
            "education-num                      10\n",
            "marital-status     Married-civ-spouse\n",
            "occupation                        NaN\n",
            "relationship                  Husband\n",
            "race                            White\n",
            "sex                              Male\n",
            "capital-gain                        0\n",
            "capital-loss                        0\n",
            "hours-per-week                     50\n",
            "native-country          United-States\n",
            "salary                           <50k\n",
            "Name: 819, dtype: object\n",
            "\n",
            "Preduct result:\n",
            "(Category <50k, tensor(0), tensor([0.6692, 0.3308]))\n",
            "=========================================\n",
            "\n"
          ],
          "name": "stdout"
        }
      ]
    },
    {
      "metadata": {
        "id": "RyPiyX3WmmFB",
        "colab_type": "code",
        "colab": {}
      },
      "cell_type": "code",
      "source": [
        ""
      ],
      "execution_count": 0,
      "outputs": []
    }
  ]
}
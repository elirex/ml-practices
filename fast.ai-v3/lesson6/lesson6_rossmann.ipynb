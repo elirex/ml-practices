{
  "nbformat": 4,
  "nbformat_minor": 0,
  "metadata": {
    "colab": {
      "name": "lesson6-rossmann.ipynb",
      "version": "0.3.2",
      "provenance": [],
      "collapsed_sections": []
    },
    "kernelspec": {
      "name": "python3",
      "display_name": "Python 3"
    },
    "accelerator": "GPU"
  },
  "cells": [
    {
      "metadata": {
        "id": "EqgdW0NUY4rv",
        "colab_type": "code",
        "outputId": "826c84df-26c1-45e4-a47b-13adfef349cd",
        "colab": {
          "base_uri": "https://localhost:8080/",
          "height": 34
        }
      },
      "cell_type": "code",
      "source": [
        "# Check GPU enable on Colab\n",
        "import tensorflow as tf\n",
        "tf.test.gpu_device_name()"
      ],
      "execution_count": 0,
      "outputs": [
        {
          "output_type": "execute_result",
          "data": {
            "text/plain": [
              "'/device:GPU:0'"
            ]
          },
          "metadata": {
            "tags": []
          },
          "execution_count": 1
        }
      ]
    },
    {
      "metadata": {
        "id": "TRg4wfZ-ZCuj",
        "colab_type": "code",
        "outputId": "559591b5-4866-4849-c28d-555240f9d034",
        "colab": {
          "base_uri": "https://localhost:8080/",
          "height": 173
        }
      },
      "cell_type": "code",
      "source": [
        "!curl https://course.fast.ai/setup/colab | bash"
      ],
      "execution_count": 0,
      "outputs": [
        {
          "output_type": "stream",
          "text": [
            "  % Total    % Received % Xferd  Average Speed   Time    Time     Time  Current\n",
            "                                 Dload  Upload   Total   Spent    Left  Speed\n",
            "\r  0     0    0     0    0     0      0      0 --:--:-- --:--:-- --:--:--     0\r100   321  100   321    0     0   1521      0 --:--:-- --:--:-- --:--:--  1521\n",
            "Updating fastai...\n",
            "\u001b[31mfeaturetools 0.4.1 has requirement pandas>=0.23.0, but you'll have pandas 0.22.0 which is incompatible.\u001b[0m\n",
            "\u001b[31mdatascience 0.10.6 has requirement folium==0.2.1, but you'll have folium 0.8.3 which is incompatible.\u001b[0m\n",
            "\u001b[31malbumentations 0.1.12 has requirement imgaug<0.2.7,>=0.2.5, but you'll have imgaug 0.2.8 which is incompatible.\u001b[0m\n",
            "Done.\n"
          ],
          "name": "stdout"
        }
      ]
    },
    {
      "metadata": {
        "id": "rM22zZ-f_0dK",
        "colab_type": "text"
      },
      "cell_type": "markdown",
      "source": [
        "## Setup"
      ]
    },
    {
      "metadata": {
        "id": "UHhTivQuAufv",
        "colab_type": "code",
        "colab": {}
      },
      "cell_type": "code",
      "source": [
        "from fastai.tabular import *"
      ],
      "execution_count": 0,
      "outputs": []
    },
    {
      "metadata": {
        "id": "FxHbQnBCA2eS",
        "colab_type": "code",
        "colab": {}
      },
      "cell_type": "code",
      "source": [
        "%reload_ext autoreload\n",
        "%autoreload 2\n",
        "%matplotlib inline"
      ],
      "execution_count": 0,
      "outputs": []
    },
    {
      "metadata": {
        "id": "Ql07pgz2BlRh",
        "colab_type": "text"
      },
      "cell_type": "markdown",
      "source": [
        "## Prepare dataset (Clean data)"
      ]
    },
    {
      "metadata": {
        "id": "5JpU6ckDDv0d",
        "colab_type": "text"
      },
      "cell_type": "markdown",
      "source": [
        "You can download dataset from [here](http://files.fast.ai/part2/lesson14/rossmann.tgz)"
      ]
    },
    {
      "metadata": {
        "id": "UKo3Lq6cAgpe",
        "colab_type": "code",
        "outputId": "9fdc29d0-00ae-4f45-c5fc-15c54bf9c181",
        "colab": {
          "base_uri": "https://localhost:8080/",
          "height": 34
        }
      },
      "cell_type": "code",
      "source": [
        "path = Config.data_path()/\"rossmann\"\n",
        "path.mkdir(parents=True, exist_ok=True)\n",
        "path"
      ],
      "execution_count": 0,
      "outputs": [
        {
          "output_type": "execute_result",
          "data": {
            "text/plain": [
              "PosixPath('/root/.fastai/data/rossmann')"
            ]
          },
          "metadata": {
            "tags": []
          },
          "execution_count": 5
        }
      ]
    },
    {
      "metadata": {
        "id": "qg6MiCL6AYxJ",
        "colab_type": "code",
        "outputId": "7ffe7f1f-c2f0-4557-954d-1b29ee6861de",
        "colab": {
          "base_uri": "https://localhost:8080/",
          "height": 34
        }
      },
      "cell_type": "code",
      "source": [
        "path.ls()"
      ],
      "execution_count": 0,
      "outputs": [
        {
          "output_type": "execute_result",
          "data": {
            "text/plain": [
              "[PosixPath('/root/.fastai/data/rossmann/rossmann.tgz')]"
            ]
          },
          "metadata": {
            "tags": []
          },
          "execution_count": 6
        }
      ]
    },
    {
      "metadata": {
        "id": "kFa15CbKBxo9",
        "colab_type": "code",
        "outputId": "7416213e-d208-4d68-c6d2-5a40805a2e90",
        "colab": {
          "base_uri": "https://localhost:8080/",
          "height": 153
        }
      },
      "cell_type": "code",
      "source": [
        "!tar zxvf {path}/rossmann.tgz -C {path}"
      ],
      "execution_count": 0,
      "outputs": [
        {
          "output_type": "stream",
          "text": [
            "googletrend.csv\n",
            "sample_submission.csv\n",
            "state_names.csv\n",
            "store.csv\n",
            "store_states.csv\n",
            "test.csv\n",
            "train.csv\n",
            "weather.csv\n"
          ],
          "name": "stdout"
        }
      ]
    },
    {
      "metadata": {
        "id": "gvWMK8XcCRZQ",
        "colab_type": "code",
        "outputId": "17d6747b-87d3-4d00-eb05-972f4f6d0902",
        "colab": {
          "base_uri": "https://localhost:8080/",
          "height": 170
        }
      },
      "cell_type": "code",
      "source": [
        "path.ls()"
      ],
      "execution_count": 0,
      "outputs": [
        {
          "output_type": "execute_result",
          "data": {
            "text/plain": [
              "[PosixPath('/root/.fastai/data/rossmann/store.csv'),\n",
              " PosixPath('/root/.fastai/data/rossmann/weather.csv'),\n",
              " PosixPath('/root/.fastai/data/rossmann/store_states.csv'),\n",
              " PosixPath('/root/.fastai/data/rossmann/state_names.csv'),\n",
              " PosixPath('/root/.fastai/data/rossmann/sample_submission.csv'),\n",
              " PosixPath('/root/.fastai/data/rossmann/rossmann.tgz'),\n",
              " PosixPath('/root/.fastai/data/rossmann/googletrend.csv'),\n",
              " PosixPath('/root/.fastai/data/rossmann/test.csv'),\n",
              " PosixPath('/root/.fastai/data/rossmann/train.csv')]"
            ]
          },
          "metadata": {
            "tags": []
          },
          "execution_count": 8
        }
      ]
    },
    {
      "metadata": {
        "id": "PuLk1BPCCUTX",
        "colab_type": "code",
        "colab": {}
      },
      "cell_type": "code",
      "source": [
        "table_names = [\"train\", \"store\", \"store_states\", \"state_names\", \"googletrend\", \"weather\", \"test\"]\n",
        "tables = [pd.read_csv(path/f\"{fname}.csv\", low_memory=False) for fname in table_names]"
      ],
      "execution_count": 0,
      "outputs": []
    },
    {
      "metadata": {
        "id": "6lglzx5PGEC8",
        "colab_type": "code",
        "colab": {}
      },
      "cell_type": "code",
      "source": [
        "train, store, store_states, state_names, googletrend, weather, test = tables"
      ],
      "execution_count": 0,
      "outputs": []
    },
    {
      "metadata": {
        "id": "GlPz5HE9GaTQ",
        "colab_type": "code",
        "outputId": "a997ac23-75b3-438d-8c4e-316ff49a2bda",
        "colab": {
          "base_uri": "https://localhost:8080/",
          "height": 34
        }
      },
      "cell_type": "code",
      "source": [
        "len(train), len(test)"
      ],
      "execution_count": 0,
      "outputs": [
        {
          "output_type": "execute_result",
          "data": {
            "text/plain": [
              "(1017209, 41088)"
            ]
          },
          "metadata": {
            "tags": []
          },
          "execution_count": 11
        }
      ]
    },
    {
      "metadata": {
        "id": "pEM23CDXGjs0",
        "colab_type": "text"
      },
      "cell_type": "markdown",
      "source": [
        "Turn `StateHoliday` to booleans, to make them more convenient for modeling."
      ]
    },
    {
      "metadata": {
        "id": "eWM9K0r_Gdhr",
        "colab_type": "code",
        "colab": {}
      },
      "cell_type": "code",
      "source": [
        "train.StateHoliday = train.StateHoliday != '0'\n",
        "test.StateHoliday = test.StateHoliday != '0'"
      ],
      "execution_count": 0,
      "outputs": []
    },
    {
      "metadata": {
        "id": "5pn_vLPtnkvU",
        "colab_type": "text"
      },
      "cell_type": "markdown",
      "source": [
        "join_df function is joining tables on specific fields.\n",
        "\n"
      ]
    },
    {
      "metadata": {
        "id": "HO5e9dSxG9xs",
        "colab_type": "code",
        "colab": {}
      },
      "cell_type": "code",
      "source": [
        "def join_df(left, right, left_on, right_on=None, suffix=\"_y\"):\n",
        "    if right_on is None: right_on = left_on\n",
        "    return left.merge(right, how=\"left\",\n",
        "                      left_on=left_on, \n",
        "                      right_on=right_on,\n",
        "                      suffixes=(\"\", suffix))"
      ],
      "execution_count": 0,
      "outputs": []
    },
    {
      "metadata": {
        "id": "aIkuTdqZoh0P",
        "colab_type": "code",
        "colab": {}
      },
      "cell_type": "code",
      "source": [
        "# Join weather and state names\n",
        "weather = join_df(weather, state_names, \"file\", \"StateName\")"
      ],
      "execution_count": 0,
      "outputs": []
    },
    {
      "metadata": {
        "id": "l3UdZaeGpUVF",
        "colab_type": "text"
      },
      "cell_type": "markdown",
      "source": [
        "Selecting rows w/ statename \"NI\" by using a boolean list `googletrend.State == \"NI\"` and selecting \"State\"."
      ]
    },
    {
      "metadata": {
        "id": "Ghr0xD8aouz6",
        "colab_type": "code",
        "colab": {}
      },
      "cell_type": "code",
      "source": [
        "googletrend[\"Date\"] = googletrend.week.str.split(\" - \", expand=True)[0]\n",
        "googletrend[\"State\"] = googletrend.file.str.split(\"_\", expand=True)[2]\n",
        "googletrend.loc[googletrend.State == \"NI\", \"State\"] = \"HB,NI\""
      ],
      "execution_count": 0,
      "outputs": []
    },
    {
      "metadata": {
        "id": "awKqSkcnp7Ez",
        "colab_type": "code",
        "colab": {}
      },
      "cell_type": "code",
      "source": [
        "def add_datepart(df, fldname, drop=True, time=False):\n",
        "    \"Add columns relevant to a date.\"\n",
        "    fld = df[fldname]\n",
        "    fld_dtype = fld.dtype\n",
        "    if isinstance(fld_dtype, pd.core.dtypes.dtypes.DatetimeTZDtype):\n",
        "        fld_dtype = np.datetime64\n",
        "        \n",
        "    if not np.issubdtype(fld_dtype, np.datetime64):\n",
        "        df[fldname] = fld = pd.to_datetime(fld, infer_datetime_format=True)\n",
        "        \n",
        "    targ_pre = re.sub(\"[Dd]ate$\", \"\", fldname)\n",
        "    attr = ['Year', 'Month', 'Week', 'Day', 'Dayofweek', 'Dayofyear',\n",
        "            'Is_month_end', 'Is_month_start', 'Is_quarter_end', 'Is_quarter_start', 'Is_year_end', 'Is_year_start']\n",
        "    if time: attr = attr + ['Hour', 'Minute', 'Second']\n",
        "    for n in attr: df[targ_pre + n] = getattr(fld.dt, n.lower())\n",
        "    df[targ_pre + 'Elapsed'] = fld.astype(np.int64) // 10 ** 9\n",
        "    if drop: df.drop(fldname, axis=1, inplace=True)"
      ],
      "execution_count": 0,
      "outputs": []
    },
    {
      "metadata": {
        "id": "jPA17jgorpID",
        "colab_type": "code",
        "colab": {}
      },
      "cell_type": "code",
      "source": [
        "add_datepart(weather, \"Date\", drop=False)"
      ],
      "execution_count": 0,
      "outputs": []
    },
    {
      "metadata": {
        "id": "m9eEpVgxr0J_",
        "colab_type": "code",
        "colab": {}
      },
      "cell_type": "code",
      "source": [
        "add_datepart(googletrend, \"Date\", drop=False)"
      ],
      "execution_count": 0,
      "outputs": []
    },
    {
      "metadata": {
        "id": "lFh-pcBMr5Ai",
        "colab_type": "code",
        "colab": {}
      },
      "cell_type": "code",
      "source": [
        "add_datepart(train, \"Date\", drop=False)"
      ],
      "execution_count": 0,
      "outputs": []
    },
    {
      "metadata": {
        "id": "gIiM58gQr8tK",
        "colab_type": "code",
        "colab": {}
      },
      "cell_type": "code",
      "source": [
        "add_datepart(test, \"Date\", drop=False)"
      ],
      "execution_count": 0,
      "outputs": []
    },
    {
      "metadata": {
        "id": "qxK6gH6-sGNU",
        "colab_type": "text"
      },
      "cell_type": "markdown",
      "source": [
        "The Google trends data has a special category for the whole of the Germany  - we'll pull that out so we can use it explicity."
      ]
    },
    {
      "metadata": {
        "id": "ispQvzBmsAVV",
        "colab_type": "code",
        "colab": {}
      },
      "cell_type": "code",
      "source": [
        "trend_de = googletrend[googletrend.file == \"Rossmann_DE\"]"
      ],
      "execution_count": 0,
      "outputs": []
    },
    {
      "metadata": {
        "id": "CjieEcpcsWUa",
        "colab_type": "code",
        "outputId": "b63fcd31-f2a9-4917-8254-70b2277f99fc",
        "colab": {
          "base_uri": "https://localhost:8080/",
          "height": 224
        }
      },
      "cell_type": "code",
      "source": [
        "store.head()"
      ],
      "execution_count": 0,
      "outputs": [
        {
          "output_type": "execute_result",
          "data": {
            "text/html": [
              "<div>\n",
              "<style scoped>\n",
              "    .dataframe tbody tr th:only-of-type {\n",
              "        vertical-align: middle;\n",
              "    }\n",
              "\n",
              "    .dataframe tbody tr th {\n",
              "        vertical-align: top;\n",
              "    }\n",
              "\n",
              "    .dataframe thead th {\n",
              "        text-align: right;\n",
              "    }\n",
              "</style>\n",
              "<table border=\"1\" class=\"dataframe\">\n",
              "  <thead>\n",
              "    <tr style=\"text-align: right;\">\n",
              "      <th></th>\n",
              "      <th>Store</th>\n",
              "      <th>StoreType</th>\n",
              "      <th>Assortment</th>\n",
              "      <th>CompetitionDistance</th>\n",
              "      <th>CompetitionOpenSinceMonth</th>\n",
              "      <th>CompetitionOpenSinceYear</th>\n",
              "      <th>Promo2</th>\n",
              "      <th>Promo2SinceWeek</th>\n",
              "      <th>Promo2SinceYear</th>\n",
              "      <th>PromoInterval</th>\n",
              "    </tr>\n",
              "  </thead>\n",
              "  <tbody>\n",
              "    <tr>\n",
              "      <th>0</th>\n",
              "      <td>1</td>\n",
              "      <td>c</td>\n",
              "      <td>a</td>\n",
              "      <td>1270.0</td>\n",
              "      <td>9.0</td>\n",
              "      <td>2008.0</td>\n",
              "      <td>0</td>\n",
              "      <td>NaN</td>\n",
              "      <td>NaN</td>\n",
              "      <td>NaN</td>\n",
              "    </tr>\n",
              "    <tr>\n",
              "      <th>1</th>\n",
              "      <td>2</td>\n",
              "      <td>a</td>\n",
              "      <td>a</td>\n",
              "      <td>570.0</td>\n",
              "      <td>11.0</td>\n",
              "      <td>2007.0</td>\n",
              "      <td>1</td>\n",
              "      <td>13.0</td>\n",
              "      <td>2010.0</td>\n",
              "      <td>Jan,Apr,Jul,Oct</td>\n",
              "    </tr>\n",
              "    <tr>\n",
              "      <th>2</th>\n",
              "      <td>3</td>\n",
              "      <td>a</td>\n",
              "      <td>a</td>\n",
              "      <td>14130.0</td>\n",
              "      <td>12.0</td>\n",
              "      <td>2006.0</td>\n",
              "      <td>1</td>\n",
              "      <td>14.0</td>\n",
              "      <td>2011.0</td>\n",
              "      <td>Jan,Apr,Jul,Oct</td>\n",
              "    </tr>\n",
              "    <tr>\n",
              "      <th>3</th>\n",
              "      <td>4</td>\n",
              "      <td>c</td>\n",
              "      <td>c</td>\n",
              "      <td>620.0</td>\n",
              "      <td>9.0</td>\n",
              "      <td>2009.0</td>\n",
              "      <td>0</td>\n",
              "      <td>NaN</td>\n",
              "      <td>NaN</td>\n",
              "      <td>NaN</td>\n",
              "    </tr>\n",
              "    <tr>\n",
              "      <th>4</th>\n",
              "      <td>5</td>\n",
              "      <td>a</td>\n",
              "      <td>a</td>\n",
              "      <td>29910.0</td>\n",
              "      <td>4.0</td>\n",
              "      <td>2015.0</td>\n",
              "      <td>0</td>\n",
              "      <td>NaN</td>\n",
              "      <td>NaN</td>\n",
              "      <td>NaN</td>\n",
              "    </tr>\n",
              "  </tbody>\n",
              "</table>\n",
              "</div>"
            ],
            "text/plain": [
              "   Store StoreType Assortment  CompetitionDistance  CompetitionOpenSinceMonth  \\\n",
              "0      1         c          a               1270.0                        9.0   \n",
              "1      2         a          a                570.0                       11.0   \n",
              "2      3         a          a              14130.0                       12.0   \n",
              "3      4         c          c                620.0                        9.0   \n",
              "4      5         a          a              29910.0                        4.0   \n",
              "\n",
              "   CompetitionOpenSinceYear  Promo2  Promo2SinceWeek  Promo2SinceYear  \\\n",
              "0                    2008.0       0              NaN              NaN   \n",
              "1                    2007.0       1             13.0           2010.0   \n",
              "2                    2006.0       1             14.0           2011.0   \n",
              "3                    2009.0       0              NaN              NaN   \n",
              "4                    2015.0       0              NaN              NaN   \n",
              "\n",
              "     PromoInterval  \n",
              "0              NaN  \n",
              "1  Jan,Apr,Jul,Oct  \n",
              "2  Jan,Apr,Jul,Oct  \n",
              "3              NaN  \n",
              "4              NaN  "
            ]
          },
          "metadata": {
            "tags": []
          },
          "execution_count": 22
        }
      ]
    },
    {
      "metadata": {
        "id": "wTrRrAs6upwk",
        "colab_type": "code",
        "outputId": "f5269baa-5cff-4b40-c3e8-462233ed0769",
        "colab": {
          "base_uri": "https://localhost:8080/",
          "height": 204
        }
      },
      "cell_type": "code",
      "source": [
        "store_states.head()"
      ],
      "execution_count": 0,
      "outputs": [
        {
          "output_type": "execute_result",
          "data": {
            "text/html": [
              "<div>\n",
              "<style scoped>\n",
              "    .dataframe tbody tr th:only-of-type {\n",
              "        vertical-align: middle;\n",
              "    }\n",
              "\n",
              "    .dataframe tbody tr th {\n",
              "        vertical-align: top;\n",
              "    }\n",
              "\n",
              "    .dataframe thead th {\n",
              "        text-align: right;\n",
              "    }\n",
              "</style>\n",
              "<table border=\"1\" class=\"dataframe\">\n",
              "  <thead>\n",
              "    <tr style=\"text-align: right;\">\n",
              "      <th></th>\n",
              "      <th>Store</th>\n",
              "      <th>State</th>\n",
              "    </tr>\n",
              "  </thead>\n",
              "  <tbody>\n",
              "    <tr>\n",
              "      <th>0</th>\n",
              "      <td>1</td>\n",
              "      <td>HE</td>\n",
              "    </tr>\n",
              "    <tr>\n",
              "      <th>1</th>\n",
              "      <td>2</td>\n",
              "      <td>TH</td>\n",
              "    </tr>\n",
              "    <tr>\n",
              "      <th>2</th>\n",
              "      <td>3</td>\n",
              "      <td>NW</td>\n",
              "    </tr>\n",
              "    <tr>\n",
              "      <th>3</th>\n",
              "      <td>4</td>\n",
              "      <td>BE</td>\n",
              "    </tr>\n",
              "    <tr>\n",
              "      <th>4</th>\n",
              "      <td>5</td>\n",
              "      <td>SN</td>\n",
              "    </tr>\n",
              "  </tbody>\n",
              "</table>\n",
              "</div>"
            ],
            "text/plain": [
              "   Store State\n",
              "0      1    HE\n",
              "1      2    TH\n",
              "2      3    NW\n",
              "3      4    BE\n",
              "4      5    SN"
            ]
          },
          "metadata": {
            "tags": []
          },
          "execution_count": 23
        }
      ]
    },
    {
      "metadata": {
        "id": "Bg-xA7cXuyy0",
        "colab_type": "code",
        "outputId": "b5514bf3-80b6-4d07-be72-3e9ad7508c2a",
        "colab": {
          "base_uri": "https://localhost:8080/",
          "height": 338
        }
      },
      "cell_type": "code",
      "source": [
        "train.head()"
      ],
      "execution_count": 0,
      "outputs": [
        {
          "output_type": "execute_result",
          "data": {
            "text/html": [
              "<div>\n",
              "<style scoped>\n",
              "    .dataframe tbody tr th:only-of-type {\n",
              "        vertical-align: middle;\n",
              "    }\n",
              "\n",
              "    .dataframe tbody tr th {\n",
              "        vertical-align: top;\n",
              "    }\n",
              "\n",
              "    .dataframe thead th {\n",
              "        text-align: right;\n",
              "    }\n",
              "</style>\n",
              "<table border=\"1\" class=\"dataframe\">\n",
              "  <thead>\n",
              "    <tr style=\"text-align: right;\">\n",
              "      <th></th>\n",
              "      <th>Store</th>\n",
              "      <th>DayOfWeek</th>\n",
              "      <th>Date</th>\n",
              "      <th>Sales</th>\n",
              "      <th>Customers</th>\n",
              "      <th>Open</th>\n",
              "      <th>Promo</th>\n",
              "      <th>StateHoliday</th>\n",
              "      <th>SchoolHoliday</th>\n",
              "      <th>Year</th>\n",
              "      <th>...</th>\n",
              "      <th>Day</th>\n",
              "      <th>Dayofweek</th>\n",
              "      <th>Dayofyear</th>\n",
              "      <th>Is_month_end</th>\n",
              "      <th>Is_month_start</th>\n",
              "      <th>Is_quarter_end</th>\n",
              "      <th>Is_quarter_start</th>\n",
              "      <th>Is_year_end</th>\n",
              "      <th>Is_year_start</th>\n",
              "      <th>Elapsed</th>\n",
              "    </tr>\n",
              "  </thead>\n",
              "  <tbody>\n",
              "    <tr>\n",
              "      <th>0</th>\n",
              "      <td>1</td>\n",
              "      <td>5</td>\n",
              "      <td>2015-07-31</td>\n",
              "      <td>5263</td>\n",
              "      <td>555</td>\n",
              "      <td>1</td>\n",
              "      <td>1</td>\n",
              "      <td>False</td>\n",
              "      <td>1</td>\n",
              "      <td>2015</td>\n",
              "      <td>...</td>\n",
              "      <td>31</td>\n",
              "      <td>4</td>\n",
              "      <td>212</td>\n",
              "      <td>True</td>\n",
              "      <td>False</td>\n",
              "      <td>False</td>\n",
              "      <td>False</td>\n",
              "      <td>False</td>\n",
              "      <td>False</td>\n",
              "      <td>1438300800</td>\n",
              "    </tr>\n",
              "    <tr>\n",
              "      <th>1</th>\n",
              "      <td>2</td>\n",
              "      <td>5</td>\n",
              "      <td>2015-07-31</td>\n",
              "      <td>6064</td>\n",
              "      <td>625</td>\n",
              "      <td>1</td>\n",
              "      <td>1</td>\n",
              "      <td>False</td>\n",
              "      <td>1</td>\n",
              "      <td>2015</td>\n",
              "      <td>...</td>\n",
              "      <td>31</td>\n",
              "      <td>4</td>\n",
              "      <td>212</td>\n",
              "      <td>True</td>\n",
              "      <td>False</td>\n",
              "      <td>False</td>\n",
              "      <td>False</td>\n",
              "      <td>False</td>\n",
              "      <td>False</td>\n",
              "      <td>1438300800</td>\n",
              "    </tr>\n",
              "    <tr>\n",
              "      <th>2</th>\n",
              "      <td>3</td>\n",
              "      <td>5</td>\n",
              "      <td>2015-07-31</td>\n",
              "      <td>8314</td>\n",
              "      <td>821</td>\n",
              "      <td>1</td>\n",
              "      <td>1</td>\n",
              "      <td>False</td>\n",
              "      <td>1</td>\n",
              "      <td>2015</td>\n",
              "      <td>...</td>\n",
              "      <td>31</td>\n",
              "      <td>4</td>\n",
              "      <td>212</td>\n",
              "      <td>True</td>\n",
              "      <td>False</td>\n",
              "      <td>False</td>\n",
              "      <td>False</td>\n",
              "      <td>False</td>\n",
              "      <td>False</td>\n",
              "      <td>1438300800</td>\n",
              "    </tr>\n",
              "    <tr>\n",
              "      <th>3</th>\n",
              "      <td>4</td>\n",
              "      <td>5</td>\n",
              "      <td>2015-07-31</td>\n",
              "      <td>13995</td>\n",
              "      <td>1498</td>\n",
              "      <td>1</td>\n",
              "      <td>1</td>\n",
              "      <td>False</td>\n",
              "      <td>1</td>\n",
              "      <td>2015</td>\n",
              "      <td>...</td>\n",
              "      <td>31</td>\n",
              "      <td>4</td>\n",
              "      <td>212</td>\n",
              "      <td>True</td>\n",
              "      <td>False</td>\n",
              "      <td>False</td>\n",
              "      <td>False</td>\n",
              "      <td>False</td>\n",
              "      <td>False</td>\n",
              "      <td>1438300800</td>\n",
              "    </tr>\n",
              "    <tr>\n",
              "      <th>4</th>\n",
              "      <td>5</td>\n",
              "      <td>5</td>\n",
              "      <td>2015-07-31</td>\n",
              "      <td>4822</td>\n",
              "      <td>559</td>\n",
              "      <td>1</td>\n",
              "      <td>1</td>\n",
              "      <td>False</td>\n",
              "      <td>1</td>\n",
              "      <td>2015</td>\n",
              "      <td>...</td>\n",
              "      <td>31</td>\n",
              "      <td>4</td>\n",
              "      <td>212</td>\n",
              "      <td>True</td>\n",
              "      <td>False</td>\n",
              "      <td>False</td>\n",
              "      <td>False</td>\n",
              "      <td>False</td>\n",
              "      <td>False</td>\n",
              "      <td>1438300800</td>\n",
              "    </tr>\n",
              "  </tbody>\n",
              "</table>\n",
              "<p>5 rows × 22 columns</p>\n",
              "</div>"
            ],
            "text/plain": [
              "   Store  DayOfWeek       Date  Sales  Customers  Open  Promo  StateHoliday  \\\n",
              "0      1          5 2015-07-31   5263        555     1      1         False   \n",
              "1      2          5 2015-07-31   6064        625     1      1         False   \n",
              "2      3          5 2015-07-31   8314        821     1      1         False   \n",
              "3      4          5 2015-07-31  13995       1498     1      1         False   \n",
              "4      5          5 2015-07-31   4822        559     1      1         False   \n",
              "\n",
              "   SchoolHoliday  Year     ...      Day  Dayofweek  Dayofyear  Is_month_end  \\\n",
              "0              1  2015     ...       31          4        212          True   \n",
              "1              1  2015     ...       31          4        212          True   \n",
              "2              1  2015     ...       31          4        212          True   \n",
              "3              1  2015     ...       31          4        212          True   \n",
              "4              1  2015     ...       31          4        212          True   \n",
              "\n",
              "   Is_month_start  Is_quarter_end  Is_quarter_start  Is_year_end  \\\n",
              "0           False           False             False        False   \n",
              "1           False           False             False        False   \n",
              "2           False           False             False        False   \n",
              "3           False           False             False        False   \n",
              "4           False           False             False        False   \n",
              "\n",
              "   Is_year_start     Elapsed  \n",
              "0          False  1438300800  \n",
              "1          False  1438300800  \n",
              "2          False  1438300800  \n",
              "3          False  1438300800  \n",
              "4          False  1438300800  \n",
              "\n",
              "[5 rows x 22 columns]"
            ]
          },
          "metadata": {
            "tags": []
          },
          "execution_count": 24
        }
      ]
    },
    {
      "metadata": {
        "id": "DcjHLukxu2JA",
        "colab_type": "code",
        "outputId": "5d74fe20-fd1d-44be-bf78-632b71aad2e1",
        "colab": {
          "base_uri": "https://localhost:8080/",
          "height": 338
        }
      },
      "cell_type": "code",
      "source": [
        "test.head()"
      ],
      "execution_count": 0,
      "outputs": [
        {
          "output_type": "execute_result",
          "data": {
            "text/html": [
              "<div>\n",
              "<style scoped>\n",
              "    .dataframe tbody tr th:only-of-type {\n",
              "        vertical-align: middle;\n",
              "    }\n",
              "\n",
              "    .dataframe tbody tr th {\n",
              "        vertical-align: top;\n",
              "    }\n",
              "\n",
              "    .dataframe thead th {\n",
              "        text-align: right;\n",
              "    }\n",
              "</style>\n",
              "<table border=\"1\" class=\"dataframe\">\n",
              "  <thead>\n",
              "    <tr style=\"text-align: right;\">\n",
              "      <th></th>\n",
              "      <th>Id</th>\n",
              "      <th>Store</th>\n",
              "      <th>DayOfWeek</th>\n",
              "      <th>Date</th>\n",
              "      <th>Open</th>\n",
              "      <th>Promo</th>\n",
              "      <th>StateHoliday</th>\n",
              "      <th>SchoolHoliday</th>\n",
              "      <th>Year</th>\n",
              "      <th>Month</th>\n",
              "      <th>...</th>\n",
              "      <th>Day</th>\n",
              "      <th>Dayofweek</th>\n",
              "      <th>Dayofyear</th>\n",
              "      <th>Is_month_end</th>\n",
              "      <th>Is_month_start</th>\n",
              "      <th>Is_quarter_end</th>\n",
              "      <th>Is_quarter_start</th>\n",
              "      <th>Is_year_end</th>\n",
              "      <th>Is_year_start</th>\n",
              "      <th>Elapsed</th>\n",
              "    </tr>\n",
              "  </thead>\n",
              "  <tbody>\n",
              "    <tr>\n",
              "      <th>0</th>\n",
              "      <td>1</td>\n",
              "      <td>1</td>\n",
              "      <td>4</td>\n",
              "      <td>2015-09-17</td>\n",
              "      <td>1.0</td>\n",
              "      <td>1</td>\n",
              "      <td>False</td>\n",
              "      <td>0</td>\n",
              "      <td>2015</td>\n",
              "      <td>9</td>\n",
              "      <td>...</td>\n",
              "      <td>17</td>\n",
              "      <td>3</td>\n",
              "      <td>260</td>\n",
              "      <td>False</td>\n",
              "      <td>False</td>\n",
              "      <td>False</td>\n",
              "      <td>False</td>\n",
              "      <td>False</td>\n",
              "      <td>False</td>\n",
              "      <td>1442448000</td>\n",
              "    </tr>\n",
              "    <tr>\n",
              "      <th>1</th>\n",
              "      <td>2</td>\n",
              "      <td>3</td>\n",
              "      <td>4</td>\n",
              "      <td>2015-09-17</td>\n",
              "      <td>1.0</td>\n",
              "      <td>1</td>\n",
              "      <td>False</td>\n",
              "      <td>0</td>\n",
              "      <td>2015</td>\n",
              "      <td>9</td>\n",
              "      <td>...</td>\n",
              "      <td>17</td>\n",
              "      <td>3</td>\n",
              "      <td>260</td>\n",
              "      <td>False</td>\n",
              "      <td>False</td>\n",
              "      <td>False</td>\n",
              "      <td>False</td>\n",
              "      <td>False</td>\n",
              "      <td>False</td>\n",
              "      <td>1442448000</td>\n",
              "    </tr>\n",
              "    <tr>\n",
              "      <th>2</th>\n",
              "      <td>3</td>\n",
              "      <td>7</td>\n",
              "      <td>4</td>\n",
              "      <td>2015-09-17</td>\n",
              "      <td>1.0</td>\n",
              "      <td>1</td>\n",
              "      <td>False</td>\n",
              "      <td>0</td>\n",
              "      <td>2015</td>\n",
              "      <td>9</td>\n",
              "      <td>...</td>\n",
              "      <td>17</td>\n",
              "      <td>3</td>\n",
              "      <td>260</td>\n",
              "      <td>False</td>\n",
              "      <td>False</td>\n",
              "      <td>False</td>\n",
              "      <td>False</td>\n",
              "      <td>False</td>\n",
              "      <td>False</td>\n",
              "      <td>1442448000</td>\n",
              "    </tr>\n",
              "    <tr>\n",
              "      <th>3</th>\n",
              "      <td>4</td>\n",
              "      <td>8</td>\n",
              "      <td>4</td>\n",
              "      <td>2015-09-17</td>\n",
              "      <td>1.0</td>\n",
              "      <td>1</td>\n",
              "      <td>False</td>\n",
              "      <td>0</td>\n",
              "      <td>2015</td>\n",
              "      <td>9</td>\n",
              "      <td>...</td>\n",
              "      <td>17</td>\n",
              "      <td>3</td>\n",
              "      <td>260</td>\n",
              "      <td>False</td>\n",
              "      <td>False</td>\n",
              "      <td>False</td>\n",
              "      <td>False</td>\n",
              "      <td>False</td>\n",
              "      <td>False</td>\n",
              "      <td>1442448000</td>\n",
              "    </tr>\n",
              "    <tr>\n",
              "      <th>4</th>\n",
              "      <td>5</td>\n",
              "      <td>9</td>\n",
              "      <td>4</td>\n",
              "      <td>2015-09-17</td>\n",
              "      <td>1.0</td>\n",
              "      <td>1</td>\n",
              "      <td>False</td>\n",
              "      <td>0</td>\n",
              "      <td>2015</td>\n",
              "      <td>9</td>\n",
              "      <td>...</td>\n",
              "      <td>17</td>\n",
              "      <td>3</td>\n",
              "      <td>260</td>\n",
              "      <td>False</td>\n",
              "      <td>False</td>\n",
              "      <td>False</td>\n",
              "      <td>False</td>\n",
              "      <td>False</td>\n",
              "      <td>False</td>\n",
              "      <td>1442448000</td>\n",
              "    </tr>\n",
              "  </tbody>\n",
              "</table>\n",
              "<p>5 rows × 21 columns</p>\n",
              "</div>"
            ],
            "text/plain": [
              "   Id  Store  DayOfWeek       Date  Open  Promo  StateHoliday  SchoolHoliday  \\\n",
              "0   1      1          4 2015-09-17   1.0      1         False              0   \n",
              "1   2      3          4 2015-09-17   1.0      1         False              0   \n",
              "2   3      7          4 2015-09-17   1.0      1         False              0   \n",
              "3   4      8          4 2015-09-17   1.0      1         False              0   \n",
              "4   5      9          4 2015-09-17   1.0      1         False              0   \n",
              "\n",
              "   Year  Month     ...      Day  Dayofweek  Dayofyear  Is_month_end  \\\n",
              "0  2015      9     ...       17          3        260         False   \n",
              "1  2015      9     ...       17          3        260         False   \n",
              "2  2015      9     ...       17          3        260         False   \n",
              "3  2015      9     ...       17          3        260         False   \n",
              "4  2015      9     ...       17          3        260         False   \n",
              "\n",
              "   Is_month_start  Is_quarter_end  Is_quarter_start  Is_year_end  \\\n",
              "0           False           False             False        False   \n",
              "1           False           False             False        False   \n",
              "2           False           False             False        False   \n",
              "3           False           False             False        False   \n",
              "4           False           False             False        False   \n",
              "\n",
              "   Is_year_start     Elapsed  \n",
              "0          False  1442448000  \n",
              "1          False  1442448000  \n",
              "2          False  1442448000  \n",
              "3          False  1442448000  \n",
              "4          False  1442448000  \n",
              "\n",
              "[5 rows x 21 columns]"
            ]
          },
          "metadata": {
            "tags": []
          },
          "execution_count": 25
        }
      ]
    },
    {
      "metadata": {
        "id": "wlmKSU0Du3xi",
        "colab_type": "code",
        "outputId": "e0460169-fe51-4716-b189-b4d2701e226f",
        "colab": {
          "base_uri": "https://localhost:8080/",
          "height": 34
        }
      },
      "cell_type": "code",
      "source": [
        "store = join_df(store, store_states, 'Store')\n",
        "len(store[store.State.isnull()])"
      ],
      "execution_count": 0,
      "outputs": [
        {
          "output_type": "execute_result",
          "data": {
            "text/plain": [
              "0"
            ]
          },
          "metadata": {
            "tags": []
          },
          "execution_count": 26
        }
      ]
    },
    {
      "metadata": {
        "id": "0BFPl0D2vEU3",
        "colab_type": "code",
        "outputId": "91d8aa1d-ef3b-4258-bc36-71d3e6974469",
        "colab": {
          "base_uri": "https://localhost:8080/",
          "height": 34
        }
      },
      "cell_type": "code",
      "source": [
        "joined = join_df(train, store, \"Store\")\n",
        "joined_test = join_df(test, store, \"Store\")\n",
        "len(joined[joined.StoreType.isnull()]), len(joined_test[joined_test.StoreType.isnull()])"
      ],
      "execution_count": 0,
      "outputs": [
        {
          "output_type": "execute_result",
          "data": {
            "text/plain": [
              "(0, 0)"
            ]
          },
          "metadata": {
            "tags": []
          },
          "execution_count": 27
        }
      ]
    },
    {
      "metadata": {
        "id": "5pTKtWEkvY8T",
        "colab_type": "code",
        "outputId": "e4b0acbe-a38e-4500-e002-f95c1dc7d4d9",
        "colab": {
          "base_uri": "https://localhost:8080/",
          "height": 34
        }
      },
      "cell_type": "code",
      "source": [
        "joined = join_df(joined, googletrend, [\"State\",\"Year\", \"Week\"])\n",
        "joined_test = join_df(joined_test, googletrend, [\"State\",\"Year\", \"Week\"])\n",
        "len(joined[joined.trend.isnull()]),len(joined_test[joined_test.trend.isnull()])"
      ],
      "execution_count": 0,
      "outputs": [
        {
          "output_type": "execute_result",
          "data": {
            "text/plain": [
              "(0, 0)"
            ]
          },
          "metadata": {
            "tags": []
          },
          "execution_count": 28
        }
      ]
    },
    {
      "metadata": {
        "id": "eGtzDsbpvlTh",
        "colab_type": "code",
        "outputId": "4610777f-d6b0-45ec-f535-e2044958b20d",
        "colab": {
          "base_uri": "https://localhost:8080/",
          "height": 34
        }
      },
      "cell_type": "code",
      "source": [
        "joined = joined.merge(trend_de, 'left', [\"Year\", \"Week\"], suffixes=('', '_DE'))\n",
        "joined_test = joined_test.merge(trend_de, 'left', [\"Year\", \"Week\"], suffixes=('', '_DE'))\n",
        "len(joined[joined.trend_DE.isnull()]),len(joined_test[joined_test.trend_DE.isnull()])"
      ],
      "execution_count": 0,
      "outputs": [
        {
          "output_type": "execute_result",
          "data": {
            "text/plain": [
              "(0, 0)"
            ]
          },
          "metadata": {
            "tags": []
          },
          "execution_count": 29
        }
      ]
    },
    {
      "metadata": {
        "id": "Tji5wQ9VwBbX",
        "colab_type": "code",
        "outputId": "2c74b9e6-65ea-4085-e768-dc81dce015fb",
        "colab": {
          "base_uri": "https://localhost:8080/",
          "height": 34
        }
      },
      "cell_type": "code",
      "source": [
        "joined = join_df(joined, weather, [\"State\",\"Date\"])\n",
        "joined_test = join_df(joined_test, weather, [\"State\",\"Date\"])\n",
        "len(joined[joined.Mean_TemperatureC.isnull()]),len(joined_test[joined_test.Mean_TemperatureC.isnull()])"
      ],
      "execution_count": 0,
      "outputs": [
        {
          "output_type": "execute_result",
          "data": {
            "text/plain": [
              "(0, 0)"
            ]
          },
          "metadata": {
            "tags": []
          },
          "execution_count": 30
        }
      ]
    },
    {
      "metadata": {
        "id": "2WpNNu1swInm",
        "colab_type": "code",
        "colab": {}
      },
      "cell_type": "code",
      "source": [
        "for df in (joined, joined_test):\n",
        "    for c in df.columns:\n",
        "        if c.endswith(\"_y\"):\n",
        "            if c in df.columns:\n",
        "                df.drop(c, inplace=True, axis=1)"
      ],
      "execution_count": 0,
      "outputs": []
    },
    {
      "metadata": {
        "id": "Ecks31orwpzz",
        "colab_type": "text"
      },
      "cell_type": "markdown",
      "source": [
        "Fill missing values to avoid complications with `NA`s. `NA`stand for not available that is how Pandas indicates missing values; many models have problems when missing value are present, so it's always important to think about how to deal with them.\n",
        "\n",
        "In these cases, we are picking an arbitary single value that doesn't otherwise appear in the data.\n"
      ]
    },
    {
      "metadata": {
        "id": "MaDXnkhPxWVC",
        "colab_type": "code",
        "outputId": "028b6463-eeeb-48fe-d5f0-c86dcbe91ddf",
        "colab": {
          "base_uri": "https://localhost:8080/",
          "height": 338
        }
      },
      "cell_type": "code",
      "source": [
        "joined.head()"
      ],
      "execution_count": 0,
      "outputs": [
        {
          "output_type": "execute_result",
          "data": {
            "text/html": [
              "<div>\n",
              "<style scoped>\n",
              "    .dataframe tbody tr th:only-of-type {\n",
              "        vertical-align: middle;\n",
              "    }\n",
              "\n",
              "    .dataframe tbody tr th {\n",
              "        vertical-align: top;\n",
              "    }\n",
              "\n",
              "    .dataframe thead th {\n",
              "        text-align: right;\n",
              "    }\n",
              "</style>\n",
              "<table border=\"1\" class=\"dataframe\">\n",
              "  <thead>\n",
              "    <tr style=\"text-align: right;\">\n",
              "      <th></th>\n",
              "      <th>Store</th>\n",
              "      <th>DayOfWeek</th>\n",
              "      <th>Date</th>\n",
              "      <th>Sales</th>\n",
              "      <th>Customers</th>\n",
              "      <th>Open</th>\n",
              "      <th>Promo</th>\n",
              "      <th>StateHoliday</th>\n",
              "      <th>SchoolHoliday</th>\n",
              "      <th>Year</th>\n",
              "      <th>...</th>\n",
              "      <th>Mean_VisibilityKm</th>\n",
              "      <th>Min_VisibilitykM</th>\n",
              "      <th>Max_Wind_SpeedKm_h</th>\n",
              "      <th>Mean_Wind_SpeedKm_h</th>\n",
              "      <th>Max_Gust_SpeedKm_h</th>\n",
              "      <th>Precipitationmm</th>\n",
              "      <th>CloudCover</th>\n",
              "      <th>Events</th>\n",
              "      <th>WindDirDegrees</th>\n",
              "      <th>StateName</th>\n",
              "    </tr>\n",
              "  </thead>\n",
              "  <tbody>\n",
              "    <tr>\n",
              "      <th>0</th>\n",
              "      <td>1</td>\n",
              "      <td>5</td>\n",
              "      <td>2015-07-31</td>\n",
              "      <td>5263</td>\n",
              "      <td>555</td>\n",
              "      <td>1</td>\n",
              "      <td>1</td>\n",
              "      <td>False</td>\n",
              "      <td>1</td>\n",
              "      <td>2015</td>\n",
              "      <td>...</td>\n",
              "      <td>15.0</td>\n",
              "      <td>10.0</td>\n",
              "      <td>24</td>\n",
              "      <td>11</td>\n",
              "      <td>NaN</td>\n",
              "      <td>0.0</td>\n",
              "      <td>1.0</td>\n",
              "      <td>Fog</td>\n",
              "      <td>13</td>\n",
              "      <td>Hessen</td>\n",
              "    </tr>\n",
              "    <tr>\n",
              "      <th>1</th>\n",
              "      <td>2</td>\n",
              "      <td>5</td>\n",
              "      <td>2015-07-31</td>\n",
              "      <td>6064</td>\n",
              "      <td>625</td>\n",
              "      <td>1</td>\n",
              "      <td>1</td>\n",
              "      <td>False</td>\n",
              "      <td>1</td>\n",
              "      <td>2015</td>\n",
              "      <td>...</td>\n",
              "      <td>10.0</td>\n",
              "      <td>10.0</td>\n",
              "      <td>14</td>\n",
              "      <td>11</td>\n",
              "      <td>NaN</td>\n",
              "      <td>0.0</td>\n",
              "      <td>4.0</td>\n",
              "      <td>Fog</td>\n",
              "      <td>309</td>\n",
              "      <td>Thueringen</td>\n",
              "    </tr>\n",
              "    <tr>\n",
              "      <th>2</th>\n",
              "      <td>3</td>\n",
              "      <td>5</td>\n",
              "      <td>2015-07-31</td>\n",
              "      <td>8314</td>\n",
              "      <td>821</td>\n",
              "      <td>1</td>\n",
              "      <td>1</td>\n",
              "      <td>False</td>\n",
              "      <td>1</td>\n",
              "      <td>2015</td>\n",
              "      <td>...</td>\n",
              "      <td>14.0</td>\n",
              "      <td>10.0</td>\n",
              "      <td>14</td>\n",
              "      <td>5</td>\n",
              "      <td>NaN</td>\n",
              "      <td>0.0</td>\n",
              "      <td>2.0</td>\n",
              "      <td>Fog</td>\n",
              "      <td>354</td>\n",
              "      <td>NordrheinWestfalen</td>\n",
              "    </tr>\n",
              "    <tr>\n",
              "      <th>3</th>\n",
              "      <td>4</td>\n",
              "      <td>5</td>\n",
              "      <td>2015-07-31</td>\n",
              "      <td>13995</td>\n",
              "      <td>1498</td>\n",
              "      <td>1</td>\n",
              "      <td>1</td>\n",
              "      <td>False</td>\n",
              "      <td>1</td>\n",
              "      <td>2015</td>\n",
              "      <td>...</td>\n",
              "      <td>10.0</td>\n",
              "      <td>10.0</td>\n",
              "      <td>23</td>\n",
              "      <td>16</td>\n",
              "      <td>NaN</td>\n",
              "      <td>0.0</td>\n",
              "      <td>6.0</td>\n",
              "      <td>NaN</td>\n",
              "      <td>282</td>\n",
              "      <td>Berlin</td>\n",
              "    </tr>\n",
              "    <tr>\n",
              "      <th>4</th>\n",
              "      <td>5</td>\n",
              "      <td>5</td>\n",
              "      <td>2015-07-31</td>\n",
              "      <td>4822</td>\n",
              "      <td>559</td>\n",
              "      <td>1</td>\n",
              "      <td>1</td>\n",
              "      <td>False</td>\n",
              "      <td>1</td>\n",
              "      <td>2015</td>\n",
              "      <td>...</td>\n",
              "      <td>10.0</td>\n",
              "      <td>10.0</td>\n",
              "      <td>14</td>\n",
              "      <td>11</td>\n",
              "      <td>NaN</td>\n",
              "      <td>0.0</td>\n",
              "      <td>4.0</td>\n",
              "      <td>NaN</td>\n",
              "      <td>290</td>\n",
              "      <td>Sachsen</td>\n",
              "    </tr>\n",
              "  </tbody>\n",
              "</table>\n",
              "<p>5 rows × 74 columns</p>\n",
              "</div>"
            ],
            "text/plain": [
              "   Store  DayOfWeek       Date  Sales  Customers  Open  Promo  StateHoliday  \\\n",
              "0      1          5 2015-07-31   5263        555     1      1         False   \n",
              "1      2          5 2015-07-31   6064        625     1      1         False   \n",
              "2      3          5 2015-07-31   8314        821     1      1         False   \n",
              "3      4          5 2015-07-31  13995       1498     1      1         False   \n",
              "4      5          5 2015-07-31   4822        559     1      1         False   \n",
              "\n",
              "   SchoolHoliday  Year         ...          Mean_VisibilityKm  \\\n",
              "0              1  2015         ...                       15.0   \n",
              "1              1  2015         ...                       10.0   \n",
              "2              1  2015         ...                       14.0   \n",
              "3              1  2015         ...                       10.0   \n",
              "4              1  2015         ...                       10.0   \n",
              "\n",
              "   Min_VisibilitykM  Max_Wind_SpeedKm_h  Mean_Wind_SpeedKm_h  \\\n",
              "0              10.0                  24                   11   \n",
              "1              10.0                  14                   11   \n",
              "2              10.0                  14                    5   \n",
              "3              10.0                  23                   16   \n",
              "4              10.0                  14                   11   \n",
              "\n",
              "   Max_Gust_SpeedKm_h  Precipitationmm  CloudCover  Events  WindDirDegrees  \\\n",
              "0                 NaN              0.0         1.0     Fog              13   \n",
              "1                 NaN              0.0         4.0     Fog             309   \n",
              "2                 NaN              0.0         2.0     Fog             354   \n",
              "3                 NaN              0.0         6.0     NaN             282   \n",
              "4                 NaN              0.0         4.0     NaN             290   \n",
              "\n",
              "            StateName  \n",
              "0              Hessen  \n",
              "1          Thueringen  \n",
              "2  NordrheinWestfalen  \n",
              "3              Berlin  \n",
              "4             Sachsen  \n",
              "\n",
              "[5 rows x 74 columns]"
            ]
          },
          "metadata": {
            "tags": []
          },
          "execution_count": 32
        }
      ]
    },
    {
      "metadata": {
        "id": "83OexMVRxZLR",
        "colab_type": "code",
        "outputId": "caf6670d-c8d5-4f72-bc98-d1e1538aaf8c",
        "colab": {
          "base_uri": "https://localhost:8080/",
          "height": 338
        }
      },
      "cell_type": "code",
      "source": [
        "joined_test.head()"
      ],
      "execution_count": 0,
      "outputs": [
        {
          "output_type": "execute_result",
          "data": {
            "text/html": [
              "<div>\n",
              "<style scoped>\n",
              "    .dataframe tbody tr th:only-of-type {\n",
              "        vertical-align: middle;\n",
              "    }\n",
              "\n",
              "    .dataframe tbody tr th {\n",
              "        vertical-align: top;\n",
              "    }\n",
              "\n",
              "    .dataframe thead th {\n",
              "        text-align: right;\n",
              "    }\n",
              "</style>\n",
              "<table border=\"1\" class=\"dataframe\">\n",
              "  <thead>\n",
              "    <tr style=\"text-align: right;\">\n",
              "      <th></th>\n",
              "      <th>Id</th>\n",
              "      <th>Store</th>\n",
              "      <th>DayOfWeek</th>\n",
              "      <th>Date</th>\n",
              "      <th>Open</th>\n",
              "      <th>Promo</th>\n",
              "      <th>StateHoliday</th>\n",
              "      <th>SchoolHoliday</th>\n",
              "      <th>Year</th>\n",
              "      <th>Month</th>\n",
              "      <th>...</th>\n",
              "      <th>Mean_VisibilityKm</th>\n",
              "      <th>Min_VisibilitykM</th>\n",
              "      <th>Max_Wind_SpeedKm_h</th>\n",
              "      <th>Mean_Wind_SpeedKm_h</th>\n",
              "      <th>Max_Gust_SpeedKm_h</th>\n",
              "      <th>Precipitationmm</th>\n",
              "      <th>CloudCover</th>\n",
              "      <th>Events</th>\n",
              "      <th>WindDirDegrees</th>\n",
              "      <th>StateName</th>\n",
              "    </tr>\n",
              "  </thead>\n",
              "  <tbody>\n",
              "    <tr>\n",
              "      <th>0</th>\n",
              "      <td>1</td>\n",
              "      <td>1</td>\n",
              "      <td>4</td>\n",
              "      <td>2015-09-17</td>\n",
              "      <td>1.0</td>\n",
              "      <td>1</td>\n",
              "      <td>False</td>\n",
              "      <td>0</td>\n",
              "      <td>2015</td>\n",
              "      <td>9</td>\n",
              "      <td>...</td>\n",
              "      <td>12.0</td>\n",
              "      <td>7.0</td>\n",
              "      <td>29</td>\n",
              "      <td>14</td>\n",
              "      <td>NaN</td>\n",
              "      <td>7.11</td>\n",
              "      <td>6.0</td>\n",
              "      <td>Rain</td>\n",
              "      <td>191</td>\n",
              "      <td>Hessen</td>\n",
              "    </tr>\n",
              "    <tr>\n",
              "      <th>1</th>\n",
              "      <td>2</td>\n",
              "      <td>3</td>\n",
              "      <td>4</td>\n",
              "      <td>2015-09-17</td>\n",
              "      <td>1.0</td>\n",
              "      <td>1</td>\n",
              "      <td>False</td>\n",
              "      <td>0</td>\n",
              "      <td>2015</td>\n",
              "      <td>9</td>\n",
              "      <td>...</td>\n",
              "      <td>12.0</td>\n",
              "      <td>8.0</td>\n",
              "      <td>37</td>\n",
              "      <td>26</td>\n",
              "      <td>53.0</td>\n",
              "      <td>3.05</td>\n",
              "      <td>6.0</td>\n",
              "      <td>Rain</td>\n",
              "      <td>187</td>\n",
              "      <td>NordrheinWestfalen</td>\n",
              "    </tr>\n",
              "    <tr>\n",
              "      <th>2</th>\n",
              "      <td>3</td>\n",
              "      <td>7</td>\n",
              "      <td>4</td>\n",
              "      <td>2015-09-17</td>\n",
              "      <td>1.0</td>\n",
              "      <td>1</td>\n",
              "      <td>False</td>\n",
              "      <td>0</td>\n",
              "      <td>2015</td>\n",
              "      <td>9</td>\n",
              "      <td>...</td>\n",
              "      <td>10.0</td>\n",
              "      <td>2.0</td>\n",
              "      <td>29</td>\n",
              "      <td>14</td>\n",
              "      <td>45.0</td>\n",
              "      <td>0.76</td>\n",
              "      <td>5.0</td>\n",
              "      <td>Rain</td>\n",
              "      <td>209</td>\n",
              "      <td>SchleswigHolstein</td>\n",
              "    </tr>\n",
              "    <tr>\n",
              "      <th>3</th>\n",
              "      <td>4</td>\n",
              "      <td>8</td>\n",
              "      <td>4</td>\n",
              "      <td>2015-09-17</td>\n",
              "      <td>1.0</td>\n",
              "      <td>1</td>\n",
              "      <td>False</td>\n",
              "      <td>0</td>\n",
              "      <td>2015</td>\n",
              "      <td>9</td>\n",
              "      <td>...</td>\n",
              "      <td>10.0</td>\n",
              "      <td>2.0</td>\n",
              "      <td>29</td>\n",
              "      <td>14</td>\n",
              "      <td>45.0</td>\n",
              "      <td>0.76</td>\n",
              "      <td>5.0</td>\n",
              "      <td>Rain</td>\n",
              "      <td>209</td>\n",
              "      <td>SchleswigHolstein</td>\n",
              "    </tr>\n",
              "    <tr>\n",
              "      <th>4</th>\n",
              "      <td>5</td>\n",
              "      <td>9</td>\n",
              "      <td>4</td>\n",
              "      <td>2015-09-17</td>\n",
              "      <td>1.0</td>\n",
              "      <td>1</td>\n",
              "      <td>False</td>\n",
              "      <td>0</td>\n",
              "      <td>2015</td>\n",
              "      <td>9</td>\n",
              "      <td>...</td>\n",
              "      <td>12.0</td>\n",
              "      <td>8.0</td>\n",
              "      <td>37</td>\n",
              "      <td>26</td>\n",
              "      <td>53.0</td>\n",
              "      <td>3.05</td>\n",
              "      <td>6.0</td>\n",
              "      <td>Rain</td>\n",
              "      <td>187</td>\n",
              "      <td>NordrheinWestfalen</td>\n",
              "    </tr>\n",
              "  </tbody>\n",
              "</table>\n",
              "<p>5 rows × 73 columns</p>\n",
              "</div>"
            ],
            "text/plain": [
              "   Id  Store  DayOfWeek       Date  Open  Promo  StateHoliday  SchoolHoliday  \\\n",
              "0   1      1          4 2015-09-17   1.0      1         False              0   \n",
              "1   2      3          4 2015-09-17   1.0      1         False              0   \n",
              "2   3      7          4 2015-09-17   1.0      1         False              0   \n",
              "3   4      8          4 2015-09-17   1.0      1         False              0   \n",
              "4   5      9          4 2015-09-17   1.0      1         False              0   \n",
              "\n",
              "   Year  Month         ...          Mean_VisibilityKm  Min_VisibilitykM  \\\n",
              "0  2015      9         ...                       12.0               7.0   \n",
              "1  2015      9         ...                       12.0               8.0   \n",
              "2  2015      9         ...                       10.0               2.0   \n",
              "3  2015      9         ...                       10.0               2.0   \n",
              "4  2015      9         ...                       12.0               8.0   \n",
              "\n",
              "   Max_Wind_SpeedKm_h  Mean_Wind_SpeedKm_h  Max_Gust_SpeedKm_h  \\\n",
              "0                  29                   14                 NaN   \n",
              "1                  37                   26                53.0   \n",
              "2                  29                   14                45.0   \n",
              "3                  29                   14                45.0   \n",
              "4                  37                   26                53.0   \n",
              "\n",
              "   Precipitationmm  CloudCover  Events  WindDirDegrees           StateName  \n",
              "0             7.11         6.0    Rain             191              Hessen  \n",
              "1             3.05         6.0    Rain             187  NordrheinWestfalen  \n",
              "2             0.76         5.0    Rain             209   SchleswigHolstein  \n",
              "3             0.76         5.0    Rain             209   SchleswigHolstein  \n",
              "4             3.05         6.0    Rain             187  NordrheinWestfalen  \n",
              "\n",
              "[5 rows x 73 columns]"
            ]
          },
          "metadata": {
            "tags": []
          },
          "execution_count": 33
        }
      ]
    },
    {
      "metadata": {
        "id": "LW1i-viPwHFJ",
        "colab_type": "code",
        "colab": {}
      },
      "cell_type": "code",
      "source": [
        "for df in (joined,joined_test):\n",
        "    df[\"CompetitionOpenSinceYear\"] = df.CompetitionOpenSinceYear.fillna(1900).astype(np.int32)\n",
        "    df[\"CompetitionOpenSinceMonth\"] = df.CompetitionOpenSinceMonth.fillna(1).astype(np.int32)\n",
        "    df[\"Promo2SinceYear\"] = df.Promo2SinceYear.fillna(1900).astype(np.int32)\n",
        "    df[\"Promo2SinceWeek\"] = df.Promo2SinceWeek.fillna(1).astype(np.int32)"
      ],
      "execution_count": 0,
      "outputs": []
    },
    {
      "metadata": {
        "id": "Yo6L_FG2xyh2",
        "colab_type": "code",
        "colab": {}
      },
      "cell_type": "code",
      "source": [
        "for df in (joined,joined_test):\n",
        "    df[\"CompetitionOpenSince\"] = pd.to_datetime(dict(year=df.CompetitionOpenSinceYear, \n",
        "                                                     month=df.CompetitionOpenSinceMonth, day=15))\n",
        "    df[\"CompetitionDaysOpen\"] = df.Date.subtract(df.CompetitionOpenSince).dt.days"
      ],
      "execution_count": 0,
      "outputs": []
    },
    {
      "metadata": {
        "id": "UYQRBxPex6uJ",
        "colab_type": "code",
        "colab": {}
      },
      "cell_type": "code",
      "source": [
        "for df in (joined,joined_test):\n",
        "    df.loc[df.CompetitionDaysOpen<0, \"CompetitionDaysOpen\"] = 0\n",
        "    df.loc[df.CompetitionOpenSinceYear<1990, \"CompetitionDaysOpen\"] = 0"
      ],
      "execution_count": 0,
      "outputs": []
    },
    {
      "metadata": {
        "id": "loGENWdgyCUE",
        "colab_type": "code",
        "outputId": "af60ab59-b571-4bd1-9227-9744023c4929",
        "colab": {
          "base_uri": "https://localhost:8080/",
          "height": 54
        }
      },
      "cell_type": "code",
      "source": [
        "for df in (joined,joined_test):\n",
        "    df[\"CompetitionMonthsOpen\"] = df[\"CompetitionDaysOpen\"]//30\n",
        "    df.loc[df.CompetitionMonthsOpen>24, \"CompetitionMonthsOpen\"] = 24\n",
        "joined.CompetitionMonthsOpen.unique()"
      ],
      "execution_count": 0,
      "outputs": [
        {
          "output_type": "execute_result",
          "data": {
            "text/plain": [
              "array([24,  3, 19,  9,  0, 16, 17,  7, 15, 22, 11, 13,  2, 23, 12,  4, 10,  1, 14, 20,  8, 18,  6, 21,  5])"
            ]
          },
          "metadata": {
            "tags": []
          },
          "execution_count": 37
        }
      ]
    },
    {
      "metadata": {
        "id": "pYnF_WRtyJL7",
        "colab_type": "code",
        "outputId": "74e889dc-5086-47f3-fe5a-09979ef2d7b0",
        "colab": {
          "base_uri": "https://localhost:8080/",
          "height": 105
        }
      },
      "cell_type": "code",
      "source": [
        "!pip3 install isoweek"
      ],
      "execution_count": 0,
      "outputs": [
        {
          "output_type": "stream",
          "text": [
            "Collecting isoweek\n",
            "  Downloading https://files.pythonhosted.org/packages/c2/d4/fe7e2637975c476734fcbf53776e650a29680194eb0dd21dbdc020ca92de/isoweek-1.3.3-py2.py3-none-any.whl\n",
            "Installing collected packages: isoweek\n",
            "Successfully installed isoweek-1.3.3\n"
          ],
          "name": "stdout"
        }
      ]
    },
    {
      "metadata": {
        "id": "Q1ZYGlA_yEKc",
        "colab_type": "code",
        "colab": {}
      },
      "cell_type": "code",
      "source": [
        "from isoweek import Week"
      ],
      "execution_count": 0,
      "outputs": []
    },
    {
      "metadata": {
        "id": "tjZz_-0TyIQ5",
        "colab_type": "code",
        "colab": {}
      },
      "cell_type": "code",
      "source": [
        "for df in (joined,joined_test):\n",
        "    df[\"Promo2Since\"] = pd.to_datetime(df.apply(lambda x: Week(\n",
        "        x.Promo2SinceYear, x.Promo2SinceWeek).monday(), axis=1))\n",
        "    df[\"Promo2Days\"] = df.Date.subtract(df[\"Promo2Since\"]).dt.days"
      ],
      "execution_count": 0,
      "outputs": []
    },
    {
      "metadata": {
        "id": "TMJk5v10yX2c",
        "colab_type": "code",
        "colab": {}
      },
      "cell_type": "code",
      "source": [
        "for df in (joined,joined_test):\n",
        "    df.loc[df.Promo2Days<0, \"Promo2Days\"] = 0\n",
        "    df.loc[df.Promo2SinceYear<1990, \"Promo2Days\"] = 0\n",
        "    df[\"Promo2Weeks\"] = df[\"Promo2Days\"]//7\n",
        "    df.loc[df.Promo2Weeks<0, \"Promo2Weeks\"] = 0\n",
        "    df.loc[df.Promo2Weeks>25, \"Promo2Weeks\"] = 25\n",
        "    df.Promo2Weeks.unique()"
      ],
      "execution_count": 0,
      "outputs": []
    },
    {
      "metadata": {
        "id": "0gShYlW555Hj",
        "colab_type": "code",
        "outputId": "85418110-3fc4-4a3a-b3ba-c662913a2a95",
        "colab": {
          "base_uri": "https://localhost:8080/",
          "height": 1482
        }
      },
      "cell_type": "code",
      "source": [
        "joined.info()"
      ],
      "execution_count": 0,
      "outputs": [
        {
          "output_type": "stream",
          "text": [
            "<class 'pandas.core.frame.DataFrame'>\n",
            "Int64Index: 1017209 entries, 0 to 1017208\n",
            "Data columns (total 80 columns):\n",
            "Store                         1017209 non-null int64\n",
            "DayOfWeek                     1017209 non-null int64\n",
            "Date                          1017209 non-null datetime64[ns]\n",
            "Sales                         1017209 non-null int64\n",
            "Customers                     1017209 non-null int64\n",
            "Open                          1017209 non-null int64\n",
            "Promo                         1017209 non-null int64\n",
            "StateHoliday                  1017209 non-null bool\n",
            "SchoolHoliday                 1017209 non-null int64\n",
            "Year                          1017209 non-null int64\n",
            "Month                         1017209 non-null int64\n",
            "Week                          1017209 non-null int64\n",
            "Day                           1017209 non-null int64\n",
            "Dayofweek                     1017209 non-null int64\n",
            "Dayofyear                     1017209 non-null int64\n",
            "Is_month_end                  1017209 non-null bool\n",
            "Is_month_start                1017209 non-null bool\n",
            "Is_quarter_end                1017209 non-null bool\n",
            "Is_quarter_start              1017209 non-null bool\n",
            "Is_year_end                   1017209 non-null bool\n",
            "Is_year_start                 1017209 non-null bool\n",
            "Elapsed                       1017209 non-null int64\n",
            "StoreType                     1017209 non-null object\n",
            "Assortment                    1017209 non-null object\n",
            "CompetitionDistance           1014567 non-null float64\n",
            "CompetitionOpenSinceMonth     1017209 non-null int32\n",
            "CompetitionOpenSinceYear      1017209 non-null int32\n",
            "Promo2                        1017209 non-null int64\n",
            "Promo2SinceWeek               1017209 non-null int32\n",
            "Promo2SinceYear               1017209 non-null int32\n",
            "PromoInterval                 509178 non-null object\n",
            "State                         1017209 non-null object\n",
            "file                          1017209 non-null object\n",
            "week                          1017209 non-null object\n",
            "trend                         1017209 non-null int64\n",
            "file_DE                       1017209 non-null object\n",
            "week_DE                       1017209 non-null object\n",
            "trend_DE                      1017209 non-null int64\n",
            "Date_DE                       1017209 non-null datetime64[ns]\n",
            "State_DE                      0 non-null object\n",
            "Month_DE                      1017209 non-null int64\n",
            "Day_DE                        1017209 non-null int64\n",
            "Dayofweek_DE                  1017209 non-null int64\n",
            "Dayofyear_DE                  1017209 non-null int64\n",
            "Is_month_end_DE               1017209 non-null bool\n",
            "Is_month_start_DE             1017209 non-null bool\n",
            "Is_quarter_end_DE             1017209 non-null bool\n",
            "Is_quarter_start_DE           1017209 non-null bool\n",
            "Is_year_end_DE                1017209 non-null bool\n",
            "Is_year_start_DE              1017209 non-null bool\n",
            "Elapsed_DE                    1017209 non-null int64\n",
            "Max_TemperatureC              1017209 non-null int64\n",
            "Mean_TemperatureC             1017209 non-null int64\n",
            "Min_TemperatureC              1017209 non-null int64\n",
            "Dew_PointC                    1017209 non-null int64\n",
            "MeanDew_PointC                1017209 non-null int64\n",
            "Min_DewpointC                 1017209 non-null int64\n",
            "Max_Humidity                  1017209 non-null int64\n",
            "Mean_Humidity                 1017209 non-null int64\n",
            "Min_Humidity                  1017209 non-null int64\n",
            "Max_Sea_Level_PressurehPa     1017209 non-null int64\n",
            "Mean_Sea_Level_PressurehPa    1017209 non-null int64\n",
            "Min_Sea_Level_PressurehPa     1017209 non-null int64\n",
            "Max_VisibilityKm              992564 non-null float64\n",
            "Mean_VisibilityKm             992564 non-null float64\n",
            "Min_VisibilitykM              992564 non-null float64\n",
            "Max_Wind_SpeedKm_h            1017209 non-null int64\n",
            "Mean_Wind_SpeedKm_h           1017209 non-null int64\n",
            "Max_Gust_SpeedKm_h            236167 non-null float64\n",
            "Precipitationmm               1017209 non-null float64\n",
            "CloudCover                    936890 non-null float64\n",
            "Events                        774961 non-null object\n",
            "WindDirDegrees                1017209 non-null int64\n",
            "StateName                     1017209 non-null object\n",
            "CompetitionOpenSince          1017209 non-null datetime64[ns]\n",
            "CompetitionDaysOpen           1017209 non-null int64\n",
            "CompetitionMonthsOpen         1017209 non-null int64\n",
            "Promo2Since                   1017209 non-null datetime64[ns]\n",
            "Promo2Days                    1017209 non-null int64\n",
            "Promo2Weeks                   1017209 non-null int64\n",
            "dtypes: bool(13), datetime64[ns](4), float64(7), int32(4), int64(41), object(11)\n",
            "memory usage: 524.8+ MB\n"
          ],
          "name": "stdout"
        }
      ]
    },
    {
      "metadata": {
        "id": "3dkDWlO657Yh",
        "colab_type": "code",
        "outputId": "abd3734f-8e5b-43ef-a2a4-11d0bd2ee0db",
        "colab": {
          "base_uri": "https://localhost:8080/",
          "height": 1465
        }
      },
      "cell_type": "code",
      "source": [
        "joined_test.info()"
      ],
      "execution_count": 0,
      "outputs": [
        {
          "output_type": "stream",
          "text": [
            "<class 'pandas.core.frame.DataFrame'>\n",
            "Int64Index: 41088 entries, 0 to 41087\n",
            "Data columns (total 79 columns):\n",
            "Id                            41088 non-null int64\n",
            "Store                         41088 non-null int64\n",
            "DayOfWeek                     41088 non-null int64\n",
            "Date                          41088 non-null datetime64[ns]\n",
            "Open                          41077 non-null float64\n",
            "Promo                         41088 non-null int64\n",
            "StateHoliday                  41088 non-null bool\n",
            "SchoolHoliday                 41088 non-null int64\n",
            "Year                          41088 non-null int64\n",
            "Month                         41088 non-null int64\n",
            "Week                          41088 non-null int64\n",
            "Day                           41088 non-null int64\n",
            "Dayofweek                     41088 non-null int64\n",
            "Dayofyear                     41088 non-null int64\n",
            "Is_month_end                  41088 non-null bool\n",
            "Is_month_start                41088 non-null bool\n",
            "Is_quarter_end                41088 non-null bool\n",
            "Is_quarter_start              41088 non-null bool\n",
            "Is_year_end                   41088 non-null bool\n",
            "Is_year_start                 41088 non-null bool\n",
            "Elapsed                       41088 non-null int64\n",
            "StoreType                     41088 non-null object\n",
            "Assortment                    41088 non-null object\n",
            "CompetitionDistance           40992 non-null float64\n",
            "CompetitionOpenSinceMonth     41088 non-null int32\n",
            "CompetitionOpenSinceYear      41088 non-null int32\n",
            "Promo2                        41088 non-null int64\n",
            "Promo2SinceWeek               41088 non-null int32\n",
            "Promo2SinceYear               41088 non-null int32\n",
            "PromoInterval                 23856 non-null object\n",
            "State                         41088 non-null object\n",
            "file                          41088 non-null object\n",
            "week                          41088 non-null object\n",
            "trend                         41088 non-null int64\n",
            "file_DE                       41088 non-null object\n",
            "week_DE                       41088 non-null object\n",
            "trend_DE                      41088 non-null int64\n",
            "Date_DE                       41088 non-null datetime64[ns]\n",
            "State_DE                      0 non-null object\n",
            "Month_DE                      41088 non-null int64\n",
            "Day_DE                        41088 non-null int64\n",
            "Dayofweek_DE                  41088 non-null int64\n",
            "Dayofyear_DE                  41088 non-null int64\n",
            "Is_month_end_DE               41088 non-null bool\n",
            "Is_month_start_DE             41088 non-null bool\n",
            "Is_quarter_end_DE             41088 non-null bool\n",
            "Is_quarter_start_DE           41088 non-null bool\n",
            "Is_year_end_DE                41088 non-null bool\n",
            "Is_year_start_DE              41088 non-null bool\n",
            "Elapsed_DE                    41088 non-null int64\n",
            "Max_TemperatureC              41088 non-null int64\n",
            "Mean_TemperatureC             41088 non-null int64\n",
            "Min_TemperatureC              41088 non-null int64\n",
            "Dew_PointC                    41088 non-null int64\n",
            "MeanDew_PointC                41088 non-null int64\n",
            "Min_DewpointC                 41088 non-null int64\n",
            "Max_Humidity                  41088 non-null int64\n",
            "Mean_Humidity                 41088 non-null int64\n",
            "Min_Humidity                  41088 non-null int64\n",
            "Max_Sea_Level_PressurehPa     41088 non-null int64\n",
            "Mean_Sea_Level_PressurehPa    41088 non-null int64\n",
            "Min_Sea_Level_PressurehPa     41088 non-null int64\n",
            "Max_VisibilityKm              39005 non-null float64\n",
            "Mean_VisibilityKm             39005 non-null float64\n",
            "Min_VisibilitykM              39005 non-null float64\n",
            "Max_Wind_SpeedKm_h            41088 non-null int64\n",
            "Mean_Wind_SpeedKm_h           41088 non-null int64\n",
            "Max_Gust_SpeedKm_h            9781 non-null float64\n",
            "Precipitationmm               41088 non-null float64\n",
            "CloudCover                    35141 non-null float64\n",
            "Events                        30933 non-null object\n",
            "WindDirDegrees                41088 non-null int64\n",
            "StateName                     41088 non-null object\n",
            "CompetitionOpenSince          41088 non-null datetime64[ns]\n",
            "CompetitionDaysOpen           41088 non-null int64\n",
            "CompetitionMonthsOpen         41088 non-null int64\n",
            "Promo2Since                   41088 non-null datetime64[ns]\n",
            "Promo2Days                    41088 non-null int64\n",
            "Promo2Weeks                   41088 non-null int64\n",
            "dtypes: bool(13), datetime64[ns](4), float64(8), int32(4), int64(39), object(11)\n",
            "memory usage: 20.9+ MB\n"
          ],
          "name": "stdout"
        }
      ]
    },
    {
      "metadata": {
        "id": "Zn6mMVzkycA1",
        "colab_type": "code",
        "colab": {}
      },
      "cell_type": "code",
      "source": [
        "joined.to_pickle(path/\"joined\")\n",
        "joined_test.to_pickle(path/\"joined_test\")"
      ],
      "execution_count": 0,
      "outputs": []
    },
    {
      "metadata": {
        "id": "meEy-sB0asoK",
        "colab_type": "text"
      },
      "cell_type": "markdown",
      "source": [
        "### Durations"
      ]
    },
    {
      "metadata": {
        "id": "QxSnfJ19avCU",
        "colab_type": "text"
      },
      "cell_type": "markdown",
      "source": [
        "It is comon when working with time series data to extract data that explains relationships across rows as opposed to columns,\n",
        "\n",
        "* Running averages\n",
        "* Time until next event\n",
        "* Time since last event\n",
        "\n",
        "This is often difficult to do with most table manipulation frameworks, since they are designed to work with relationships across columns. As such, we've created a class to handle this type of data."
      ]
    },
    {
      "metadata": {
        "id": "9bWul24QyeWC",
        "colab_type": "code",
        "colab": {}
      },
      "cell_type": "code",
      "source": [
        "def get_elapsed(fld, pre):\n",
        "    day1 = np.timedelta64(1, 'D')\n",
        "    last_date = np.datetime64()\n",
        "    last_store = 0\n",
        "    res = []\n",
        "\n",
        "    for s,v,d in zip(df.Store.values,df[fld].values, df.Date.values):\n",
        "        if s != last_store:\n",
        "            last_date = np.datetime64()\n",
        "            last_store = s\n",
        "        if v: last_date = d\n",
        "        res.append(((d-last_date).astype('timedelta64[D]') / day1))\n",
        "    df[pre+fld] = res"
      ],
      "execution_count": 0,
      "outputs": []
    },
    {
      "metadata": {
        "id": "Wx3ywN2mc9WW",
        "colab_type": "code",
        "colab": {}
      },
      "cell_type": "code",
      "source": [
        "columns = [\"Date\", \"Store\", \"Promo\", \"StateHoliday\", \"SchoolHoliday\"]"
      ],
      "execution_count": 0,
      "outputs": []
    },
    {
      "metadata": {
        "id": "lKJJibGedSEK",
        "colab_type": "code",
        "colab": {}
      },
      "cell_type": "code",
      "source": [
        "df = train[columns].append(test[columns])"
      ],
      "execution_count": 0,
      "outputs": []
    },
    {
      "metadata": {
        "id": "2hjUqkmtdYLw",
        "colab_type": "code",
        "colab": {}
      },
      "cell_type": "code",
      "source": [
        "fld = 'SchoolHoliday'\n",
        "df = df.sort_values(['Store', 'Date'])\n",
        "get_elapsed(fld, 'After')\n",
        "df = df.sort_values(['Store', 'Date'], ascending=[True, False])\n",
        "get_elapsed(fld, 'Before')"
      ],
      "execution_count": 0,
      "outputs": []
    },
    {
      "metadata": {
        "id": "WEQpyDJAdb9A",
        "colab_type": "code",
        "colab": {}
      },
      "cell_type": "code",
      "source": [
        "fld = 'StateHoliday'\n",
        "df = df.sort_values(['Store', 'Date'])\n",
        "get_elapsed(fld, 'After')\n",
        "df = df.sort_values(['Store', 'Date'], ascending=[True, False])\n",
        "get_elapsed(fld, 'Before')"
      ],
      "execution_count": 0,
      "outputs": []
    },
    {
      "metadata": {
        "id": "JE0sSJunddy3",
        "colab_type": "code",
        "colab": {}
      },
      "cell_type": "code",
      "source": [
        "fld = 'Promo'\n",
        "df = df.sort_values(['Store', 'Date'])\n",
        "get_elapsed(fld, 'After')\n",
        "df = df.sort_values(['Store', 'Date'], ascending=[True, False])\n",
        "get_elapsed(fld, 'Before')"
      ],
      "execution_count": 0,
      "outputs": []
    },
    {
      "metadata": {
        "id": "wQGvACVjdg1P",
        "colab_type": "code",
        "colab": {}
      },
      "cell_type": "code",
      "source": [
        "df = df.set_index(\"Date\")"
      ],
      "execution_count": 0,
      "outputs": []
    },
    {
      "metadata": {
        "id": "gDhZnDA9dkqN",
        "colab_type": "code",
        "colab": {}
      },
      "cell_type": "code",
      "source": [
        "columns = ['SchoolHoliday', 'StateHoliday', 'Promo']\n"
      ],
      "execution_count": 0,
      "outputs": []
    },
    {
      "metadata": {
        "id": "7IXK8RMydoM2",
        "colab_type": "code",
        "colab": {}
      },
      "cell_type": "code",
      "source": [
        "for o in [\"Before\", \"After\"]:\n",
        "    for p in columns:\n",
        "        a = o + p\n",
        "        df[a] = df[a].fillna(0).astype(int)"
      ],
      "execution_count": 0,
      "outputs": []
    },
    {
      "metadata": {
        "id": "ZBm_tztodzFW",
        "colab_type": "code",
        "colab": {}
      },
      "cell_type": "code",
      "source": [
        "bwd = df[['Store']+columns].sort_index().groupby(\"Store\").rolling(7, min_periods=1).sum()"
      ],
      "execution_count": 0,
      "outputs": []
    },
    {
      "metadata": {
        "id": "yU3W1bMMd4nl",
        "colab_type": "code",
        "colab": {}
      },
      "cell_type": "code",
      "source": [
        "fwd = df[['Store']+columns].sort_index(ascending=False\n",
        "                                      ).groupby(\"Store\").rolling(7, min_periods=1).sum()\n"
      ],
      "execution_count": 0,
      "outputs": []
    },
    {
      "metadata": {
        "id": "bvUjqi_Gd7bW",
        "colab_type": "code",
        "colab": {}
      },
      "cell_type": "code",
      "source": [
        "bwd.drop(\"Store\", 1, inplace=True)\n",
        "bwd.reset_index(inplace=True)"
      ],
      "execution_count": 0,
      "outputs": []
    },
    {
      "metadata": {
        "id": "3J0dIvLBeDW_",
        "colab_type": "code",
        "colab": {}
      },
      "cell_type": "code",
      "source": [
        "fwd.drop(\"Store\", 1, inplace=True)\n",
        "fwd.reset_index(inplace=True)"
      ],
      "execution_count": 0,
      "outputs": []
    },
    {
      "metadata": {
        "id": "F8De9hkQeLIF",
        "colab_type": "code",
        "colab": {}
      },
      "cell_type": "code",
      "source": [
        "df.reset_index(inplace=True)"
      ],
      "execution_count": 0,
      "outputs": []
    },
    {
      "metadata": {
        "id": "KTJmrtpGeNDj",
        "colab_type": "code",
        "colab": {}
      },
      "cell_type": "code",
      "source": [
        "df = df.merge(bwd, 'left', ['Date', 'Store'], suffixes=['', '_bw'])\n",
        "df = df.merge(fwd, 'left', ['Date', 'Store'], suffixes=['', '_fw'])"
      ],
      "execution_count": 0,
      "outputs": []
    },
    {
      "metadata": {
        "id": "N0vK_G0eeQl3",
        "colab_type": "code",
        "colab": {}
      },
      "cell_type": "code",
      "source": [
        "df.drop(columns, 1, inplace=True)"
      ],
      "execution_count": 0,
      "outputs": []
    },
    {
      "metadata": {
        "id": "Zej3mycZeUmY",
        "colab_type": "code",
        "outputId": "3ce01c89-6c00-4aa7-8f85-508d7bf84956",
        "colab": {
          "base_uri": "https://localhost:8080/",
          "height": 309
        }
      },
      "cell_type": "code",
      "source": [
        "df.head()"
      ],
      "execution_count": 0,
      "outputs": [
        {
          "output_type": "execute_result",
          "data": {
            "text/html": [
              "<div>\n",
              "<style scoped>\n",
              "    .dataframe tbody tr th:only-of-type {\n",
              "        vertical-align: middle;\n",
              "    }\n",
              "\n",
              "    .dataframe tbody tr th {\n",
              "        vertical-align: top;\n",
              "    }\n",
              "\n",
              "    .dataframe thead th {\n",
              "        text-align: right;\n",
              "    }\n",
              "</style>\n",
              "<table border=\"1\" class=\"dataframe\">\n",
              "  <thead>\n",
              "    <tr style=\"text-align: right;\">\n",
              "      <th></th>\n",
              "      <th>Date</th>\n",
              "      <th>Store</th>\n",
              "      <th>AfterSchoolHoliday</th>\n",
              "      <th>BeforeSchoolHoliday</th>\n",
              "      <th>AfterStateHoliday</th>\n",
              "      <th>BeforeStateHoliday</th>\n",
              "      <th>AfterPromo</th>\n",
              "      <th>BeforePromo</th>\n",
              "      <th>SchoolHoliday_bw</th>\n",
              "      <th>StateHoliday_bw</th>\n",
              "      <th>Promo_bw</th>\n",
              "      <th>SchoolHoliday_fw</th>\n",
              "      <th>StateHoliday_fw</th>\n",
              "      <th>Promo_fw</th>\n",
              "    </tr>\n",
              "  </thead>\n",
              "  <tbody>\n",
              "    <tr>\n",
              "      <th>0</th>\n",
              "      <td>2015-09-17</td>\n",
              "      <td>1</td>\n",
              "      <td>13</td>\n",
              "      <td>0</td>\n",
              "      <td>105</td>\n",
              "      <td>0</td>\n",
              "      <td>0</td>\n",
              "      <td>0</td>\n",
              "      <td>0.0</td>\n",
              "      <td>0.0</td>\n",
              "      <td>4.0</td>\n",
              "      <td>0.0</td>\n",
              "      <td>0.0</td>\n",
              "      <td>1.0</td>\n",
              "    </tr>\n",
              "    <tr>\n",
              "      <th>1</th>\n",
              "      <td>2015-09-16</td>\n",
              "      <td>1</td>\n",
              "      <td>12</td>\n",
              "      <td>0</td>\n",
              "      <td>104</td>\n",
              "      <td>0</td>\n",
              "      <td>0</td>\n",
              "      <td>0</td>\n",
              "      <td>0.0</td>\n",
              "      <td>0.0</td>\n",
              "      <td>3.0</td>\n",
              "      <td>0.0</td>\n",
              "      <td>0.0</td>\n",
              "      <td>2.0</td>\n",
              "    </tr>\n",
              "    <tr>\n",
              "      <th>2</th>\n",
              "      <td>2015-09-15</td>\n",
              "      <td>1</td>\n",
              "      <td>11</td>\n",
              "      <td>0</td>\n",
              "      <td>103</td>\n",
              "      <td>0</td>\n",
              "      <td>0</td>\n",
              "      <td>0</td>\n",
              "      <td>0.0</td>\n",
              "      <td>0.0</td>\n",
              "      <td>2.0</td>\n",
              "      <td>0.0</td>\n",
              "      <td>0.0</td>\n",
              "      <td>3.0</td>\n",
              "    </tr>\n",
              "    <tr>\n",
              "      <th>3</th>\n",
              "      <td>2015-09-14</td>\n",
              "      <td>1</td>\n",
              "      <td>10</td>\n",
              "      <td>0</td>\n",
              "      <td>102</td>\n",
              "      <td>0</td>\n",
              "      <td>0</td>\n",
              "      <td>0</td>\n",
              "      <td>0.0</td>\n",
              "      <td>0.0</td>\n",
              "      <td>1.0</td>\n",
              "      <td>0.0</td>\n",
              "      <td>0.0</td>\n",
              "      <td>4.0</td>\n",
              "    </tr>\n",
              "    <tr>\n",
              "      <th>4</th>\n",
              "      <td>2015-09-13</td>\n",
              "      <td>1</td>\n",
              "      <td>9</td>\n",
              "      <td>0</td>\n",
              "      <td>101</td>\n",
              "      <td>0</td>\n",
              "      <td>9</td>\n",
              "      <td>-1</td>\n",
              "      <td>0.0</td>\n",
              "      <td>0.0</td>\n",
              "      <td>0.0</td>\n",
              "      <td>0.0</td>\n",
              "      <td>0.0</td>\n",
              "      <td>4.0</td>\n",
              "    </tr>\n",
              "  </tbody>\n",
              "</table>\n",
              "</div>"
            ],
            "text/plain": [
              "        Date  Store  AfterSchoolHoliday  BeforeSchoolHoliday  \\\n",
              "0 2015-09-17      1                  13                    0   \n",
              "1 2015-09-16      1                  12                    0   \n",
              "2 2015-09-15      1                  11                    0   \n",
              "3 2015-09-14      1                  10                    0   \n",
              "4 2015-09-13      1                   9                    0   \n",
              "\n",
              "   AfterStateHoliday  BeforeStateHoliday  AfterPromo  BeforePromo  \\\n",
              "0                105                   0           0            0   \n",
              "1                104                   0           0            0   \n",
              "2                103                   0           0            0   \n",
              "3                102                   0           0            0   \n",
              "4                101                   0           9           -1   \n",
              "\n",
              "   SchoolHoliday_bw  StateHoliday_bw  Promo_bw  SchoolHoliday_fw  \\\n",
              "0               0.0              0.0       4.0               0.0   \n",
              "1               0.0              0.0       3.0               0.0   \n",
              "2               0.0              0.0       2.0               0.0   \n",
              "3               0.0              0.0       1.0               0.0   \n",
              "4               0.0              0.0       0.0               0.0   \n",
              "\n",
              "   StateHoliday_fw  Promo_fw  \n",
              "0              0.0       1.0  \n",
              "1              0.0       2.0  \n",
              "2              0.0       3.0  \n",
              "3              0.0       4.0  \n",
              "4              0.0       4.0  "
            ]
          },
          "metadata": {
            "tags": []
          },
          "execution_count": 65
        }
      ]
    },
    {
      "metadata": {
        "id": "cpAQO-gPeVhy",
        "colab_type": "code",
        "colab": {}
      },
      "cell_type": "code",
      "source": [
        "df.to_pickle(path/\"df\")"
      ],
      "execution_count": 0,
      "outputs": []
    },
    {
      "metadata": {
        "id": "Q1F1Qdw0edib",
        "colab_type": "code",
        "colab": {}
      },
      "cell_type": "code",
      "source": [
        "df[\"Date\"] = pd.to_datetime(df.Date)"
      ],
      "execution_count": 0,
      "outputs": []
    },
    {
      "metadata": {
        "id": "KDnAfpiWeg8D",
        "colab_type": "code",
        "outputId": "c89d9200-27ab-4ac6-f67c-8dc94943d46d",
        "colab": {
          "base_uri": "https://localhost:8080/",
          "height": 122
        }
      },
      "cell_type": "code",
      "source": [
        "df.columns"
      ],
      "execution_count": 0,
      "outputs": [
        {
          "output_type": "execute_result",
          "data": {
            "text/plain": [
              "Index(['Date', 'Store', 'AfterSchoolHoliday', 'BeforeSchoolHoliday',\n",
              "       'AfterStateHoliday', 'BeforeStateHoliday', 'AfterPromo', 'BeforePromo',\n",
              "       'SchoolHoliday_bw', 'StateHoliday_bw', 'Promo_bw', 'SchoolHoliday_fw',\n",
              "       'StateHoliday_fw', 'Promo_fw'],\n",
              "      dtype='object')"
            ]
          },
          "metadata": {
            "tags": []
          },
          "execution_count": 68
        }
      ]
    },
    {
      "metadata": {
        "id": "HD2xXHSveiSD",
        "colab_type": "code",
        "colab": {}
      },
      "cell_type": "code",
      "source": [
        "joined = pd.read_pickle(path/\"joined\")\n",
        "joined_test = pd.read_pickle(path/f\"joined_test\")"
      ],
      "execution_count": 0,
      "outputs": []
    },
    {
      "metadata": {
        "id": "G_mavxuceuHE",
        "colab_type": "code",
        "colab": {}
      },
      "cell_type": "code",
      "source": [
        "joined = join_df(joined, df, [\"Store\", \"Date\"])"
      ],
      "execution_count": 0,
      "outputs": []
    },
    {
      "metadata": {
        "id": "MM9E9viXe1Mz",
        "colab_type": "code",
        "colab": {}
      },
      "cell_type": "code",
      "source": [
        "joined_test = join_df(joined_test, df, [\"Store\", \"Date\"])"
      ],
      "execution_count": 0,
      "outputs": []
    },
    {
      "metadata": {
        "id": "jMAMoG3oe7KT",
        "colab_type": "code",
        "colab": {}
      },
      "cell_type": "code",
      "source": [
        "joined = joined[joined.Sales != 0]"
      ],
      "execution_count": 0,
      "outputs": []
    },
    {
      "metadata": {
        "id": "bLibHfPNfANA",
        "colab_type": "code",
        "colab": {}
      },
      "cell_type": "code",
      "source": [
        "joined.reset_index(inplace=True)"
      ],
      "execution_count": 0,
      "outputs": []
    },
    {
      "metadata": {
        "id": "p_N4odz9fD1F",
        "colab_type": "code",
        "colab": {}
      },
      "cell_type": "code",
      "source": [
        "joined_test.reset_index(inplace=True)"
      ],
      "execution_count": 0,
      "outputs": []
    },
    {
      "metadata": {
        "id": "U9JEN-XPfIBp",
        "colab_type": "code",
        "colab": {}
      },
      "cell_type": "code",
      "source": [
        "joined.to_pickle(path/\"train_clean\")"
      ],
      "execution_count": 0,
      "outputs": []
    },
    {
      "metadata": {
        "id": "UyYILQlCfMdN",
        "colab_type": "code",
        "colab": {}
      },
      "cell_type": "code",
      "source": [
        "joined_test.to_pickle(path/\"test_clean\")"
      ],
      "execution_count": 0,
      "outputs": []
    },
    {
      "metadata": {
        "id": "9wBkLC0efyaO",
        "colab_type": "text"
      },
      "cell_type": "markdown",
      "source": [
        "## Data preparation"
      ]
    },
    {
      "metadata": {
        "id": "fR58utiYfPeN",
        "colab_type": "code",
        "colab": {}
      },
      "cell_type": "code",
      "source": [
        "path = Config().data_path()/\"rossmann\""
      ],
      "execution_count": 0,
      "outputs": []
    },
    {
      "metadata": {
        "id": "1DbL-nG9gCkG",
        "colab_type": "code",
        "outputId": "688e2a99-f1d0-40a2-bbce-85376c817b37",
        "colab": {
          "base_uri": "https://localhost:8080/",
          "height": 255
        }
      },
      "cell_type": "code",
      "source": [
        "path.ls()"
      ],
      "execution_count": 0,
      "outputs": [
        {
          "output_type": "execute_result",
          "data": {
            "text/plain": [
              "[PosixPath('/root/.fastai/data/rossmann/test_clean'),\n",
              " PosixPath('/root/.fastai/data/rossmann/store.csv'),\n",
              " PosixPath('/root/.fastai/data/rossmann/weather.csv'),\n",
              " PosixPath('/root/.fastai/data/rossmann/store_states.csv'),\n",
              " PosixPath('/root/.fastai/data/rossmann/state_names.csv'),\n",
              " PosixPath('/root/.fastai/data/rossmann/sample_submission.csv'),\n",
              " PosixPath('/root/.fastai/data/rossmann/joined_test'),\n",
              " PosixPath('/root/.fastai/data/rossmann/rossmann.tgz'),\n",
              " PosixPath('/root/.fastai/data/rossmann/joined'),\n",
              " PosixPath('/root/.fastai/data/rossmann/googletrend.csv'),\n",
              " PosixPath('/root/.fastai/data/rossmann/train_clean'),\n",
              " PosixPath('/root/.fastai/data/rossmann/test.csv'),\n",
              " PosixPath('/root/.fastai/data/rossmann/df'),\n",
              " PosixPath('/root/.fastai/data/rossmann/train.csv')]"
            ]
          },
          "metadata": {
            "tags": []
          },
          "execution_count": 78
        }
      ]
    },
    {
      "metadata": {
        "id": "ykB3Q1IkgD0t",
        "colab_type": "code",
        "colab": {}
      },
      "cell_type": "code",
      "source": [
        "train_df = pd.read_pickle(path/\"train_clean\")"
      ],
      "execution_count": 0,
      "outputs": []
    },
    {
      "metadata": {
        "id": "CeZwE_LBgIdo",
        "colab_type": "code",
        "outputId": "c508195e-60c7-436d-d664-ecc02ff7f8e0",
        "colab": {
          "base_uri": "https://localhost:8080/",
          "height": 2040
        }
      },
      "cell_type": "code",
      "source": [
        "train_df.head().T"
      ],
      "execution_count": 0,
      "outputs": [
        {
          "output_type": "execute_result",
          "data": {
            "text/html": [
              "<div>\n",
              "<style scoped>\n",
              "    .dataframe tbody tr th:only-of-type {\n",
              "        vertical-align: middle;\n",
              "    }\n",
              "\n",
              "    .dataframe tbody tr th {\n",
              "        vertical-align: top;\n",
              "    }\n",
              "\n",
              "    .dataframe thead th {\n",
              "        text-align: right;\n",
              "    }\n",
              "</style>\n",
              "<table border=\"1\" class=\"dataframe\">\n",
              "  <thead>\n",
              "    <tr style=\"text-align: right;\">\n",
              "      <th></th>\n",
              "      <th>0</th>\n",
              "      <th>1</th>\n",
              "      <th>2</th>\n",
              "      <th>3</th>\n",
              "      <th>4</th>\n",
              "    </tr>\n",
              "  </thead>\n",
              "  <tbody>\n",
              "    <tr>\n",
              "      <th>index</th>\n",
              "      <td>0</td>\n",
              "      <td>1</td>\n",
              "      <td>2</td>\n",
              "      <td>3</td>\n",
              "      <td>4</td>\n",
              "    </tr>\n",
              "    <tr>\n",
              "      <th>Store</th>\n",
              "      <td>1</td>\n",
              "      <td>2</td>\n",
              "      <td>3</td>\n",
              "      <td>4</td>\n",
              "      <td>5</td>\n",
              "    </tr>\n",
              "    <tr>\n",
              "      <th>DayOfWeek</th>\n",
              "      <td>5</td>\n",
              "      <td>5</td>\n",
              "      <td>5</td>\n",
              "      <td>5</td>\n",
              "      <td>5</td>\n",
              "    </tr>\n",
              "    <tr>\n",
              "      <th>Date</th>\n",
              "      <td>2015-07-31 00:00:00</td>\n",
              "      <td>2015-07-31 00:00:00</td>\n",
              "      <td>2015-07-31 00:00:00</td>\n",
              "      <td>2015-07-31 00:00:00</td>\n",
              "      <td>2015-07-31 00:00:00</td>\n",
              "    </tr>\n",
              "    <tr>\n",
              "      <th>Sales</th>\n",
              "      <td>5263</td>\n",
              "      <td>6064</td>\n",
              "      <td>8314</td>\n",
              "      <td>13995</td>\n",
              "      <td>4822</td>\n",
              "    </tr>\n",
              "    <tr>\n",
              "      <th>Customers</th>\n",
              "      <td>555</td>\n",
              "      <td>625</td>\n",
              "      <td>821</td>\n",
              "      <td>1498</td>\n",
              "      <td>559</td>\n",
              "    </tr>\n",
              "    <tr>\n",
              "      <th>Open</th>\n",
              "      <td>1</td>\n",
              "      <td>1</td>\n",
              "      <td>1</td>\n",
              "      <td>1</td>\n",
              "      <td>1</td>\n",
              "    </tr>\n",
              "    <tr>\n",
              "      <th>Promo</th>\n",
              "      <td>1</td>\n",
              "      <td>1</td>\n",
              "      <td>1</td>\n",
              "      <td>1</td>\n",
              "      <td>1</td>\n",
              "    </tr>\n",
              "    <tr>\n",
              "      <th>StateHoliday</th>\n",
              "      <td>False</td>\n",
              "      <td>False</td>\n",
              "      <td>False</td>\n",
              "      <td>False</td>\n",
              "      <td>False</td>\n",
              "    </tr>\n",
              "    <tr>\n",
              "      <th>SchoolHoliday</th>\n",
              "      <td>1</td>\n",
              "      <td>1</td>\n",
              "      <td>1</td>\n",
              "      <td>1</td>\n",
              "      <td>1</td>\n",
              "    </tr>\n",
              "    <tr>\n",
              "      <th>Year</th>\n",
              "      <td>2015</td>\n",
              "      <td>2015</td>\n",
              "      <td>2015</td>\n",
              "      <td>2015</td>\n",
              "      <td>2015</td>\n",
              "    </tr>\n",
              "    <tr>\n",
              "      <th>Month</th>\n",
              "      <td>7</td>\n",
              "      <td>7</td>\n",
              "      <td>7</td>\n",
              "      <td>7</td>\n",
              "      <td>7</td>\n",
              "    </tr>\n",
              "    <tr>\n",
              "      <th>Week</th>\n",
              "      <td>31</td>\n",
              "      <td>31</td>\n",
              "      <td>31</td>\n",
              "      <td>31</td>\n",
              "      <td>31</td>\n",
              "    </tr>\n",
              "    <tr>\n",
              "      <th>Day</th>\n",
              "      <td>31</td>\n",
              "      <td>31</td>\n",
              "      <td>31</td>\n",
              "      <td>31</td>\n",
              "      <td>31</td>\n",
              "    </tr>\n",
              "    <tr>\n",
              "      <th>Dayofweek</th>\n",
              "      <td>4</td>\n",
              "      <td>4</td>\n",
              "      <td>4</td>\n",
              "      <td>4</td>\n",
              "      <td>4</td>\n",
              "    </tr>\n",
              "    <tr>\n",
              "      <th>Dayofyear</th>\n",
              "      <td>212</td>\n",
              "      <td>212</td>\n",
              "      <td>212</td>\n",
              "      <td>212</td>\n",
              "      <td>212</td>\n",
              "    </tr>\n",
              "    <tr>\n",
              "      <th>Is_month_end</th>\n",
              "      <td>True</td>\n",
              "      <td>True</td>\n",
              "      <td>True</td>\n",
              "      <td>True</td>\n",
              "      <td>True</td>\n",
              "    </tr>\n",
              "    <tr>\n",
              "      <th>Is_month_start</th>\n",
              "      <td>False</td>\n",
              "      <td>False</td>\n",
              "      <td>False</td>\n",
              "      <td>False</td>\n",
              "      <td>False</td>\n",
              "    </tr>\n",
              "    <tr>\n",
              "      <th>Is_quarter_end</th>\n",
              "      <td>False</td>\n",
              "      <td>False</td>\n",
              "      <td>False</td>\n",
              "      <td>False</td>\n",
              "      <td>False</td>\n",
              "    </tr>\n",
              "    <tr>\n",
              "      <th>Is_quarter_start</th>\n",
              "      <td>False</td>\n",
              "      <td>False</td>\n",
              "      <td>False</td>\n",
              "      <td>False</td>\n",
              "      <td>False</td>\n",
              "    </tr>\n",
              "    <tr>\n",
              "      <th>Is_year_end</th>\n",
              "      <td>False</td>\n",
              "      <td>False</td>\n",
              "      <td>False</td>\n",
              "      <td>False</td>\n",
              "      <td>False</td>\n",
              "    </tr>\n",
              "    <tr>\n",
              "      <th>Is_year_start</th>\n",
              "      <td>False</td>\n",
              "      <td>False</td>\n",
              "      <td>False</td>\n",
              "      <td>False</td>\n",
              "      <td>False</td>\n",
              "    </tr>\n",
              "    <tr>\n",
              "      <th>Elapsed</th>\n",
              "      <td>1438300800</td>\n",
              "      <td>1438300800</td>\n",
              "      <td>1438300800</td>\n",
              "      <td>1438300800</td>\n",
              "      <td>1438300800</td>\n",
              "    </tr>\n",
              "    <tr>\n",
              "      <th>StoreType</th>\n",
              "      <td>c</td>\n",
              "      <td>a</td>\n",
              "      <td>a</td>\n",
              "      <td>c</td>\n",
              "      <td>a</td>\n",
              "    </tr>\n",
              "    <tr>\n",
              "      <th>Assortment</th>\n",
              "      <td>a</td>\n",
              "      <td>a</td>\n",
              "      <td>a</td>\n",
              "      <td>c</td>\n",
              "      <td>a</td>\n",
              "    </tr>\n",
              "    <tr>\n",
              "      <th>CompetitionDistance</th>\n",
              "      <td>1270</td>\n",
              "      <td>570</td>\n",
              "      <td>14130</td>\n",
              "      <td>620</td>\n",
              "      <td>29910</td>\n",
              "    </tr>\n",
              "    <tr>\n",
              "      <th>CompetitionOpenSinceMonth</th>\n",
              "      <td>9</td>\n",
              "      <td>11</td>\n",
              "      <td>12</td>\n",
              "      <td>9</td>\n",
              "      <td>4</td>\n",
              "    </tr>\n",
              "    <tr>\n",
              "      <th>CompetitionOpenSinceYear</th>\n",
              "      <td>2008</td>\n",
              "      <td>2007</td>\n",
              "      <td>2006</td>\n",
              "      <td>2009</td>\n",
              "      <td>2015</td>\n",
              "    </tr>\n",
              "    <tr>\n",
              "      <th>Promo2</th>\n",
              "      <td>0</td>\n",
              "      <td>1</td>\n",
              "      <td>1</td>\n",
              "      <td>0</td>\n",
              "      <td>0</td>\n",
              "    </tr>\n",
              "    <tr>\n",
              "      <th>Promo2SinceWeek</th>\n",
              "      <td>1</td>\n",
              "      <td>13</td>\n",
              "      <td>14</td>\n",
              "      <td>1</td>\n",
              "      <td>1</td>\n",
              "    </tr>\n",
              "    <tr>\n",
              "      <th>...</th>\n",
              "      <td>...</td>\n",
              "      <td>...</td>\n",
              "      <td>...</td>\n",
              "      <td>...</td>\n",
              "      <td>...</td>\n",
              "    </tr>\n",
              "    <tr>\n",
              "      <th>Min_Sea_Level_PressurehPa</th>\n",
              "      <td>1015</td>\n",
              "      <td>1017</td>\n",
              "      <td>1017</td>\n",
              "      <td>1014</td>\n",
              "      <td>1016</td>\n",
              "    </tr>\n",
              "    <tr>\n",
              "      <th>Max_VisibilityKm</th>\n",
              "      <td>31</td>\n",
              "      <td>10</td>\n",
              "      <td>31</td>\n",
              "      <td>10</td>\n",
              "      <td>10</td>\n",
              "    </tr>\n",
              "    <tr>\n",
              "      <th>Mean_VisibilityKm</th>\n",
              "      <td>15</td>\n",
              "      <td>10</td>\n",
              "      <td>14</td>\n",
              "      <td>10</td>\n",
              "      <td>10</td>\n",
              "    </tr>\n",
              "    <tr>\n",
              "      <th>Min_VisibilitykM</th>\n",
              "      <td>10</td>\n",
              "      <td>10</td>\n",
              "      <td>10</td>\n",
              "      <td>10</td>\n",
              "      <td>10</td>\n",
              "    </tr>\n",
              "    <tr>\n",
              "      <th>Max_Wind_SpeedKm_h</th>\n",
              "      <td>24</td>\n",
              "      <td>14</td>\n",
              "      <td>14</td>\n",
              "      <td>23</td>\n",
              "      <td>14</td>\n",
              "    </tr>\n",
              "    <tr>\n",
              "      <th>Mean_Wind_SpeedKm_h</th>\n",
              "      <td>11</td>\n",
              "      <td>11</td>\n",
              "      <td>5</td>\n",
              "      <td>16</td>\n",
              "      <td>11</td>\n",
              "    </tr>\n",
              "    <tr>\n",
              "      <th>Max_Gust_SpeedKm_h</th>\n",
              "      <td>NaN</td>\n",
              "      <td>NaN</td>\n",
              "      <td>NaN</td>\n",
              "      <td>NaN</td>\n",
              "      <td>NaN</td>\n",
              "    </tr>\n",
              "    <tr>\n",
              "      <th>Precipitationmm</th>\n",
              "      <td>0</td>\n",
              "      <td>0</td>\n",
              "      <td>0</td>\n",
              "      <td>0</td>\n",
              "      <td>0</td>\n",
              "    </tr>\n",
              "    <tr>\n",
              "      <th>CloudCover</th>\n",
              "      <td>1</td>\n",
              "      <td>4</td>\n",
              "      <td>2</td>\n",
              "      <td>6</td>\n",
              "      <td>4</td>\n",
              "    </tr>\n",
              "    <tr>\n",
              "      <th>Events</th>\n",
              "      <td>Fog</td>\n",
              "      <td>Fog</td>\n",
              "      <td>Fog</td>\n",
              "      <td>NaN</td>\n",
              "      <td>NaN</td>\n",
              "    </tr>\n",
              "    <tr>\n",
              "      <th>WindDirDegrees</th>\n",
              "      <td>13</td>\n",
              "      <td>309</td>\n",
              "      <td>354</td>\n",
              "      <td>282</td>\n",
              "      <td>290</td>\n",
              "    </tr>\n",
              "    <tr>\n",
              "      <th>StateName</th>\n",
              "      <td>Hessen</td>\n",
              "      <td>Thueringen</td>\n",
              "      <td>NordrheinWestfalen</td>\n",
              "      <td>Berlin</td>\n",
              "      <td>Sachsen</td>\n",
              "    </tr>\n",
              "    <tr>\n",
              "      <th>CompetitionOpenSince</th>\n",
              "      <td>2008-09-15 00:00:00</td>\n",
              "      <td>2007-11-15 00:00:00</td>\n",
              "      <td>2006-12-15 00:00:00</td>\n",
              "      <td>2009-09-15 00:00:00</td>\n",
              "      <td>2015-04-15 00:00:00</td>\n",
              "    </tr>\n",
              "    <tr>\n",
              "      <th>CompetitionDaysOpen</th>\n",
              "      <td>2510</td>\n",
              "      <td>2815</td>\n",
              "      <td>3150</td>\n",
              "      <td>2145</td>\n",
              "      <td>107</td>\n",
              "    </tr>\n",
              "    <tr>\n",
              "      <th>CompetitionMonthsOpen</th>\n",
              "      <td>24</td>\n",
              "      <td>24</td>\n",
              "      <td>24</td>\n",
              "      <td>24</td>\n",
              "      <td>3</td>\n",
              "    </tr>\n",
              "    <tr>\n",
              "      <th>Promo2Since</th>\n",
              "      <td>1900-01-01 00:00:00</td>\n",
              "      <td>2010-03-29 00:00:00</td>\n",
              "      <td>2011-04-04 00:00:00</td>\n",
              "      <td>1900-01-01 00:00:00</td>\n",
              "      <td>1900-01-01 00:00:00</td>\n",
              "    </tr>\n",
              "    <tr>\n",
              "      <th>Promo2Days</th>\n",
              "      <td>0</td>\n",
              "      <td>1950</td>\n",
              "      <td>1579</td>\n",
              "      <td>0</td>\n",
              "      <td>0</td>\n",
              "    </tr>\n",
              "    <tr>\n",
              "      <th>Promo2Weeks</th>\n",
              "      <td>0</td>\n",
              "      <td>25</td>\n",
              "      <td>25</td>\n",
              "      <td>0</td>\n",
              "      <td>0</td>\n",
              "    </tr>\n",
              "    <tr>\n",
              "      <th>AfterSchoolHoliday</th>\n",
              "      <td>0</td>\n",
              "      <td>0</td>\n",
              "      <td>0</td>\n",
              "      <td>0</td>\n",
              "      <td>0</td>\n",
              "    </tr>\n",
              "    <tr>\n",
              "      <th>BeforeSchoolHoliday</th>\n",
              "      <td>0</td>\n",
              "      <td>0</td>\n",
              "      <td>0</td>\n",
              "      <td>0</td>\n",
              "      <td>0</td>\n",
              "    </tr>\n",
              "    <tr>\n",
              "      <th>AfterStateHoliday</th>\n",
              "      <td>57</td>\n",
              "      <td>67</td>\n",
              "      <td>57</td>\n",
              "      <td>67</td>\n",
              "      <td>57</td>\n",
              "    </tr>\n",
              "    <tr>\n",
              "      <th>BeforeStateHoliday</th>\n",
              "      <td>0</td>\n",
              "      <td>0</td>\n",
              "      <td>0</td>\n",
              "      <td>0</td>\n",
              "      <td>0</td>\n",
              "    </tr>\n",
              "    <tr>\n",
              "      <th>AfterPromo</th>\n",
              "      <td>0</td>\n",
              "      <td>0</td>\n",
              "      <td>0</td>\n",
              "      <td>0</td>\n",
              "      <td>0</td>\n",
              "    </tr>\n",
              "    <tr>\n",
              "      <th>BeforePromo</th>\n",
              "      <td>0</td>\n",
              "      <td>0</td>\n",
              "      <td>0</td>\n",
              "      <td>0</td>\n",
              "      <td>0</td>\n",
              "    </tr>\n",
              "    <tr>\n",
              "      <th>SchoolHoliday_bw</th>\n",
              "      <td>5</td>\n",
              "      <td>5</td>\n",
              "      <td>5</td>\n",
              "      <td>5</td>\n",
              "      <td>5</td>\n",
              "    </tr>\n",
              "    <tr>\n",
              "      <th>StateHoliday_bw</th>\n",
              "      <td>0</td>\n",
              "      <td>0</td>\n",
              "      <td>0</td>\n",
              "      <td>0</td>\n",
              "      <td>0</td>\n",
              "    </tr>\n",
              "    <tr>\n",
              "      <th>Promo_bw</th>\n",
              "      <td>5</td>\n",
              "      <td>5</td>\n",
              "      <td>5</td>\n",
              "      <td>5</td>\n",
              "      <td>5</td>\n",
              "    </tr>\n",
              "    <tr>\n",
              "      <th>SchoolHoliday_fw</th>\n",
              "      <td>7</td>\n",
              "      <td>1</td>\n",
              "      <td>5</td>\n",
              "      <td>1</td>\n",
              "      <td>1</td>\n",
              "    </tr>\n",
              "    <tr>\n",
              "      <th>StateHoliday_fw</th>\n",
              "      <td>0</td>\n",
              "      <td>0</td>\n",
              "      <td>0</td>\n",
              "      <td>0</td>\n",
              "      <td>0</td>\n",
              "    </tr>\n",
              "    <tr>\n",
              "      <th>Promo_fw</th>\n",
              "      <td>5</td>\n",
              "      <td>1</td>\n",
              "      <td>5</td>\n",
              "      <td>1</td>\n",
              "      <td>1</td>\n",
              "    </tr>\n",
              "  </tbody>\n",
              "</table>\n",
              "<p>93 rows × 5 columns</p>\n",
              "</div>"
            ],
            "text/plain": [
              "                                             0                    1  \\\n",
              "index                                        0                    1   \n",
              "Store                                        1                    2   \n",
              "DayOfWeek                                    5                    5   \n",
              "Date                       2015-07-31 00:00:00  2015-07-31 00:00:00   \n",
              "Sales                                     5263                 6064   \n",
              "Customers                                  555                  625   \n",
              "Open                                         1                    1   \n",
              "Promo                                        1                    1   \n",
              "StateHoliday                             False                False   \n",
              "SchoolHoliday                                1                    1   \n",
              "Year                                      2015                 2015   \n",
              "Month                                        7                    7   \n",
              "Week                                        31                   31   \n",
              "Day                                         31                   31   \n",
              "Dayofweek                                    4                    4   \n",
              "Dayofyear                                  212                  212   \n",
              "Is_month_end                              True                 True   \n",
              "Is_month_start                           False                False   \n",
              "Is_quarter_end                           False                False   \n",
              "Is_quarter_start                         False                False   \n",
              "Is_year_end                              False                False   \n",
              "Is_year_start                            False                False   \n",
              "Elapsed                             1438300800           1438300800   \n",
              "StoreType                                    c                    a   \n",
              "Assortment                                   a                    a   \n",
              "CompetitionDistance                       1270                  570   \n",
              "CompetitionOpenSinceMonth                    9                   11   \n",
              "CompetitionOpenSinceYear                  2008                 2007   \n",
              "Promo2                                       0                    1   \n",
              "Promo2SinceWeek                              1                   13   \n",
              "...                                        ...                  ...   \n",
              "Min_Sea_Level_PressurehPa                 1015                 1017   \n",
              "Max_VisibilityKm                            31                   10   \n",
              "Mean_VisibilityKm                           15                   10   \n",
              "Min_VisibilitykM                            10                   10   \n",
              "Max_Wind_SpeedKm_h                          24                   14   \n",
              "Mean_Wind_SpeedKm_h                         11                   11   \n",
              "Max_Gust_SpeedKm_h                         NaN                  NaN   \n",
              "Precipitationmm                              0                    0   \n",
              "CloudCover                                   1                    4   \n",
              "Events                                     Fog                  Fog   \n",
              "WindDirDegrees                              13                  309   \n",
              "StateName                               Hessen           Thueringen   \n",
              "CompetitionOpenSince       2008-09-15 00:00:00  2007-11-15 00:00:00   \n",
              "CompetitionDaysOpen                       2510                 2815   \n",
              "CompetitionMonthsOpen                       24                   24   \n",
              "Promo2Since                1900-01-01 00:00:00  2010-03-29 00:00:00   \n",
              "Promo2Days                                   0                 1950   \n",
              "Promo2Weeks                                  0                   25   \n",
              "AfterSchoolHoliday                           0                    0   \n",
              "BeforeSchoolHoliday                          0                    0   \n",
              "AfterStateHoliday                           57                   67   \n",
              "BeforeStateHoliday                           0                    0   \n",
              "AfterPromo                                   0                    0   \n",
              "BeforePromo                                  0                    0   \n",
              "SchoolHoliday_bw                             5                    5   \n",
              "StateHoliday_bw                              0                    0   \n",
              "Promo_bw                                     5                    5   \n",
              "SchoolHoliday_fw                             7                    1   \n",
              "StateHoliday_fw                              0                    0   \n",
              "Promo_fw                                     5                    1   \n",
              "\n",
              "                                             2                    3  \\\n",
              "index                                        2                    3   \n",
              "Store                                        3                    4   \n",
              "DayOfWeek                                    5                    5   \n",
              "Date                       2015-07-31 00:00:00  2015-07-31 00:00:00   \n",
              "Sales                                     8314                13995   \n",
              "Customers                                  821                 1498   \n",
              "Open                                         1                    1   \n",
              "Promo                                        1                    1   \n",
              "StateHoliday                             False                False   \n",
              "SchoolHoliday                                1                    1   \n",
              "Year                                      2015                 2015   \n",
              "Month                                        7                    7   \n",
              "Week                                        31                   31   \n",
              "Day                                         31                   31   \n",
              "Dayofweek                                    4                    4   \n",
              "Dayofyear                                  212                  212   \n",
              "Is_month_end                              True                 True   \n",
              "Is_month_start                           False                False   \n",
              "Is_quarter_end                           False                False   \n",
              "Is_quarter_start                         False                False   \n",
              "Is_year_end                              False                False   \n",
              "Is_year_start                            False                False   \n",
              "Elapsed                             1438300800           1438300800   \n",
              "StoreType                                    a                    c   \n",
              "Assortment                                   a                    c   \n",
              "CompetitionDistance                      14130                  620   \n",
              "CompetitionOpenSinceMonth                   12                    9   \n",
              "CompetitionOpenSinceYear                  2006                 2009   \n",
              "Promo2                                       1                    0   \n",
              "Promo2SinceWeek                             14                    1   \n",
              "...                                        ...                  ...   \n",
              "Min_Sea_Level_PressurehPa                 1017                 1014   \n",
              "Max_VisibilityKm                            31                   10   \n",
              "Mean_VisibilityKm                           14                   10   \n",
              "Min_VisibilitykM                            10                   10   \n",
              "Max_Wind_SpeedKm_h                          14                   23   \n",
              "Mean_Wind_SpeedKm_h                          5                   16   \n",
              "Max_Gust_SpeedKm_h                         NaN                  NaN   \n",
              "Precipitationmm                              0                    0   \n",
              "CloudCover                                   2                    6   \n",
              "Events                                     Fog                  NaN   \n",
              "WindDirDegrees                             354                  282   \n",
              "StateName                   NordrheinWestfalen               Berlin   \n",
              "CompetitionOpenSince       2006-12-15 00:00:00  2009-09-15 00:00:00   \n",
              "CompetitionDaysOpen                       3150                 2145   \n",
              "CompetitionMonthsOpen                       24                   24   \n",
              "Promo2Since                2011-04-04 00:00:00  1900-01-01 00:00:00   \n",
              "Promo2Days                                1579                    0   \n",
              "Promo2Weeks                                 25                    0   \n",
              "AfterSchoolHoliday                           0                    0   \n",
              "BeforeSchoolHoliday                          0                    0   \n",
              "AfterStateHoliday                           57                   67   \n",
              "BeforeStateHoliday                           0                    0   \n",
              "AfterPromo                                   0                    0   \n",
              "BeforePromo                                  0                    0   \n",
              "SchoolHoliday_bw                             5                    5   \n",
              "StateHoliday_bw                              0                    0   \n",
              "Promo_bw                                     5                    5   \n",
              "SchoolHoliday_fw                             5                    1   \n",
              "StateHoliday_fw                              0                    0   \n",
              "Promo_fw                                     5                    1   \n",
              "\n",
              "                                             4  \n",
              "index                                        4  \n",
              "Store                                        5  \n",
              "DayOfWeek                                    5  \n",
              "Date                       2015-07-31 00:00:00  \n",
              "Sales                                     4822  \n",
              "Customers                                  559  \n",
              "Open                                         1  \n",
              "Promo                                        1  \n",
              "StateHoliday                             False  \n",
              "SchoolHoliday                                1  \n",
              "Year                                      2015  \n",
              "Month                                        7  \n",
              "Week                                        31  \n",
              "Day                                         31  \n",
              "Dayofweek                                    4  \n",
              "Dayofyear                                  212  \n",
              "Is_month_end                              True  \n",
              "Is_month_start                           False  \n",
              "Is_quarter_end                           False  \n",
              "Is_quarter_start                         False  \n",
              "Is_year_end                              False  \n",
              "Is_year_start                            False  \n",
              "Elapsed                             1438300800  \n",
              "StoreType                                    a  \n",
              "Assortment                                   a  \n",
              "CompetitionDistance                      29910  \n",
              "CompetitionOpenSinceMonth                    4  \n",
              "CompetitionOpenSinceYear                  2015  \n",
              "Promo2                                       0  \n",
              "Promo2SinceWeek                              1  \n",
              "...                                        ...  \n",
              "Min_Sea_Level_PressurehPa                 1016  \n",
              "Max_VisibilityKm                            10  \n",
              "Mean_VisibilityKm                           10  \n",
              "Min_VisibilitykM                            10  \n",
              "Max_Wind_SpeedKm_h                          14  \n",
              "Mean_Wind_SpeedKm_h                         11  \n",
              "Max_Gust_SpeedKm_h                         NaN  \n",
              "Precipitationmm                              0  \n",
              "CloudCover                                   4  \n",
              "Events                                     NaN  \n",
              "WindDirDegrees                             290  \n",
              "StateName                              Sachsen  \n",
              "CompetitionOpenSince       2015-04-15 00:00:00  \n",
              "CompetitionDaysOpen                        107  \n",
              "CompetitionMonthsOpen                        3  \n",
              "Promo2Since                1900-01-01 00:00:00  \n",
              "Promo2Days                                   0  \n",
              "Promo2Weeks                                  0  \n",
              "AfterSchoolHoliday                           0  \n",
              "BeforeSchoolHoliday                          0  \n",
              "AfterStateHoliday                           57  \n",
              "BeforeStateHoliday                           0  \n",
              "AfterPromo                                   0  \n",
              "BeforePromo                                  0  \n",
              "SchoolHoliday_bw                             5  \n",
              "StateHoliday_bw                              0  \n",
              "Promo_bw                                     5  \n",
              "SchoolHoliday_fw                             1  \n",
              "StateHoliday_fw                              0  \n",
              "Promo_fw                                     1  \n",
              "\n",
              "[93 rows x 5 columns]"
            ]
          },
          "metadata": {
            "tags": []
          },
          "execution_count": 80
        }
      ]
    },
    {
      "metadata": {
        "id": "6_ZSSDMogKgt",
        "colab_type": "code",
        "outputId": "d8be50f0-4fe8-4e64-cb5a-006398b92b3d",
        "colab": {
          "base_uri": "https://localhost:8080/",
          "height": 34
        }
      },
      "cell_type": "code",
      "source": [
        "n = len(train_df); n"
      ],
      "execution_count": 0,
      "outputs": [
        {
          "output_type": "execute_result",
          "data": {
            "text/plain": [
              "844338"
            ]
          },
          "metadata": {
            "tags": []
          },
          "execution_count": 81
        }
      ]
    },
    {
      "metadata": {
        "id": "acQHRWZQgSOC",
        "colab_type": "text"
      },
      "cell_type": "markdown",
      "source": [
        "### Experimenting with a sample"
      ]
    },
    {
      "metadata": {
        "id": "FruBxoZ-gP-F",
        "colab_type": "code",
        "colab": {}
      },
      "cell_type": "code",
      "source": [
        "idx = np.random.permutation(range(n))[:2000]\n",
        "idx.sort()"
      ],
      "execution_count": 0,
      "outputs": []
    },
    {
      "metadata": {
        "id": "2CuOu3XxgasT",
        "colab_type": "code",
        "colab": {}
      },
      "cell_type": "code",
      "source": [
        "small_train_df = train_df.iloc[idx[:1000]]\n",
        "small_test_df = train_df.iloc[idx[1000:]]"
      ],
      "execution_count": 0,
      "outputs": []
    },
    {
      "metadata": {
        "id": "pEkxkUrzgnd4",
        "colab_type": "code",
        "colab": {}
      },
      "cell_type": "code",
      "source": [
        "small_cont_vars = [\"CompetitionDistance\", \"Mean_Humidity\"]\n",
        "small_cat_vars = [\"Store\", \"DayOfWeek\", \"PromoInterval\"]"
      ],
      "execution_count": 0,
      "outputs": []
    },
    {
      "metadata": {
        "id": "u2449J5Og075",
        "colab_type": "code",
        "colab": {}
      },
      "cell_type": "code",
      "source": [
        "small_train_df = small_train_df[small_cat_vars + small_cont_vars + ['Sales']]\n",
        "small_test_df = small_test_df[small_cat_vars + small_cont_vars + ['Sales']]"
      ],
      "execution_count": 0,
      "outputs": []
    },
    {
      "metadata": {
        "id": "6neX62rhg5FZ",
        "colab_type": "code",
        "outputId": "c2056baa-26f6-45b3-ba8a-faea960720ff",
        "colab": {
          "base_uri": "https://localhost:8080/",
          "height": 224
        }
      },
      "cell_type": "code",
      "source": [
        "small_train_df.head()"
      ],
      "execution_count": 0,
      "outputs": [
        {
          "output_type": "execute_result",
          "data": {
            "text/html": [
              "<div>\n",
              "<style scoped>\n",
              "    .dataframe tbody tr th:only-of-type {\n",
              "        vertical-align: middle;\n",
              "    }\n",
              "\n",
              "    .dataframe tbody tr th {\n",
              "        vertical-align: top;\n",
              "    }\n",
              "\n",
              "    .dataframe thead th {\n",
              "        text-align: right;\n",
              "    }\n",
              "</style>\n",
              "<table border=\"1\" class=\"dataframe\">\n",
              "  <thead>\n",
              "    <tr style=\"text-align: right;\">\n",
              "      <th></th>\n",
              "      <th>Store</th>\n",
              "      <th>DayOfWeek</th>\n",
              "      <th>PromoInterval</th>\n",
              "      <th>CompetitionDistance</th>\n",
              "      <th>Mean_Humidity</th>\n",
              "      <th>Sales</th>\n",
              "    </tr>\n",
              "  </thead>\n",
              "  <tbody>\n",
              "    <tr>\n",
              "      <th>67</th>\n",
              "      <td>68</td>\n",
              "      <td>5</td>\n",
              "      <td>Mar,Jun,Sept,Dec</td>\n",
              "      <td>250.0</td>\n",
              "      <td>61</td>\n",
              "      <td>11187</td>\n",
              "    </tr>\n",
              "    <tr>\n",
              "      <th>255</th>\n",
              "      <td>256</td>\n",
              "      <td>5</td>\n",
              "      <td>Mar,Jun,Sept,Dec</td>\n",
              "      <td>80.0</td>\n",
              "      <td>61</td>\n",
              "      <td>11536</td>\n",
              "    </tr>\n",
              "    <tr>\n",
              "      <th>518</th>\n",
              "      <td>520</td>\n",
              "      <td>5</td>\n",
              "      <td>Mar,Jun,Sept,Dec</td>\n",
              "      <td>6900.0</td>\n",
              "      <td>61</td>\n",
              "      <td>5170</td>\n",
              "    </tr>\n",
              "    <tr>\n",
              "      <th>1024</th>\n",
              "      <td>1027</td>\n",
              "      <td>5</td>\n",
              "      <td>Jan,Apr,Jul,Oct</td>\n",
              "      <td>190.0</td>\n",
              "      <td>50</td>\n",
              "      <td>16273</td>\n",
              "    </tr>\n",
              "    <tr>\n",
              "      <th>1664</th>\n",
              "      <td>553</td>\n",
              "      <td>4</td>\n",
              "      <td>Jan,Apr,Jul,Oct</td>\n",
              "      <td>3040.0</td>\n",
              "      <td>60</td>\n",
              "      <td>8898</td>\n",
              "    </tr>\n",
              "  </tbody>\n",
              "</table>\n",
              "</div>"
            ],
            "text/plain": [
              "      Store  DayOfWeek     PromoInterval  CompetitionDistance  Mean_Humidity  \\\n",
              "67       68          5  Mar,Jun,Sept,Dec                250.0             61   \n",
              "255     256          5  Mar,Jun,Sept,Dec                 80.0             61   \n",
              "518     520          5  Mar,Jun,Sept,Dec               6900.0             61   \n",
              "1024   1027          5   Jan,Apr,Jul,Oct                190.0             50   \n",
              "1664    553          4   Jan,Apr,Jul,Oct               3040.0             60   \n",
              "\n",
              "      Sales  \n",
              "67    11187  \n",
              "255   11536  \n",
              "518    5170  \n",
              "1024  16273  \n",
              "1664   8898  "
            ]
          },
          "metadata": {
            "tags": []
          },
          "execution_count": 86
        }
      ]
    },
    {
      "metadata": {
        "id": "PtTnAsg5g7wO",
        "colab_type": "code",
        "outputId": "f302198b-4f39-4cdf-a792-82f53ba77c09",
        "colab": {
          "base_uri": "https://localhost:8080/",
          "height": 224
        }
      },
      "cell_type": "code",
      "source": [
        "small_test_df.head()"
      ],
      "execution_count": 0,
      "outputs": [
        {
          "output_type": "execute_result",
          "data": {
            "text/html": [
              "<div>\n",
              "<style scoped>\n",
              "    .dataframe tbody tr th:only-of-type {\n",
              "        vertical-align: middle;\n",
              "    }\n",
              "\n",
              "    .dataframe tbody tr th {\n",
              "        vertical-align: top;\n",
              "    }\n",
              "\n",
              "    .dataframe thead th {\n",
              "        text-align: right;\n",
              "    }\n",
              "</style>\n",
              "<table border=\"1\" class=\"dataframe\">\n",
              "  <thead>\n",
              "    <tr style=\"text-align: right;\">\n",
              "      <th></th>\n",
              "      <th>Store</th>\n",
              "      <th>DayOfWeek</th>\n",
              "      <th>PromoInterval</th>\n",
              "      <th>CompetitionDistance</th>\n",
              "      <th>Mean_Humidity</th>\n",
              "      <th>Sales</th>\n",
              "    </tr>\n",
              "  </thead>\n",
              "  <tbody>\n",
              "    <tr>\n",
              "      <th>431893</th>\n",
              "      <td>1043</td>\n",
              "      <td>5</td>\n",
              "      <td>NaN</td>\n",
              "      <td>420.0</td>\n",
              "      <td>48</td>\n",
              "      <td>9183</td>\n",
              "    </tr>\n",
              "    <tr>\n",
              "      <th>432380</th>\n",
              "      <td>418</td>\n",
              "      <td>4</td>\n",
              "      <td>Feb,May,Aug,Nov</td>\n",
              "      <td>1060.0</td>\n",
              "      <td>49</td>\n",
              "      <td>4320</td>\n",
              "    </tr>\n",
              "    <tr>\n",
              "      <th>432500</th>\n",
              "      <td>539</td>\n",
              "      <td>4</td>\n",
              "      <td>Jan,Apr,Jul,Oct</td>\n",
              "      <td>770.0</td>\n",
              "      <td>64</td>\n",
              "      <td>10999</td>\n",
              "    </tr>\n",
              "    <tr>\n",
              "      <th>432565</th>\n",
              "      <td>604</td>\n",
              "      <td>4</td>\n",
              "      <td>NaN</td>\n",
              "      <td>10950.0</td>\n",
              "      <td>64</td>\n",
              "      <td>6752</td>\n",
              "    </tr>\n",
              "    <tr>\n",
              "      <th>432789</th>\n",
              "      <td>828</td>\n",
              "      <td>4</td>\n",
              "      <td>NaN</td>\n",
              "      <td>3290.0</td>\n",
              "      <td>42</td>\n",
              "      <td>4611</td>\n",
              "    </tr>\n",
              "  </tbody>\n",
              "</table>\n",
              "</div>"
            ],
            "text/plain": [
              "        Store  DayOfWeek    PromoInterval  CompetitionDistance  Mean_Humidity  \\\n",
              "431893   1043          5              NaN                420.0             48   \n",
              "432380    418          4  Feb,May,Aug,Nov               1060.0             49   \n",
              "432500    539          4  Jan,Apr,Jul,Oct                770.0             64   \n",
              "432565    604          4              NaN              10950.0             64   \n",
              "432789    828          4              NaN               3290.0             42   \n",
              "\n",
              "        Sales  \n",
              "431893   9183  \n",
              "432380   4320  \n",
              "432500  10999  \n",
              "432565   6752  \n",
              "432789   4611  "
            ]
          },
          "metadata": {
            "tags": []
          },
          "execution_count": 87
        }
      ]
    },
    {
      "metadata": {
        "id": "DO43Fc8-g-K2",
        "colab_type": "code",
        "colab": {}
      },
      "cell_type": "code",
      "source": [
        "categorify = Categorify(small_cat_vars, small_cont_vars)"
      ],
      "execution_count": 0,
      "outputs": []
    },
    {
      "metadata": {
        "id": "qHni5grphF60",
        "colab_type": "code",
        "colab": {}
      },
      "cell_type": "code",
      "source": [
        "categorify(small_train_df)"
      ],
      "execution_count": 0,
      "outputs": []
    },
    {
      "metadata": {
        "id": "M--DX3YEhLRm",
        "colab_type": "code",
        "colab": {}
      },
      "cell_type": "code",
      "source": [
        "categorify(small_test_df, test=True)"
      ],
      "execution_count": 0,
      "outputs": []
    },
    {
      "metadata": {
        "id": "FWYs3_ZAhN6j",
        "colab_type": "code",
        "outputId": "3e6ae0e2-d46c-4a16-ac23-eb189679f2aa",
        "colab": {
          "base_uri": "https://localhost:8080/",
          "height": 224
        }
      },
      "cell_type": "code",
      "source": [
        "small_test_df.head()"
      ],
      "execution_count": 0,
      "outputs": [
        {
          "output_type": "execute_result",
          "data": {
            "text/html": [
              "<div>\n",
              "<style scoped>\n",
              "    .dataframe tbody tr th:only-of-type {\n",
              "        vertical-align: middle;\n",
              "    }\n",
              "\n",
              "    .dataframe tbody tr th {\n",
              "        vertical-align: top;\n",
              "    }\n",
              "\n",
              "    .dataframe thead th {\n",
              "        text-align: right;\n",
              "    }\n",
              "</style>\n",
              "<table border=\"1\" class=\"dataframe\">\n",
              "  <thead>\n",
              "    <tr style=\"text-align: right;\">\n",
              "      <th></th>\n",
              "      <th>Store</th>\n",
              "      <th>DayOfWeek</th>\n",
              "      <th>PromoInterval</th>\n",
              "      <th>CompetitionDistance</th>\n",
              "      <th>Mean_Humidity</th>\n",
              "      <th>Sales</th>\n",
              "    </tr>\n",
              "  </thead>\n",
              "  <tbody>\n",
              "    <tr>\n",
              "      <th>431893</th>\n",
              "      <td>1043.0</td>\n",
              "      <td>5</td>\n",
              "      <td>NaN</td>\n",
              "      <td>420.0</td>\n",
              "      <td>48</td>\n",
              "      <td>9183</td>\n",
              "    </tr>\n",
              "    <tr>\n",
              "      <th>432380</th>\n",
              "      <td>418.0</td>\n",
              "      <td>4</td>\n",
              "      <td>Feb,May,Aug,Nov</td>\n",
              "      <td>1060.0</td>\n",
              "      <td>49</td>\n",
              "      <td>4320</td>\n",
              "    </tr>\n",
              "    <tr>\n",
              "      <th>432500</th>\n",
              "      <td>NaN</td>\n",
              "      <td>4</td>\n",
              "      <td>Jan,Apr,Jul,Oct</td>\n",
              "      <td>770.0</td>\n",
              "      <td>64</td>\n",
              "      <td>10999</td>\n",
              "    </tr>\n",
              "    <tr>\n",
              "      <th>432565</th>\n",
              "      <td>NaN</td>\n",
              "      <td>4</td>\n",
              "      <td>NaN</td>\n",
              "      <td>10950.0</td>\n",
              "      <td>64</td>\n",
              "      <td>6752</td>\n",
              "    </tr>\n",
              "    <tr>\n",
              "      <th>432789</th>\n",
              "      <td>NaN</td>\n",
              "      <td>4</td>\n",
              "      <td>NaN</td>\n",
              "      <td>3290.0</td>\n",
              "      <td>42</td>\n",
              "      <td>4611</td>\n",
              "    </tr>\n",
              "  </tbody>\n",
              "</table>\n",
              "</div>"
            ],
            "text/plain": [
              "         Store DayOfWeek    PromoInterval  CompetitionDistance  Mean_Humidity  \\\n",
              "431893  1043.0         5              NaN                420.0             48   \n",
              "432380   418.0         4  Feb,May,Aug,Nov               1060.0             49   \n",
              "432500     NaN         4  Jan,Apr,Jul,Oct                770.0             64   \n",
              "432565     NaN         4              NaN              10950.0             64   \n",
              "432789     NaN         4              NaN               3290.0             42   \n",
              "\n",
              "        Sales  \n",
              "431893   9183  \n",
              "432380   4320  \n",
              "432500  10999  \n",
              "432565   6752  \n",
              "432789   4611  "
            ]
          },
          "metadata": {
            "tags": []
          },
          "execution_count": 92
        }
      ]
    },
    {
      "metadata": {
        "id": "eJl59f1qhzul",
        "colab_type": "code",
        "outputId": "78bc2a4b-e72e-4e9b-88e2-8b0e8955155b",
        "colab": {
          "base_uri": "https://localhost:8080/",
          "height": 54
        }
      },
      "cell_type": "code",
      "source": [
        "small_train_df.PromoInterval.cat.categories"
      ],
      "execution_count": 0,
      "outputs": [
        {
          "output_type": "execute_result",
          "data": {
            "text/plain": [
              "Index(['Feb,May,Aug,Nov', 'Jan,Apr,Jul,Oct', 'Mar,Jun,Sept,Dec'], dtype='object')"
            ]
          },
          "metadata": {
            "tags": []
          },
          "execution_count": 93
        }
      ]
    },
    {
      "metadata": {
        "id": "egDXQbLth630",
        "colab_type": "code",
        "outputId": "56e3d697-5183-4ca7-dbbc-5f4ff0b51ae8",
        "colab": {
          "base_uri": "https://localhost:8080/",
          "height": 119
        }
      },
      "cell_type": "code",
      "source": [
        "small_train_df[\"PromoInterval\"].cat.codes[:5]"
      ],
      "execution_count": 0,
      "outputs": [
        {
          "output_type": "execute_result",
          "data": {
            "text/plain": [
              "67      2\n",
              "255     2\n",
              "518     2\n",
              "1024    1\n",
              "1664    1\n",
              "dtype: int8"
            ]
          },
          "metadata": {
            "tags": []
          },
          "execution_count": 94
        }
      ]
    },
    {
      "metadata": {
        "id": "pYxWGoMjh_cp",
        "colab_type": "code",
        "colab": {}
      },
      "cell_type": "code",
      "source": [
        "fill_missing = FillMissing(small_cat_vars, small_cont_vars)\n",
        "fill_missing(small_train_df)\n",
        "fill_missing(small_test_df, test=True)"
      ],
      "execution_count": 0,
      "outputs": []
    },
    {
      "metadata": {
        "id": "wDQaKfGCiMBV",
        "colab_type": "code",
        "outputId": "0de8321d-48f1-42b0-94b1-215805a6ddf7",
        "colab": {
          "base_uri": "https://localhost:8080/",
          "height": 100
        }
      },
      "cell_type": "code",
      "source": [
        "small_train_df[small_train_df['CompetitionDistance_na'] == True]"
      ],
      "execution_count": 0,
      "outputs": [
        {
          "output_type": "execute_result",
          "data": {
            "text/html": [
              "<div>\n",
              "<style scoped>\n",
              "    .dataframe tbody tr th:only-of-type {\n",
              "        vertical-align: middle;\n",
              "    }\n",
              "\n",
              "    .dataframe tbody tr th {\n",
              "        vertical-align: top;\n",
              "    }\n",
              "\n",
              "    .dataframe thead th {\n",
              "        text-align: right;\n",
              "    }\n",
              "</style>\n",
              "<table border=\"1\" class=\"dataframe\">\n",
              "  <thead>\n",
              "    <tr style=\"text-align: right;\">\n",
              "      <th></th>\n",
              "      <th>Store</th>\n",
              "      <th>DayOfWeek</th>\n",
              "      <th>PromoInterval</th>\n",
              "      <th>CompetitionDistance</th>\n",
              "      <th>Mean_Humidity</th>\n",
              "      <th>Sales</th>\n",
              "      <th>CompetitionDistance_na</th>\n",
              "    </tr>\n",
              "  </thead>\n",
              "  <tbody>\n",
              "    <tr>\n",
              "      <th>29951</th>\n",
              "      <td>879</td>\n",
              "      <td>3</td>\n",
              "      <td>Feb,May,Aug,Nov</td>\n",
              "      <td>2310.0</td>\n",
              "      <td>67</td>\n",
              "      <td>4698</td>\n",
              "      <td>True</td>\n",
              "    </tr>\n",
              "  </tbody>\n",
              "</table>\n",
              "</div>"
            ],
            "text/plain": [
              "      Store DayOfWeek    PromoInterval  CompetitionDistance  Mean_Humidity  \\\n",
              "29951   879         3  Feb,May,Aug,Nov               2310.0             67   \n",
              "\n",
              "       Sales  CompetitionDistance_na  \n",
              "29951   4698                    True  "
            ]
          },
          "metadata": {
            "tags": []
          },
          "execution_count": 97
        }
      ]
    },
    {
      "metadata": {
        "id": "3SNy89KriT2-",
        "colab_type": "text"
      },
      "cell_type": "markdown",
      "source": [
        "### Preparing full data set"
      ]
    },
    {
      "metadata": {
        "id": "VOzKH1HCiS7S",
        "colab_type": "code",
        "colab": {}
      },
      "cell_type": "code",
      "source": [
        "train_df = pd.read_pickle(path/\"train_clean\")\n",
        "test_df = pd.read_pickle(path/\"test_clean\")"
      ],
      "execution_count": 0,
      "outputs": []
    },
    {
      "metadata": {
        "id": "nY_k2We8ie29",
        "colab_type": "code",
        "outputId": "21f32237-e503-4f1d-854d-40506cb69271",
        "colab": {
          "base_uri": "https://localhost:8080/",
          "height": 34
        }
      },
      "cell_type": "code",
      "source": [
        "len(train_df), len(test_df)"
      ],
      "execution_count": 0,
      "outputs": [
        {
          "output_type": "execute_result",
          "data": {
            "text/plain": [
              "(844338, 41088)"
            ]
          },
          "metadata": {
            "tags": []
          },
          "execution_count": 100
        }
      ]
    },
    {
      "metadata": {
        "id": "QtOQgW3TihLY",
        "colab_type": "code",
        "colab": {}
      },
      "cell_type": "code",
      "source": [
        "procs = [FillMissing, Categorify, Normalize]"
      ],
      "execution_count": 0,
      "outputs": []
    },
    {
      "metadata": {
        "id": "hrSJ9bxPipqw",
        "colab_type": "code",
        "colab": {}
      },
      "cell_type": "code",
      "source": [
        "cat_vars = ['Store', 'DayOfWeek', 'Year', 'Month', 'Day', 'StateHoliday', 'CompetitionMonthsOpen',\n",
        "    'Promo2Weeks', 'StoreType', 'Assortment', 'PromoInterval', 'CompetitionOpenSinceYear', 'Promo2SinceYear',\n",
        "    'State', 'Week', 'Events', 'Promo_fw', 'Promo_bw', 'StateHoliday_fw', 'StateHoliday_bw',\n",
        "    'SchoolHoliday_fw', 'SchoolHoliday_bw']\n",
        "\n",
        "cont_vars = ['CompetitionDistance', 'Max_TemperatureC', 'Mean_TemperatureC', 'Min_TemperatureC',\n",
        "   'Max_Humidity', 'Mean_Humidity', 'Min_Humidity', 'Max_Wind_SpeedKm_h', \n",
        "   'Mean_Wind_SpeedKm_h', 'CloudCover', 'trend', 'trend_DE',\n",
        "   'AfterStateHoliday', 'BeforeStateHoliday', 'Promo', 'SchoolHoliday']"
      ],
      "execution_count": 0,
      "outputs": []
    },
    {
      "metadata": {
        "id": "wTpOn7juitfi",
        "colab_type": "code",
        "colab": {}
      },
      "cell_type": "code",
      "source": [
        "dep_var = \"Sales\"\n",
        "df = train_df[cat_vars + cont_vars + [dep_var, \"Date\"]].copy()"
      ],
      "execution_count": 0,
      "outputs": []
    },
    {
      "metadata": {
        "id": "U-yaWNB8i3V2",
        "colab_type": "code",
        "outputId": "7f6ba0b2-b846-4b6d-ef25-d4dedb9a81ed",
        "colab": {
          "base_uri": "https://localhost:8080/",
          "height": 54
        }
      },
      "cell_type": "code",
      "source": [
        "test_df[\"Date\"].min(), test_df[\"Date\"].max()"
      ],
      "execution_count": 0,
      "outputs": [
        {
          "output_type": "execute_result",
          "data": {
            "text/plain": [
              "(Timestamp('2015-08-01 00:00:00'), Timestamp('2015-09-17 00:00:00'))"
            ]
          },
          "metadata": {
            "tags": []
          },
          "execution_count": 105
        }
      ]
    },
    {
      "metadata": {
        "id": "61HskUo-jAC1",
        "colab_type": "code",
        "colab": {}
      },
      "cell_type": "code",
      "source": [
        "cut = train_df[\"Date\"][(train_df[\"Date\"] == train_df[\"Date\"][len(test_df)])].index.max()"
      ],
      "execution_count": 0,
      "outputs": []
    },
    {
      "metadata": {
        "id": "aFFhpDSmjOpK",
        "colab_type": "code",
        "outputId": "253834c4-31e0-4042-a38c-c031edf17aec",
        "colab": {
          "base_uri": "https://localhost:8080/",
          "height": 34
        }
      },
      "cell_type": "code",
      "source": [
        "cut"
      ],
      "execution_count": 0,
      "outputs": [
        {
          "output_type": "execute_result",
          "data": {
            "text/plain": [
              "41395"
            ]
          },
          "metadata": {
            "tags": []
          },
          "execution_count": 107
        }
      ]
    },
    {
      "metadata": {
        "id": "uOsq0cnTjQJm",
        "colab_type": "code",
        "colab": {}
      },
      "cell_type": "code",
      "source": [
        "valid_idx = range(cut)"
      ],
      "execution_count": 0,
      "outputs": []
    },
    {
      "metadata": {
        "id": "hQTfSX7djW_I",
        "colab_type": "code",
        "outputId": "eadebbcf-a527-481a-b2b1-d6b4d492079e",
        "colab": {
          "base_uri": "https://localhost:8080/",
          "height": 119
        }
      },
      "cell_type": "code",
      "source": [
        "df[dep_var].head()"
      ],
      "execution_count": 0,
      "outputs": [
        {
          "output_type": "execute_result",
          "data": {
            "text/plain": [
              "0     5263\n",
              "1     6064\n",
              "2     8314\n",
              "3    13995\n",
              "4     4822\n",
              "Name: Sales, dtype: int64"
            ]
          },
          "metadata": {
            "tags": []
          },
          "execution_count": 109
        }
      ]
    },
    {
      "metadata": {
        "id": "SVgXELyLjYU9",
        "colab_type": "code",
        "colab": {}
      },
      "cell_type": "code",
      "source": [
        "data = (TabularList.from_df(df, \n",
        "                            path=path, \n",
        "                            cat_names=cat_vars,\n",
        "                            cont_names=cont_vars,\n",
        "                            procs=procs)\n",
        "        .split_by_idx(valid_idx)\n",
        "        .label_from_df(cols=dep_var, label_cls=FloatList, log=True)\n",
        "        .add_test(TabularList.from_df(test_df, path=path, cat_names=cat_vars, cont_names=cont_vars))\n",
        "        .databunch())"
      ],
      "execution_count": 0,
      "outputs": []
    },
    {
      "metadata": {
        "id": "bPERoVkOj9l7",
        "colab_type": "code",
        "outputId": "96003720-5c1c-4dee-c4fc-5d6a23fb5689",
        "colab": {
          "base_uri": "https://localhost:8080/",
          "height": 248
        }
      },
      "cell_type": "code",
      "source": [
        "doc(FloatList)"
      ],
      "execution_count": 0,
      "outputs": [
        {
          "output_type": "display_data",
          "data": {
            "text/html": [
              "<h2 id=\"FloatList\" class=\"doc_header\"><code>class</code> <code>FloatList</code><a href=\"https://github.com/fastai/fastai/blob/master/fastai/data_block.py#L422\" class=\"source_link\" style=\"float:right\">[source]</a><a class=\"source_link\" data-toggle=\"collapse\" data-target=\"#FloatList-pytest\" style=\"float:right; padding-right:10px\">[test]</a></h2><blockquote><p><code>FloatList</code>(<strong><code>items</code></strong>:<code>Iterator</code>, <strong><code>log</code></strong>:<code>bool</code>=<strong><em><code>False</code></em></strong>, <strong><code>classes</code></strong>:<code>Collection</code>=<strong><em><code>None</code></em></strong>, <strong>**<code>kwargs</code></strong>) :: <a href=\"https://docs.fast.ai/data_block.html#ItemList\"><code>ItemList</code></a></p>\n",
              "</blockquote>\n",
              "<div class=\"collapse\" id=\"FloatList-pytest\"><div class=\"card card-body pytest_card\"><a type=\"button\" data-toggle=\"collapse\" data-target=\"#FloatList-pytest\" class=\"close\" aria-label=\"Close\"><span aria-hidden=\"true\">&times;</span></a><p>No tests found for <code>FloatList</code>. To contribute a test please refer to <a href=\"/dev/test.html\">this guide</a> and <a href=\"https://forums.fast.ai/t/improving-expanding-functional-tests/32929\">this discussion</a>.</p></div></div><p><a href=\"https://docs.fast.ai/data_block.html#ItemList\"><code>ItemList</code></a> suitable for storing the floats in items for regression. Will add a <code>log</code> if this flag is <code>True</code>.</p>\n",
              "<p><a href=\"https://docs.fast.ai/data_block.html#FloatList\" target=\"_blank\" rel=\"noreferrer noopener\">Show in docs</a></p>\n"
            ],
            "text/plain": [
              "<IPython.core.display.HTML object>"
            ]
          },
          "metadata": {
            "tags": []
          }
        }
      ]
    },
    {
      "metadata": {
        "id": "UjoF0FTDj84E",
        "colab_type": "text"
      },
      "cell_type": "markdown",
      "source": [
        "## Build Model"
      ]
    },
    {
      "metadata": {
        "id": "izODZDvnkDJA",
        "colab_type": "code",
        "colab": {}
      },
      "cell_type": "code",
      "source": [
        "max_log_y = np.log(np.max(train_df[\"Sales\"]) * 1.2)"
      ],
      "execution_count": 0,
      "outputs": []
    },
    {
      "metadata": {
        "id": "I_144gO5kLJB",
        "colab_type": "code",
        "colab": {}
      },
      "cell_type": "code",
      "source": [
        "y_range = torch.tensor([0, max_log_y], device=defaults.device)"
      ],
      "execution_count": 0,
      "outputs": []
    },
    {
      "metadata": {
        "id": "h_O5qSM4kSxf",
        "colab_type": "code",
        "colab": {}
      },
      "cell_type": "code",
      "source": [
        "learn = tabular_learner(data, \n",
        "                        layers=[1000,500],\n",
        "                        ps=[0.001,0.01],\n",
        "                        emb_drop=0.04, \n",
        "                        y_range=y_range,\n",
        "                        metrics=exp_rmspe)"
      ],
      "execution_count": 0,
      "outputs": []
    },
    {
      "metadata": {
        "id": "bDFbXqjBkhso",
        "colab_type": "code",
        "outputId": "745592f3-cfa6-4a1c-e272-35da0560c243",
        "colab": {
          "base_uri": "https://localhost:8080/",
          "height": 734
        }
      },
      "cell_type": "code",
      "source": [
        "learn.model"
      ],
      "execution_count": 0,
      "outputs": [
        {
          "output_type": "execute_result",
          "data": {
            "text/plain": [
              "TabularModel(\n",
              "  (embeds): ModuleList(\n",
              "    (0): Embedding(1116, 81)\n",
              "    (1): Embedding(8, 5)\n",
              "    (2): Embedding(4, 3)\n",
              "    (3): Embedding(13, 7)\n",
              "    (4): Embedding(32, 11)\n",
              "    (5): Embedding(3, 3)\n",
              "    (6): Embedding(26, 10)\n",
              "    (7): Embedding(27, 10)\n",
              "    (8): Embedding(5, 4)\n",
              "    (9): Embedding(4, 3)\n",
              "    (10): Embedding(4, 3)\n",
              "    (11): Embedding(24, 9)\n",
              "    (12): Embedding(9, 5)\n",
              "    (13): Embedding(13, 7)\n",
              "    (14): Embedding(53, 15)\n",
              "    (15): Embedding(22, 9)\n",
              "    (16): Embedding(7, 5)\n",
              "    (17): Embedding(7, 5)\n",
              "    (18): Embedding(4, 3)\n",
              "    (19): Embedding(4, 3)\n",
              "    (20): Embedding(9, 5)\n",
              "    (21): Embedding(9, 5)\n",
              "    (22): Embedding(3, 3)\n",
              "    (23): Embedding(3, 3)\n",
              "  )\n",
              "  (emb_drop): Dropout(p=0.04)\n",
              "  (bn_cont): BatchNorm1d(16, eps=1e-05, momentum=0.1, affine=True, track_running_stats=True)\n",
              "  (layers): Sequential(\n",
              "    (0): Linear(in_features=233, out_features=1000, bias=True)\n",
              "    (1): ReLU(inplace)\n",
              "    (2): BatchNorm1d(1000, eps=1e-05, momentum=0.1, affine=True, track_running_stats=True)\n",
              "    (3): Dropout(p=0.001)\n",
              "    (4): Linear(in_features=1000, out_features=500, bias=True)\n",
              "    (5): ReLU(inplace)\n",
              "    (6): BatchNorm1d(500, eps=1e-05, momentum=0.1, affine=True, track_running_stats=True)\n",
              "    (7): Dropout(p=0.01)\n",
              "    (8): Linear(in_features=500, out_features=1, bias=True)\n",
              "  )\n",
              ")"
            ]
          },
          "metadata": {
            "tags": []
          },
          "execution_count": 117
        }
      ]
    },
    {
      "metadata": {
        "id": "QyWbrJb4ki37",
        "colab_type": "code",
        "outputId": "ca8d2427-3d7a-4968-99cc-66ad1b787bbf",
        "colab": {
          "base_uri": "https://localhost:8080/",
          "height": 34
        }
      },
      "cell_type": "code",
      "source": [
        "len(data.train_ds.cont_names)"
      ],
      "execution_count": 0,
      "outputs": [
        {
          "output_type": "execute_result",
          "data": {
            "text/plain": [
              "16"
            ]
          },
          "metadata": {
            "tags": []
          },
          "execution_count": 118
        }
      ]
    },
    {
      "metadata": {
        "id": "oQAQlNebknEO",
        "colab_type": "code",
        "outputId": "91477b4b-1d41-4c62-b885-67165b51c493",
        "colab": {
          "base_uri": "https://localhost:8080/",
          "height": 54
        }
      },
      "cell_type": "code",
      "source": [
        "learn.lr_find()"
      ],
      "execution_count": 0,
      "outputs": [
        {
          "output_type": "display_data",
          "data": {
            "text/html": [
              ""
            ],
            "text/plain": [
              "<IPython.core.display.HTML object>"
            ]
          },
          "metadata": {
            "tags": []
          }
        },
        {
          "output_type": "stream",
          "text": [
            "LR Finder is complete, type {learner_name}.recorder.plot() to see the graph.\n"
          ],
          "name": "stdout"
        }
      ]
    },
    {
      "metadata": {
        "id": "sdx-kzzsko-H",
        "colab_type": "code",
        "outputId": "203f330b-3cea-4467-a11a-cc3d68eb9b42",
        "colab": {
          "base_uri": "https://localhost:8080/",
          "height": 279
        }
      },
      "cell_type": "code",
      "source": [
        "learn.recorder.plot()"
      ],
      "execution_count": 0,
      "outputs": [
        {
          "output_type": "display_data",
          "data": {
            "image/png": "[encoded data removed]",
            "text/plain": [
              "<Figure size 432x288 with 1 Axes>"
            ]
          },
          "metadata": {
            "tags": []
          }
        }
      ]
    },
    {
      "metadata": {
        "id": "UroQM5S9ktGq",
        "colab_type": "code",
        "outputId": "22a2add9-197f-4794-a1f4-fc165d186d5b",
        "colab": {
          "base_uri": "https://localhost:8080/",
          "height": 227
        }
      },
      "cell_type": "code",
      "source": [
        "learn.fit_one_cycle(5, 1e-3, wd=0.2)"
      ],
      "execution_count": 0,
      "outputs": [
        {
          "output_type": "display_data",
          "data": {
            "text/html": [
              "Total time: 23:12 <p><table border=\"1\" class=\"dataframe\">\n",
              "  <thead>\n",
              "    <tr style=\"text-align: left;\">\n",
              "      <th>epoch</th>\n",
              "      <th>train_loss</th>\n",
              "      <th>valid_loss</th>\n",
              "      <th>exp_rmspe</th>\n",
              "      <th>time</th>\n",
              "    </tr>\n",
              "  </thead>\n",
              "  <tbody>\n",
              "    <tr>\n",
              "      <td>0</td>\n",
              "      <td>0.021511</td>\n",
              "      <td>0.026583</td>\n",
              "      <td>0.148513</td>\n",
              "      <td>04:42</td>\n",
              "    </tr>\n",
              "    <tr>\n",
              "      <td>1</td>\n",
              "      <td>0.022195</td>\n",
              "      <td>0.016840</td>\n",
              "      <td>0.131647</td>\n",
              "      <td>04:32</td>\n",
              "    </tr>\n",
              "    <tr>\n",
              "      <td>2</td>\n",
              "      <td>0.015971</td>\n",
              "      <td>0.016073</td>\n",
              "      <td>0.122010</td>\n",
              "      <td>04:40</td>\n",
              "    </tr>\n",
              "    <tr>\n",
              "      <td>3</td>\n",
              "      <td>0.012897</td>\n",
              "      <td>0.014666</td>\n",
              "      <td>0.114045</td>\n",
              "      <td>04:44</td>\n",
              "    </tr>\n",
              "    <tr>\n",
              "      <td>4</td>\n",
              "      <td>0.010183</td>\n",
              "      <td>0.010780</td>\n",
              "      <td>0.101994</td>\n",
              "      <td>04:32</td>\n",
              "    </tr>\n",
              "  </tbody>\n",
              "</table>"
            ],
            "text/plain": [
              "<IPython.core.display.HTML object>"
            ]
          },
          "metadata": {
            "tags": []
          }
        }
      ]
    },
    {
      "metadata": {
        "id": "m-yBO36uk32n",
        "colab_type": "code",
        "colab": {}
      },
      "cell_type": "code",
      "source": [
        "learn.save(\"stage-1\")"
      ],
      "execution_count": 0,
      "outputs": []
    },
    {
      "metadata": {
        "id": "ctcl3eTjnww-",
        "colab_type": "code",
        "outputId": "93c5be90-55c1-4cbb-f2f8-58e3ae4bf953",
        "colab": {
          "base_uri": "https://localhost:8080/",
          "height": 282
        }
      },
      "cell_type": "code",
      "source": [
        "learn.recorder.plot()"
      ],
      "execution_count": 0,
      "outputs": [
        {
          "output_type": "display_data",
          "data": {
            "image/png": "[encoded data removed]",
            "text/plain": [
              "<Figure size 432x288 with 1 Axes>"
            ]
          },
          "metadata": {
            "tags": []
          }
        }
      ]
    },
    {
      "metadata": {
        "id": "5BZJveEotux_",
        "colab_type": "code",
        "colab": {}
      },
      "cell_type": "code",
      "source": [
        "learn.unfreeze()"
      ],
      "execution_count": 0,
      "outputs": []
    },
    {
      "metadata": {
        "id": "Woq5_s30uM4c",
        "colab_type": "code",
        "outputId": "ca5c0c0f-eec8-4183-b2e3-cb4a77329a16",
        "colab": {
          "base_uri": "https://localhost:8080/",
          "height": 227
        }
      },
      "cell_type": "code",
      "source": [
        "learn.fit_one_cycle(5, 3e-4)"
      ],
      "execution_count": 0,
      "outputs": [
        {
          "output_type": "display_data",
          "data": {
            "text/html": [
              "Total time: 23:04 <p><table border=\"1\" class=\"dataframe\">\n",
              "  <thead>\n",
              "    <tr style=\"text-align: left;\">\n",
              "      <th>epoch</th>\n",
              "      <th>train_loss</th>\n",
              "      <th>valid_loss</th>\n",
              "      <th>exp_rmspe</th>\n",
              "      <th>time</th>\n",
              "    </tr>\n",
              "  </thead>\n",
              "  <tbody>\n",
              "    <tr>\n",
              "      <td>0</td>\n",
              "      <td>0.012287</td>\n",
              "      <td>0.014035</td>\n",
              "      <td>0.112474</td>\n",
              "      <td>04:25</td>\n",
              "    </tr>\n",
              "    <tr>\n",
              "      <td>1</td>\n",
              "      <td>0.012752</td>\n",
              "      <td>0.012634</td>\n",
              "      <td>0.111286</td>\n",
              "      <td>04:38</td>\n",
              "    </tr>\n",
              "    <tr>\n",
              "      <td>2</td>\n",
              "      <td>0.011328</td>\n",
              "      <td>0.013838</td>\n",
              "      <td>0.113295</td>\n",
              "      <td>04:30</td>\n",
              "    </tr>\n",
              "    <tr>\n",
              "      <td>3</td>\n",
              "      <td>0.011134</td>\n",
              "      <td>0.012829</td>\n",
              "      <td>0.111159</td>\n",
              "      <td>04:48</td>\n",
              "    </tr>\n",
              "    <tr>\n",
              "      <td>4</td>\n",
              "      <td>0.009843</td>\n",
              "      <td>0.013476</td>\n",
              "      <td>0.109582</td>\n",
              "      <td>04:41</td>\n",
              "    </tr>\n",
              "  </tbody>\n",
              "</table>"
            ],
            "text/plain": [
              "<IPython.core.display.HTML object>"
            ]
          },
          "metadata": {
            "tags": []
          }
        }
      ]
    },
    {
      "metadata": {
        "id": "E2Vmw6DguPed",
        "colab_type": "code",
        "colab": {}
      },
      "cell_type": "code",
      "source": [
        ""
      ],
      "execution_count": 0,
      "outputs": []
    }
  ]
}